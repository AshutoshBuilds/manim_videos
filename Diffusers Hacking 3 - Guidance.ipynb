{
 "cells": [
  {
   "cell_type": "markdown",
   "id": "0d1774c2-24c7-4a98-9466-9cb125da439f",
   "metadata": {},
   "source": [
    "## Diffusers Hacking 3"
   ]
  },
  {
   "cell_type": "code",
   "execution_count": null,
   "id": "718ba64e-0d90-4d27-85a0-3b24d0dbcb71",
   "metadata": {},
   "outputs": [],
   "source": []
  },
  {
   "cell_type": "code",
   "execution_count": null,
   "id": "86b0de05-7c9d-4453-9784-7c9eb0268a5c",
   "metadata": {},
   "outputs": [],
   "source": []
  },
  {
   "cell_type": "code",
   "execution_count": null,
   "id": "df16157f-eace-455b-aac9-5a9fabeb1e21",
   "metadata": {},
   "outputs": [],
   "source": []
  },
  {
   "cell_type": "code",
   "execution_count": null,
   "id": "dbf291b1-63ec-4e9a-bf44-34e0c9947bbc",
   "metadata": {},
   "outputs": [],
   "source": []
  },
  {
   "cell_type": "code",
   "execution_count": null,
   "id": "e1664d9f-3f87-4aef-b7ba-6775dc596e53",
   "metadata": {},
   "outputs": [],
   "source": []
  },
  {
   "cell_type": "code",
   "execution_count": null,
   "id": "af3804de-0dcf-4273-86e2-70393daad8d8",
   "metadata": {},
   "outputs": [],
   "source": []
  }
 ],
 "metadata": {
  "kernelspec": {
   "display_name": "Python 3 (ipykernel)",
   "language": "python",
   "name": "python3"
  },
  "language_info": {
   "codemirror_mode": {
    "name": "ipython",
    "version": 3
   },
   "file_extension": ".py",
   "mimetype": "text/x-python",
   "name": "python",
   "nbconvert_exporter": "python",
   "pygments_lexer": "ipython3",
   "version": "3.11.11"
  }
 },
 "nbformat": 4,
 "nbformat_minor": 5
}
