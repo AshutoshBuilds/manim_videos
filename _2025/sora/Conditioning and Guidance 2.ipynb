{
 "cells": [
  {
   "cell_type": "markdown",
   "id": "1021f8ab-89da-407c-9dc6-9d2ebd010f86",
   "metadata": {},
   "source": [
    "# Conditioning and Guidance 2"
   ]
  },
  {
   "cell_type": "code",
   "execution_count": 30,
   "id": "618107b4-ace2-4c6f-91ac-583704332b1d",
   "metadata": {},
   "outputs": [],
   "source": [
    "import numpy as np\n",
    "import matplotlib.pyplot as plt \n",
    "import torch\n",
    "from torch.utils.data import DataLoader\n",
    "from smalldiffusion import TreeDataset, training_loop, samples, ScheduleLogLinear, ConditionalMLP\n",
    "from torch.utils.data import Dataset\n",
    "from itertools import pairwise\n",
    "from pathlib import Path\n",
    "from tqdm import tqdm\n",
    "\n",
    "def plot_batch(batch, ax=None, **kwargs):\n",
    "    batch = batch.cpu().numpy()\n",
    "    ax = ax or plt\n",
    "    return ax.scatter(batch[:,0], batch[:,1], marker='.', **kwargs)\n",
    "    \n",
    "def moving_average(x, w):\n",
    "    return np.convolve(x, np.ones(w), 'valid') / w   \n",
    "\n",
    "class MultiClassSwissroll(Dataset):\n",
    "    def __init__(self, tmin, tmax, N, num_classes=10, center=(0,0), scale=1.0):\n",
    "\n",
    "        self.num_classes = num_classes\n",
    "        \n",
    "        t = tmin + torch.linspace(0, 1, N) * tmax\n",
    "        center = torch.tensor(center).unsqueeze(0)\n",
    "        spiral_points = center + scale * torch.stack([t*torch.cos(t)/tmax, t*torch.sin(t)/tmax]).T\n",
    "        \n",
    "        # Assign classes based on position along the spiral\n",
    "        # Divide the parameter range into num_classes segments\n",
    "        class_boundaries = torch.linspace(tmin, tmax, num_classes + 1)\n",
    "        classes = torch.zeros(N, dtype=torch.long)\n",
    "        \n",
    "        for i in range(N):\n",
    "            # t[i] is already the actual parameter value we want to use for class assignment\n",
    "            t_val = t[i]\n",
    "            # Find which segment t_val falls into (0 to num_classes-1)\n",
    "            class_idx = min(int((t_val - tmin) / (tmax - tmin) * num_classes), num_classes - 1)\n",
    "            classes[i] = class_idx\n",
    "        \n",
    "        # Store data as list of (point, class) tuples\n",
    "        self.data = [(spiral_points[i], classes[i].item()) for i in range(N)]\n",
    "    \n",
    "    def __len__(self):\n",
    "        return len(self.data)\n",
    "    \n",
    "    def __getitem__(self, idx):\n",
    "        return self.data[idx]\n",
    "    \n",
    "    def get_class_colors(self):\n",
    "        \"\"\"\n",
    "        Returns a list of colors evenly sampled from a colorwheel (HSV space).\n",
    "        \"\"\"\n",
    "        import matplotlib.colors as mcolors\n",
    "        \n",
    "        # Generate evenly spaced hues around the color wheel\n",
    "        hues = np.linspace(0, 1, self.num_classes, endpoint=False)\n",
    "        colors = []\n",
    "        \n",
    "        for hue in hues:\n",
    "            # Convert HSV to RGB (saturation=1, value=1 for vibrant colors)\n",
    "            rgb = mcolors.hsv_to_rgb([hue, 1.0, 1.0])\n",
    "            colors.append(rgb)\n",
    "        \n",
    "        return colors\n"
   ]
  },
  {
   "cell_type": "code",
   "execution_count": 2,
   "id": "1b58f07f-f6bd-48fc-a1b3-060c8c39b966",
   "metadata": {},
   "outputs": [],
   "source": [
    "dataset = MultiClassSwissroll(np.pi/2, 5*np.pi, 100, num_classes=12)\n",
    "colors = dataset.get_class_colors()\n",
    "loader = DataLoader(dataset, batch_size=len(dataset)*2, shuffle=True)"
   ]
  },
  {
   "cell_type": "code",
   "execution_count": 3,
   "id": "20c93c0e-def7-494c-9366-342e7bff190a",
   "metadata": {},
   "outputs": [],
   "source": [
    "x, labels = next(iter(loader))\n",
    "x=x.cpu().numpy()"
   ]
  },
  {
   "cell_type": "code",
   "execution_count": 4,
   "id": "7386eb7d-7865-4097-953e-92e4f8c517c9",
   "metadata": {},
   "outputs": [
    {
     "data": {
      "image/png": "[encoded data removed]",
      "text/plain": [
       "<Figure size 640x480 with 1 Axes>"
      ]
     },
     "metadata": {},
     "output_type": "display_data"
    }
   ],
   "source": [
    "for class_idx in range(dataset.num_classes):\n",
    "    mask = labels == class_idx\n",
    "    class_points = x[mask]\n",
    "    plt.scatter(class_points[:, 0], class_points[:, 1], \n",
    "               c=[colors[class_idx]], label=f'Class {class_idx}', \n",
    "               alpha=0.7, s=20)"
   ]
  },
  {
   "cell_type": "code",
   "execution_count": 5,
   "id": "d74fc6ce-9833-46a2-a655-ab54806ee59b",
   "metadata": {},
   "outputs": [
    {
     "data": {
      "text/plain": [
       "tensor([ 2,  9,  2,  3,  4,  3, 11, 11,  1,  1,  7,  0,  6,  3, 11,  2,  6,  9,\n",
       "        11,  9, 10, 11,  7,  8,  7,  2,  4, 11,  1,  3,  7,  6,  4,  3, 11,  4,\n",
       "         8, 11,  2,  5, 10, 11, 11,  8,  7, 10,  9, 11,  9,  7,  3,  5, 11,  2,\n",
       "         4,  8,  7, 11,  3, 11,  8, 10,  6,  5, 11,  4,  1,  6,  6,  7,  0,  0,\n",
       "         5,  5,  0,  0,  0,  9,  8,  2,  0,  8, 11,  1,  9, 11, 10,  1,  0,  5,\n",
       "         4, 10,  4, 10, 11,  2,  9,  1,  5,  6])"
      ]
     },
     "execution_count": 5,
     "metadata": {},
     "output_type": "execute_result"
    }
   ],
   "source": [
    "labels"
   ]
  },
  {
   "cell_type": "code",
   "execution_count": 6,
   "id": "f78b6e79-e072-47f1-8667-bdc62238bf89",
   "metadata": {},
   "outputs": [
    {
     "data": {
      "image/png": "[encoded data removed]",
      "text/plain": [
       "<Figure size 800x800 with 12 Axes>"
      ]
     },
     "metadata": {},
     "output_type": "display_data"
    }
   ],
   "source": [
    "fig=plt.figure(0, (8,8))\n",
    "for class_idx in range(dataset.num_classes):\n",
    "    mask = labels == class_idx\n",
    "    class_points = x[mask]\n",
    "    fig.add_subplot(4,4,class_idx+1)\n",
    "    plt.scatter(class_points[:, 0], class_points[:, 1], \n",
    "               c=[colors[class_idx]], label=f'Class {class_idx}', \n",
    "               alpha=0.7, s=20)\n",
    "    plt.xlim([-1.1,1.1]); plt.ylim([-1.1, 1.1])"
   ]
  },
  {
   "cell_type": "code",
   "execution_count": 7,
   "id": "8b2c53cf-ca4f-4021-adaf-9ad333e340e0",
   "metadata": {},
   "outputs": [
    {
     "name": "stderr",
     "output_type": "stream",
     "text": [
      "100%|█████████████████████████████████| 30000/30000 [04:31<00:00, 110.49it/s]\n"
     ]
    }
   ],
   "source": [
    "model = ConditionalMLP(dim=2, hidden_dims=(16, 128, 256, 128, 16), cond_dim=4, num_classes=dataset.num_classes)\n",
    "schedule = ScheduleLogLinear(N=200, sigma_min=0.01, sigma_max=10)\n",
    "trainer = training_loop(loader, model, schedule, epochs=30000, lr=1e-3, conditional=True)\n",
    "losses = [ns.loss.item() for ns in trainer]"
   ]
  },
  {
   "cell_type": "markdown",
   "id": "e22216f4-dcc5-446c-9474-e7d6b060e81d",
   "metadata": {},
   "source": [
    "- Ok, what visualizations do I want here to support my writing? Probably something like:\n",
    "\n",
    "1. Probably DDIM sampling - different colored flow lines by class - no guidance yes\n",
    "2. Explore how conditioning on class impacts vectors fields (different colored arrows on top of eachother? maybe with fewer classes)\n",
    "3. Guidance for sure - lines trailing particles for different guidance levels - and let's give a little thought to the geometry! \n",
    "4. Ok for geometry, I think i want to visualize the conditioned and unconditioned vector fields on top of each other right? That could be a pretty slick animation!\n",
    "5. Bonus points for visualizing the conditioned vector field w/ a \"negative\" class (\"i really don't want it to be x\") - this will be cool too - ok let's get it!"
   ]
  },
  {
   "cell_type": "markdown",
   "id": "6bb45ae2-de2a-4745-a561-031d1eb971b6",
   "metadata": {},
   "source": [
    "## DDIM Paths"
   ]
  },
  {
   "cell_type": "code",
   "execution_count": 10,
   "id": "179278a8-1f9c-4704-afd0-f0b028b0e34b",
   "metadata": {},
   "outputs": [],
   "source": [
    "bound=1.5\n",
    "num_heatmap_steps=30\n",
    "grid=[]\n",
    "for i, x in enumerate(np.linspace(-bound, bound, num_heatmap_steps)):\n",
    "    for j, y in enumerate(np.linspace(-bound, bound, num_heatmap_steps)):\n",
    "        grid.append([x,y])\n",
    "grid=torch.tensor(grid).float()"
   ]
  },
  {
   "cell_type": "code",
   "execution_count": 16,
   "id": "2491d094-c9ff-4c5e-bd0c-d19beec14ae6",
   "metadata": {},
   "outputs": [
    {
     "data": {
      "text/plain": [
       "torch.Size([900, 2])"
      ]
     },
     "execution_count": 16,
     "metadata": {},
     "output_type": "execute_result"
    }
   ],
   "source": [
    "grid.shape"
   ]
  },
  {
   "cell_type": "code",
   "execution_count": 56,
   "id": "6c51677e-696f-4d73-9084-cbbb7f849c28",
   "metadata": {},
   "outputs": [],
   "source": [
    "# Generalizes most commonly-used samplers:\n",
    "#   DDPM       : gam=1, mu=0.5\n",
    "#   DDIM       : gam=1, mu=0\n",
    "#   Accelerated: gam=2, mu=0\n",
    "\n",
    "N_sample=64 #Crank to 256 for nice viz? I guess I'll probably be re-doing this on the manim side, so I can crank there\n",
    "sample_batch_size=100\n",
    "gam=1.0\n",
    "cfg_scale=0.0 # 0 means no classifier-free guidance\n",
    "mu=0.0\n",
    "batchsize=sample_batch_size\n",
    "\n",
    "results_by_class=[]\n",
    "xt_history=[]\n",
    "heatmaps=[]\n",
    "for c in range(dataset.num_classes):\n",
    "    sigmas=schedule.sample_sigmas(N_sample)\n",
    "    cond=torch.tensor([c for _ in range(sample_batch_size)])\n",
    "    cond_grid=torch.tensor([c for _ in range(len(grid))])\n",
    "    xt_history.append([])\n",
    "    heatmaps.append([])\n",
    "    with torch.no_grad():\n",
    "        model.eval()\n",
    "        xt = model.rand_input(batchsize).to('cuda') * sigmas[0]\n",
    "        if cond is not None:\n",
    "            assert cond.shape[0] == xt.shape[0], 'cond must have same shape as x!'\n",
    "            cond = cond.to(xt.device)\n",
    "        eps = None\n",
    "        for i, (sig, sig_prev) in enumerate(pairwise(sigmas)):\n",
    "            eps_prev, eps = eps, model.predict_eps_cfg(xt, sig.to(xt), cond, cfg_scale)\n",
    "            eps_av = eps * gam + eps_prev * (1-gam)  if i > 0 else eps\n",
    "            sig_p = (sig_prev/sig**mu)**(1/(1-mu)) # sig_prev == sig**mu sig_p**(1-mu)\n",
    "            eta = (sig_prev**2 - sig_p**2).sqrt()\n",
    "            xt = xt - (sig - sig_p) * eps_av + eta * model.rand_input(xt.shape[0]).to(xt)\n",
    "            \n",
    "            xt_history[-1].append(xt.cpu().numpy())\n",
    "            # heatmaps[-1].append(model.forward(grid, sig.to('cuda'), cond=cond))\n",
    "            heatmaps[-1].append(model.predict_eps_cfg(grid.to('cuda'), sig.to(xt), cond_grid.to('cuda'), cfg_scale).cpu())\n",
    "\n",
    "    xt_history[-1]=np.array(xt_history[-1])\n",
    "    results_by_class.append(xt.cpu().numpy())"
   ]
  },
  {
   "cell_type": "code",
   "execution_count": 57,
   "id": "b71a9275-bd0d-4ec4-87e7-ff0b3fb7b651",
   "metadata": {},
   "outputs": [
    {
     "data": {
      "text/plain": [
       "(-1.1, 1.1)"
      ]
     },
     "execution_count": 57,
     "metadata": {},
     "output_type": "execute_result"
    },
    {
     "data": {
      "image/png": "[encoded data removed]",
      "text/plain": [
       "<Figure size 640x480 with 1 Axes>"
      ]
     },
     "metadata": {},
     "output_type": "display_data"
    }
   ],
   "source": [
    "for class_idx in range(dataset.num_classes):\n",
    "    plt.scatter(results_by_class[class_idx][:, 0], results_by_class[class_idx][:, 1], \n",
    "               c=[colors[class_idx]], alpha=0.7, s=20)\n",
    "plt.xlim([-1.1,1.1]); plt.ylim([-1.1, 1.1])"
   ]
  },
  {
   "cell_type": "code",
   "execution_count": 58,
   "id": "e072c457-a891-4bdd-bc53-5f27b41f0c13",
   "metadata": {},
   "outputs": [],
   "source": [
    "save_dir=Path('/home/stephen/sora/jun_23_1')\n",
    "save_dir.mkdir(exist_ok=True)"
   ]
  },
  {
   "cell_type": "code",
   "execution_count": 59,
   "id": "653a20bb-fcd2-44c6-88aa-a756270fd570",
   "metadata": {},
   "outputs": [
    {
     "data": {
      "text/plain": [
       "12"
      ]
     },
     "execution_count": 59,
     "metadata": {},
     "output_type": "execute_result"
    }
   ],
   "source": [
    "len(heatmaps)"
   ]
  },
  {
   "cell_type": "code",
   "execution_count": 60,
   "id": "327ac073-3fe1-4915-b062-7e41f75e4aec",
   "metadata": {},
   "outputs": [
    {
     "data": {
      "text/plain": [
       "64"
      ]
     },
     "execution_count": 60,
     "metadata": {},
     "output_type": "execute_result"
    }
   ],
   "source": [
    "len(heatmaps[0])"
   ]
  },
  {
   "cell_type": "code",
   "execution_count": null,
   "id": "d6ff21ed-4cbd-475f-9ffa-b28cdba821c5",
   "metadata": {},
   "outputs": [
    {
     "name": "stderr",
     "output_type": "stream",
     "text": [
      "/tmp/ipykernel_19718/533946124.py:12: UserWarning: *c* argument looks like a single numeric RGB or RGBA sequence, which should be avoided as value-mapping will have precedence in case its length matches with *x* & *y*.  Please use the *color* keyword-argument or provide a 2D array with a single row if you intend to specify the same RGB or RGBA value for all points.\n",
      "  plt.scatter(xt_history[c][i,j,0], xt_history[c][i,j,1], alpha=0.7, s=8, c=colors[class_idx])\n",
      "/tmp/ipykernel_19718/533946124.py:5: UserWarning: Ignoring specified arguments in this call because figure with num: 0 already exists\n",
      "  fig=plt.figure(0, (7,7))\n",
      "  3%|█▎                                       | 2/64 [00:20<10:37, 10.29s/it]"
     ]
    }
   ],
   "source": [
    "for i in tqdm(range(len(heatmaps[0]))):\n",
    "    for c, h in enumerate(heatmaps):\n",
    "        \n",
    "        plt.clf()\n",
    "        fig=plt.figure(0, (7,7))\n",
    "        \n",
    "        heatmap_norm=torch.nn.functional.normalize(h[i], p=2, dim=1)\n",
    "        plt.quiver(grid[:,0], grid[:,1], -heatmap_norm[:,0], -heatmap_norm[:,1], alpha=0.2,  scale=40, color=colors[class_idx])\n",
    "        \n",
    "        for j in range(32): #Just do a subset of trajetories\n",
    "            plt.plot(xt_history[c][np.maximum(i-64, 0):i+1,j,0], xt_history[c][np.maximum(i-64, 0):i+1,j,1], '-', alpha=0.2, color=tuple(colors[class_idx]))\n",
    "            plt.scatter(xt_history[c][i,j,0], xt_history[c][i,j,1], alpha=0.7, s=8, c=colors[class_idx])\n",
    "        \n",
    "        viz_bounds=1.8\n",
    "        plt.xlim([-viz_bounds, viz_bounds]);  plt.ylim([-viz_bounds, viz_bounds])\n",
    "        # plt.axis('square')\n",
    "        plt.savefig(save_dir/(str(i)+'.png'))"
   ]
  },
  {
   "cell_type": "code",
   "execution_count": 67,
   "id": "ae690f24-731d-4668-a9b7-4d6d169d67b6",
   "metadata": {},
   "outputs": [
    {
     "ename": "IndexError",
     "evalue": "index 100 is out of bounds for axis 1 with size 100",
     "output_type": "error",
     "traceback": [
      "\u001b[0;31m---------------------------------------------------------------------------\u001b[0m",
      "\u001b[0;31mIndexError\u001b[0m                                Traceback (most recent call last)",
      "Cell \u001b[0;32mIn[67], line 1\u001b[0m\n\u001b[0;32m----> 1\u001b[0m xt_history[c][np\u001b[38;5;241m.\u001b[39mmaximum(i\u001b[38;5;241m-\u001b[39m\u001b[38;5;241m64\u001b[39m, \u001b[38;5;241m0\u001b[39m):i\u001b[38;5;241m+\u001b[39m\u001b[38;5;241m1\u001b[39m,j,\u001b[38;5;241m0\u001b[39m]\n",
      "\u001b[0;31mIndexError\u001b[0m: index 100 is out of bounds for axis 1 with size 100"
     ]
    }
   ],
   "source": [
    "xt_history[c][np.maximum(i-64, 0):i+1,j,0]"
   ]
  },
  {
   "cell_type": "code",
   "execution_count": 69,
   "id": "3520856b-ed88-4d56-a602-12c0773b4f32",
   "metadata": {},
   "outputs": [
    {
     "data": {
      "text/plain": [
       "(64, 100, 2)"
      ]
     },
     "execution_count": 69,
     "metadata": {},
     "output_type": "execute_result"
    }
   ],
   "source": [
    "xt_history[c].shape"
   ]
  },
  {
   "cell_type": "code",
   "execution_count": 70,
   "id": "135cc805-cd93-4fea-8428-77b976a36e0a",
   "metadata": {},
   "outputs": [
    {
     "data": {
      "text/plain": [
       "100"
      ]
     },
     "execution_count": 70,
     "metadata": {},
     "output_type": "execute_result"
    }
   ],
   "source": [
    "j"
   ]
  },
  {
   "cell_type": "code",
   "execution_count": null,
   "id": "3da99788-3a9d-4bf4-b544-6a0dd0ad2386",
   "metadata": {},
   "outputs": [],
   "source": []
  },
  {
   "cell_type": "code",
   "execution_count": null,
   "id": "cabc6e51-4ffd-4c55-a4e9-a24c00fd8760",
   "metadata": {},
   "outputs": [],
   "source": []
  },
  {
   "cell_type": "code",
   "execution_count": 68,
   "id": "ab017bc6-2701-49f0-9e30-28afd50e2168",
   "metadata": {},
   "outputs": [
    {
     "data": {
      "text/plain": [
       "array([[[ 9.52076674e-01, -1.46064854e+01],\n",
       "        [ 4.44308639e-01, -5.20840597e+00],\n",
       "        [ 2.14142246e+01, -1.28923333e+00],\n",
       "        ...,\n",
       "        [-6.09879780e+00,  3.58074641e+00],\n",
       "        [ 1.32853203e+01,  1.04127049e+00],\n",
       "        [-1.32090273e+01, -1.92299676e+00]],\n",
       "\n",
       "       [[ 7.81816661e-01, -1.27274799e+01],\n",
       "        [ 3.70344222e-01, -4.62222767e+00],\n",
       "        [ 1.93319607e+01, -1.11277807e+00],\n",
       "        ...,\n",
       "        [-5.56240416e+00,  3.23396921e+00],\n",
       "        [ 1.19873505e+01,  9.67383027e-01],\n",
       "        [-1.19179401e+01, -1.71760452e+00]],\n",
       "\n",
       "       [[ 6.44391954e-01, -1.12103329e+01],\n",
       "        [ 3.12663466e-01, -4.12429428e+00],\n",
       "        [ 1.75732327e+01, -9.67312992e-01],\n",
       "        ...,\n",
       "        [-5.07363081e+00,  2.93231392e+00],\n",
       "        [ 1.08858528e+01,  9.04801369e-01],\n",
       "        [-1.07953568e+01, -1.53536749e+00]],\n",
       "\n",
       "       ...,\n",
       "\n",
       "       [[-1.02139823e-01,  8.23373720e-02],\n",
       "        [-7.49908462e-02,  1.00935832e-01],\n",
       "        [ 2.07489654e-02,  8.60823244e-02],\n",
       "        ...,\n",
       "        [-1.14702135e-01,  1.06688105e-01],\n",
       "        [ 5.29796118e-03,  9.73346829e-02],\n",
       "        [-1.74640432e-01,  7.97797889e-02]],\n",
       "\n",
       "       [[-1.02660485e-01,  8.39256644e-02],\n",
       "        [-7.49790668e-02,  1.01712279e-01],\n",
       "        [ 1.93311870e-02,  8.66564512e-02],\n",
       "        ...,\n",
       "        [-1.14630520e-01,  1.06402673e-01],\n",
       "        [ 4.65953304e-03,  9.74421650e-02],\n",
       "        [-1.73778936e-01,  7.95384571e-02]],\n",
       "\n",
       "       [[-1.02984525e-01,  8.48747343e-02],\n",
       "        [-7.49845803e-02,  1.02183729e-01],\n",
       "        [ 1.85499061e-02,  8.70343223e-02],\n",
       "        ...,\n",
       "        [-1.14604972e-01,  1.06246792e-01],\n",
       "        [ 4.32240218e-03,  9.75449383e-02],\n",
       "        [-1.73289955e-01,  7.94222280e-02]]], dtype=float32)"
      ]
     },
     "execution_count": 68,
     "metadata": {},
     "output_type": "execute_result"
    }
   ],
   "source": [
    "xt_history[c]"
   ]
  },
  {
   "cell_type": "code",
   "execution_count": null,
   "id": "99aef206-1f85-415b-858c-b5d1bcdb6351",
   "metadata": {},
   "outputs": [],
   "source": []
  },
  {
   "cell_type": "code",
   "execution_count": null,
   "id": "942eaed9-1029-4f33-b9ab-671e5f0643d1",
   "metadata": {},
   "outputs": [],
   "source": []
  },
  {
   "cell_type": "code",
   "execution_count": null,
   "id": "7265b060-25d7-47f7-a186-22a255702b8a",
   "metadata": {},
   "outputs": [],
   "source": []
  },
  {
   "cell_type": "code",
   "execution_count": 64,
   "id": "97db95cd-3f28-4157-9688-22b8db078b88",
   "metadata": {},
   "outputs": [
    {
     "data": {
      "text/plain": [
       "(1.0, 0.0, 0.5)"
      ]
     },
     "execution_count": 64,
     "metadata": {},
     "output_type": "execute_result"
    }
   ],
   "source": [
    "tuple(colors[class_idx])"
   ]
  },
  {
   "cell_type": "code",
   "execution_count": null,
   "id": "d5fdb067-9514-400e-bcd7-abfff403b19d",
   "metadata": {},
   "outputs": [],
   "source": []
  },
  {
   "cell_type": "code",
   "execution_count": null,
   "id": "4687d730-322e-47fc-9b72-564203f783da",
   "metadata": {},
   "outputs": [],
   "source": []
  },
  {
   "cell_type": "code",
   "execution_count": 51,
   "id": "096bffc7-2c3c-4e9f-a1f9-c0f7e3bcf122",
   "metadata": {},
   "outputs": [],
   "source": [
    "# xt_history[c]"
   ]
  },
  {
   "cell_type": "code",
   "execution_count": 52,
   "id": "93216dba-06e8-4f53-aec5-1179816a55a1",
   "metadata": {},
   "outputs": [
    {
     "data": {
      "text/plain": [
       "0"
      ]
     },
     "execution_count": 52,
     "metadata": {},
     "output_type": "execute_result"
    }
   ],
   "source": [
    "np.maximum(i-64, 0)"
   ]
  },
  {
   "cell_type": "code",
   "execution_count": 53,
   "id": "628b1d58-10a2-4418-9aad-f15829d3122a",
   "metadata": {},
   "outputs": [
    {
     "ename": "TypeError",
     "evalue": "list indices must be integers or slices, not tuple",
     "output_type": "error",
     "traceback": [
      "\u001b[0;31m---------------------------------------------------------------------------\u001b[0m",
      "\u001b[0;31mTypeError\u001b[0m                                 Traceback (most recent call last)",
      "Cell \u001b[0;32mIn[53], line 1\u001b[0m\n\u001b[0;32m----> 1\u001b[0m xt_history[c][np\u001b[38;5;241m.\u001b[39mmaximum(i\u001b[38;5;241m-\u001b[39m\u001b[38;5;241m64\u001b[39m, \u001b[38;5;241m0\u001b[39m):i\u001b[38;5;241m+\u001b[39m\u001b[38;5;241m1\u001b[39m,j,\u001b[38;5;241m0\u001b[39m]\n",
      "\u001b[0;31mTypeError\u001b[0m: list indices must be integers or slices, not tuple"
     ]
    }
   ],
   "source": [
    "xt_history[c][np.maximum(i-64, 0):i+1,j,0]"
   ]
  },
  {
   "cell_type": "code",
   "execution_count": 55,
   "id": "d901f982-edc9-42af-b4d3-fbeafd89887d",
   "metadata": {},
   "outputs": [
    {
     "data": {
      "text/plain": [
       "64"
      ]
     },
     "execution_count": 55,
     "metadata": {},
     "output_type": "execute_result"
    }
   ],
   "source": [
    "len(xt_history[c])"
   ]
  },
  {
   "cell_type": "code",
   "execution_count": null,
   "id": "605b1338-a832-48cb-a21a-291fa8e4f9b7",
   "metadata": {},
   "outputs": [],
   "source": []
  },
  {
   "cell_type": "code",
   "execution_count": 28,
   "id": "74f81a81-6ede-428b-a99e-26c7d0460976",
   "metadata": {},
   "outputs": [
    {
     "data": {
      "text/plain": [
       "array([1. , 0. , 0.5])"
      ]
     },
     "execution_count": 28,
     "metadata": {},
     "output_type": "execute_result"
    }
   ],
   "source": [
    "colors[class_idx]"
   ]
  },
  {
   "cell_type": "code",
   "execution_count": null,
   "id": "8fa2e449-f1fd-4143-a21f-428f9536d418",
   "metadata": {},
   "outputs": [],
   "source": []
  },
  {
   "cell_type": "code",
   "execution_count": null,
   "id": "a2930fc2-d4f6-4f91-beeb-a2b331ceb485",
   "metadata": {},
   "outputs": [],
   "source": []
  },
  {
   "cell_type": "code",
   "execution_count": null,
   "id": "e416270a-a643-48b5-bda5-0282c59dc998",
   "metadata": {},
   "outputs": [],
   "source": []
  },
  {
   "cell_type": "code",
   "execution_count": null,
   "id": "e76c5ea2-42d0-48bf-902f-5e60d25d0f02",
   "metadata": {},
   "outputs": [],
   "source": []
  }
 ],
 "metadata": {
  "kernelspec": {
   "display_name": "Python 3 (ipykernel)",
   "language": "python",
   "name": "python3"
  },
  "language_info": {
   "codemirror_mode": {
    "name": "ipython",
    "version": 3
   },
   "file_extension": ".py",
   "mimetype": "text/x-python",
   "name": "python",
   "nbconvert_exporter": "python",
   "pygments_lexer": "ipython3",
   "version": "3.11.11"
  }
 },
 "nbformat": 4,
 "nbformat_minor": 5
}
