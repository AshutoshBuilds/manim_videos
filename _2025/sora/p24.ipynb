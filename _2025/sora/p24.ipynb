{
 "cells": [
  {
   "cell_type": "markdown",
   "id": "b87c12e5-7f9b-4d19-9d9f-2d41b6385b2d",
   "metadata": {},
   "source": [
    "## Cat Classification with CLIP Example"
   ]
  },
  {
   "cell_type": "code",
   "execution_count": 1,
   "id": "b2b7d8b6-fd01-4af2-bb91-491adc21c742",
   "metadata": {},
   "outputs": [],
   "source": [
    "import torch\n",
    "from PIL import Image\n",
    "import requests\n",
    "from transformers import AutoProcessor, CLIPModel\n",
    "import matplotlib.pyplot as plt\n",
    "import numpy as np\n",
    "from tqdm import tqdm"
   ]
  },
  {
   "cell_type": "code",
   "execution_count": 2,
   "id": "58d99643-6321-4ac3-be69-6cc1fdf6512b",
   "metadata": {},
   "outputs": [],
   "source": [
    "device = 'cuda' if torch.cuda.is_available() else 'cpu'"
   ]
  },
  {
   "cell_type": "code",
   "execution_count": 3,
   "id": "f71b87b0-9164-4b26-9df6-19a6a1d0e3c5",
   "metadata": {},
   "outputs": [],
   "source": [
    "model = CLIPModel.from_pretrained(\"openai/clip-vit-base-patch32\").to(device)\n",
    "processor = AutoProcessor.from_pretrained(\"openai/clip-vit-base-patch32\")"
   ]
  },
  {
   "cell_type": "code",
   "execution_count": 4,
   "id": "29e6ba6b-c812-4df0-b29b-ebc52729ed48",
   "metadata": {},
   "outputs": [],
   "source": [
    "def get_common_objects_and_concepts():\n",
    "    \"\"\"Curated list of common objects, animals, concepts, emotions, etc.\"\"\"\n",
    "    categories = {\n",
    "        'objects': [\n",
    "            'chair', 'table', 'car', 'bicycle', 'bottle', 'cup', 'fork', 'knife', 'spoon',\n",
    "            'bowl', 'banana', 'apple', 'sandwich', 'orange', 'broccoli', 'carrot', 'pizza',\n",
    "            'donut', 'cake', 'bed', 'toilet', 'laptop', 'mouse', 'remote', 'keyboard',\n",
    "            'cell phone', 'book', 'clock', 'scissors', 'teddy bear', 'hair dryer',\n",
    "            'toothbrush', 'umbrella', 'handbag', 'tie', 'suitcase', 'frisbee', 'skis',\n",
    "            'snowboard', 'sports ball', 'kite', 'baseball bat', 'baseball glove',\n",
    "            'skateboard', 'surfboard', 'tennis racket', 'man', 'woman'\n",
    "        ],\n",
    "        'animals': [\n",
    "            'person', 'cat', 'dog', 'horse', 'sheep', 'cow', 'elephant', 'bear', 'zebra',\n",
    "            'giraffe', 'bird', 'chicken', 'duck', 'eagle', 'owl', 'fish', 'shark', 'whale',\n",
    "            'dolphin', 'turtle', 'frog', 'snake', 'spider', 'bee', 'butterfly', 'lion',\n",
    "            'tiger', 'fox', 'wolf', 'rabbit', 'hamster', 'mouse', 'rat'\n",
    "        ],\n",
    "        'clothing': [\n",
    "            'hat', 'cap', 'helmet', 'glasses', 'sunglasses', 'shirt', 't-shirt', 'sweater',\n",
    "            'jacket', 'coat', 'dress', 'skirt', 'pants', 'jeans', 'shorts', 'shoes',\n",
    "            'sneakers', 'boots', 'sandals', 'socks', 'tie', 'scarf', 'gloves', 'belt',\n",
    "            'watch', 'ring', 'necklace', 'earrings', 'bracelet'\n",
    "        ]\n",
    "    }\n",
    "    \n",
    "    # Flatten all categories\n",
    "    all_concepts = []\n",
    "    for category, items in categories.items():\n",
    "        if category == \"objects\":\n",
    "            items = ['A photo of a ' + w for w in items]\n",
    "        all_concepts.extend(items)\n",
    "    \n",
    "    return all_concepts, categories"
   ]
  },
  {
   "cell_type": "code",
   "execution_count": 5,
   "id": "baca61a9-f18b-4e34-92ae-70d116b20ff8",
   "metadata": {},
   "outputs": [],
   "source": [
    "words, categories=get_common_objects_and_concepts()"
   ]
  },
  {
   "cell_type": "code",
   "execution_count": 6,
   "id": "4577d797-bfdf-4677-89d5-7d1a17011a31",
   "metadata": {},
   "outputs": [],
   "source": [
    "image = Image.open('n02123045_1955.jpg')\n",
    "\n",
    "inputs = processor(images=image, return_tensors=\"pt\").to(device)\n",
    "with torch.no_grad():\n",
    "    image_features = model.get_image_features(**inputs)\n",
    "    # Normalize the embeddings\n",
    "    image_features = image_features / image_features.norm(dim=-1, keepdim=True)"
   ]
  },
  {
   "cell_type": "code",
   "execution_count": 7,
   "id": "0cd58f40-6297-4f0d-b58d-d45243c0be23",
   "metadata": {},
   "outputs": [
    {
     "data": {
      "text/plain": [
       "tensor([[-1.7887e-02, -6.2129e-03,  1.6517e-02, -2.9591e-02, -1.6887e-02,\n",
       "          1.6373e-02,  2.9903e-02, -6.8541e-02, -9.1934e-03,  6.7381e-02,\n",
       "         -1.8423e-02,  2.4983e-03,  2.1080e-02, -3.8571e-02, -3.2232e-02,\n",
       "         -2.2684e-02,  1.6661e-02, -4.1826e-04, -4.1781e-02, -2.3613e-02,\n",
       "          5.0989e-02, -3.5312e-02, -1.6488e-03, -1.7573e-02, -5.7819e-03,\n",
       "          3.2350e-02, -3.3370e-02,  5.5010e-02, -2.9318e-02,  3.0652e-02,\n",
       "         -8.2050e-04,  5.5223e-02, -6.2733e-03, -9.8345e-03, -6.0178e-02,\n",
       "          1.2874e-02, -3.5781e-02,  2.0373e-02, -1.7494e-02, -9.8844e-03,\n",
       "          4.1935e-03, -6.2362e-02,  5.0253e-02, -1.1455e-02,  8.2908e-03,\n",
       "          2.1451e-02,  2.0287e-02,  3.2606e-02, -3.5070e-02,  2.7776e-02,\n",
       "         -5.2976e-03,  2.7021e-02,  6.6977e-02, -4.6803e-02,  1.2262e-02,\n",
       "         -2.7150e-04, -7.8685e-03,  1.4277e-02,  1.1502e-02, -5.3555e-03,\n",
       "          5.2074e-02, -4.8163e-02,  4.6797e-04, -2.8965e-02,  1.6307e-02,\n",
       "         -4.8863e-02, -2.6552e-02,  2.5897e-02,  1.9087e-02, -2.8835e-02,\n",
       "          1.1199e-02, -7.7396e-03,  3.1090e-02, -4.6163e-03, -1.0654e-02,\n",
       "         -1.7229e-02,  5.5639e-02,  5.0410e-03,  5.3974e-02, -1.8035e-02,\n",
       "          1.7239e-02, -1.8493e-02, -1.8603e-02, -2.6865e-02, -4.0152e-02,\n",
       "          3.8040e-02,  2.3757e-02, -5.7250e-02,  2.9503e-02,  4.0841e-02,\n",
       "         -2.0988e-04, -2.6867e-02, -1.3843e-01,  6.3221e-02, -2.0160e-02,\n",
       "          2.0469e-02, -8.5663e-03,  1.1327e-02, -2.6607e-02, -1.2661e-02,\n",
       "          1.9186e-02,  4.3827e-03, -3.0133e-02, -2.6559e-02, -1.2229e-02,\n",
       "         -1.7660e-02, -5.1357e-03, -1.7752e-02,  2.6507e-02, -2.0274e-02,\n",
       "         -4.9281e-02, -2.0751e-02,  8.7512e-03,  3.9997e-02, -5.8971e-02,\n",
       "          1.1676e-02,  2.6221e-02,  6.0572e-03, -9.4893e-03, -5.3744e-03,\n",
       "          1.6805e-02, -6.4341e-02,  2.3438e-02,  9.2281e-03, -1.7274e-02,\n",
       "          1.1840e-02,  1.4380e-02, -1.3177e-02,  1.5978e-02,  6.4656e-02,\n",
       "          7.4265e-03, -1.7327e-02,  9.4543e-03,  5.2749e-01,  2.9449e-02,\n",
       "         -2.2190e-02, -3.3655e-02, -5.6181e-02,  1.5722e-02, -4.5755e-02,\n",
       "         -2.1043e-02,  3.0416e-02, -3.9893e-02,  1.1031e-02, -3.6994e-02,\n",
       "          3.5521e-02, -2.0185e-02, -9.6611e-02, -7.0704e-03,  2.5050e-03,\n",
       "         -3.7711e-03,  2.9005e-02,  1.2765e-02, -5.3276e-03,  1.1542e-02,\n",
       "         -1.7794e-02, -8.5632e-04, -4.1532e-02,  2.3424e-02,  3.6682e-02,\n",
       "         -2.4673e-02, -3.5811e-02,  7.9404e-03, -5.3499e-02, -2.6218e-02,\n",
       "         -4.0216e-02,  1.8457e-02, -4.1521e-02,  7.9196e-03, -9.9730e-06,\n",
       "          2.6467e-02, -6.7647e-03, -3.4075e-02,  4.3590e-03, -5.6100e-02,\n",
       "         -1.5181e-02, -6.5377e-03,  4.2605e-02,  1.7524e-02, -4.0816e-02,\n",
       "         -1.3605e-02,  1.6612e-03, -1.5697e-02,  1.0835e-02, -4.6226e-02,\n",
       "          1.5376e-03,  2.8237e-02,  1.3194e-03,  3.5450e-02,  3.1433e-02,\n",
       "          3.5369e-02, -2.2092e-02,  3.4669e-03, -5.7776e-02,  4.1433e-02,\n",
       "         -6.4089e-03, -3.0562e-02, -3.3571e-02, -2.1253e-02, -3.0123e-02,\n",
       "          2.7037e-03,  4.2897e-03, -4.9642e-02,  2.3101e-02,  2.2825e-02,\n",
       "         -4.0955e-02,  1.7820e-02, -4.2719e-02, -6.5244e-04,  1.8513e-02,\n",
       "          2.6233e-02, -1.3850e-02,  3.1251e-02,  2.5870e-02,  2.0934e-02,\n",
       "         -1.2269e-02, -2.9189e-02, -2.0452e-02, -3.5576e-02, -1.3296e-02,\n",
       "          3.7608e-02, -4.5255e-02,  3.9251e-02, -2.9408e-02,  3.4077e-02,\n",
       "          2.8318e-03,  1.1424e-02,  8.6450e-03, -3.7074e-02, -2.6398e-02,\n",
       "         -3.4918e-04,  4.1972e-02,  1.6969e-02, -8.6418e-03,  6.9275e-03,\n",
       "          1.0285e-02, -2.2209e-02, -7.3611e-03, -4.0616e-02, -8.2004e-03,\n",
       "         -1.0239e-02,  5.1938e-03,  4.2456e-02,  2.1579e-02, -7.5621e-02,\n",
       "         -2.0888e-02,  2.2264e-02,  6.6748e-02, -8.6796e-03, -8.9855e-03,\n",
       "          2.2676e-02, -5.7821e-03,  2.9523e-02,  5.3288e-02,  8.1345e-04,\n",
       "         -4.2753e-02,  6.0043e-04,  6.0837e-03,  9.1477e-03,  4.9784e-02,\n",
       "          8.8974e-03,  2.4678e-02, -2.7773e-02, -2.3696e-02, -2.3769e-02,\n",
       "          1.3729e-02,  9.6071e-03, -2.5333e-02, -3.3665e-02,  4.2466e-02,\n",
       "          1.6216e-02,  5.5717e-02,  5.2312e-03, -5.7288e-02, -6.5671e-03,\n",
       "          4.3399e-03, -1.1276e-02,  3.3465e-02, -8.0697e-03,  1.6516e-03,\n",
       "         -1.8780e-03, -1.6158e-02,  1.6394e-02,  1.2895e-02,  1.0944e-02,\n",
       "         -2.6407e-03, -1.7594e-02,  1.7080e-02,  3.6483e-02,  3.8302e-03,\n",
       "          3.0245e-02, -2.0435e-02,  2.0091e-02,  5.3279e-02, -3.1052e-02,\n",
       "         -5.0751e-02, -1.8184e-02, -9.6572e-03, -4.3391e-02, -4.0785e-02,\n",
       "          2.0106e-02, -2.4509e-02,  1.8751e-02, -8.7219e-04, -1.1726e-02,\n",
       "          1.8099e-02, -6.8775e-03, -1.9864e-02, -1.6660e-02, -9.3064e-03,\n",
       "          1.8634e-02,  1.3661e-02,  5.2725e-01, -2.6684e-02,  9.0794e-03,\n",
       "          1.4928e-02,  2.0686e-02,  2.0502e-02,  2.0442e-02, -7.1539e-04,\n",
       "          4.4467e-02,  3.5268e-02,  2.9391e-02,  1.8469e-02, -3.8135e-02,\n",
       "          1.8335e-02, -2.5541e-03,  8.7855e-03,  1.3239e-02, -1.6841e-01,\n",
       "          6.5600e-03,  2.4288e-02,  2.3507e-02,  6.7554e-03,  1.2777e-02,\n",
       "          1.0534e-02, -4.0844e-02,  3.5311e-02,  6.5828e-03, -3.7400e-03,\n",
       "          4.7081e-03, -1.8880e-02,  2.1923e-02, -6.9952e-03,  1.1517e-03,\n",
       "         -6.1296e-03,  4.5601e-02,  1.0818e-02,  1.6983e-02, -5.6345e-03,\n",
       "          2.9610e-02,  8.1236e-03,  2.8137e-02,  1.2680e-02, -4.6301e-02,\n",
       "         -3.8926e-02, -2.4347e-02, -1.6612e-02,  8.9865e-03,  3.2111e-02,\n",
       "          1.2438e-02, -4.6909e-02, -8.1922e-04,  2.6135e-02, -3.6158e-03,\n",
       "         -7.0411e-03, -2.4424e-02, -7.6834e-03,  2.8249e-03,  2.0453e-02,\n",
       "         -2.6638e-02,  2.3366e-02, -1.1945e-02,  3.5116e-02, -2.1161e-02,\n",
       "          6.4807e-03,  1.3760e-02,  2.9597e-02, -1.1622e-02,  1.9152e-02,\n",
       "          3.6080e-02, -3.8062e-02, -1.5423e-02, -6.5942e-02,  2.8365e-02,\n",
       "          1.6346e-02, -3.4514e-02, -3.1169e-02, -4.4848e-03,  7.3662e-03,\n",
       "         -4.4513e-03, -2.5929e-02, -1.1761e-02,  1.2831e-02,  2.6703e-02,\n",
       "          1.8242e-02, -3.4261e-03, -7.8668e-03, -8.9010e-03,  3.5089e-02,\n",
       "         -3.9783e-03,  6.1284e-03,  6.9987e-03,  2.0708e-02, -2.6606e-02,\n",
       "         -2.6870e-02,  3.1528e-03, -3.0590e-02,  2.2288e-02, -4.9173e-03,\n",
       "         -2.5638e-02,  2.2735e-02,  1.3296e-02,  7.6681e-03,  2.3889e-02,\n",
       "          2.1988e-02, -9.0597e-03,  1.4560e-02,  1.4481e-02, -6.3546e-03,\n",
       "         -1.7167e-02,  4.3723e-03, -2.1499e-03, -3.8364e-02,  4.0024e-03,\n",
       "         -8.8017e-03, -6.3742e-03, -1.4915e-04, -6.0436e-03,  4.6712e-02,\n",
       "          5.7176e-03, -3.8969e-02,  2.0668e-04, -1.2802e-02,  3.5049e-02,\n",
       "         -1.1867e-02, -2.3607e-02,  1.9452e-02,  4.5849e-03,  6.7145e-03,\n",
       "          5.4106e-03, -2.9267e-02, -5.0020e-02, -3.4003e-02,  4.1631e-03,\n",
       "          6.2828e-02, -1.9265e-02, -4.3910e-02,  2.1090e-02, -1.2401e-02,\n",
       "         -4.3050e-02, -8.8725e-03,  3.0415e-02, -2.7418e-03, -2.4501e-02,\n",
       "          2.8602e-02, -1.6187e-03,  2.4365e-02, -1.4591e-02, -2.3892e-02,\n",
       "         -4.5721e-03,  3.1963e-02, -8.2909e-03,  3.4407e-02,  2.9989e-02,\n",
       "          2.5896e-02,  1.7406e-02, -5.5729e-02, -2.9477e-02, -7.1729e-02,\n",
       "         -5.8240e-02, -2.4835e-02,  2.8619e-02, -8.7575e-03, -1.4417e-02,\n",
       "          3.7086e-03, -3.4232e-02, -2.7454e-03,  2.4541e-04,  4.3158e-02,\n",
       "          4.4587e-02, -4.7060e-02,  1.9027e-02, -2.9849e-02, -1.2579e-02,\n",
       "         -3.1679e-02,  3.6251e-03,  3.2622e-02,  1.6452e-02, -1.0885e-02,\n",
       "          1.2127e-02, -2.5743e-03,  2.3512e-02,  9.3722e-02,  2.5094e-02,\n",
       "         -3.0469e-02,  5.1333e-02, -1.3775e-02, -1.5029e-02, -3.5026e-02,\n",
       "          4.6835e-02,  1.6135e-02,  9.0780e-04, -1.1646e-02,  5.2441e-02,\n",
       "         -2.5404e-02, -4.9997e-03, -1.8921e-02, -3.1401e-02, -3.0589e-02,\n",
       "          3.5231e-03,  3.0231e-02]])"
      ]
     },
     "execution_count": 7,
     "metadata": {},
     "output_type": "execute_result"
    }
   ],
   "source": [
    "all_text_features=[]\n",
    "for i, word in enumerate(words):\n",
    "    inputs=processor(text='A photo of a '+ word, return_tensors=\"pt\", padding=True).to(device)\n",
    "    with torch.no_grad():\n",
    "        text_features = model.get_text_features(**inputs)\n",
    "        text_features = text_features / text_features.norm(dim=-1, keepdim=True)\n",
    "        all_text_features.append(text_features)\n",
    "all_text_features=torch.concat(all_text_features)\n",
    "text_features"
   ]
  },
  {
   "cell_type": "code",
   "execution_count": 8,
   "id": "cb433a3a-d0c9-484f-9724-0e549905c297",
   "metadata": {},
   "outputs": [
    {
     "data": {
      "text/plain": [
       "torch.Size([110, 512])"
      ]
     },
     "execution_count": 8,
     "metadata": {},
     "output_type": "execute_result"
    }
   ],
   "source": [
    "all_text_features.shape"
   ]
  },
  {
   "cell_type": "code",
   "execution_count": 9,
   "id": "4afb5676-b370-4408-9ca8-4a288aa761cd",
   "metadata": {},
   "outputs": [],
   "source": [
    "similarities = torch.cosine_similarity(image_features, all_text_features, dim=1)"
   ]
  },
  {
   "cell_type": "code",
   "execution_count": 10,
   "id": "6d72ea5b-b3f3-40b9-8d1f-06132f58a3cf",
   "metadata": {},
   "outputs": [
    {
     "data": {
      "text/plain": [
       "torch.Size([110])"
      ]
     },
     "execution_count": 10,
     "metadata": {},
     "output_type": "execute_result"
    }
   ],
   "source": [
    "similarities.shape"
   ]
  },
  {
   "cell_type": "code",
   "execution_count": 11,
   "id": "68f4fc03-110e-48ae-abd0-56855395ae19",
   "metadata": {},
   "outputs": [],
   "source": [
    "top_k = 200\n",
    "top_k_indices = similarities.argsort(descending=True)[:top_k]\n",
    "\n",
    "results = []\n",
    "for idx in top_k_indices:\n",
    "    emb = all_text_features[idx].cpu().tolist()\n",
    "    emb_short = [round(emb[0], 2), round(emb[1], 2), round(emb[-1], 2)]\n",
    "    results.append({\n",
    "        'text': words[idx],\n",
    "        'similarity': similarities[idx].item(),\n",
    "        'embedding': emb_short\n",
    "    })\n",
    "\n",
    "import pandas as pd\n",
    "\n",
    "df_results = pd.DataFrame(results)\n",
    "df_results.to_csv('cat_similarity.csv', index=False)\n"
   ]
  },
  {
   "cell_type": "code",
   "execution_count": 12,
   "id": "8b8311d3-269e-4c2b-8761-4453303f5856",
   "metadata": {},
   "outputs": [
    {
     "data": {
      "text/html": [
       "<div>\n",
       "<style scoped>\n",
       "    .dataframe tbody tr th:only-of-type {\n",
       "        vertical-align: middle;\n",
       "    }\n",
       "\n",
       "    .dataframe tbody tr th {\n",
       "        vertical-align: top;\n",
       "    }\n",
       "\n",
       "    .dataframe thead th {\n",
       "        text-align: right;\n",
       "    }\n",
       "</style>\n",
       "<table border=\"1\" class=\"dataframe\">\n",
       "  <thead>\n",
       "    <tr style=\"text-align: right;\">\n",
       "      <th></th>\n",
       "      <th>text</th>\n",
       "      <th>similarity</th>\n",
       "      <th>embedding</th>\n",
       "    </tr>\n",
       "  </thead>\n",
       "  <tbody>\n",
       "    <tr>\n",
       "      <th>0</th>\n",
       "      <td>cat</td>\n",
       "      <td>0.278386</td>\n",
       "      <td>[0.01, 0.01, 0.0]</td>\n",
       "    </tr>\n",
       "    <tr>\n",
       "      <th>1</th>\n",
       "      <td>tiger</td>\n",
       "      <td>0.239558</td>\n",
       "      <td>[-0.0, 0.03, 0.01]</td>\n",
       "    </tr>\n",
       "    <tr>\n",
       "      <th>2</th>\n",
       "      <td>socks</td>\n",
       "      <td>0.235312</td>\n",
       "      <td>[-0.01, 0.01, -0.02]</td>\n",
       "    </tr>\n",
       "    <tr>\n",
       "      <th>3</th>\n",
       "      <td>mouse</td>\n",
       "      <td>0.235208</td>\n",
       "      <td>[-0.04, 0.02, -0.0]</td>\n",
       "    </tr>\n",
       "    <tr>\n",
       "      <th>4</th>\n",
       "      <td>boots</td>\n",
       "      <td>0.234423</td>\n",
       "      <td>[-0.0, 0.02, -0.02]</td>\n",
       "    </tr>\n",
       "    <tr>\n",
       "      <th>...</th>\n",
       "      <td>...</td>\n",
       "      <td>...</td>\n",
       "      <td>...</td>\n",
       "    </tr>\n",
       "    <tr>\n",
       "      <th>105</th>\n",
       "      <td>A photo of a car</td>\n",
       "      <td>0.161206</td>\n",
       "      <td>[0.03, 0.04, -0.01]</td>\n",
       "    </tr>\n",
       "    <tr>\n",
       "      <th>106</th>\n",
       "      <td>A photo of a pizza</td>\n",
       "      <td>0.159154</td>\n",
       "      <td>[0.03, 0.02, -0.05]</td>\n",
       "    </tr>\n",
       "    <tr>\n",
       "      <th>107</th>\n",
       "      <td>A photo of a broccoli</td>\n",
       "      <td>0.156919</td>\n",
       "      <td>[0.05, 0.04, -0.03]</td>\n",
       "    </tr>\n",
       "    <tr>\n",
       "      <th>108</th>\n",
       "      <td>A photo of a snowboard</td>\n",
       "      <td>0.156050</td>\n",
       "      <td>[0.05, 0.02, -0.04]</td>\n",
       "    </tr>\n",
       "    <tr>\n",
       "      <th>109</th>\n",
       "      <td>A photo of a bicycle</td>\n",
       "      <td>0.155670</td>\n",
       "      <td>[0.03, 0.03, -0.03]</td>\n",
       "    </tr>\n",
       "  </tbody>\n",
       "</table>\n",
       "<p>110 rows × 3 columns</p>\n",
       "</div>"
      ],
      "text/plain": [
       "                       text  similarity             embedding\n",
       "0                       cat    0.278386     [0.01, 0.01, 0.0]\n",
       "1                     tiger    0.239558    [-0.0, 0.03, 0.01]\n",
       "2                     socks    0.235312  [-0.01, 0.01, -0.02]\n",
       "3                     mouse    0.235208   [-0.04, 0.02, -0.0]\n",
       "4                     boots    0.234423   [-0.0, 0.02, -0.02]\n",
       "..                      ...         ...                   ...\n",
       "105        A photo of a car    0.161206   [0.03, 0.04, -0.01]\n",
       "106      A photo of a pizza    0.159154   [0.03, 0.02, -0.05]\n",
       "107   A photo of a broccoli    0.156919   [0.05, 0.04, -0.03]\n",
       "108  A photo of a snowboard    0.156050   [0.05, 0.02, -0.04]\n",
       "109    A photo of a bicycle    0.155670   [0.03, 0.03, -0.03]\n",
       "\n",
       "[110 rows x 3 columns]"
      ]
     },
     "execution_count": 12,
     "metadata": {},
     "output_type": "execute_result"
    }
   ],
   "source": [
    "df_results"
   ]
  },
  {
   "cell_type": "code",
   "execution_count": null,
   "id": "e6ca6d31-72de-4ed2-9a4e-9a1896df8454",
   "metadata": {},
   "outputs": [],
   "source": []
  },
  {
   "cell_type": "code",
   "execution_count": null,
   "id": "f77e132c-8897-4b1f-b3c8-2d7291ee353c",
   "metadata": {},
   "outputs": [],
   "source": []
  },
  {
   "cell_type": "code",
   "execution_count": null,
   "id": "0acadf61-0c5f-4772-8fab-055d83fb5ba0",
   "metadata": {},
   "outputs": [],
   "source": []
  },
  {
   "cell_type": "code",
   "execution_count": null,
   "id": "4b09517f-d74a-4d47-bcc6-b7d09e1185c3",
   "metadata": {},
   "outputs": [],
   "source": []
  }
 ],
 "metadata": {
  "kernelspec": {
   "display_name": "Python 3 (ipykernel)",
   "language": "python",
   "name": "python3"
  },
  "language_info": {
   "codemirror_mode": {
    "name": "ipython",
    "version": 3
   },
   "file_extension": ".py",
   "mimetype": "text/x-python",
   "name": "python",
   "nbconvert_exporter": "python",
   "pygments_lexer": "ipython3",
   "version": "3.11.7"
  }
 },
 "nbformat": 4,
 "nbformat_minor": 5
}
