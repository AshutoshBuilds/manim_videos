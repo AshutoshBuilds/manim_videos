{
 "cells": [
  {
   "cell_type": "markdown",
   "id": "f68aea90-0bbf-4018-b5da-ec8d73d54d4f",
   "metadata": {},
   "source": [
    "## Polynomials 4a"
   ]
  },
  {
   "cell_type": "code",
   "execution_count": 1,
   "id": "9b538f31-1f00-4e07-aa20-702238ddcfd5",
   "metadata": {},
   "outputs": [],
   "source": [
    "random_seed=5\n",
    "n_points=16\n",
    "noise_level=0.2"
   ]
  },
  {
   "cell_type": "code",
   "execution_count": 2,
   "id": "4af322f8-90bd-443e-bf94-15eb23d99236",
   "metadata": {},
   "outputs": [
    {
     "name": "stdout",
     "output_type": "stream",
     "text": [
      "12 4\n"
     ]
    }
   ],
   "source": [
    "import numpy as np \n",
    "import matplotlib.pyplot as plt \n",
    "import torch\n",
    "import torch.nn as nn\n",
    "import torch.optim as optim\n",
    "from tqdm import tqdm\n",
    "\n",
    "# Your existing data generation code\n",
    "all_x = np.linspace(-2, 2, 128)\n",
    "all_y = 0.5 * (all_x-0)**2-1\n",
    "all_y = 0.5*all_x**2\n",
    "\n",
    "n_train_points=int(np.floor(n_points*0.8))\n",
    "n_test_points=n_points-n_train_points\n",
    "print(n_train_points, n_test_points)\n",
    "                   \n",
    "np.random.seed(random_seed) #2 is not bad, 5 is not bad\n",
    "x=np.random.uniform(-2, 2, n_points)\n",
    "y=0.5*x**2+noise_level*np.random.randn(n_points)\n",
    "x_train=x[:n_train_points]\n",
    "y_train=y[:n_train_points]\n",
    "x_test=x[n_train_points:]\n",
    "y_test=y[n_train_points:]"
   ]
  },
  {
   "cell_type": "code",
   "execution_count": 3,
   "id": "e3b2e217-2128-405f-80c2-7012a950ce48",
   "metadata": {},
   "outputs": [
    {
     "data": {
      "text/plain": [
       "(-0.5, 2.0)"
      ]
     },
     "execution_count": 3,
     "metadata": {},
     "output_type": "execute_result"
    },
    {
     "data": {
      "image/png": "[encoded data removed]",
      "text/plain": [
       "<Figure size 640x480 with 1 Axes>"
      ]
     },
     "metadata": {},
     "output_type": "display_data"
    }
   ],
   "source": [
    "# plt.plot(all_x, all_y)\n",
    "plt.scatter(x_train, y_train, c='c')\n",
    "plt.scatter(x_test, y_test, c='m')\n",
    "plt.ylim([-0.5, 2])"
   ]
  },
  {
   "cell_type": "code",
   "execution_count": 4,
   "id": "dade21e0-9ad9-46c9-bcdb-20b5f11a2906",
   "metadata": {},
   "outputs": [],
   "source": [
    "# Define 2-layer ReLU network\n",
    "class TwoLayerNet(nn.Module):\n",
    "    def __init__(self, hidden_size=20):\n",
    "        super(TwoLayerNet, self).__init__()\n",
    "        self.layer1 = nn.Linear(1, hidden_size)  # Input to hidden\n",
    "        self.layer2 = nn.Linear(hidden_size, 1)  # Hidden to output\n",
    "        self.relu = nn.ReLU()\n",
    "        \n",
    "    def forward(self, x):\n",
    "        x = self.relu(self.layer1(x))\n",
    "        x = self.layer2(x)\n",
    "        return x"
   ]
  },
  {
   "cell_type": "code",
   "execution_count": 5,
   "id": "34552023-dd1a-46ca-a5ba-773a6710e308",
   "metadata": {},
   "outputs": [],
   "source": [
    "# Convert data to PyTorch tensors\n",
    "x_train_tensor = torch.FloatTensor(x_train).reshape(-1, 1)\n",
    "y_train_tensor = torch.FloatTensor(y_train).reshape(-1, 1)\n",
    "x_test_tensor = torch.FloatTensor(x_test).reshape(-1, 1)\n",
    "y_test_tensor = torch.FloatTensor(y_test).reshape(-1, 1)"
   ]
  },
  {
   "cell_type": "code",
   "execution_count": 6,
   "id": "f4d168b7-c90a-4a3d-b38f-88e063156a23",
   "metadata": {},
   "outputs": [
    {
     "name": "stdout",
     "output_type": "stream",
     "text": [
      "starting 5\n",
      "Epoch [200000/1000000], Train Loss: 0.0245, Test Loss: 0.0386\n",
      "Epoch [400000/1000000], Train Loss: 0.0178, Test Loss: 0.0366\n",
      "Epoch [600000/1000000], Train Loss: 0.0172, Test Loss: 0.0373\n",
      "Epoch [800000/1000000], Train Loss: 0.0172, Test Loss: 0.0375\n",
      "Epoch [1000000/1000000], Train Loss: 0.0172, Test Loss: 0.0375\n",
      "starting 10\n",
      "Epoch [200000/1000000], Train Loss: 0.0226, Test Loss: 0.0352\n",
      "Epoch [400000/1000000], Train Loss: 0.0191, Test Loss: 0.0263\n",
      "Epoch [600000/1000000], Train Loss: 0.0186, Test Loss: 0.0245\n",
      "Epoch [800000/1000000], Train Loss: 0.0184, Test Loss: 0.0235\n",
      "Epoch [1000000/1000000], Train Loss: 0.0183, Test Loss: 0.0226\n",
      "starting 15\n",
      "Epoch [200000/1000000], Train Loss: 0.0196, Test Loss: 0.0395\n",
      "Epoch [400000/1000000], Train Loss: 0.0173, Test Loss: 0.0380\n",
      "Epoch [600000/1000000], Train Loss: 0.0172, Test Loss: 0.0380\n",
      "Epoch [800000/1000000], Train Loss: 0.0172, Test Loss: 0.0379\n",
      "Epoch [1000000/1000000], Train Loss: 0.0172, Test Loss: 0.0379\n",
      "starting 16\n",
      "Epoch [200000/1000000], Train Loss: 0.0193, Test Loss: 0.0230\n",
      "Epoch [400000/1000000], Train Loss: 0.0163, Test Loss: 0.0229\n",
      "Epoch [600000/1000000], Train Loss: 0.0150, Test Loss: 0.0271\n",
      "Epoch [800000/1000000], Train Loss: 0.0143, Test Loss: 0.0281\n",
      "Epoch [1000000/1000000], Train Loss: 0.0134, Test Loss: 0.0289\n",
      "starting 17\n",
      "Epoch [200000/1000000], Train Loss: 0.0252, Test Loss: 0.0362\n",
      "Epoch [400000/1000000], Train Loss: 0.0192, Test Loss: 0.0378\n",
      "Epoch [600000/1000000], Train Loss: 0.0174, Test Loss: 0.0397\n",
      "Epoch [800000/1000000], Train Loss: 0.0172, Test Loss: 0.0405\n",
      "Epoch [1000000/1000000], Train Loss: 0.0172, Test Loss: 0.0405\n",
      "starting 20\n",
      "Epoch [200000/1000000], Train Loss: 0.0186, Test Loss: 0.0260\n",
      "Epoch [400000/1000000], Train Loss: 0.0174, Test Loss: 0.0254\n",
      "Epoch [600000/1000000], Train Loss: 0.0173, Test Loss: 0.0261\n",
      "Epoch [800000/1000000], Train Loss: 0.0172, Test Loss: 0.0264\n",
      "Epoch [1000000/1000000], Train Loss: 0.0172, Test Loss: 0.0267\n",
      "starting 40\n",
      "Epoch [200000/1000000], Train Loss: 0.0162, Test Loss: 0.0419\n",
      "Epoch [400000/1000000], Train Loss: 0.0137, Test Loss: 0.0432\n",
      "Epoch [600000/1000000], Train Loss: 0.0123, Test Loss: 0.0434\n",
      "Epoch [800000/1000000], Train Loss: 0.0110, Test Loss: 0.0441\n",
      "Epoch [1000000/1000000], Train Loss: 0.0100, Test Loss: 0.0446\n",
      "starting 80\n",
      "Epoch [200000/1000000], Train Loss: 0.0153, Test Loss: 0.0477\n",
      "Epoch [400000/1000000], Train Loss: 0.0132, Test Loss: 0.0464\n",
      "Epoch [600000/1000000], Train Loss: 0.0119, Test Loss: 0.0464\n",
      "Epoch [800000/1000000], Train Loss: 0.0113, Test Loss: 0.0466\n",
      "Epoch [1000000/1000000], Train Loss: 0.0108, Test Loss: 0.0470\n",
      "starting 160\n",
      "Epoch [200000/1000000], Train Loss: 0.0133, Test Loss: 0.0455\n",
      "Epoch [400000/1000000], Train Loss: 0.0110, Test Loss: 0.0464\n",
      "Epoch [600000/1000000], Train Loss: 0.0096, Test Loss: 0.0465\n",
      "Epoch [800000/1000000], Train Loss: 0.0086, Test Loss: 0.0463\n",
      "Epoch [1000000/1000000], Train Loss: 0.0078, Test Loss: 0.0455\n",
      "starting 320\n",
      "Epoch [200000/1000000], Train Loss: 0.0120, Test Loss: 0.0404\n",
      "Epoch [400000/1000000], Train Loss: 0.0100, Test Loss: 0.0411\n",
      "Epoch [600000/1000000], Train Loss: 0.0088, Test Loss: 0.0413\n",
      "Epoch [800000/1000000], Train Loss: 0.0078, Test Loss: 0.0411\n",
      "Epoch [1000000/1000000], Train Loss: 0.0068, Test Loss: 0.0404\n",
      "starting 500\n",
      "Epoch [200000/1000000], Train Loss: 0.0110, Test Loss: 0.0448\n",
      "Epoch [400000/1000000], Train Loss: 0.0094, Test Loss: 0.0468\n",
      "Epoch [600000/1000000], Train Loss: 0.0083, Test Loss: 0.0475\n",
      "Epoch [800000/1000000], Train Loss: 0.0072, Test Loss: 0.0469\n",
      "Epoch [1000000/1000000], Train Loss: 0.0060, Test Loss: 0.0462\n",
      "starting 1000\n",
      "Epoch [200000/1000000], Train Loss: 0.0094, Test Loss: 0.0512\n",
      "Epoch [400000/1000000], Train Loss: 0.0073, Test Loss: 0.0525\n",
      "Epoch [600000/1000000], Train Loss: 0.0056, Test Loss: 0.0514\n",
      "Epoch [800000/1000000], Train Loss: 0.0041, Test Loss: 0.0501\n",
      "Epoch [1000000/1000000], Train Loss: 0.0029, Test Loss: 0.0491\n",
      "starting 5000\n",
      "Epoch [200000/1000000], Train Loss: 0.0036, Test Loss: 0.0491\n",
      "Epoch [400000/1000000], Train Loss: 0.0010, Test Loss: 0.0514\n",
      "Epoch [600000/1000000], Train Loss: 0.0003, Test Loss: 0.0547\n",
      "Epoch [800000/1000000], Train Loss: 0.0001, Test Loss: 0.0569\n",
      "Epoch [1000000/1000000], Train Loss: 0.0000, Test Loss: 0.0582\n",
      "starting 10000\n",
      "Epoch [200000/1000000], Train Loss: 0.0990, Test Loss: 0.1161\n",
      "Epoch [400000/1000000], Train Loss: 0.0990, Test Loss: 0.1151\n",
      "Epoch [600000/1000000], Train Loss: 0.0988, Test Loss: 0.1149\n",
      "Epoch [800000/1000000], Train Loss: 0.0986, Test Loss: 0.1144\n",
      "Epoch [1000000/1000000], Train Loss: 0.0983, Test Loss: 0.1137\n"
     ]
    }
   ],
   "source": [
    "hidden_sizes = [5, 10, 15, 16, 17, 20, 40, 80, 160, 320, 500, 1000, 5000, 10000]\n",
    "num_epochs = 1000000 #100000\n",
    "lr=1e-3\n",
    "train_losses=[]\n",
    "test_losses=[]\n",
    "\n",
    "for h in hidden_sizes:\n",
    "    print('starting', h)\n",
    "    model = TwoLayerNet(h)\n",
    "    criterion = nn.MSELoss()\n",
    "    optimizer = optim.SGD(model.parameters(), lr=lr)\n",
    "    \n",
    "    \n",
    "    for epoch in range(num_epochs):\n",
    "        outputs = model(x_train_tensor)\n",
    "        train_loss = criterion(outputs, y_train_tensor)\n",
    "        \n",
    "        optimizer.zero_grad()\n",
    "        train_loss.backward()\n",
    "        optimizer.step()\n",
    "        \n",
    "        # Calculate test loss\n",
    "        with torch.no_grad():\n",
    "            test_outputs = model(x_test_tensor)\n",
    "            test_loss = criterion(test_outputs, y_test_tensor)\n",
    "        \n",
    "        if (epoch + 1) % (num_epochs/5) == 0:\n",
    "            print(f'Epoch [{epoch+1}/{num_epochs}], Train Loss: {train_loss.item():.4f}, Test Loss: {test_loss.item():.4f}')\n",
    "\n",
    "    train_losses.append(train_loss.item())\n",
    "    test_losses.append(test_loss.item())"
   ]
  },
  {
   "cell_type": "code",
   "execution_count": 8,
   "id": "a4825f9f-79ee-4562-bd28-509baf59e42c",
   "metadata": {},
   "outputs": [
    {
     "data": {
      "text/plain": [
       "[<matplotlib.lines.Line2D at 0x7df0884a5890>]"
      ]
     },
     "execution_count": 8,
     "metadata": {},
     "output_type": "execute_result"
    },
    {
     "data": {
      "image/png": "[encoded data removed]",
      "text/plain": [
       "<Figure size 640x480 with 1 Axes>"
      ]
     },
     "metadata": {},
     "output_type": "display_data"
    }
   ],
   "source": [
    "plt.plot(train_losses, color='blue')\n",
    "plt.plot(test_losses, color='g')"
   ]
  },
  {
   "cell_type": "code",
   "execution_count": null,
   "id": "ecb78c1b-7a2b-4510-8aa9-ae2a1bcd5558",
   "metadata": {},
   "outputs": [],
   "source": []
  },
  {
   "cell_type": "code",
   "execution_count": null,
   "id": "5e4af8f7-b252-4f3d-8bdc-3c2a5093b681",
   "metadata": {},
   "outputs": [],
   "source": []
  },
  {
   "cell_type": "code",
   "execution_count": null,
   "id": "253d94c3-d715-4e6d-a390-dd12fd7caac5",
   "metadata": {},
   "outputs": [],
   "source": []
  }
 ],
 "metadata": {
  "kernelspec": {
   "display_name": "Python 3 (ipykernel)",
   "language": "python",
   "name": "python3"
  },
  "language_info": {
   "codemirror_mode": {
    "name": "ipython",
    "version": 3
   },
   "file_extension": ".py",
   "mimetype": "text/x-python",
   "name": "python",
   "nbconvert_exporter": "python",
   "pygments_lexer": "ipython3",
   "version": "3.11.0"
  }
 },
 "nbformat": 4,
 "nbformat_minor": 5
}
