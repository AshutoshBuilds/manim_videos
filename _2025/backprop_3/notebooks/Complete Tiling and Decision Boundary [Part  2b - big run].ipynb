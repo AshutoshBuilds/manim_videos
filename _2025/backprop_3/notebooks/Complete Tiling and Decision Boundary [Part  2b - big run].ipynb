{
 "cells": [
  {
   "cell_type": "markdown",
   "id": "bfb323dc-98e5-4a41-bf90-f92945e225c8",
   "metadata": {},
   "source": [
    "## Complete Tiling and Decision Boundary [Part 2b - run big tiling]"
   ]
  },
  {
   "cell_type": "code",
   "execution_count": 6,
   "id": "1496e749-3d31-4ea2-b0ca-91a06dd728ef",
   "metadata": {},
   "outputs": [],
   "source": [
    "from manimlib import *\n",
    "from functools import partial\n",
    "import sys, cv2 \n",
    "\n",
    "sys.path.append('../_2025/backprop_3') #Point to folder where plane_folding_utils.py is\n",
    "sys.path.append('../')\n",
    "from geometric_dl_utils import *\n",
    "from geometric_dl_utils_simplified import *\n",
    "from polytope_intersection_utils import intersect_polytopes\n",
    "import matplotlib.pyplot as plt\n",
    "\n",
    "import matplotlib.patches as mp\n",
    "tab20_colors_mpl = plt.cm.tab20_r.colors"
   ]
  },
  {
   "cell_type": "code",
   "execution_count": 7,
   "id": "5ff38601-08f9-4d03-ac04-051d6dd7c886",
   "metadata": {},
   "outputs": [],
   "source": [
    "#2x2\n",
    "# model_path='../models/2_2_1.pth'\n",
    "# model = BaarleNet([2,2])\n",
    "# model.load_state_dict(torch.load(model_path))\n",
    "# viz_scales=[0.25, 0.25, 0.3, 0.3, 0.15]\n",
    "# num_neurons=[2, 2, 2, 2, 2]\n",
    "\n",
    "#3x3\n",
    "# model_path='../models/3_3_1.pth'\n",
    "# model = BaarleNet([3,3])\n",
    "# model.load_state_dict(torch.load(model_path))\n",
    "# viz_scales=[0.1, 0.1, 0.05, 0.05, 0.15]\n",
    "# num_neurons=[3, 3, 3, 3, 2]\n",
    "\n",
    "#8x8\n",
    "# model_path='../models/8_8_1.pth'\n",
    "# model = BaarleNet([8,8])\n",
    "# model.load_state_dict(torch.load(model_path))\n",
    "# viz_scales=[0.1, 0.1, 0.05, 0.05, 0.15]\n",
    "# num_neurons=[8, 8, 8, 8, 2]\n",
    "\n",
    "### 16 16 16\n",
    "# model_path='../models/16_16_16_1.pth'\n",
    "# model = BaarleNet([16, 16, 16])\n",
    "# model.load_state_dict(torch.load(model_path))\n",
    "# num_neurons=[16, 16, 16, 16, 16, 16, 2]        \n",
    "\n",
    "### 32 32 32 32\n",
    "model_path='../models/32_32_32_32_1.pth'\n",
    "model = BaarleNet([32, 32, 32, 32])\n",
    "model.load_state_dict(torch.load(model_path))\n",
    "num_neurons=[32, 32, 32, 32, 32, 32, 32, 32, 2]        "
   ]
  },
  {
   "cell_type": "code",
   "execution_count": 8,
   "id": "dd92e605-7d02-4dbd-98a3-3861c469971f",
   "metadata": {},
   "outputs": [],
   "source": [
    "map=cv2.imread('Baarle-Nassau_-_Baarle-Hertog-en no legend.png')[:,:,(2,1,0)]\n",
    "\n",
    "def viz_descision_boundary(model, res=256, figsize=(6,6)):\n",
    "    plt.clf()\n",
    "    fig=plt.figure(0,figsize)\n",
    "    ax=fig.add_subplot(111)\n",
    "    \n",
    "    probe=np.zeros((res,res,2))\n",
    "    for j, xx in enumerate(np.linspace(-1, 1, res)):\n",
    "        for k, yy in enumerate(np.linspace(-1, 1, res)):\n",
    "            probe[j, k]=[yy,xx]\n",
    "    probe=probe.reshape(res**2, -1)\n",
    "    with torch.no_grad():\n",
    "        probe_logits=model(torch.tensor(probe).float())\n",
    "        probe_logits=probe_logits.detach().numpy().reshape(res,res,2)\n",
    "        probe_softmax = torch.nn.Softmax(dim=1)(torch.tensor(probe_logits.reshape(-1, 2)))\n",
    "    \n",
    "    ax.imshow(map.mean(2), cmap='gray', extent=[-1, 1, -1, 1])\n",
    "    ax.imshow(np.flipud(np.argmax(probe_logits,2)), \n",
    "               extent=[-1, 1, -1, 1],  # This maps to image coordinates\n",
    "               alpha=0.7,\n",
    "               cmap='viridis')\n",
    "    return ax"
   ]
  },
  {
   "cell_type": "code",
   "execution_count": 9,
   "id": "c72b29e8-236f-44d2-b1cd-dbf321428a45",
   "metadata": {},
   "outputs": [],
   "source": [
    "def viz_polygon_list(ax, polygon_list, alpha=0.5):\n",
    "    for j, p in enumerate(polygon_list):    \n",
    "        if len(p)<3: continue\n",
    "        poly=mp.Polygon(p[:,:2].tolist(), facecolor=tab20_colors_mpl[j%len(tab20_colors_mpl)], \n",
    "                        edgecolor=tab20_colors_mpl[j%len(tab20_colors_mpl)], linewidth=2, alpha=alpha)\n",
    "        ax.add_patch(poly)\n",
    "    plt.xlim([-1,1]); plt.ylim([-1,1]); ax.axis('off')\n",
    "\n",
    "def viz_layer_polygons(polygon_list, fig_size=(6,6)):\n",
    "    '''Assume triple layer list for now'''\n",
    "    plt.clf()\n",
    "    fig=plt.figure(0, fig_size)\n",
    "    sqr=int(np.ceil(np.sqrt(len(polygon_list))))\n",
    "    for i, pss in enumerate(polygon_list):\n",
    "        ax=fig.add_subplot(sqr,sqr,i+1)\n",
    "        for ps in pss: \n",
    "            viz_polygon_list(ax, ps)"
   ]
  },
  {
   "cell_type": "markdown",
   "id": "550e8c6d-f158-4ec2-88e9-530beede9f23",
   "metadata": {},
   "source": [
    "To Do: \n",
    "- Zero region merging\n",
    "- Top polytope computation and validation\n",
    "- Put polygon computation in a nice loop that adapts to length\n",
    "- Ok things look pretty good here, but with computing zero regions before merging (which is think the the right way to do it), my big network seems be taking a long time! Maybe i just set it up on linux and see -> worried I'm going to get combinatorially exploded. There's only so many surfaces I can render in manim, so this filtering might be pretty important.\n",
    "- Ok let me look at the top polytope stuff and then be done with this! And I can kick off a long run on Linux. "
   ]
  },
  {
   "cell_type": "code",
   "execution_count": null,
   "id": "4fad9609-70ce-4cde-a91e-43bcf62ab968",
   "metadata": {},
   "outputs": [
    {
     "name": "stdout",
     "output_type": "stream",
     "text": [
      "Retiling plane...\n"
     ]
    },
    {
     "name": "stderr",
     "output_type": "stream",
     "text": [
      "100%|██████████████████████████████████████████| 31/31 [00:00<00:00, 147.92it/s]\n"
     ]
    },
    {
     "name": "stdout",
     "output_type": "stream",
     "text": [
      "Retiled plane into  225  polygons.\n",
      "204  polygons remaining after filtering out small polygons\n",
      "Retiling plane...\n"
     ]
    },
    {
     "name": "stderr",
     "output_type": "stream",
     "text": [
      "100%|███████████████████████████████████████████| 31/31 [00:28<00:00,  1.07it/s]\n"
     ]
    },
    {
     "name": "stdout",
     "output_type": "stream",
     "text": [
      "Retiled plane into  1315  polygons.\n",
      "1061  polygons remaining after filtering out small polygons\n",
      "Retiling plane...\n"
     ]
    },
    {
     "name": "stderr",
     "output_type": "stream",
     "text": [
      "100%|██████████████████████████████████████| 31/31 [13:11:55<00:00, 1532.76s/it]\n"
     ]
    },
    {
     "name": "stdout",
     "output_type": "stream",
     "text": [
      "Retiled plane into  4474473  polygons.\n",
      "1864114  polygons remaining after filtering out small polygons\n"
     ]
    }
   ],
   "source": [
    "polygons={} #dict of all polygones as we go. \n",
    "polygons['-1.new_tiling']=[np.array([[-1., -1, 0], #First polygon is just input plane\n",
    "                                    [-1, 1, 0], \n",
    "                                    [1, 1, 0], \n",
    "                                    [1, -1, 0]])]\n",
    "\n",
    "for layer_id in range(len(model.model)//2): #Move polygont through layers     \n",
    "    polygons[str(layer_id)+'.linear_out']=process_with_layers(model.model[:2*layer_id+1], polygons[str(layer_id-1)+'.new_tiling']) \n",
    "\n",
    "    #Split polygons w/ Relu and clip negative values to z=0\n",
    "    polygons[str(layer_id)+'.split_polygons_nested']=split_polygons_with_relu_simple(polygons[str(layer_id)+'.linear_out']) #Triple nested list so we can simplify merging process layer. \n",
    "    polygons[str(layer_id)+'.split_polygons_nested_clipped'] = clip_polygons(polygons[str(layer_id)+'.split_polygons_nested'])\n",
    "    #Merge zero regions\n",
    "    polygons[str(layer_id)+'.split_polygons_merged'] = merge_zero_regions(polygons[str(layer_id)+'.split_polygons_nested_clipped'])\n",
    "    #Compute new tiling\n",
    "    polygons[str(layer_id)+'.new_tiling']=recompute_tiling_general(polygons[str(layer_id)+'.split_polygons_merged'])\n",
    "    print('Retiled plane into ', str(len(polygons[str(layer_id)+'.new_tiling'])), ' polygons.')\n",
    "\n",
    "    #Optional filtering step - start by filting a bit aggressively and see if we can make it to the end\n",
    "    polygons[str(layer_id)+'.new_tiling'] = filter_small_polygons(polygons[str(layer_id)+'.new_tiling'], min_area=1e-4)\n",
    "    print(str(len(polygons[str(layer_id)+'.new_tiling'])), ' polygons remaining after filtering out small polygons')\n",
    "\n",
    "#Last linear layer & output\n",
    "polygons[str(layer_id+1)+'.linear_out']=process_with_layers(model.model, polygons[str(layer_id)+'.new_tiling'])\n",
    "intersection_lines, new_2d_tiling, upper_polytope, indicator = intersect_polytopes(*polygons[str(layer_id+1)+'.linear_out'])\n",
    "my_indicator, my_top_polygons = compute_top_polytope(model, new_2d_tiling)"
   ]
  },
  {
   "cell_type": "code",
   "execution_count": null,
   "id": "127c0588-9e48-4a7b-a1bf-5edd0f17bb6c",
   "metadata": {},
   "outputs": [],
   "source": [
    "plt.clf()\n",
    "fig=plt.figure(0, (9,9))\n",
    "for i, polygons_by_neuron in enumerate(polygons['0.split_polygons_merged']):\n",
    "    ax=fig.add_subplot(4,4,i+1)\n",
    "    # unravelled=[item for sublist in polygons_by_neuron for item in sublist]\n",
    "    viz_polygon_list(ax, polygons_by_neuron)"
   ]
  },
  {
   "cell_type": "code",
   "execution_count": null,
   "id": "f87f5cd3-0b44-4558-974c-b18b05e728b7",
   "metadata": {},
   "outputs": [],
   "source": [
    "plt.clf()\n",
    "fig=plt.figure(0, (6,6))\n",
    "ax=fig.add_subplot(111)\n",
    "viz_polygon_list(ax, polygons['0.new_tiling'])"
   ]
  },
  {
   "cell_type": "code",
   "execution_count": null,
   "id": "a53796a1-3948-4daf-b62b-fce757722989",
   "metadata": {},
   "outputs": [],
   "source": [
    "plt.clf()\n",
    "fig=plt.figure(0, (9,9))\n",
    "for i, polygons_by_neuron in enumerate(polygons['1.split_polygons_merged']):\n",
    "    ax=fig.add_subplot(4,4,i+1)\n",
    "    # unravelled=[item for sublist in polygons_by_neuron for item in sublist]\n",
    "    viz_polygon_list(ax, polygons_by_neuron)"
   ]
  },
  {
   "cell_type": "code",
   "execution_count": null,
   "id": "d1acbaa3-b3d4-48a2-aa63-5449fbee77d7",
   "metadata": {},
   "outputs": [],
   "source": [
    "plt.clf()\n",
    "fig=plt.figure(0, (6,6))\n",
    "ax=fig.add_subplot(111)\n",
    "viz_polygon_list(ax, polygons['1.new_tiling'])"
   ]
  },
  {
   "cell_type": "code",
   "execution_count": null,
   "id": "48c679a9-5afe-4e3b-a339-4d59fb33a1ae",
   "metadata": {},
   "outputs": [],
   "source": [
    "ax=viz_descision_boundary(model)\n",
    "for l in intersection_lines:\n",
    "    ax.plot(l[:,0], l[:,1], c='m', linewidth=3)"
   ]
  },
  {
   "cell_type": "code",
   "execution_count": null,
   "id": "af648481-00c0-41f8-b472-78f8fdcd1462",
   "metadata": {},
   "outputs": [],
   "source": [
    "plt.clf()\n",
    "fig=plt.figure(0, (6,6))\n",
    "ax=fig.add_subplot(111)\n",
    "for j, p in enumerate(new_2d_tiling):    \n",
    "    if len(p)<3: continue\n",
    "    poly=mp.Polygon(p[:,:2].tolist(), facecolor=tab20_colors_mpl[j%len(tab20_colors_mpl)], \n",
    "                    edgecolor=tab20_colors_mpl[j%len(tab20_colors_mpl)], linewidth=2, alpha=0.5)\n",
    "    ax.add_patch(poly)\n",
    "for l in intersection_lines:\n",
    "    ax.plot(l[:,0], l[:,1], 'm--', linewidth=3, )\n",
    "plt.xlim([-1,1]); plt.ylim([-1,1]);"
   ]
  },
  {
   "cell_type": "code",
   "execution_count": null,
   "id": "2f94f064-9019-41a4-9104-cf76f4c61c67",
   "metadata": {},
   "outputs": [],
   "source": [
    "plt.clf()\n",
    "fig=plt.figure(0, (8,8))\n",
    "ax=fig.add_subplot(111)\n",
    "for j, p in enumerate(my_top_polygons):    \n",
    "    if len(p)<3: continue\n",
    "    if my_indicator[j]: color='y'\n",
    "    else: color='b'\n",
    "    poly=mp.Polygon(p[:,:2].tolist(), facecolor=color, \n",
    "                    edgecolor=color, linewidth=1, alpha=0.5)\n",
    "    ax.add_patch(poly)\n",
    "plt.xlim([-1,1]); plt.ylim([-1,1]); ax.axis('off')"
   ]
  },
  {
   "cell_type": "markdown",
   "id": "1c54a801-563a-4057-8c2d-622785c0e1ba",
   "metadata": {},
   "source": [
    "NICE!"
   ]
  },
  {
   "cell_type": "code",
   "execution_count": null,
   "id": "5ec76e9e-672c-41fd-9b03-5860f094b6f0",
   "metadata": {},
   "outputs": [],
   "source": []
  },
  {
   "cell_type": "code",
   "execution_count": null,
   "id": "5994fd75-7454-4cf5-89b6-765283415e2c",
   "metadata": {},
   "outputs": [],
   "source": []
  },
  {
   "cell_type": "code",
   "execution_count": null,
   "id": "ccb0d9f4-59d0-469f-bc3c-8a47a8fad775",
   "metadata": {},
   "outputs": [],
   "source": []
  },
  {
   "cell_type": "code",
   "execution_count": null,
   "id": "876ef13a-40d5-4bde-8398-7aa2f3209df8",
   "metadata": {},
   "outputs": [],
   "source": []
  },
  {
   "cell_type": "code",
   "execution_count": null,
   "id": "54f6aeca-dfe4-4245-ac34-4ef93c9eda74",
   "metadata": {},
   "outputs": [],
   "source": []
  },
  {
   "cell_type": "code",
   "execution_count": null,
   "id": "107bc5ce-c743-4c15-b9fb-b9b348f4c8a8",
   "metadata": {},
   "outputs": [],
   "source": []
  },
  {
   "cell_type": "code",
   "execution_count": null,
   "id": "a3709ab8-b4e2-4230-891b-a45f21eeaefc",
   "metadata": {},
   "outputs": [],
   "source": []
  },
  {
   "cell_type": "code",
   "execution_count": null,
   "id": "815fbb2b-49fb-4de1-af5e-27df9e705091",
   "metadata": {},
   "outputs": [],
   "source": []
  },
  {
   "cell_type": "code",
   "execution_count": null,
   "id": "d48c5893-6eae-4b51-bcc5-61085b5e083f",
   "metadata": {},
   "outputs": [],
   "source": []
  },
  {
   "cell_type": "code",
   "execution_count": null,
   "id": "2c59d0f2-258f-4f05-982d-69390d7e5dd1",
   "metadata": {},
   "outputs": [],
   "source": []
  },
  {
   "cell_type": "code",
   "execution_count": null,
   "id": "0baa4dde-7052-4db9-bb0b-92db1f8a07ea",
   "metadata": {},
   "outputs": [],
   "source": []
  },
  {
   "cell_type": "code",
   "execution_count": null,
   "id": "cdcdfbd1-188d-4e90-8f15-b68c1d222ab6",
   "metadata": {},
   "outputs": [],
   "source": []
  }
 ],
 "metadata": {
  "kernelspec": {
   "display_name": "Python 3 (ipykernel)",
   "language": "python",
   "name": "python3"
  },
  "language_info": {
   "codemirror_mode": {
    "name": "ipython",
    "version": 3
   },
   "file_extension": ".py",
   "mimetype": "text/x-python",
   "name": "python",
   "nbconvert_exporter": "python",
   "pygments_lexer": "ipython3",
   "version": "3.11.11"
  }
 },
 "nbformat": 4,
 "nbformat_minor": 5
}
