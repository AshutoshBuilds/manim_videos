{
 "cells": [
  {
   "cell_type": "markdown",
   "id": "18ad2b59-875d-40ed-9e10-50f5c277e61b",
   "metadata": {},
   "source": [
    "## Storyboard to pdf 1"
   ]
  },
  {
   "cell_type": "code",
   "execution_count": 1,
   "id": "8a83226a-571e-4ebd-881a-06726e46653e",
   "metadata": {},
   "outputs": [],
   "source": [
    "import os\n",
    "import requests\n",
    "from notion_client import Client\n",
    "from reportlab.pdfgen import canvas\n",
    "from reportlab.lib.pagesizes import letter, landscape\n",
    "from reportlab.lib.units import inch\n",
    "from reportlab.platypus import SimpleDocTemplate, Paragraph, Spacer, Image\n",
    "from reportlab.lib.styles import getSampleStyleSheet, ParagraphStyle\n",
    "from reportlab.lib.fonts import addMapping\n",
    "from reportlab.pdfbase import pdfutils\n",
    "from reportlab.platypus.tableofcontents import TableOfContents\n",
    "from PIL import Image as PILImage\n",
    "import io\n",
    "from io import BytesIO\n",
    "import tempfile\n",
    "from collections import defaultdict\n",
    "import textwrap"
   ]
  },
  {
   "cell_type": "code",
   "execution_count": 7,
   "id": "3ac68697-2e2c-450e-a7ce-eca23539e669",
   "metadata": {},
   "outputs": [],
   "source": [
    "import requests\n",
    "import json\n",
    "from datetime import datetime\n",
    "\n",
    "class NotionClient:\n",
    "    def __init__(self, token):\n",
    "        self.token = token\n",
    "        self.base_url = \"https://www.notion.so/stephenwelch\"\n",
    "        self.headers = {\n",
    "            \"Authorization\": f\"Bearer {token}\",\n",
    "            \"Content-Type\": \"application/json\",\n",
    "            \"Notion-Version\": \"2022-06-28\"\n",
    "        }\n",
    "    \n",
    "    def query_database(self, database_id, filter_obj=None, sorts=None, page_size=100):\n",
    "        \"\"\"Query a Notion database with optional filters and sorting\"\"\"\n",
    "        url = f\"{self.base_url}/databases/{database_id}/query\"\n",
    "        \n",
    "        payload = {\n",
    "            \"page_size\": page_size\n",
    "        }\n",
    "        \n",
    "        if filter_obj:\n",
    "            payload[\"filter\"] = filter_obj\n",
    "        \n",
    "        if sorts:\n",
    "            payload[\"sorts\"] = sorts\n",
    "        \n",
    "        response = requests.post(url, headers=self.headers, json=payload)\n",
    "        response.raise_for_status()\n",
    "        return response.json()\n",
    "    \n",
    "    def create_page(self, database_id, properties):\n",
    "        \"\"\"Create a new page in a database\"\"\"\n",
    "        url = f\"{self.base_url}/pages\"\n",
    "        \n",
    "        payload = {\n",
    "            \"parent\": {\"database_id\": database_id},\n",
    "            \"properties\": properties\n",
    "        }\n",
    "        \n",
    "        response = requests.post(url, headers=self.headers, json=payload)\n",
    "        response.raise_for_status()\n",
    "        return response.json()\n",
    "    \n",
    "    def update_page(self, page_id, properties):\n",
    "        \"\"\"Update an existing page\"\"\"\n",
    "        url = f\"{self.base_url}/pages/{page_id}\"\n",
    "        \n",
    "        payload = {\n",
    "            \"properties\": properties\n",
    "        }\n",
    "        \n",
    "        response = requests.patch(url, headers=self.headers, json=payload)\n",
    "        response.raise_for_status()\n",
    "        return response.json()\n",
    "    \n",
    "    def get_page(self, page_id):\n",
    "        \"\"\"Get a specific page by ID\"\"\"\n",
    "        url = f\"{self.base_url}/pages/{page_id}\"\n",
    "        \n",
    "        response = requests.get(url, headers=self.headers)\n",
    "        response.raise_for_status()\n",
    "        return response.json()\n",
    "    \n",
    "    def get_database_schema(self, database_id):\n",
    "        \"\"\"Get database schema/structure\"\"\"\n",
    "        url = f\"{self.base_url}/databases/{database_id}\"\n",
    "        \n",
    "        response = requests.get(url, headers=self.headers)\n",
    "        response.raise_for_status()\n",
    "        return response.json()"
   ]
  },
  {
   "cell_type": "code",
   "execution_count": 8,
   "id": "4597d043-fc3a-49ee-aa9b-d3c58a3bf318",
   "metadata": {},
   "outputs": [],
   "source": [
    "# Initialize client with your integration token\n",
    "\n",
    "client = NotionClient(TOKEN)"
   ]
  },
  {
   "cell_type": "code",
   "execution_count": 9,
   "id": "ca49bda0-1178-47a8-ab6e-73a620773413",
   "metadata": {},
   "outputs": [
    {
     "ename": "HTTPError",
     "evalue": "404 Client Error: Not Found for url: https://www.notion.so/stephenwelch/databases/1f41c8c86d5a80c38672df5b91d8077c?v=1f41c8c86d5a8073a1d5000c2fc2a742",
     "output_type": "error",
     "traceback": [
      "\u001b[0;31m---------------------------------------------------------------------------\u001b[0m",
      "\u001b[0;31mHTTPError\u001b[0m                                 Traceback (most recent call last)",
      "Cell \u001b[0;32mIn[9], line 1\u001b[0m\n\u001b[0;32m----> 1\u001b[0m client\u001b[38;5;241m.\u001b[39mget_database_schema(DATABASE_ID)\n",
      "Cell \u001b[0;32mIn[7], line 71\u001b[0m, in \u001b[0;36mNotionClient.get_database_schema\u001b[0;34m(self, database_id)\u001b[0m\n\u001b[1;32m     68\u001b[0m url \u001b[38;5;241m=\u001b[39m \u001b[38;5;124mf\u001b[39m\u001b[38;5;124m\"\u001b[39m\u001b[38;5;132;01m{\u001b[39;00m\u001b[38;5;28mself\u001b[39m\u001b[38;5;241m.\u001b[39mbase_url\u001b[38;5;132;01m}\u001b[39;00m\u001b[38;5;124m/databases/\u001b[39m\u001b[38;5;132;01m{\u001b[39;00mdatabase_id\u001b[38;5;132;01m}\u001b[39;00m\u001b[38;5;124m\"\u001b[39m\n\u001b[1;32m     70\u001b[0m response \u001b[38;5;241m=\u001b[39m requests\u001b[38;5;241m.\u001b[39mget(url, headers\u001b[38;5;241m=\u001b[39m\u001b[38;5;28mself\u001b[39m\u001b[38;5;241m.\u001b[39mheaders)\n\u001b[0;32m---> 71\u001b[0m response\u001b[38;5;241m.\u001b[39mraise_for_status()\n\u001b[1;32m     72\u001b[0m \u001b[38;5;28;01mreturn\u001b[39;00m response\u001b[38;5;241m.\u001b[39mjson()\n",
      "File \u001b[0;32m/opt/anaconda3/lib/python3.11/site-packages/requests/models.py:1024\u001b[0m, in \u001b[0;36mResponse.raise_for_status\u001b[0;34m(self)\u001b[0m\n\u001b[1;32m   1019\u001b[0m     http_error_msg \u001b[38;5;241m=\u001b[39m (\n\u001b[1;32m   1020\u001b[0m         \u001b[38;5;124mf\u001b[39m\u001b[38;5;124m\"\u001b[39m\u001b[38;5;132;01m{\u001b[39;00m\u001b[38;5;28mself\u001b[39m\u001b[38;5;241m.\u001b[39mstatus_code\u001b[38;5;132;01m}\u001b[39;00m\u001b[38;5;124m Server Error: \u001b[39m\u001b[38;5;132;01m{\u001b[39;00mreason\u001b[38;5;132;01m}\u001b[39;00m\u001b[38;5;124m for url: \u001b[39m\u001b[38;5;132;01m{\u001b[39;00m\u001b[38;5;28mself\u001b[39m\u001b[38;5;241m.\u001b[39murl\u001b[38;5;132;01m}\u001b[39;00m\u001b[38;5;124m\"\u001b[39m\n\u001b[1;32m   1021\u001b[0m     )\n\u001b[1;32m   1023\u001b[0m \u001b[38;5;28;01mif\u001b[39;00m http_error_msg:\n\u001b[0;32m-> 1024\u001b[0m     \u001b[38;5;28;01mraise\u001b[39;00m HTTPError(http_error_msg, response\u001b[38;5;241m=\u001b[39m\u001b[38;5;28mself\u001b[39m)\n",
      "\u001b[0;31mHTTPError\u001b[0m: 404 Client Error: Not Found for url: https://www.notion.so/stephenwelch/databases/1f41c8c86d5a80c38672df5b91d8077c?v=1f41c8c86d5a8073a1d5000c2fc2a742"
     ]
    }
   ],
   "source": [
    "client.get_database_schema(DATABASE_ID)"
   ]
  },
  {
   "cell_type": "code",
   "execution_count": null,
   "id": "92663070-8efb-4a3a-bc22-1dd4d2da99fb",
   "metadata": {},
   "outputs": [],
   "source": []
  },
  {
   "cell_type": "code",
   "execution_count": null,
   "id": "4779636e-2ac2-4094-99ae-05a169beba16",
   "metadata": {},
   "outputs": [],
   "source": []
  },
  {
   "cell_type": "code",
   "execution_count": null,
   "id": "2936fd2d-02d1-4a64-9459-c73e3dc82426",
   "metadata": {},
   "outputs": [],
   "source": []
  },
  {
   "cell_type": "code",
   "execution_count": null,
   "id": "2ac1a9fe-2ebb-4940-8416-9ad1186c6bfa",
   "metadata": {},
   "outputs": [],
   "source": []
  },
  {
   "cell_type": "code",
   "execution_count": null,
   "id": "3ac3a620-65b1-4a20-b067-0c687b13784e",
   "metadata": {},
   "outputs": [],
   "source": []
  },
  {
   "cell_type": "code",
   "execution_count": null,
   "id": "4009fa3f-f868-4b8a-b5f4-4db4ed1f69a1",
   "metadata": {},
   "outputs": [],
   "source": []
  }
 ],
 "metadata": {
  "kernelspec": {
   "display_name": "Python 3 (ipykernel)",
   "language": "python",
   "name": "python3"
  },
  "language_info": {
   "codemirror_mode": {
    "name": "ipython",
    "version": 3
   },
   "file_extension": ".py",
   "mimetype": "text/x-python",
   "name": "python",
   "nbconvert_exporter": "python",
   "pygments_lexer": "ipython3",
   "version": "3.11.7"
  }
 },
 "nbformat": 4,
 "nbformat_minor": 5
}
