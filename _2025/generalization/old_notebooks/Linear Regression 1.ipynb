{
 "cells": [
  {
   "cell_type": "markdown",
   "id": "178bd4b2-a063-44dd-8678-22f16d1c05b8",
   "metadata": {},
   "source": [
    "## Linear Regression"
   ]
  },
  {
   "cell_type": "code",
   "execution_count": 2,
   "id": "3426ff85-7956-472e-b027-ef8fd10beaad",
   "metadata": {},
   "outputs": [],
   "source": [
    "import matplotlib.pyplot as plt\n",
    "from matplotlib.colors import LogNorm\n",
    "import os\n",
    "import pandas as pd\n",
    "import numpy as np\n",
    "import seaborn as sns\n",
    "from sklearn import datasets, linear_model\n",
    "from sklearn.metrics import mean_squared_error\n",
    "from sklearn.model_selection import train_test_split\n",
    "from typing import Tuple\n",
    "\n",
    "# import src.plot\n",
    "# from src.utils import generate_synthetic_data, load_who_life_expectancy"
   ]
  },
  {
   "cell_type": "code",
   "execution_count": 4,
   "id": "63c721b7-70e9-4148-bfcf-05a752cd80fb",
   "metadata": {},
   "outputs": [],
   "source": [
    "# Set seed for reproducibility.\n",
    "np.random.seed(0)\n",
    "\n",
    "regression_datasets = [\n",
    "    (\"California Housing\", datasets.fetch_california_housing),\n",
    "    (\"Diabetes\", datasets.load_diabetes),\n",
    "]\n",
    "\n",
    "singular_value_cutoffs = np.logspace(-3, 0, 7)"
   ]
  },
  {
   "cell_type": "code",
   "execution_count": 6,
   "id": "d867fc0d-1acd-42ee-acc1-e63ed2ac9263",
   "metadata": {},
   "outputs": [],
   "source": [
    "\n",
    "X, y = datasets.fetch_california_housing(return_X_y=True)\n",
    "\n",
    "# One ablation will be to make the true underlying relationship linear and noiseless.\n",
    "# To do this, we need to know the ideal linear relationship. Unfortunately, we don't have\n",
    "# any way to know this in practice, so we'll use all the data as our best guess.\n",
    "beta_ideal = np.linalg.inv(X.T @ X) @ X.T @ y\n",
    "\n",
    "dataset_loss_unablated_df = []\n",
    "dataset_loss_no_small_singular_values_df = []\n",
    "dataset_loss_no_residuals_in_ideal_fit_df = []\n",
    "dataset_loss_test_features_in_training_feature_subspace_df = []"
   ]
  },
  {
   "cell_type": "code",
   "execution_count": 16,
   "id": "def2da5a-6377-4033-ad78-2e8bd70f77b1",
   "metadata": {},
   "outputs": [
    {
     "data": {
      "text/plain": [
       "(20640, 8)"
      ]
     },
     "execution_count": 16,
     "metadata": {},
     "output_type": "execute_result"
    }
   ],
   "source": [
    "X.shape"
   ]
  },
  {
   "cell_type": "code",
   "execution_count": 17,
   "id": "9d8d68c8-2a5d-4e5c-a732-7ab4268190d4",
   "metadata": {},
   "outputs": [
    {
     "data": {
      "text/plain": [
       "(20640,)"
      ]
     },
     "execution_count": 17,
     "metadata": {},
     "output_type": "execute_result"
    }
   ],
   "source": [
    "y.shape"
   ]
  },
  {
   "cell_type": "code",
   "execution_count": 10,
   "id": "08ad6385-5a92-46aa-9700-27c80f6cb714",
   "metadata": {},
   "outputs": [
    {
     "data": {
      "text/plain": [
       "array([4.526, 3.585, 3.521, ..., 0.923, 0.847, 0.894])"
      ]
     },
     "execution_count": 10,
     "metadata": {},
     "output_type": "execute_result"
    }
   ],
   "source": [
    "y"
   ]
  },
  {
   "cell_type": "code",
   "execution_count": 13,
   "id": "d7dae1f8-6a55-4102-be2b-d6ebc8ad9b82",
   "metadata": {},
   "outputs": [],
   "source": [
    "# subset_sizes = np.arange(1, 40, 1)\n",
    "# for subset_size in subset_sizes:\n",
    "\n",
    "subset_size=10\n",
    "\n",
    "# Split the data into training/testing sets\n",
    "(\n",
    "    X_train,\n",
    "    X_test,\n",
    "    y_train,\n",
    "    y_test,\n",
    "    indices_train,\n",
    "    indices_test,\n",
    ") = train_test_split(\n",
    "    X,\n",
    "    y,\n",
    "    np.arange(X.shape[0]),\n",
    "    random_state=2,\n",
    "    test_size=X.shape[0] - subset_size,\n",
    "    shuffle=True,\n",
    ")"
   ]
  },
  {
   "cell_type": "code",
   "execution_count": 14,
   "id": "4a7e9cee-d190-4cac-bf77-aff68243ef57",
   "metadata": {},
   "outputs": [
    {
     "data": {
      "text/plain": [
       "(10, 8)"
      ]
     },
     "execution_count": 14,
     "metadata": {},
     "output_type": "execute_result"
    }
   ],
   "source": [
    "X_train.shape"
   ]
  },
  {
   "cell_type": "code",
   "execution_count": 15,
   "id": "3c31ee4b-29ff-4ad5-bc92-9d350e4387e7",
   "metadata": {},
   "outputs": [
    {
     "data": {
      "text/plain": [
       "(20630, 8)"
      ]
     },
     "execution_count": 15,
     "metadata": {},
     "output_type": "execute_result"
    }
   ],
   "source": [
    "X_test.shape"
   ]
  },
  {
   "cell_type": "code",
   "execution_count": 18,
   "id": "21c83fe0-fc7a-4c30-88a5-7bd351d6e212",
   "metadata": {},
   "outputs": [
    {
     "data": {
      "text/plain": [
       "20640"
      ]
     },
     "execution_count": 18,
     "metadata": {},
     "output_type": "execute_result"
    }
   ],
   "source": [
    "X.shape[0]"
   ]
  },
  {
   "cell_type": "code",
   "execution_count": 19,
   "id": "9c646ea8-d39b-448a-874b-5212ce0ae0be",
   "metadata": {},
   "outputs": [],
   "source": [
    "U, S, Vt = np.linalg.svd(X_train, full_matrices=False, compute_uv=True)\n",
    "min_singular_value = np.min(S[S > 0.0])\n",
    "S_inverted = 1.0 / S\n",
    "S_inverted[S_inverted == np.inf] = 0.0\n",
    "beta_hat_unablated = Vt.T @ np.diag(S_inverted) @ U.T @ y_train\n",
    "y_train_pred = X_train @ beta_hat_unablated\n",
    "train_mse_unablated = mean_squared_error(y_train, y_train_pred)\n",
    "y_test_pred = X_test @ beta_hat_unablated\n",
    "test_mse_unablated = mean_squared_error(y_test, y_test_pred)\n",
    "# END: Unablated linear fit.\n",
    "\n",
    "# BEGIN:\n",
    "X_hat_test = (\n",
    "    X_test @ X_train.T @ np.linalg.pinv(X_train @ X_train.T) @ X_train\n",
    ")\n",
    "X_test_diff = X_hat_test - X_test\n",
    "X_test_diff_inner_beta_ideal = np.mean(X_test_diff @ beta_ideal)\n"
   ]
  },
  {
   "cell_type": "code",
   "execution_count": 20,
   "id": "4396d95c-7876-48e5-990e-eedada1d3f6d",
   "metadata": {},
   "outputs": [
    {
     "data": {
      "text/plain": [
       "0.0107481282748253"
      ]
     },
     "execution_count": 20,
     "metadata": {},
     "output_type": "execute_result"
    }
   ],
   "source": [
    "train_mse_unablated"
   ]
  },
  {
   "cell_type": "code",
   "execution_count": 21,
   "id": "ddba9ecc-4b2e-4eef-9a0e-3b454807dadb",
   "metadata": {},
   "outputs": [
    {
     "data": {
      "text/plain": [
       "5.464836582639113"
      ]
     },
     "execution_count": 21,
     "metadata": {},
     "output_type": "execute_result"
    }
   ],
   "source": [
    "test_mse_unablated"
   ]
  },
  {
   "cell_type": "code",
   "execution_count": null,
   "id": "7a891777-d62c-42f9-9ce5-55025060fe4a",
   "metadata": {},
   "outputs": [],
   "source": []
  }
 ],
 "metadata": {
  "kernelspec": {
   "display_name": "Python 3 (ipykernel)",
   "language": "python",
   "name": "python3"
  },
  "language_info": {
   "codemirror_mode": {
    "name": "ipython",
    "version": 3
   },
   "file_extension": ".py",
   "mimetype": "text/x-python",
   "name": "python",
   "nbconvert_exporter": "python",
   "pygments_lexer": "ipython3",
   "version": "3.11.7"
  }
 },
 "nbformat": 4,
 "nbformat_minor": 5
}
