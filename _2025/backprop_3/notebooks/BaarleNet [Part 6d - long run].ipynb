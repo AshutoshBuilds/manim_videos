{
 "cells": [
  {
   "cell_type": "markdown",
   "id": "19586cea-36ae-4832-9b5e-84af6d75389f",
   "metadata": {},
   "source": [
    "# BaarleNet [Part 6d].ipynb"
   ]
  },
  {
   "cell_type": "code",
   "execution_count": 1,
   "id": "20c64ace-3223-40d9-afbf-056c81eb0b8c",
   "metadata": {},
   "outputs": [],
   "source": [
    "import numpy as np\n",
    "import torch.nn as nn\n",
    "import torch\n",
    "import matplotlib.pyplot as plt\n",
    "import torch.optim as optim\n",
    "import cv2\n",
    "from matplotlib.gridspec import GridSpec\n",
    "from tqdm import tqdm\n",
    "import os\n",
    "from torch.utils.data import DataLoader, TensorDataset"
   ]
  },
  {
   "cell_type": "code",
   "execution_count": 2,
   "id": "f8b01158-adef-4952-807d-a1bb03d9e222",
   "metadata": {},
   "outputs": [],
   "source": [
    "def denorm(p, size=960):\n",
    "    result = np.zeros_like(p)\n",
    "    result[..., 0] = (p[..., 0] + 1) * (size / 2)\n",
    "    result[..., 1] = size - ((p[..., 1] + 1) * (size / 2))\n",
    "    return result\n",
    "\n",
    "def get_relu_joint(weight_1, weight_2, bias, extent=1):\n",
    "    if np.abs(weight_2) < 1e-8: \n",
    "        x_intercept = -bias / weight_1\n",
    "        return [[x_intercept, -extent], [x_intercept, extent]] if -extent <= x_intercept <= extent else []\n",
    "    elif np.abs(weight_1) < 1e-8:\n",
    "        y_intercept = -bias / weight_2\n",
    "        return [[-extent, y_intercept], [extent, y_intercept]] if -extent <= y_intercept <= extent else []\n",
    "    else:\n",
    "        points = []\n",
    "        for x in [-extent, extent]:\n",
    "            y = (-x * weight_1 - bias) / weight_2\n",
    "            if -extent <= y <= extent: points.append([x, y])\n",
    "        for y in [-extent, extent]:\n",
    "            x = (-y * weight_2 - bias) / weight_1\n",
    "            if -extent <= x <= extent: points.append([x, y])\n",
    "        unique_points = []\n",
    "        for p in points:\n",
    "            is_duplicate = False\n",
    "            for existing in unique_points:\n",
    "                if abs(p[0] - existing[0]) < 1e-8 and abs(p[1] - existing[1]) < 1e-8:\n",
    "                    is_duplicate = True\n",
    "                    break\n",
    "            if not is_duplicate:\n",
    "                unique_points.append(p)\n",
    "        return unique_points\n",
    "\n",
    "def viz_map_with_predictions(ax, map, X, y):\n",
    "    probe=np.zeros((100,100,2))\n",
    "    for j, xx in enumerate(np.linspace(-1, 1, 100)):\n",
    "        for k, yy in enumerate(np.linspace(-1, 1, 100)):\n",
    "            probe[j, k]=[yy,xx]\n",
    "    probe=probe.reshape(100**2, -1)\n",
    "    probe_logits=model(torch.tensor(probe).float())\n",
    "    probe_logits=probe_logits.detach().numpy().reshape(100,100,2)\n",
    "    probe_softmax = torch.nn.Softmax(dim=1)(torch.tensor(probe_logits.reshape(-1, 2)))\n",
    "    \n",
    "    ax.imshow(map.mean(2), cmap='gray')\n",
    "    ax.imshow(np.flipud(probe_softmax[:,1].reshape(100, 100)), \n",
    "               extent=[0, 960, 960, 0],  # This maps to image coordinates\n",
    "               alpha=0.7,\n",
    "               cmap='viridis')\n",
    "    \n",
    "    X_denorm=denorm(X[:1000,:])\n",
    "    # plt.scatter(X_denorm[:,0], X_denorm[:,1], c=y[:1000], s=2, alpha=0.8)\n",
    "    labels=y[:1000]\n",
    "    y_hat=torch.argmax(model(torch.tensor(X[:1000,:]).float()).detach(),1).numpy()\n",
    "    tp_mask=np.logical_and(labels==1, y_hat==1)\n",
    "    fp_mask=np.logical_and(labels==0, y_hat==1)\n",
    "    fn_mask=np.logical_and(labels==1, y_hat==0)\n",
    "    tn_mask=np.logical_and(labels==0, y_hat==0)\n",
    "    ax.scatter(X_denorm[tp_mask,0], X_denorm[tp_mask,1], c='g', s=3, alpha=0.8)\n",
    "    ax.scatter(X_denorm[fp_mask,0], X_denorm[fp_mask,1], c='r', marker='x', s=5, alpha=0.8)\n",
    "    ax.scatter(X_denorm[fn_mask,0], X_denorm[fn_mask,1], c='orange', marker='x', s=5, alpha=0.8)\n",
    "    ax.scatter(X_denorm[tn_mask,0], X_denorm[tn_mask,1], c='purple', marker='o', s=5, alpha=0.8)\n",
    "\n",
    "def extract_weights_to_numpy(model, layer_indices=None, output_file=None):\n",
    "    \"\"\"\n",
    "    Extract PyTorch model weights and biases to NumPy arrays with copy-paste ready code.\n",
    "    \n",
    "    Args:\n",
    "        model: PyTorch model\n",
    "        layer_indices: List of layer indices to extract (if None, extracts all layers with weights)\n",
    "        output_file: Optional file path to save the output code\n",
    "    \n",
    "    Returns:\n",
    "        String containing the NumPy array definitions ready to copy-paste\n",
    "    \"\"\"\n",
    "    \n",
    "    lines = []\n",
    "    lines.append(\"import numpy as np\\n\")\n",
    "    \n",
    "    # Auto-detect layers if not specified\n",
    "    if layer_indices is None:\n",
    "        layer_indices = []\n",
    "        for i, layer in enumerate(model.model):\n",
    "            if hasattr(layer, 'weight'):\n",
    "                layer_indices.append(i)\n",
    "    \n",
    "    # Extract weights and biases\n",
    "    weight_counter = 1\n",
    "    for idx in layer_indices:\n",
    "        layer = model.model[idx]\n",
    "        \n",
    "        if hasattr(layer, 'weight'):\n",
    "            # Extract weight\n",
    "            weight_np = layer.weight.detach().numpy()\n",
    "            weight_repr = np.array2string(weight_np, \n",
    "                                        separator=', ', \n",
    "                                        formatter={'float_kind': lambda x: f\"{x:g}\"})\n",
    "            lines.append(f\"w{weight_counter} = np.array({weight_repr}, dtype=np.float32)\")\n",
    "            \n",
    "            # Extract bias if it exists\n",
    "            if hasattr(layer, 'bias') and layer.bias is not None:\n",
    "                bias_np = layer.bias.detach().numpy()\n",
    "                bias_repr = np.array2string(bias_np, \n",
    "                                          separator=', ', \n",
    "                                          formatter={'float_kind': lambda x: f\"{x:g}\"})\n",
    "                lines.append(f\"b{weight_counter} = np.array({bias_repr}, dtype=np.float32)\")\n",
    "            \n",
    "            weight_counter += 1\n",
    "    \n",
    "    output = '\\n'.join(lines)\n",
    "    \n",
    "    # Save to file if specified\n",
    "    if output_file:\n",
    "        with open(output_file, 'w') as f:\n",
    "            f.write(output)\n",
    "        print(f\"Weights saved to {output_file}\")\n",
    "    \n",
    "    # Print to console\n",
    "    print(output)\n",
    "    return output\n",
    "\n",
    "def extract_specific_layers(model, layer_specs):\n",
    "    \"\"\"\n",
    "    Extract specific layers with custom naming.\n",
    "    \n",
    "    Args:\n",
    "        model: PyTorch model\n",
    "        layer_specs: List of tuples (layer_index, weight_name, bias_name)\n",
    "                    e.g., [(0, 'w1', 'b1'), (2, 'w2', 'b2')]\n",
    "    \n",
    "    Returns:\n",
    "        String containing the NumPy array definitions\n",
    "    \"\"\"\n",
    "    \n",
    "    lines = []\n",
    "    lines.append(\"import numpy as np\\n\")\n",
    "    \n",
    "    for layer_idx, weight_name, bias_name in layer_specs:\n",
    "        layer = model.model[layer_idx]\n",
    "        \n",
    "        if hasattr(layer, 'weight'):\n",
    "            # Extract weight\n",
    "            weight_np = layer.weight.detach().numpy()\n",
    "            weight_repr = np.array2string(weight_np, \n",
    "                                        separator=', ', \n",
    "                                        formatter={'float_kind': lambda x: f\"{x:g}\"})\n",
    "            lines.append(f\"{weight_name} = np.array({weight_repr}, dtype=np.float32)\")\n",
    "            \n",
    "            # Extract bias if it exists and bias_name is provided\n",
    "            if bias_name and hasattr(layer, 'bias') and layer.bias is not None:\n",
    "                bias_np = layer.bias.detach().numpy()\n",
    "                bias_repr = np.array2string(bias_np, \n",
    "                                          separator=', ', \n",
    "                                          formatter={'float_kind': lambda x: f\"{x:g}\"})\n",
    "                lines.append(f\"{bias_name} = np.array({bias_repr}, dtype=np.float32)\")\n",
    "    \n",
    "    output = '\\n'.join(lines)\n",
    "    print(output)\n",
    "    return output"
   ]
  },
  {
   "cell_type": "code",
   "execution_count": 3,
   "id": "40fd1267-ee8a-4652-9070-c294ae50580b",
   "metadata": {},
   "outputs": [],
   "source": [
    "def get_second_layer_boundaries(model, extent=1):\n",
    "    \"\"\"\n",
    "    Analytically solve for second layer ReLU boundaries\n",
    "    Returns list of line segments for each second layer neuron\n",
    "    \"\"\"\n",
    "    \n",
    "    # Get layer weights and biases\n",
    "    W1 = model.model[0].weight.detach().numpy()  # Shape: (2, 2)\n",
    "    b1 = model.model[0].bias.detach().numpy()    # Shape: (2,)\n",
    "    W2 = model.model[2].weight.detach().numpy()  # Shape: (2, 2) \n",
    "    b2 = model.model[2].bias.detach().numpy()    # Shape: (2,)\n",
    "    \n",
    "    # First, get the first layer ReLU boundaries\n",
    "    first_layer_boundaries = []\n",
    "    for i in range(2):\n",
    "        boundary = get_relu_joint(W1[i,0], W1[i,1], b1[i], extent)\n",
    "        first_layer_boundaries.append(boundary)\n",
    "    \n",
    "    # Define the regions created by first layer boundaries\n",
    "    # Each region is defined by which first layer neurons are active\n",
    "    regions = [\n",
    "        (False, False),  # Both neurons off\n",
    "        (True, False),   # First neuron on, second off\n",
    "        (False, True),   # First neuron off, second on  \n",
    "        (True, True)     # Both neurons on\n",
    "    ]\n",
    "    \n",
    "    second_layer_boundaries = []\n",
    "    \n",
    "    # For each second layer neuron\n",
    "    for neuron_idx in range(2):\n",
    "        neuron_boundaries = []\n",
    "        \n",
    "        # For each region defined by first layer\n",
    "        for region_mask in regions:\n",
    "            # In this region, the second layer pre-activation is:\n",
    "            # h2_pre = W2[neuron_idx, 0] * (W1[0,:] * x + b1[0]) * region_mask[0] + \n",
    "            #          W2[neuron_idx, 1] * (W1[1,:] * x + b1[1]) * region_mask[1] + \n",
    "            #          b2[neuron_idx]\n",
    "            \n",
    "            # Collect active terms\n",
    "            active_weight = np.zeros(2)  # Coefficients for [x, y]\n",
    "            active_bias = b2[neuron_idx]\n",
    "            \n",
    "            for i in range(2):\n",
    "                if region_mask[i]:  # If this first layer neuron is active\n",
    "                    active_weight += W2[neuron_idx, i] * W1[i, :]\n",
    "                    active_bias += W2[neuron_idx, i] * b1[i]\n",
    "            \n",
    "            # Now solve: active_weight[0] * x + active_weight[1] * y + active_bias = 0\n",
    "            boundary = get_relu_joint(active_weight[0], active_weight[1], active_bias, extent)\n",
    "            \n",
    "            if boundary:\n",
    "                # Check if this boundary segment is actually within the region\n",
    "                # We need to verify that the boundary points satisfy the region constraints\n",
    "                valid_segments = []\n",
    "                \n",
    "                for seg_start, seg_end in zip(boundary[:-1], boundary[1:]):\n",
    "                    # Check if segment is within the region defined by first layer\n",
    "                    # Sample a point in the middle of the segment\n",
    "                    mid_point = [(seg_start[0] + seg_end[0])/2, (seg_start[1] + seg_end[1])/2]\n",
    "                    \n",
    "                    # Check if this point satisfies the region constraints\n",
    "                    point_in_region = True\n",
    "                    for i in range(2):\n",
    "                        first_layer_activation = W1[i,0] * mid_point[0] + W1[i,1] * mid_point[1] + b1[i]\n",
    "                        is_active = first_layer_activation > 0\n",
    "                        if is_active != region_mask[i]:\n",
    "                            point_in_region = False\n",
    "                            break\n",
    "                    \n",
    "                    if point_in_region:\n",
    "                        valid_segments.append([seg_start, seg_end])\n",
    "                \n",
    "                neuron_boundaries.extend(valid_segments)\n",
    "        \n",
    "        second_layer_boundaries.append(neuron_boundaries)\n",
    "    \n",
    "    return second_layer_boundaries\n",
    "\n",
    "def plot_second_layer_boundaries_analytical(ax, model):\n",
    "    \"\"\"Plot analytically computed second layer boundaries\"\"\"\n",
    "    \n",
    "    boundaries = get_second_layer_boundaries(model)\n",
    "    \n",
    "    colors = ['red', 'blue']\n",
    "    for neuron_idx, neuron_boundaries in enumerate(boundaries):\n",
    "        for segment in neuron_boundaries:\n",
    "            if len(segment) == 2:  # Valid line segment\n",
    "                seg_denorm = denorm(np.array(segment))\n",
    "                ax.plot([seg_denorm[0][0], seg_denorm[1][0]], \n",
    "                       [seg_denorm[0][1], seg_denorm[1][1]], \n",
    "                       color=colors[neuron_idx], linewidth=2, alpha=0.8,\n",
    "                       linestyle='dashed', label=f'Layer 2 Neuron {neuron_idx}')\n",
    "\n",
    "# Simpler version that focuses on the boundary intersections\n",
    "def get_second_layer_boundaries_simple(model, extent=1):\n",
    "    \"\"\"\n",
    "    Simplified approach: compute boundary in each quadrant defined by first layer\n",
    "    \"\"\"\n",
    "    W1 = model.model[0].weight.detach().numpy()\n",
    "    b1 = model.model[0].bias.detach().numpy()\n",
    "    W2 = model.model[2].weight.detach().numpy()\n",
    "    b2 = model.model[2].bias.detach().numpy()\n",
    "    \n",
    "    boundaries = []\n",
    "    \n",
    "    # For each second layer neuron\n",
    "    for neuron_idx in range(2):\n",
    "        neuron_boundaries = []\n",
    "        \n",
    "        # Sample points in a grid and find where the second layer neuron crosses zero\n",
    "        # But do it analytically by solving the piecewise linear equation\n",
    "        \n",
    "        # The key insight: in each region, the equation is linear\n",
    "        # Region 1: both first layer neurons off\n",
    "        # h2 = b2[neuron_idx]\n",
    "        # This gives no boundary unless b2[neuron_idx] = 0\n",
    "        \n",
    "        # Region 2: first neuron on, second off  \n",
    "        # h2 = W2[neuron_idx,0] * (W1[0,0]*x + W1[0,1]*y + b1[0]) + b2[neuron_idx]\n",
    "        # Set to 0 and solve for the line\n",
    "        if True:  # Always try this region\n",
    "            w_eff = W2[neuron_idx, 0] * W1[0, :]\n",
    "            b_eff = W2[neuron_idx, 0] * b1[0] + b2[neuron_idx]\n",
    "            boundary = get_relu_joint(w_eff[0], w_eff[1], b_eff, extent)\n",
    "            if boundary:\n",
    "                neuron_boundaries.append(boundary)\n",
    "        \n",
    "        # Region 3: first neuron off, second on\n",
    "        if True:\n",
    "            w_eff = W2[neuron_idx, 1] * W1[1, :]\n",
    "            b_eff = W2[neuron_idx, 1] * b1[1] + b2[neuron_idx]\n",
    "            boundary = get_relu_joint(w_eff[0], w_eff[1], b_eff, extent)\n",
    "            if boundary:\n",
    "                neuron_boundaries.append(boundary)\n",
    "        \n",
    "        # Region 4: both neurons on\n",
    "        if True:\n",
    "            w_eff = W2[neuron_idx, 0] * W1[0, :] + W2[neuron_idx, 1] * W1[1, :]\n",
    "            b_eff = W2[neuron_idx, 0] * b1[0] + W2[neuron_idx, 1] * b1[1] + b2[neuron_idx]\n",
    "            boundary = get_relu_joint(w_eff[0], w_eff[1], b_eff, extent)\n",
    "            if boundary:\n",
    "                neuron_boundaries.append(boundary)\n",
    "        \n",
    "        boundaries.append(neuron_boundaries)\n",
    "    \n",
    "    return boundaries\n",
    "\n",
    "# Usage:\n",
    "def plot_all_boundaries(ax, model):\n",
    "    \"\"\"Plot both first and second layer boundaries\"\"\"\n",
    "    \n",
    "    # First layer (solid lines)\n",
    "    for neuron_idx in range(2):\n",
    "        w1 = model.model[0].weight[neuron_idx, 0].item()\n",
    "        w2 = model.model[0].weight[neuron_idx, 1].item()\n",
    "        b = model.model[0].bias[neuron_idx].item()\n",
    "        \n",
    "        joint = get_relu_joint(w1, w2, b, extent=1)\n",
    "        if joint:\n",
    "            joint_denorm = denorm(np.array(joint))\n",
    "            ax.plot([joint_denorm[0][0], joint_denorm[1][0]], \n",
    "                   [joint_denorm[0][1], joint_denorm[1][1]], \n",
    "                   color=f'C{neuron_idx}', linewidth=2, alpha=0.8,\n",
    "                   label=f'Layer 1 Neuron {neuron_idx}')\n",
    "    \n",
    "    # Second layer (dashed lines)\n",
    "    plot_second_layer_boundaries_analytical(ax, model)"
   ]
  },
  {
   "cell_type": "code",
   "execution_count": 4,
   "id": "2de1dd12-4edd-4691-822f-83a419ebfe4d",
   "metadata": {},
   "outputs": [],
   "source": [
    "map=cv2.imread('Baarle-Nassau_-_Baarle-Hertog-en no legend.png')[:,:,(2,1,0)]\n",
    "\n",
    "belgium_color=np.array([251,234,81])\n",
    "netherlands_color=np.array([255, 255, 228])\n",
    "\n",
    "netherlands_region=((map-netherlands_color)**2).sum(-1)<50\n",
    "belgium_region=((map-belgium_color)**2).sum(-1)<10000\n",
    "\n",
    "\n",
    "\n",
    "b_coords=np.array(np.where(belgium_region)).T.astype('float')\n",
    "n_coords=np.array(np.where(netherlands_region)).T.astype('float')\n",
    "\n",
    "#flip and normalize\n",
    "belgium_coords_all=np.zeros_like(b_coords)\n",
    "netherlands_coords_all=np.zeros_like(n_coords)\n",
    "\n",
    "belgium_coords_all[:,0]=b_coords[:,1]/(960/2)-1 #Scale to -1 to 1 for now\n",
    "belgium_coords_all[:,1]=(960-b_coords[:,0])/(960/2)-1\n",
    "netherlands_coords_all[:,0]=n_coords[:,1]/(960/2)-1 #Scale to -1 to 1 for now\n",
    "netherlands_coords_all[:,1]=(960-n_coords[:,0])/(960/2)-1\n",
    "\n",
    "## Hmm to balance to classes or do more area proportional? Not sure yet. \n",
    "num_points_to_sample=10000 #10000\n",
    "belgium_coords_sample=belgium_coords_all[np.random.choice(len(belgium_coords_all), num_points_to_sample), :]\n",
    "netherlands_coords_sample=netherlands_coords_all[np.random.choice(len(netherlands_coords_all), num_points_to_sample), :]\n",
    "X_sample=np.vstack((netherlands_coords_sample, belgium_coords_sample))\n",
    "y_sample=np.concatenate((np.zeros(len(belgium_coords_sample)), np.ones(len(netherlands_coords_sample)))).astype('int')\n",
    "\n",
    "\n",
    "#Skip sampling train on all. \n",
    "belgium_coords=belgium_coords_all\n",
    "netherlands_coords=netherlands_coords_all\n",
    "\n",
    "X=np.vstack((netherlands_coords, belgium_coords))\n",
    "y=np.concatenate((np.zeros(len(netherlands_coords)), np.ones(len(belgium_coords)))).astype('int')\n",
    "\n",
    "rI=np.arange(len(y))\n",
    "np.random.shuffle(rI)\n",
    "X=X[rI,:]\n",
    "y=y[rI]"
   ]
  },
  {
   "cell_type": "code",
   "execution_count": 5,
   "id": "d71887f1-6468-499f-8d17-bd7c78b04dec",
   "metadata": {},
   "outputs": [
    {
     "data": {
      "text/plain": [
       "(855665, 2)"
      ]
     },
     "execution_count": 5,
     "metadata": {},
     "output_type": "execute_result"
    }
   ],
   "source": [
    "X.shape"
   ]
  },
  {
   "cell_type": "code",
   "execution_count": 6,
   "id": "0856152a-dd69-4c8d-a5e3-82654b0f008d",
   "metadata": {},
   "outputs": [
    {
     "data": {
      "text/plain": [
       "(166715, 2)"
      ]
     },
     "execution_count": 6,
     "metadata": {},
     "output_type": "execute_result"
    }
   ],
   "source": [
    "belgium_coords_all.shape"
   ]
  },
  {
   "cell_type": "code",
   "execution_count": 7,
   "id": "50bcd397-3ec6-44a6-8592-e7670fcf5d7b",
   "metadata": {},
   "outputs": [],
   "source": [
    "# plt.scatter(X[:,0], X[:,1], c=y, s=1, alpha=0.3); plt.axis('square');"
   ]
  },
  {
   "cell_type": "code",
   "execution_count": 8,
   "id": "37274f3c-0efa-4ef4-a5f5-a65fc0f0c062",
   "metadata": {},
   "outputs": [],
   "source": [
    "class BaarleNet(nn.Module):\n",
    "    def __init__(self, hidden_layers=[64]):\n",
    "        super(BaarleNet, self).__init__()\n",
    "        layers = [nn.Linear(2, hidden_layers[0]), nn.ReLU()]\n",
    "        for i in range(len(hidden_layers)-1):\n",
    "            layers.append(nn.Linear(hidden_layers[i], hidden_layers[i+1]))\n",
    "            layers.append(nn.ReLU())\n",
    "        layers.append(nn.Linear(hidden_layers[-1], 2))\n",
    "        self.layers=layers\n",
    "        self.model = nn.Sequential(*layers)\n",
    "    \n",
    "    def forward(self, x):\n",
    "        return self.model(x)"
   ]
  },
  {
   "cell_type": "markdown",
   "id": "b95c993b-065d-412b-831b-209d1af6fd3c",
   "metadata": {},
   "source": [
    " ## ALOT ALOT\n",
    " "
   ]
  },
  {
   "cell_type": "code",
   "execution_count": 9,
   "id": "7c55c2aa-92a6-429a-83cb-9f5056fa2e12",
   "metadata": {},
   "outputs": [],
   "source": [
    "# # random_seed = 36\n",
    "# num_neurons = 10000\n",
    "# batch_size = 32  # Adjust batch size as needed\n",
    "\n",
    "# accuracies=[]\n",
    "# for random_seed in range(31, 64):\n",
    "#     torch.manual_seed(random_seed)  \n",
    "#     X_tensor = torch.FloatTensor(X)\n",
    "#     y_tensor = torch.tensor(y)\n",
    "    \n",
    "#     # Create dataset and dataloader for minibatching\n",
    "#     dataset = TensorDataset(X_tensor, y_tensor)\n",
    "#     dataloader = DataLoader(dataset, batch_size=batch_size, shuffle=True)\n",
    "    \n",
    "#     # Initialize model and optimizer\n",
    "#     model = BaarleNet([num_neurons])\n",
    "#     criterion = nn.CrossEntropyLoss()\n",
    "#     optimizer = optim.Adam(model.parameters(), lr=0.005)\n",
    "#     num_epochs = 20\n",
    "    \n",
    "#     for epoch in range(num_epochs):\n",
    "#         epoch_loss = 0.0\n",
    "#         num_batches = 0\n",
    "        \n",
    "#         for batch_X, batch_y in dataloader:\n",
    "#             # Forward pass\n",
    "#             outputs = model(batch_X)\n",
    "#             loss = criterion(outputs, batch_y)\n",
    "            \n",
    "#             # Backward and optimize\n",
    "#             optimizer.zero_grad()\n",
    "#             loss.backward()\n",
    "#             optimizer.step()\n",
    "            \n",
    "#             epoch_loss += loss.item()\n",
    "#             num_batches += 1\n",
    "        \n",
    "\n",
    "#     with torch.no_grad():\n",
    "#         outputs_batch = model(X_tensor)\n",
    "#         accuracy = (torch.argmax(outputs_batch, dim=1) == y_tensor).sum().item() / len(y)\n",
    "#     print(f'Random Seed [{random_seed}], Loss: {avg_loss:.4f}, Accuracy: {accuracy:.4f}')"
   ]
  },
  {
   "cell_type": "code",
   "execution_count": 10,
   "id": "53aa5887-9533-43ad-a1e0-c47d918afc96",
   "metadata": {},
   "outputs": [],
   "source": [
    "device='cuda'"
   ]
  },
  {
   "cell_type": "code",
   "execution_count": 11,
   "id": "f9d047c4-aef7-4d99-92ee-23ad72ce5498",
   "metadata": {},
   "outputs": [
    {
     "name": "stderr",
     "output_type": "stream",
     "text": [
      "  0%|▏                                       | 2/400 [03:19<11:01:05, 99.66s/it]"
     ]
    },
    {
     "name": "stdout",
     "output_type": "stream",
     "text": [
      "Epoch [2/400], Loss: 0.1454, Accuracy: 0.0211\n"
     ]
    },
    {
     "name": "stderr",
     "output_type": "stream",
     "text": [
      "  1%|▍                                       | 4/400 [06:40<10:58:51, 99.83s/it]"
     ]
    },
    {
     "name": "stdout",
     "output_type": "stream",
     "text": [
      "Epoch [4/400], Loss: 0.1336, Accuracy: 0.0217\n"
     ]
    },
    {
     "name": "stderr",
     "output_type": "stream",
     "text": [
      "  2%|▌                                       | 6/400 [09:55<10:49:26, 98.90s/it]"
     ]
    },
    {
     "name": "stdout",
     "output_type": "stream",
     "text": [
      "Epoch [6/400], Loss: 0.1269, Accuracy: 0.0216\n"
     ]
    },
    {
     "name": "stderr",
     "output_type": "stream",
     "text": [
      "  2%|▊                                       | 8/400 [13:11<10:44:10, 98.60s/it]"
     ]
    },
    {
     "name": "stdout",
     "output_type": "stream",
     "text": [
      "Epoch [8/400], Loss: 0.1219, Accuracy: 0.0216\n"
     ]
    },
    {
     "name": "stderr",
     "output_type": "stream",
     "text": [
      "  2%|▉                                      | 10/400 [16:31<10:45:33, 99.32s/it]"
     ]
    },
    {
     "name": "stdout",
     "output_type": "stream",
     "text": [
      "Epoch [10/400], Loss: 0.1191, Accuracy: 0.0214\n"
     ]
    },
    {
     "name": "stderr",
     "output_type": "stream",
     "text": [
      "  3%|█▏                                    | 12/400 [19:54<10:47:50, 100.18s/it]"
     ]
    },
    {
     "name": "stdout",
     "output_type": "stream",
     "text": [
      "Epoch [12/400], Loss: 0.1155, Accuracy: 0.0213\n"
     ]
    },
    {
     "name": "stderr",
     "output_type": "stream",
     "text": [
      "  4%|█▎                                    | 14/400 [23:14<10:45:32, 100.34s/it]"
     ]
    },
    {
     "name": "stdout",
     "output_type": "stream",
     "text": [
      "Epoch [14/400], Loss: 0.1123, Accuracy: 0.0215\n"
     ]
    },
    {
     "name": "stderr",
     "output_type": "stream",
     "text": [
      "  4%|█▌                                     | 16/400 [26:34<10:39:48, 99.97s/it]"
     ]
    },
    {
     "name": "stdout",
     "output_type": "stream",
     "text": [
      "Epoch [16/400], Loss: 0.1096, Accuracy: 0.0219\n"
     ]
    },
    {
     "name": "stderr",
     "output_type": "stream",
     "text": [
      "  4%|█▊                                     | 18/400 [29:52<10:33:26, 99.49s/it]"
     ]
    },
    {
     "name": "stdout",
     "output_type": "stream",
     "text": [
      "Epoch [18/400], Loss: 0.1075, Accuracy: 0.0221\n"
     ]
    },
    {
     "name": "stderr",
     "output_type": "stream",
     "text": [
      "  5%|█▉                                     | 20/400 [33:11<10:28:49, 99.29s/it]"
     ]
    },
    {
     "name": "stdout",
     "output_type": "stream",
     "text": [
      "Epoch [20/400], Loss: 0.1053, Accuracy: 0.0218\n"
     ]
    },
    {
     "name": "stderr",
     "output_type": "stream",
     "text": [
      "  6%|██▏                                    | 22/400 [36:31<10:27:27, 99.60s/it]"
     ]
    },
    {
     "name": "stdout",
     "output_type": "stream",
     "text": [
      "Epoch [22/400], Loss: 0.1029, Accuracy: 0.0217\n"
     ]
    },
    {
     "name": "stderr",
     "output_type": "stream",
     "text": [
      "  6%|██▎                                    | 24/400 [39:49<10:21:02, 99.10s/it]"
     ]
    },
    {
     "name": "stdout",
     "output_type": "stream",
     "text": [
      "Epoch [24/400], Loss: 0.1011, Accuracy: 0.0216\n"
     ]
    },
    {
     "name": "stderr",
     "output_type": "stream",
     "text": [
      "  6%|██▌                                    | 26/400 [43:09<10:19:51, 99.44s/it]"
     ]
    },
    {
     "name": "stdout",
     "output_type": "stream",
     "text": [
      "Epoch [26/400], Loss: 0.0994, Accuracy: 0.0220\n"
     ]
    },
    {
     "name": "stderr",
     "output_type": "stream",
     "text": [
      "  7%|██▋                                   | 28/400 [46:30<10:21:45, 100.28s/it]"
     ]
    },
    {
     "name": "stdout",
     "output_type": "stream",
     "text": [
      "Epoch [28/400], Loss: 0.0984, Accuracy: 0.0219\n"
     ]
    },
    {
     "name": "stderr",
     "output_type": "stream",
     "text": [
      "  8%|██▉                                    | 30/400 [49:47<10:12:50, 99.38s/it]"
     ]
    },
    {
     "name": "stdout",
     "output_type": "stream",
     "text": [
      "Epoch [30/400], Loss: 0.0968, Accuracy: 0.0220\n"
     ]
    },
    {
     "name": "stderr",
     "output_type": "stream",
     "text": [
      "  8%|███                                    | 32/400 [53:06<10:10:55, 99.61s/it]"
     ]
    },
    {
     "name": "stdout",
     "output_type": "stream",
     "text": [
      "Epoch [32/400], Loss: 0.0955, Accuracy: 0.0218\n"
     ]
    },
    {
     "name": "stderr",
     "output_type": "stream",
     "text": [
      "  8%|███▏                                  | 34/400 [56:27<10:10:13, 100.04s/it]"
     ]
    },
    {
     "name": "stdout",
     "output_type": "stream",
     "text": [
      "Epoch [34/400], Loss: 0.0945, Accuracy: 0.0225\n"
     ]
    },
    {
     "name": "stderr",
     "output_type": "stream",
     "text": [
      "  9%|███▌                                    | 36/400 [59:40<9:54:16, 97.96s/it]"
     ]
    },
    {
     "name": "stdout",
     "output_type": "stream",
     "text": [
      "Epoch [36/400], Loss: 0.0933, Accuracy: 0.0217\n"
     ]
    },
    {
     "name": "stderr",
     "output_type": "stream",
     "text": [
      " 10%|███▍                                | 38/400 [1:03:04<10:03:57, 100.10s/it]"
     ]
    },
    {
     "name": "stdout",
     "output_type": "stream",
     "text": [
      "Epoch [38/400], Loss: 0.0917, Accuracy: 0.0222\n"
     ]
    },
    {
     "name": "stderr",
     "output_type": "stream",
     "text": [
      " 10%|███▊                                  | 40/400 [1:06:22<9:57:02, 99.51s/it]"
     ]
    },
    {
     "name": "stdout",
     "output_type": "stream",
     "text": [
      "Epoch [40/400], Loss: 0.0905, Accuracy: 0.0222\n"
     ]
    },
    {
     "name": "stderr",
     "output_type": "stream",
     "text": [
      " 10%|███▉                                  | 42/400 [1:09:41<9:54:06, 99.57s/it]"
     ]
    },
    {
     "name": "stdout",
     "output_type": "stream",
     "text": [
      "Epoch [42/400], Loss: 0.0898, Accuracy: 0.0217\n"
     ]
    },
    {
     "name": "stderr",
     "output_type": "stream",
     "text": [
      " 11%|████                                 | 44/400 [1:13:03<9:55:06, 100.30s/it]"
     ]
    },
    {
     "name": "stdout",
     "output_type": "stream",
     "text": [
      "Epoch [44/400], Loss: 0.0893, Accuracy: 0.0218\n"
     ]
    },
    {
     "name": "stderr",
     "output_type": "stream",
     "text": [
      " 12%|████▎                                | 46/400 [1:16:28<9:57:52, 101.33s/it]"
     ]
    },
    {
     "name": "stdout",
     "output_type": "stream",
     "text": [
      "Epoch [46/400], Loss: 0.0880, Accuracy: 0.0223\n"
     ]
    },
    {
     "name": "stderr",
     "output_type": "stream",
     "text": [
      " 12%|████▌                                 | 48/400 [1:19:42<9:41:07, 99.06s/it]"
     ]
    },
    {
     "name": "stdout",
     "output_type": "stream",
     "text": [
      "Epoch [48/400], Loss: 0.0875, Accuracy: 0.0221\n"
     ]
    },
    {
     "name": "stderr",
     "output_type": "stream",
     "text": [
      " 12%|████▊                                 | 50/400 [1:22:57<9:35:38, 98.68s/it]"
     ]
    },
    {
     "name": "stdout",
     "output_type": "stream",
     "text": [
      "Epoch [50/400], Loss: 0.0868, Accuracy: 0.0219\n"
     ]
    },
    {
     "name": "stderr",
     "output_type": "stream",
     "text": [
      " 13%|████▉                                 | 52/400 [1:26:17<9:36:36, 99.41s/it]"
     ]
    },
    {
     "name": "stdout",
     "output_type": "stream",
     "text": [
      "Epoch [52/400], Loss: 0.0856, Accuracy: 0.0221\n"
     ]
    },
    {
     "name": "stderr",
     "output_type": "stream",
     "text": [
      " 14%|█████▏                                | 54/400 [1:29:16<9:02:55, 94.15s/it]"
     ]
    },
    {
     "name": "stdout",
     "output_type": "stream",
     "text": [
      "Epoch [54/400], Loss: 0.0853, Accuracy: 0.0218\n"
     ]
    },
    {
     "name": "stderr",
     "output_type": "stream",
     "text": [
      " 14%|█████▎                                | 56/400 [1:32:43<9:27:22, 98.96s/it]"
     ]
    },
    {
     "name": "stdout",
     "output_type": "stream",
     "text": [
      "Epoch [56/400], Loss: 0.0844, Accuracy: 0.0225\n"
     ]
    },
    {
     "name": "stderr",
     "output_type": "stream",
     "text": [
      " 14%|█████▌                                | 58/400 [1:36:06<9:29:26, 99.90s/it]"
     ]
    },
    {
     "name": "stdout",
     "output_type": "stream",
     "text": [
      "Epoch [58/400], Loss: 0.0835, Accuracy: 0.0224\n"
     ]
    },
    {
     "name": "stderr",
     "output_type": "stream",
     "text": [
      " 15%|█████▌                               | 60/400 [1:39:27<9:28:50, 100.38s/it]"
     ]
    },
    {
     "name": "stdout",
     "output_type": "stream",
     "text": [
      "Epoch [60/400], Loss: 0.0835, Accuracy: 0.0224\n"
     ]
    },
    {
     "name": "stderr",
     "output_type": "stream",
     "text": [
      " 16%|█████▉                                | 62/400 [1:42:43<9:17:48, 99.02s/it]"
     ]
    },
    {
     "name": "stdout",
     "output_type": "stream",
     "text": [
      "Epoch [62/400], Loss: 0.0826, Accuracy: 0.0224\n"
     ]
    },
    {
     "name": "stderr",
     "output_type": "stream",
     "text": [
      " 16%|█████▉                               | 64/400 [1:46:06<9:20:20, 100.06s/it]"
     ]
    },
    {
     "name": "stdout",
     "output_type": "stream",
     "text": [
      "Epoch [64/400], Loss: 0.0823, Accuracy: 0.0224\n"
     ]
    },
    {
     "name": "stderr",
     "output_type": "stream",
     "text": [
      " 16%|██████▎                               | 66/400 [1:49:20<9:06:36, 98.19s/it]"
     ]
    },
    {
     "name": "stdout",
     "output_type": "stream",
     "text": [
      "Epoch [66/400], Loss: 0.0813, Accuracy: 0.0225\n"
     ]
    },
    {
     "name": "stderr",
     "output_type": "stream",
     "text": [
      " 17%|██████▍                               | 68/400 [1:52:40<9:09:04, 99.23s/it]"
     ]
    },
    {
     "name": "stdout",
     "output_type": "stream",
     "text": [
      "Epoch [68/400], Loss: 0.0810, Accuracy: 0.0223\n"
     ]
    },
    {
     "name": "stderr",
     "output_type": "stream",
     "text": [
      " 18%|██████▍                              | 70/400 [1:56:02<9:11:10, 100.21s/it]"
     ]
    },
    {
     "name": "stdout",
     "output_type": "stream",
     "text": [
      "Epoch [70/400], Loss: 0.0803, Accuracy: 0.0204\n"
     ]
    },
    {
     "name": "stderr",
     "output_type": "stream",
     "text": [
      " 18%|██████▊                               | 72/400 [1:59:19<9:02:09, 99.17s/it]"
     ]
    },
    {
     "name": "stdout",
     "output_type": "stream",
     "text": [
      "Epoch [72/400], Loss: 0.0795, Accuracy: 0.0222\n"
     ]
    },
    {
     "name": "stderr",
     "output_type": "stream",
     "text": [
      " 18%|███████                               | 74/400 [2:02:37<8:59:04, 99.22s/it]"
     ]
    },
    {
     "name": "stdout",
     "output_type": "stream",
     "text": [
      "Epoch [74/400], Loss: 0.0799, Accuracy: 0.0221\n"
     ]
    },
    {
     "name": "stderr",
     "output_type": "stream",
     "text": [
      " 19%|███████▏                              | 76/400 [2:05:56<8:56:47, 99.41s/it]"
     ]
    },
    {
     "name": "stdout",
     "output_type": "stream",
     "text": [
      "Epoch [76/400], Loss: 0.0792, Accuracy: 0.0223\n"
     ]
    },
    {
     "name": "stderr",
     "output_type": "stream",
     "text": [
      " 20%|███████▍                              | 78/400 [2:09:08<8:45:10, 97.86s/it]"
     ]
    },
    {
     "name": "stdout",
     "output_type": "stream",
     "text": [
      "Epoch [78/400], Loss: 0.0783, Accuracy: 0.0224\n"
     ]
    },
    {
     "name": "stderr",
     "output_type": "stream",
     "text": [
      " 20%|███████▌                              | 80/400 [2:12:30<8:49:13, 99.23s/it]"
     ]
    },
    {
     "name": "stdout",
     "output_type": "stream",
     "text": [
      "Epoch [80/400], Loss: 0.0782, Accuracy: 0.0220\n"
     ]
    },
    {
     "name": "stderr",
     "output_type": "stream",
     "text": [
      " 20%|███████▊                              | 82/400 [2:15:49<8:47:18, 99.49s/it]"
     ]
    },
    {
     "name": "stdout",
     "output_type": "stream",
     "text": [
      "Epoch [82/400], Loss: 0.0776, Accuracy: 0.0219\n"
     ]
    },
    {
     "name": "stderr",
     "output_type": "stream",
     "text": [
      " 21%|███████▊                             | 84/400 [2:19:12<8:49:31, 100.54s/it]"
     ]
    },
    {
     "name": "stdout",
     "output_type": "stream",
     "text": [
      "Epoch [84/400], Loss: 0.0774, Accuracy: 0.0225\n"
     ]
    },
    {
     "name": "stderr",
     "output_type": "stream",
     "text": [
      " 22%|████████▏                             | 86/400 [2:22:31<8:42:47, 99.90s/it]"
     ]
    },
    {
     "name": "stdout",
     "output_type": "stream",
     "text": [
      "Epoch [86/400], Loss: 0.0765, Accuracy: 0.0224\n"
     ]
    },
    {
     "name": "stderr",
     "output_type": "stream",
     "text": [
      " 22%|████████▏                            | 88/400 [2:25:52<8:41:50, 100.35s/it]"
     ]
    },
    {
     "name": "stdout",
     "output_type": "stream",
     "text": [
      "Epoch [88/400], Loss: 0.0769, Accuracy: 0.0207\n"
     ]
    },
    {
     "name": "stderr",
     "output_type": "stream",
     "text": [
      " 22%|████████▎                            | 90/400 [2:29:16<8:43:36, 101.34s/it]"
     ]
    },
    {
     "name": "stdout",
     "output_type": "stream",
     "text": [
      "Epoch [90/400], Loss: 0.0761, Accuracy: 0.0221\n"
     ]
    },
    {
     "name": "stderr",
     "output_type": "stream",
     "text": [
      " 23%|████████▌                            | 92/400 [2:32:40<8:41:11, 101.53s/it]"
     ]
    },
    {
     "name": "stdout",
     "output_type": "stream",
     "text": [
      "Epoch [92/400], Loss: 0.0763, Accuracy: 0.0226\n"
     ]
    },
    {
     "name": "stderr",
     "output_type": "stream",
     "text": [
      " 24%|████████▋                            | 94/400 [2:35:59<8:33:00, 100.59s/it]"
     ]
    },
    {
     "name": "stdout",
     "output_type": "stream",
     "text": [
      "Epoch [94/400], Loss: 0.0757, Accuracy: 0.0223\n"
     ]
    },
    {
     "name": "stderr",
     "output_type": "stream",
     "text": [
      " 24%|█████████                             | 96/400 [2:39:18<8:26:17, 99.93s/it]"
     ]
    },
    {
     "name": "stdout",
     "output_type": "stream",
     "text": [
      "Epoch [96/400], Loss: 0.0751, Accuracy: 0.0221\n"
     ]
    },
    {
     "name": "stderr",
     "output_type": "stream",
     "text": [
      " 24%|█████████                            | 98/400 [2:42:42<8:27:03, 100.74s/it]"
     ]
    },
    {
     "name": "stdout",
     "output_type": "stream",
     "text": [
      "Epoch [98/400], Loss: 0.0754, Accuracy: 0.0219\n"
     ]
    },
    {
     "name": "stderr",
     "output_type": "stream",
     "text": [
      " 25%|█████████                           | 100/400 [2:46:03<8:23:29, 100.70s/it]"
     ]
    },
    {
     "name": "stdout",
     "output_type": "stream",
     "text": [
      "Epoch [100/400], Loss: 0.0756, Accuracy: 0.0222\n"
     ]
    },
    {
     "name": "stderr",
     "output_type": "stream",
     "text": [
      " 26%|█████████▏                          | 102/400 [2:49:24<8:19:08, 100.50s/it]"
     ]
    },
    {
     "name": "stdout",
     "output_type": "stream",
     "text": [
      "Epoch [102/400], Loss: 0.0741, Accuracy: 0.0226\n"
     ]
    },
    {
     "name": "stderr",
     "output_type": "stream",
     "text": [
      " 26%|█████████▌                           | 104/400 [2:52:37<8:05:59, 98.51s/it]"
     ]
    },
    {
     "name": "stdout",
     "output_type": "stream",
     "text": [
      "Epoch [104/400], Loss: 0.0745, Accuracy: 0.0225\n"
     ]
    },
    {
     "name": "stderr",
     "output_type": "stream",
     "text": [
      " 26%|█████████▊                           | 106/400 [2:55:53<8:00:11, 98.00s/it]"
     ]
    },
    {
     "name": "stdout",
     "output_type": "stream",
     "text": [
      "Epoch [106/400], Loss: 0.0745, Accuracy: 0.0214\n"
     ]
    },
    {
     "name": "stderr",
     "output_type": "stream",
     "text": [
      " 27%|█████████▉                           | 108/400 [2:59:11<7:59:29, 98.53s/it]"
     ]
    },
    {
     "name": "stdout",
     "output_type": "stream",
     "text": [
      "Epoch [108/400], Loss: 0.0734, Accuracy: 0.0225\n"
     ]
    },
    {
     "name": "stderr",
     "output_type": "stream",
     "text": [
      " 28%|█████████▉                          | 110/400 [3:02:35<8:04:42, 100.29s/it]"
     ]
    },
    {
     "name": "stdout",
     "output_type": "stream",
     "text": [
      "Epoch [110/400], Loss: 0.0737, Accuracy: 0.0223\n"
     ]
    },
    {
     "name": "stderr",
     "output_type": "stream",
     "text": [
      " 28%|██████████                          | 112/400 [3:05:55<8:00:47, 100.17s/it]"
     ]
    },
    {
     "name": "stdout",
     "output_type": "stream",
     "text": [
      "Epoch [112/400], Loss: 0.0730, Accuracy: 0.0221\n"
     ]
    },
    {
     "name": "stderr",
     "output_type": "stream",
     "text": [
      " 28%|██████████▎                         | 114/400 [3:09:14<7:57:05, 100.09s/it]"
     ]
    },
    {
     "name": "stdout",
     "output_type": "stream",
     "text": [
      "Epoch [114/400], Loss: 0.0736, Accuracy: 0.0226\n"
     ]
    },
    {
     "name": "stderr",
     "output_type": "stream",
     "text": [
      " 29%|██████████▋                          | 116/400 [3:12:31<7:50:07, 99.32s/it]"
     ]
    },
    {
     "name": "stdout",
     "output_type": "stream",
     "text": [
      "Epoch [116/400], Loss: 0.0726, Accuracy: 0.0225\n"
     ]
    },
    {
     "name": "stderr",
     "output_type": "stream",
     "text": [
      " 30%|██████████▌                         | 118/400 [3:15:54<7:51:53, 100.40s/it]"
     ]
    },
    {
     "name": "stdout",
     "output_type": "stream",
     "text": [
      "Epoch [118/400], Loss: 0.0730, Accuracy: 0.0223\n"
     ]
    },
    {
     "name": "stderr",
     "output_type": "stream",
     "text": [
      " 30%|███████████                          | 120/400 [3:19:08<7:41:08, 98.82s/it]"
     ]
    },
    {
     "name": "stdout",
     "output_type": "stream",
     "text": [
      "Epoch [120/400], Loss: 0.0721, Accuracy: 0.0227\n"
     ]
    },
    {
     "name": "stderr",
     "output_type": "stream",
     "text": [
      " 30%|███████████▎                         | 122/400 [3:22:22<7:34:33, 98.10s/it]"
     ]
    },
    {
     "name": "stdout",
     "output_type": "stream",
     "text": [
      "Epoch [122/400], Loss: 0.0723, Accuracy: 0.0226\n"
     ]
    },
    {
     "name": "stderr",
     "output_type": "stream",
     "text": [
      " 31%|███████████▏                        | 124/400 [3:25:47<7:41:20, 100.29s/it]"
     ]
    },
    {
     "name": "stdout",
     "output_type": "stream",
     "text": [
      "Epoch [124/400], Loss: 0.0716, Accuracy: 0.0226\n"
     ]
    },
    {
     "name": "stderr",
     "output_type": "stream",
     "text": [
      " 32%|███████████▋                         | 126/400 [3:29:01<7:29:50, 98.51s/it]"
     ]
    },
    {
     "name": "stdout",
     "output_type": "stream",
     "text": [
      "Epoch [126/400], Loss: 0.0714, Accuracy: 0.0223\n"
     ]
    },
    {
     "name": "stderr",
     "output_type": "stream",
     "text": [
      " 32%|███████████▊                         | 128/400 [3:32:19<7:27:31, 98.72s/it]"
     ]
    },
    {
     "name": "stdout",
     "output_type": "stream",
     "text": [
      "Epoch [128/400], Loss: 0.0717, Accuracy: 0.0225\n"
     ]
    },
    {
     "name": "stderr",
     "output_type": "stream",
     "text": [
      " 32%|████████████                         | 130/400 [3:35:31<7:16:58, 97.10s/it]"
     ]
    },
    {
     "name": "stdout",
     "output_type": "stream",
     "text": [
      "Epoch [130/400], Loss: 0.0712, Accuracy: 0.0224\n"
     ]
    },
    {
     "name": "stderr",
     "output_type": "stream",
     "text": [
      " 33%|████████████▏                        | 132/400 [3:38:48<7:16:26, 97.71s/it]"
     ]
    },
    {
     "name": "stdout",
     "output_type": "stream",
     "text": [
      "Epoch [132/400], Loss: 0.0711, Accuracy: 0.0227\n"
     ]
    },
    {
     "name": "stderr",
     "output_type": "stream",
     "text": [
      " 34%|████████████▍                        | 134/400 [3:42:07<7:16:28, 98.45s/it]"
     ]
    },
    {
     "name": "stdout",
     "output_type": "stream",
     "text": [
      "Epoch [134/400], Loss: 0.0712, Accuracy: 0.0214\n"
     ]
    },
    {
     "name": "stderr",
     "output_type": "stream",
     "text": [
      " 34%|████████████▌                        | 136/400 [3:45:26<7:15:45, 99.04s/it]"
     ]
    },
    {
     "name": "stdout",
     "output_type": "stream",
     "text": [
      "Epoch [136/400], Loss: 0.0707, Accuracy: 0.0223\n"
     ]
    },
    {
     "name": "stderr",
     "output_type": "stream",
     "text": [
      " 34%|████████████▊                        | 138/400 [3:48:44<7:13:08, 99.19s/it]"
     ]
    },
    {
     "name": "stdout",
     "output_type": "stream",
     "text": [
      "Epoch [138/400], Loss: 0.0701, Accuracy: 0.0223\n"
     ]
    },
    {
     "name": "stderr",
     "output_type": "stream",
     "text": [
      " 35%|████████████▉                        | 140/400 [3:52:02<7:09:41, 99.16s/it]"
     ]
    },
    {
     "name": "stdout",
     "output_type": "stream",
     "text": [
      "Epoch [140/400], Loss: 0.0702, Accuracy: 0.0225\n"
     ]
    },
    {
     "name": "stderr",
     "output_type": "stream",
     "text": [
      " 36%|█████████████▏                       | 142/400 [3:55:18<7:03:18, 98.45s/it]"
     ]
    },
    {
     "name": "stdout",
     "output_type": "stream",
     "text": [
      "Epoch [142/400], Loss: 0.0701, Accuracy: 0.0221\n"
     ]
    },
    {
     "name": "stderr",
     "output_type": "stream",
     "text": [
      " 36%|█████████████▎                       | 144/400 [3:58:38<7:03:15, 99.20s/it]"
     ]
    },
    {
     "name": "stdout",
     "output_type": "stream",
     "text": [
      "Epoch [144/400], Loss: 0.0706, Accuracy: 0.0222\n"
     ]
    },
    {
     "name": "stderr",
     "output_type": "stream",
     "text": [
      " 36%|█████████████▌                       | 146/400 [4:01:58<7:01:33, 99.58s/it]"
     ]
    },
    {
     "name": "stdout",
     "output_type": "stream",
     "text": [
      "Epoch [146/400], Loss: 0.0699, Accuracy: 0.0226\n"
     ]
    },
    {
     "name": "stderr",
     "output_type": "stream",
     "text": [
      " 37%|█████████████▋                       | 148/400 [4:05:16<6:55:47, 99.00s/it]"
     ]
    },
    {
     "name": "stdout",
     "output_type": "stream",
     "text": [
      "Epoch [148/400], Loss: 0.0700, Accuracy: 0.0220\n"
     ]
    },
    {
     "name": "stderr",
     "output_type": "stream",
     "text": [
      " 38%|█████████████▉                       | 150/400 [4:08:34<6:52:15, 98.94s/it]"
     ]
    },
    {
     "name": "stdout",
     "output_type": "stream",
     "text": [
      "Epoch [150/400], Loss: 0.0697, Accuracy: 0.0227\n"
     ]
    },
    {
     "name": "stderr",
     "output_type": "stream",
     "text": [
      " 38%|██████████████                       | 152/400 [4:11:55<6:52:11, 99.72s/it]"
     ]
    },
    {
     "name": "stdout",
     "output_type": "stream",
     "text": [
      "Epoch [152/400], Loss: 0.0695, Accuracy: 0.0226\n"
     ]
    },
    {
     "name": "stderr",
     "output_type": "stream",
     "text": [
      " 38%|██████████████▏                      | 154/400 [4:15:13<6:48:24, 99.61s/it]"
     ]
    },
    {
     "name": "stdout",
     "output_type": "stream",
     "text": [
      "Epoch [154/400], Loss: 0.0690, Accuracy: 0.0225\n"
     ]
    },
    {
     "name": "stderr",
     "output_type": "stream",
     "text": [
      " 39%|██████████████▍                      | 156/400 [4:18:23<6:33:11, 96.69s/it]"
     ]
    },
    {
     "name": "stdout",
     "output_type": "stream",
     "text": [
      "Epoch [156/400], Loss: 0.0687, Accuracy: 0.0222\n"
     ]
    },
    {
     "name": "stderr",
     "output_type": "stream",
     "text": [
      " 40%|██████████████▌                      | 158/400 [4:21:46<6:40:09, 99.21s/it]"
     ]
    },
    {
     "name": "stdout",
     "output_type": "stream",
     "text": [
      "Epoch [158/400], Loss: 0.0685, Accuracy: 0.0224\n"
     ]
    },
    {
     "name": "stderr",
     "output_type": "stream",
     "text": [
      " 40%|██████████████▍                     | 160/400 [4:25:14<6:46:40, 101.67s/it]"
     ]
    },
    {
     "name": "stdout",
     "output_type": "stream",
     "text": [
      "Epoch [160/400], Loss: 0.0686, Accuracy: 0.0222\n"
     ]
    },
    {
     "name": "stderr",
     "output_type": "stream",
     "text": [
      " 40%|██████████████▉                      | 162/400 [4:27:58<5:59:04, 90.52s/it]"
     ]
    },
    {
     "name": "stdout",
     "output_type": "stream",
     "text": [
      "Epoch [162/400], Loss: 0.0684, Accuracy: 0.0224\n"
     ]
    },
    {
     "name": "stderr",
     "output_type": "stream",
     "text": [
      " 41%|███████████████▏                     | 164/400 [4:30:50<5:53:26, 89.86s/it]"
     ]
    },
    {
     "name": "stdout",
     "output_type": "stream",
     "text": [
      "Epoch [164/400], Loss: 0.0687, Accuracy: 0.0225\n"
     ]
    },
    {
     "name": "stderr",
     "output_type": "stream",
     "text": [
      " 42%|███████████████▎                     | 166/400 [4:33:31<5:23:30, 82.95s/it]"
     ]
    },
    {
     "name": "stdout",
     "output_type": "stream",
     "text": [
      "Epoch [166/400], Loss: 0.0689, Accuracy: 0.0225\n"
     ]
    },
    {
     "name": "stderr",
     "output_type": "stream",
     "text": [
      " 42%|███████████████▌                     | 168/400 [4:36:35<5:38:25, 87.52s/it]"
     ]
    },
    {
     "name": "stdout",
     "output_type": "stream",
     "text": [
      "Epoch [168/400], Loss: 0.0685, Accuracy: 0.0225\n"
     ]
    },
    {
     "name": "stderr",
     "output_type": "stream",
     "text": [
      " 42%|███████████████▋                     | 170/400 [4:39:49<5:56:23, 92.97s/it]"
     ]
    },
    {
     "name": "stdout",
     "output_type": "stream",
     "text": [
      "Epoch [170/400], Loss: 0.0682, Accuracy: 0.0222\n"
     ]
    },
    {
     "name": "stderr",
     "output_type": "stream",
     "text": [
      " 43%|███████████████▉                     | 172/400 [4:42:52<5:55:00, 93.42s/it]"
     ]
    },
    {
     "name": "stdout",
     "output_type": "stream",
     "text": [
      "Epoch [172/400], Loss: 0.0681, Accuracy: 0.0224\n"
     ]
    },
    {
     "name": "stderr",
     "output_type": "stream",
     "text": [
      " 44%|████████████████                     | 174/400 [4:46:22<6:13:36, 99.19s/it]"
     ]
    },
    {
     "name": "stdout",
     "output_type": "stream",
     "text": [
      "Epoch [174/400], Loss: 0.0682, Accuracy: 0.0222\n"
     ]
    },
    {
     "name": "stderr",
     "output_type": "stream",
     "text": [
      " 44%|███████████████▊                    | 176/400 [4:49:52<6:21:30, 102.19s/it]"
     ]
    },
    {
     "name": "stdout",
     "output_type": "stream",
     "text": [
      "Epoch [176/400], Loss: 0.0683, Accuracy: 0.0220\n"
     ]
    },
    {
     "name": "stderr",
     "output_type": "stream",
     "text": [
      " 44%|████████████████▍                    | 178/400 [4:53:06<6:08:33, 99.61s/it]"
     ]
    },
    {
     "name": "stdout",
     "output_type": "stream",
     "text": [
      "Epoch [178/400], Loss: 0.0676, Accuracy: 0.0227\n"
     ]
    },
    {
     "name": "stderr",
     "output_type": "stream",
     "text": [
      " 45%|████████████████▏                   | 180/400 [4:56:33<6:12:59, 101.72s/it]"
     ]
    },
    {
     "name": "stdout",
     "output_type": "stream",
     "text": [
      "Epoch [180/400], Loss: 0.0682, Accuracy: 0.0225\n"
     ]
    },
    {
     "name": "stderr",
     "output_type": "stream",
     "text": [
      " 46%|████████████████▍                   | 182/400 [5:00:02<6:14:17, 103.02s/it]"
     ]
    },
    {
     "name": "stdout",
     "output_type": "stream",
     "text": [
      "Epoch [182/400], Loss: 0.0676, Accuracy: 0.0221\n"
     ]
    },
    {
     "name": "stderr",
     "output_type": "stream",
     "text": [
      " 46%|████████████████▌                   | 184/400 [5:03:28<6:11:36, 103.22s/it]"
     ]
    },
    {
     "name": "stdout",
     "output_type": "stream",
     "text": [
      "Epoch [184/400], Loss: 0.0678, Accuracy: 0.0224\n"
     ]
    },
    {
     "name": "stderr",
     "output_type": "stream",
     "text": [
      " 46%|█████████████████▏                   | 186/400 [5:06:41<5:55:44, 99.74s/it]"
     ]
    },
    {
     "name": "stdout",
     "output_type": "stream",
     "text": [
      "Epoch [186/400], Loss: 0.0671, Accuracy: 0.0219\n"
     ]
    },
    {
     "name": "stderr",
     "output_type": "stream",
     "text": [
      " 47%|█████████████████▍                   | 188/400 [5:09:52<5:43:10, 97.13s/it]"
     ]
    },
    {
     "name": "stdout",
     "output_type": "stream",
     "text": [
      "Epoch [188/400], Loss: 0.0670, Accuracy: 0.0224\n"
     ]
    },
    {
     "name": "stderr",
     "output_type": "stream",
     "text": [
      " 48%|█████████████████▌                   | 190/400 [5:13:08<5:43:31, 98.15s/it]"
     ]
    },
    {
     "name": "stdout",
     "output_type": "stream",
     "text": [
      "Epoch [190/400], Loss: 0.0666, Accuracy: 0.0224\n"
     ]
    },
    {
     "name": "stderr",
     "output_type": "stream",
     "text": [
      " 48%|█████████████████▎                  | 192/400 [5:16:34<5:48:16, 100.46s/it]"
     ]
    },
    {
     "name": "stdout",
     "output_type": "stream",
     "text": [
      "Epoch [192/400], Loss: 0.0669, Accuracy: 0.0227\n"
     ]
    },
    {
     "name": "stderr",
     "output_type": "stream",
     "text": [
      " 48%|█████████████████▉                   | 194/400 [5:19:41<5:29:31, 95.98s/it]"
     ]
    },
    {
     "name": "stdout",
     "output_type": "stream",
     "text": [
      "Epoch [194/400], Loss: 0.0672, Accuracy: 0.0228\n"
     ]
    },
    {
     "name": "stderr",
     "output_type": "stream",
     "text": [
      " 49%|██████████████████▏                  | 196/400 [5:22:34<5:13:55, 92.33s/it]"
     ]
    },
    {
     "name": "stdout",
     "output_type": "stream",
     "text": [
      "Epoch [196/400], Loss: 0.0666, Accuracy: 0.0222\n"
     ]
    },
    {
     "name": "stderr",
     "output_type": "stream",
     "text": [
      " 50%|██████████████████▎                  | 198/400 [5:26:03<5:31:22, 98.43s/it]"
     ]
    },
    {
     "name": "stdout",
     "output_type": "stream",
     "text": [
      "Epoch [198/400], Loss: 0.0663, Accuracy: 0.0225\n"
     ]
    },
    {
     "name": "stderr",
     "output_type": "stream",
     "text": [
      " 50%|██████████████████▌                  | 200/400 [5:29:18<5:25:33, 97.67s/it]"
     ]
    },
    {
     "name": "stdout",
     "output_type": "stream",
     "text": [
      "Epoch [200/400], Loss: 0.0662, Accuracy: 0.0223\n"
     ]
    },
    {
     "name": "stderr",
     "output_type": "stream",
     "text": [
      " 50%|██████████████████▋                  | 202/400 [5:32:08<4:58:30, 90.46s/it]"
     ]
    },
    {
     "name": "stdout",
     "output_type": "stream",
     "text": [
      "Epoch [202/400], Loss: 0.0666, Accuracy: 0.0226\n"
     ]
    },
    {
     "name": "stderr",
     "output_type": "stream",
     "text": [
      " 51%|██████████████████▊                  | 204/400 [5:35:29<5:11:53, 95.48s/it]"
     ]
    },
    {
     "name": "stdout",
     "output_type": "stream",
     "text": [
      "Epoch [204/400], Loss: 0.0657, Accuracy: 0.0226\n"
     ]
    },
    {
     "name": "stderr",
     "output_type": "stream",
     "text": [
      " 52%|███████████████████                  | 206/400 [5:38:02<4:33:55, 84.72s/it]"
     ]
    },
    {
     "name": "stdout",
     "output_type": "stream",
     "text": [
      "Epoch [206/400], Loss: 0.0663, Accuracy: 0.0224\n"
     ]
    },
    {
     "name": "stderr",
     "output_type": "stream",
     "text": [
      " 52%|███████████████████▏                 | 208/400 [5:40:36<4:25:14, 82.89s/it]"
     ]
    },
    {
     "name": "stdout",
     "output_type": "stream",
     "text": [
      "Epoch [208/400], Loss: 0.0662, Accuracy: 0.0226\n"
     ]
    },
    {
     "name": "stderr",
     "output_type": "stream",
     "text": [
      " 52%|███████████████████▍                 | 210/400 [5:43:43<4:36:12, 87.23s/it]"
     ]
    },
    {
     "name": "stdout",
     "output_type": "stream",
     "text": [
      "Epoch [210/400], Loss: 0.0666, Accuracy: 0.0224\n"
     ]
    },
    {
     "name": "stderr",
     "output_type": "stream",
     "text": [
      " 53%|███████████████████▌                 | 212/400 [5:47:03<4:55:00, 94.15s/it]"
     ]
    },
    {
     "name": "stdout",
     "output_type": "stream",
     "text": [
      "Epoch [212/400], Loss: 0.0653, Accuracy: 0.0226\n"
     ]
    },
    {
     "name": "stderr",
     "output_type": "stream",
     "text": [
      " 54%|███████████████████▊                 | 214/400 [5:50:19<4:56:14, 95.56s/it]"
     ]
    },
    {
     "name": "stdout",
     "output_type": "stream",
     "text": [
      "Epoch [214/400], Loss: 0.0660, Accuracy: 0.0220\n"
     ]
    },
    {
     "name": "stderr",
     "output_type": "stream",
     "text": [
      " 54%|███████████████████▉                 | 216/400 [5:53:47<5:06:14, 99.86s/it]"
     ]
    },
    {
     "name": "stdout",
     "output_type": "stream",
     "text": [
      "Epoch [216/400], Loss: 0.0659, Accuracy: 0.0225\n"
     ]
    },
    {
     "name": "stderr",
     "output_type": "stream",
     "text": [
      " 55%|████████████████████▏                | 218/400 [5:56:48<4:49:58, 95.60s/it]"
     ]
    },
    {
     "name": "stdout",
     "output_type": "stream",
     "text": [
      "Epoch [218/400], Loss: 0.0655, Accuracy: 0.0227\n"
     ]
    },
    {
     "name": "stderr",
     "output_type": "stream",
     "text": [
      " 55%|████████████████████▎                | 220/400 [5:59:35<4:27:26, 89.15s/it]"
     ]
    },
    {
     "name": "stdout",
     "output_type": "stream",
     "text": [
      "Epoch [220/400], Loss: 0.0653, Accuracy: 0.0225\n"
     ]
    },
    {
     "name": "stderr",
     "output_type": "stream",
     "text": [
      " 56%|████████████████████▌                | 222/400 [6:02:54<4:40:01, 94.39s/it]"
     ]
    },
    {
     "name": "stdout",
     "output_type": "stream",
     "text": [
      "Epoch [222/400], Loss: 0.0655, Accuracy: 0.0228\n"
     ]
    },
    {
     "name": "stderr",
     "output_type": "stream",
     "text": [
      " 56%|████████████████████▋                | 224/400 [6:06:12<4:45:26, 97.31s/it]"
     ]
    },
    {
     "name": "stdout",
     "output_type": "stream",
     "text": [
      "Epoch [224/400], Loss: 0.0650, Accuracy: 0.0226\n"
     ]
    },
    {
     "name": "stderr",
     "output_type": "stream",
     "text": [
      " 56%|████████████████████▉                | 226/400 [6:09:31<4:46:34, 98.82s/it]"
     ]
    },
    {
     "name": "stdout",
     "output_type": "stream",
     "text": [
      "Epoch [226/400], Loss: 0.0653, Accuracy: 0.0223\n"
     ]
    },
    {
     "name": "stderr",
     "output_type": "stream",
     "text": [
      " 57%|████████████████████▌               | 228/400 [6:12:58<4:49:24, 100.96s/it]"
     ]
    },
    {
     "name": "stdout",
     "output_type": "stream",
     "text": [
      "Epoch [228/400], Loss: 0.0649, Accuracy: 0.0223\n"
     ]
    },
    {
     "name": "stderr",
     "output_type": "stream",
     "text": [
      " 57%|████████████████████▋               | 230/400 [6:16:25<4:49:14, 102.08s/it]"
     ]
    },
    {
     "name": "stdout",
     "output_type": "stream",
     "text": [
      "Epoch [230/400], Loss: 0.0647, Accuracy: 0.0226\n"
     ]
    },
    {
     "name": "stderr",
     "output_type": "stream",
     "text": [
      " 58%|████████████████████▉               | 232/400 [6:19:46<4:44:48, 101.72s/it]"
     ]
    },
    {
     "name": "stdout",
     "output_type": "stream",
     "text": [
      "Epoch [232/400], Loss: 0.0649, Accuracy: 0.0226\n"
     ]
    },
    {
     "name": "stderr",
     "output_type": "stream",
     "text": [
      " 58%|█████████████████████               | 234/400 [6:23:04<4:37:06, 100.16s/it]"
     ]
    },
    {
     "name": "stdout",
     "output_type": "stream",
     "text": [
      "Epoch [234/400], Loss: 0.0645, Accuracy: 0.0223\n"
     ]
    },
    {
     "name": "stderr",
     "output_type": "stream",
     "text": [
      " 59%|█████████████████████▏              | 236/400 [6:26:31<4:38:18, 101.82s/it]"
     ]
    },
    {
     "name": "stdout",
     "output_type": "stream",
     "text": [
      "Epoch [236/400], Loss: 0.0643, Accuracy: 0.0227\n"
     ]
    },
    {
     "name": "stderr",
     "output_type": "stream",
     "text": [
      " 60%|██████████████████████               | 238/400 [6:29:46<4:28:47, 99.55s/it]"
     ]
    },
    {
     "name": "stdout",
     "output_type": "stream",
     "text": [
      "Epoch [238/400], Loss: 0.0641, Accuracy: 0.0226\n"
     ]
    },
    {
     "name": "stderr",
     "output_type": "stream",
     "text": [
      " 60%|██████████████████████▏              | 240/400 [6:32:50<4:16:23, 96.15s/it]"
     ]
    },
    {
     "name": "stdout",
     "output_type": "stream",
     "text": [
      "Epoch [240/400], Loss: 0.0646, Accuracy: 0.0223\n"
     ]
    },
    {
     "name": "stderr",
     "output_type": "stream",
     "text": [
      " 60%|██████████████████████▍              | 242/400 [6:35:35<3:54:52, 89.19s/it]"
     ]
    },
    {
     "name": "stdout",
     "output_type": "stream",
     "text": [
      "Epoch [242/400], Loss: 0.0640, Accuracy: 0.0226\n"
     ]
    },
    {
     "name": "stderr",
     "output_type": "stream",
     "text": [
      " 61%|██████████████████████▌              | 244/400 [6:38:39<3:58:42, 91.81s/it]"
     ]
    },
    {
     "name": "stdout",
     "output_type": "stream",
     "text": [
      "Epoch [244/400], Loss: 0.0640, Accuracy: 0.0219\n"
     ]
    },
    {
     "name": "stderr",
     "output_type": "stream",
     "text": [
      " 62%|██████████████████████▊              | 246/400 [6:42:00<4:06:41, 96.11s/it]"
     ]
    },
    {
     "name": "stdout",
     "output_type": "stream",
     "text": [
      "Epoch [246/400], Loss: 0.0637, Accuracy: 0.0226\n"
     ]
    },
    {
     "name": "stderr",
     "output_type": "stream",
     "text": [
      " 62%|██████████████████████▉              | 248/400 [6:45:18<4:05:37, 96.96s/it]"
     ]
    },
    {
     "name": "stdout",
     "output_type": "stream",
     "text": [
      "Epoch [248/400], Loss: 0.0632, Accuracy: 0.0226\n"
     ]
    },
    {
     "name": "stderr",
     "output_type": "stream",
     "text": [
      " 62%|███████████████████████▏             | 250/400 [6:48:29<3:59:10, 95.67s/it]"
     ]
    },
    {
     "name": "stdout",
     "output_type": "stream",
     "text": [
      "Epoch [250/400], Loss: 0.0638, Accuracy: 0.0226\n"
     ]
    },
    {
     "name": "stderr",
     "output_type": "stream",
     "text": [
      " 63%|███████████████████████▎             | 252/400 [6:51:37<3:54:13, 94.96s/it]"
     ]
    },
    {
     "name": "stdout",
     "output_type": "stream",
     "text": [
      "Epoch [252/400], Loss: 0.0633, Accuracy: 0.0228\n"
     ]
    },
    {
     "name": "stderr",
     "output_type": "stream",
     "text": [
      " 64%|███████████████████████▍             | 254/400 [6:54:39<3:44:55, 92.43s/it]"
     ]
    },
    {
     "name": "stdout",
     "output_type": "stream",
     "text": [
      "Epoch [254/400], Loss: 0.0637, Accuracy: 0.0226\n"
     ]
    },
    {
     "name": "stderr",
     "output_type": "stream",
     "text": [
      " 64%|███████████████████████▋             | 256/400 [6:57:24<3:26:45, 86.15s/it]"
     ]
    },
    {
     "name": "stdout",
     "output_type": "stream",
     "text": [
      "Epoch [256/400], Loss: 0.0636, Accuracy: 0.0228\n"
     ]
    },
    {
     "name": "stderr",
     "output_type": "stream",
     "text": [
      " 64%|███████████████████████▊             | 258/400 [7:00:34<3:33:17, 90.12s/it]"
     ]
    },
    {
     "name": "stdout",
     "output_type": "stream",
     "text": [
      "Epoch [258/400], Loss: 0.0632, Accuracy: 0.0226\n"
     ]
    },
    {
     "name": "stderr",
     "output_type": "stream",
     "text": [
      " 65%|████████████████████████             | 260/400 [7:04:03<3:47:04, 97.32s/it]"
     ]
    },
    {
     "name": "stdout",
     "output_type": "stream",
     "text": [
      "Epoch [260/400], Loss: 0.0637, Accuracy: 0.0227\n"
     ]
    },
    {
     "name": "stderr",
     "output_type": "stream",
     "text": [
      " 66%|████████████████████████▏            | 262/400 [7:07:27<3:48:43, 99.45s/it]"
     ]
    },
    {
     "name": "stdout",
     "output_type": "stream",
     "text": [
      "Epoch [262/400], Loss: 0.0631, Accuracy: 0.0226\n"
     ]
    },
    {
     "name": "stderr",
     "output_type": "stream",
     "text": [
      " 66%|████████████████████████▍            | 264/400 [7:10:42<3:44:30, 99.05s/it]"
     ]
    },
    {
     "name": "stdout",
     "output_type": "stream",
     "text": [
      "Epoch [264/400], Loss: 0.0631, Accuracy: 0.0223\n"
     ]
    },
    {
     "name": "stderr",
     "output_type": "stream",
     "text": [
      " 66%|████████████████████████▌            | 266/400 [7:13:40<3:32:00, 94.93s/it]"
     ]
    },
    {
     "name": "stdout",
     "output_type": "stream",
     "text": [
      "Epoch [266/400], Loss: 0.0628, Accuracy: 0.0225\n"
     ]
    },
    {
     "name": "stderr",
     "output_type": "stream",
     "text": [
      " 67%|████████████████████████▊            | 268/400 [7:16:42<3:27:01, 94.10s/it]"
     ]
    },
    {
     "name": "stdout",
     "output_type": "stream",
     "text": [
      "Epoch [268/400], Loss: 0.0630, Accuracy: 0.0227\n"
     ]
    },
    {
     "name": "stderr",
     "output_type": "stream",
     "text": [
      " 68%|████████████████████████▉            | 270/400 [7:19:56<3:27:56, 95.97s/it]"
     ]
    },
    {
     "name": "stdout",
     "output_type": "stream",
     "text": [
      "Epoch [270/400], Loss: 0.0626, Accuracy: 0.0223\n"
     ]
    },
    {
     "name": "stderr",
     "output_type": "stream",
     "text": [
      " 68%|█████████████████████████▏           | 272/400 [7:23:10<3:26:32, 96.81s/it]"
     ]
    },
    {
     "name": "stdout",
     "output_type": "stream",
     "text": [
      "Epoch [272/400], Loss: 0.0628, Accuracy: 0.0218\n"
     ]
    },
    {
     "name": "stderr",
     "output_type": "stream",
     "text": [
      " 68%|█████████████████████████▎           | 274/400 [7:26:28<3:26:48, 98.48s/it]"
     ]
    },
    {
     "name": "stdout",
     "output_type": "stream",
     "text": [
      "Epoch [274/400], Loss: 0.0629, Accuracy: 0.0227\n"
     ]
    },
    {
     "name": "stderr",
     "output_type": "stream",
     "text": [
      " 69%|████████████████████████▊           | 276/400 [7:29:55<3:28:04, 100.68s/it]"
     ]
    },
    {
     "name": "stdout",
     "output_type": "stream",
     "text": [
      "Epoch [276/400], Loss: 0.0622, Accuracy: 0.0223\n"
     ]
    },
    {
     "name": "stderr",
     "output_type": "stream",
     "text": [
      " 70%|█████████████████████████           | 278/400 [7:33:24<3:28:40, 102.62s/it]"
     ]
    },
    {
     "name": "stdout",
     "output_type": "stream",
     "text": [
      "Epoch [278/400], Loss: 0.0618, Accuracy: 0.0225\n"
     ]
    },
    {
     "name": "stderr",
     "output_type": "stream",
     "text": [
      " 70%|█████████████████████████▏          | 280/400 [7:36:44<3:22:20, 101.17s/it]"
     ]
    },
    {
     "name": "stdout",
     "output_type": "stream",
     "text": [
      "Epoch [280/400], Loss: 0.0625, Accuracy: 0.0226\n"
     ]
    },
    {
     "name": "stderr",
     "output_type": "stream",
     "text": [
      " 70%|█████████████████████████▍          | 282/400 [7:40:09<3:19:54, 101.65s/it]"
     ]
    },
    {
     "name": "stdout",
     "output_type": "stream",
     "text": [
      "Epoch [282/400], Loss: 0.0621, Accuracy: 0.0225\n"
     ]
    },
    {
     "name": "stderr",
     "output_type": "stream",
     "text": [
      " 71%|██████████████████████████▎          | 284/400 [7:43:27<3:12:43, 99.68s/it]"
     ]
    },
    {
     "name": "stdout",
     "output_type": "stream",
     "text": [
      "Epoch [284/400], Loss: 0.0623, Accuracy: 0.0224\n"
     ]
    },
    {
     "name": "stderr",
     "output_type": "stream",
     "text": [
      " 72%|██████████████████████████▍          | 286/400 [7:46:31<3:00:40, 95.09s/it]"
     ]
    },
    {
     "name": "stdout",
     "output_type": "stream",
     "text": [
      "Epoch [286/400], Loss: 0.0618, Accuracy: 0.0224\n"
     ]
    },
    {
     "name": "stderr",
     "output_type": "stream",
     "text": [
      " 72%|██████████████████████████▋          | 288/400 [7:49:38<2:57:37, 95.16s/it]"
     ]
    },
    {
     "name": "stdout",
     "output_type": "stream",
     "text": [
      "Epoch [288/400], Loss: 0.0617, Accuracy: 0.0224\n"
     ]
    },
    {
     "name": "stderr",
     "output_type": "stream",
     "text": [
      " 72%|██████████████████████████▊          | 290/400 [7:52:41<2:48:50, 92.10s/it]"
     ]
    },
    {
     "name": "stdout",
     "output_type": "stream",
     "text": [
      "Epoch [290/400], Loss: 0.0620, Accuracy: 0.0224\n"
     ]
    },
    {
     "name": "stderr",
     "output_type": "stream",
     "text": [
      " 73%|███████████████████████████          | 292/400 [7:55:54<2:48:48, 93.78s/it]"
     ]
    },
    {
     "name": "stdout",
     "output_type": "stream",
     "text": [
      "Epoch [292/400], Loss: 0.0618, Accuracy: 0.0220\n"
     ]
    },
    {
     "name": "stderr",
     "output_type": "stream",
     "text": [
      " 74%|███████████████████████████▏         | 294/400 [7:59:16<2:51:49, 97.26s/it]"
     ]
    },
    {
     "name": "stdout",
     "output_type": "stream",
     "text": [
      "Epoch [294/400], Loss: 0.0617, Accuracy: 0.0225\n"
     ]
    },
    {
     "name": "stderr",
     "output_type": "stream",
     "text": [
      " 74%|███████████████████████████▍         | 296/400 [8:01:40<2:23:30, 82.79s/it]"
     ]
    },
    {
     "name": "stdout",
     "output_type": "stream",
     "text": [
      "Epoch [296/400], Loss: 0.0619, Accuracy: 0.0226\n"
     ]
    },
    {
     "name": "stderr",
     "output_type": "stream",
     "text": [
      " 74%|███████████████████████████▌         | 298/400 [8:04:39<2:26:20, 86.08s/it]"
     ]
    },
    {
     "name": "stdout",
     "output_type": "stream",
     "text": [
      "Epoch [298/400], Loss: 0.0616, Accuracy: 0.0227\n"
     ]
    },
    {
     "name": "stderr",
     "output_type": "stream",
     "text": [
      " 75%|███████████████████████████▊         | 300/400 [8:07:56<2:34:06, 92.46s/it]"
     ]
    },
    {
     "name": "stdout",
     "output_type": "stream",
     "text": [
      "Epoch [300/400], Loss: 0.0614, Accuracy: 0.0219\n"
     ]
    },
    {
     "name": "stderr",
     "output_type": "stream",
     "text": [
      " 76%|███████████████████████████▉         | 302/400 [8:11:12<2:35:15, 95.06s/it]"
     ]
    },
    {
     "name": "stdout",
     "output_type": "stream",
     "text": [
      "Epoch [302/400], Loss: 0.0618, Accuracy: 0.0224\n"
     ]
    },
    {
     "name": "stderr",
     "output_type": "stream",
     "text": [
      " 76%|████████████████████████████         | 304/400 [8:14:37<2:37:34, 98.49s/it]"
     ]
    },
    {
     "name": "stdout",
     "output_type": "stream",
     "text": [
      "Epoch [304/400], Loss: 0.0612, Accuracy: 0.0223\n"
     ]
    },
    {
     "name": "stderr",
     "output_type": "stream",
     "text": [
      " 76%|████████████████████████████▎        | 306/400 [8:17:49<2:32:21, 97.25s/it]"
     ]
    },
    {
     "name": "stdout",
     "output_type": "stream",
     "text": [
      "Epoch [306/400], Loss: 0.0610, Accuracy: 0.0227\n"
     ]
    },
    {
     "name": "stderr",
     "output_type": "stream",
     "text": [
      " 77%|███████████████████████████▋        | 308/400 [8:21:17<2:34:18, 100.64s/it]"
     ]
    },
    {
     "name": "stdout",
     "output_type": "stream",
     "text": [
      "Epoch [308/400], Loss: 0.0614, Accuracy: 0.0224\n"
     ]
    },
    {
     "name": "stderr",
     "output_type": "stream",
     "text": [
      " 78%|███████████████████████████▉        | 310/400 [8:24:43<2:32:38, 101.76s/it]"
     ]
    },
    {
     "name": "stdout",
     "output_type": "stream",
     "text": [
      "Epoch [310/400], Loss: 0.0609, Accuracy: 0.0226\n"
     ]
    },
    {
     "name": "stderr",
     "output_type": "stream",
     "text": [
      " 78%|████████████████████████████        | 312/400 [8:28:01<2:27:06, 100.30s/it]"
     ]
    },
    {
     "name": "stdout",
     "output_type": "stream",
     "text": [
      "Epoch [312/400], Loss: 0.0607, Accuracy: 0.0227\n"
     ]
    },
    {
     "name": "stderr",
     "output_type": "stream",
     "text": [
      " 78%|████████████████████████████▎       | 314/400 [8:31:26<2:25:31, 101.53s/it]"
     ]
    },
    {
     "name": "stdout",
     "output_type": "stream",
     "text": [
      "Epoch [314/400], Loss: 0.0606, Accuracy: 0.0228\n"
     ]
    },
    {
     "name": "stderr",
     "output_type": "stream",
     "text": [
      " 79%|████████████████████████████▍       | 316/400 [8:34:56<2:24:26, 103.17s/it]"
     ]
    },
    {
     "name": "stdout",
     "output_type": "stream",
     "text": [
      "Epoch [316/400], Loss: 0.0608, Accuracy: 0.0224\n"
     ]
    },
    {
     "name": "stderr",
     "output_type": "stream",
     "text": [
      " 80%|████████████████████████████▌       | 318/400 [8:38:25<2:21:52, 103.81s/it]"
     ]
    },
    {
     "name": "stdout",
     "output_type": "stream",
     "text": [
      "Epoch [318/400], Loss: 0.0609, Accuracy: 0.0218\n"
     ]
    },
    {
     "name": "stderr",
     "output_type": "stream",
     "text": [
      " 80%|████████████████████████████▊       | 320/400 [8:41:45<2:16:19, 102.24s/it]"
     ]
    },
    {
     "name": "stdout",
     "output_type": "stream",
     "text": [
      "Epoch [320/400], Loss: 0.0610, Accuracy: 0.0227\n"
     ]
    },
    {
     "name": "stderr",
     "output_type": "stream",
     "text": [
      " 80%|█████████████████████████████▊       | 322/400 [8:44:28<1:57:18, 90.24s/it]"
     ]
    },
    {
     "name": "stdout",
     "output_type": "stream",
     "text": [
      "Epoch [322/400], Loss: 0.0606, Accuracy: 0.0223\n"
     ]
    },
    {
     "name": "stderr",
     "output_type": "stream",
     "text": [
      " 81%|█████████████████████████████▉       | 324/400 [8:46:49<1:42:42, 81.08s/it]"
     ]
    },
    {
     "name": "stdout",
     "output_type": "stream",
     "text": [
      "Epoch [324/400], Loss: 0.0608, Accuracy: 0.0225\n"
     ]
    },
    {
     "name": "stderr",
     "output_type": "stream",
     "text": [
      " 82%|██████████████████████████████▏      | 326/400 [8:49:14<1:33:14, 75.60s/it]"
     ]
    },
    {
     "name": "stdout",
     "output_type": "stream",
     "text": [
      "Epoch [326/400], Loss: 0.0604, Accuracy: 0.0228\n"
     ]
    },
    {
     "name": "stderr",
     "output_type": "stream",
     "text": [
      " 82%|██████████████████████████████▎      | 328/400 [8:52:32<1:44:52, 87.39s/it]"
     ]
    },
    {
     "name": "stdout",
     "output_type": "stream",
     "text": [
      "Epoch [328/400], Loss: 0.0601, Accuracy: 0.0224\n"
     ]
    },
    {
     "name": "stderr",
     "output_type": "stream",
     "text": [
      " 82%|██████████████████████████████▌      | 330/400 [8:56:00<1:51:53, 95.91s/it]"
     ]
    },
    {
     "name": "stdout",
     "output_type": "stream",
     "text": [
      "Epoch [330/400], Loss: 0.0610, Accuracy: 0.0224\n"
     ]
    },
    {
     "name": "stderr",
     "output_type": "stream",
     "text": [
      " 83%|██████████████████████████████▋      | 332/400 [8:59:18<1:50:23, 97.40s/it]"
     ]
    },
    {
     "name": "stdout",
     "output_type": "stream",
     "text": [
      "Epoch [332/400], Loss: 0.0611, Accuracy: 0.0227\n"
     ]
    },
    {
     "name": "stderr",
     "output_type": "stream",
     "text": [
      " 84%|██████████████████████████████▉      | 334/400 [9:02:29<1:46:07, 96.48s/it]"
     ]
    },
    {
     "name": "stdout",
     "output_type": "stream",
     "text": [
      "Epoch [334/400], Loss: 0.0602, Accuracy: 0.0224\n"
     ]
    },
    {
     "name": "stderr",
     "output_type": "stream",
     "text": [
      " 84%|███████████████████████████████      | 336/400 [9:05:37<1:42:07, 95.74s/it]"
     ]
    },
    {
     "name": "stdout",
     "output_type": "stream",
     "text": [
      "Epoch [336/400], Loss: 0.0606, Accuracy: 0.0224\n"
     ]
    },
    {
     "name": "stderr",
     "output_type": "stream",
     "text": [
      " 84%|███████████████████████████████▎     | 338/400 [9:09:01<1:42:12, 98.91s/it]"
     ]
    },
    {
     "name": "stdout",
     "output_type": "stream",
     "text": [
      "Epoch [338/400], Loss: 0.0600, Accuracy: 0.0228\n"
     ]
    },
    {
     "name": "stderr",
     "output_type": "stream",
     "text": [
      " 85%|██████████████████████████████▌     | 340/400 [9:12:23<1:40:00, 100.01s/it]"
     ]
    },
    {
     "name": "stdout",
     "output_type": "stream",
     "text": [
      "Epoch [340/400], Loss: 0.0600, Accuracy: 0.0227\n"
     ]
    },
    {
     "name": "stderr",
     "output_type": "stream",
     "text": [
      " 86%|██████████████████████████████▊     | 342/400 [9:15:44<1:37:01, 100.37s/it]"
     ]
    },
    {
     "name": "stdout",
     "output_type": "stream",
     "text": [
      "Epoch [342/400], Loss: 0.0605, Accuracy: 0.0226\n"
     ]
    },
    {
     "name": "stderr",
     "output_type": "stream",
     "text": [
      " 86%|███████████████████████████████▊     | 344/400 [9:19:00<1:32:55, 99.57s/it]"
     ]
    },
    {
     "name": "stdout",
     "output_type": "stream",
     "text": [
      "Epoch [344/400], Loss: 0.0606, Accuracy: 0.0228\n"
     ]
    },
    {
     "name": "stderr",
     "output_type": "stream",
     "text": [
      " 86%|████████████████████████████████     | 346/400 [9:22:20<1:29:54, 99.89s/it]"
     ]
    },
    {
     "name": "stdout",
     "output_type": "stream",
     "text": [
      "Epoch [346/400], Loss: 0.0604, Accuracy: 0.0225\n"
     ]
    },
    {
     "name": "stderr",
     "output_type": "stream",
     "text": [
      " 87%|████████████████████████████████▏    | 348/400 [9:25:36<1:25:37, 98.80s/it]"
     ]
    },
    {
     "name": "stdout",
     "output_type": "stream",
     "text": [
      "Epoch [348/400], Loss: 0.0597, Accuracy: 0.0226\n"
     ]
    },
    {
     "name": "stderr",
     "output_type": "stream",
     "text": [
      " 88%|████████████████████████████████▍    | 350/400 [9:28:54<1:22:47, 99.35s/it]"
     ]
    },
    {
     "name": "stdout",
     "output_type": "stream",
     "text": [
      "Epoch [350/400], Loss: 0.0601, Accuracy: 0.0227\n"
     ]
    },
    {
     "name": "stderr",
     "output_type": "stream",
     "text": [
      " 88%|████████████████████████████████▌    | 352/400 [9:31:46<1:13:07, 91.41s/it]"
     ]
    },
    {
     "name": "stdout",
     "output_type": "stream",
     "text": [
      "Epoch [352/400], Loss: 0.0599, Accuracy: 0.0224\n"
     ]
    },
    {
     "name": "stderr",
     "output_type": "stream",
     "text": [
      " 88%|████████████████████████████████▋    | 354/400 [9:35:10<1:14:08, 96.70s/it]"
     ]
    },
    {
     "name": "stdout",
     "output_type": "stream",
     "text": [
      "Epoch [354/400], Loss: 0.0595, Accuracy: 0.0227\n"
     ]
    },
    {
     "name": "stderr",
     "output_type": "stream",
     "text": [
      " 89%|████████████████████████████████    | 356/400 [9:38:38<1:13:24, 100.11s/it]"
     ]
    },
    {
     "name": "stdout",
     "output_type": "stream",
     "text": [
      "Epoch [356/400], Loss: 0.0599, Accuracy: 0.0220\n"
     ]
    },
    {
     "name": "stderr",
     "output_type": "stream",
     "text": [
      " 90%|████████████████████████████████▏   | 358/400 [9:42:07<1:11:41, 102.41s/it]"
     ]
    },
    {
     "name": "stdout",
     "output_type": "stream",
     "text": [
      "Epoch [358/400], Loss: 0.0594, Accuracy: 0.0227\n"
     ]
    },
    {
     "name": "stderr",
     "output_type": "stream",
     "text": [
      " 90%|████████████████████████████████▍   | 360/400 [9:45:36<1:08:59, 103.49s/it]"
     ]
    },
    {
     "name": "stdout",
     "output_type": "stream",
     "text": [
      "Epoch [360/400], Loss: 0.0594, Accuracy: 0.0223\n"
     ]
    },
    {
     "name": "stderr",
     "output_type": "stream",
     "text": [
      " 90%|████████████████████████████████▌   | 362/400 [9:48:56<1:04:33, 101.94s/it]"
     ]
    },
    {
     "name": "stdout",
     "output_type": "stream",
     "text": [
      "Epoch [362/400], Loss: 0.0592, Accuracy: 0.0222\n"
     ]
    },
    {
     "name": "stderr",
     "output_type": "stream",
     "text": [
      " 91%|███████████████████████████████████▍   | 364/400 [9:52:00<58:34, 97.63s/it]"
     ]
    },
    {
     "name": "stdout",
     "output_type": "stream",
     "text": [
      "Epoch [364/400], Loss: 0.0596, Accuracy: 0.0226\n"
     ]
    },
    {
     "name": "stderr",
     "output_type": "stream",
     "text": [
      " 92%|███████████████████████████████████▋   | 366/400 [9:55:17<55:20, 97.66s/it]"
     ]
    },
    {
     "name": "stdout",
     "output_type": "stream",
     "text": [
      "Epoch [366/400], Loss: 0.0593, Accuracy: 0.0223\n"
     ]
    },
    {
     "name": "stderr",
     "output_type": "stream",
     "text": [
      " 92%|███████████████████████████████████▉   | 368/400 [9:58:26<50:51, 95.37s/it]"
     ]
    },
    {
     "name": "stdout",
     "output_type": "stream",
     "text": [
      "Epoch [368/400], Loss: 0.0592, Accuracy: 0.0225\n"
     ]
    },
    {
     "name": "stderr",
     "output_type": "stream",
     "text": [
      " 92%|███████████████████████████████████▏  | 370/400 [10:01:19<45:55, 91.85s/it]"
     ]
    },
    {
     "name": "stdout",
     "output_type": "stream",
     "text": [
      "Epoch [370/400], Loss: 0.0591, Accuracy: 0.0224\n"
     ]
    },
    {
     "name": "stderr",
     "output_type": "stream",
     "text": [
      " 93%|███████████████████████████████████▎  | 372/400 [10:04:22<42:32, 91.16s/it]"
     ]
    },
    {
     "name": "stdout",
     "output_type": "stream",
     "text": [
      "Epoch [372/400], Loss: 0.0593, Accuracy: 0.0224\n"
     ]
    },
    {
     "name": "stderr",
     "output_type": "stream",
     "text": [
      " 94%|███████████████████████████████████▌  | 374/400 [10:07:03<37:30, 86.54s/it]"
     ]
    },
    {
     "name": "stdout",
     "output_type": "stream",
     "text": [
      "Epoch [374/400], Loss: 0.0589, Accuracy: 0.0228\n"
     ]
    },
    {
     "name": "stderr",
     "output_type": "stream",
     "text": [
      " 94%|███████████████████████████████████▋  | 376/400 [10:10:28<37:55, 94.83s/it]"
     ]
    },
    {
     "name": "stdout",
     "output_type": "stream",
     "text": [
      "Epoch [376/400], Loss: 0.0589, Accuracy: 0.0216\n"
     ]
    },
    {
     "name": "stderr",
     "output_type": "stream",
     "text": [
      " 94%|███████████████████████████████████▉  | 378/400 [10:13:37<34:57, 95.36s/it]"
     ]
    },
    {
     "name": "stdout",
     "output_type": "stream",
     "text": [
      "Epoch [378/400], Loss: 0.0590, Accuracy: 0.0225\n"
     ]
    },
    {
     "name": "stderr",
     "output_type": "stream",
     "text": [
      " 95%|████████████████████████████████████  | 380/400 [10:16:58<32:36, 97.84s/it]"
     ]
    },
    {
     "name": "stdout",
     "output_type": "stream",
     "text": [
      "Epoch [380/400], Loss: 0.0587, Accuracy: 0.0227\n"
     ]
    },
    {
     "name": "stderr",
     "output_type": "stream",
     "text": [
      " 96%|████████████████████████████████████▎ | 382/400 [10:20:06<28:32, 95.14s/it]"
     ]
    },
    {
     "name": "stdout",
     "output_type": "stream",
     "text": [
      "Epoch [382/400], Loss: 0.0583, Accuracy: 0.0229\n"
     ]
    },
    {
     "name": "stderr",
     "output_type": "stream",
     "text": [
      " 96%|████████████████████████████████████▍ | 384/400 [10:23:33<26:25, 99.08s/it]"
     ]
    },
    {
     "name": "stdout",
     "output_type": "stream",
     "text": [
      "Epoch [384/400], Loss: 0.0583, Accuracy: 0.0227\n"
     ]
    },
    {
     "name": "stderr",
     "output_type": "stream",
     "text": [
      " 96%|████████████████████████████████████▋ | 386/400 [10:26:51<23:12, 99.44s/it]"
     ]
    },
    {
     "name": "stdout",
     "output_type": "stream",
     "text": [
      "Epoch [386/400], Loss: 0.0586, Accuracy: 0.0220\n"
     ]
    },
    {
     "name": "stderr",
     "output_type": "stream",
     "text": [
      " 97%|███████████████████████████████████▉ | 388/400 [10:30:13<20:02, 100.24s/it]"
     ]
    },
    {
     "name": "stdout",
     "output_type": "stream",
     "text": [
      "Epoch [388/400], Loss: 0.0591, Accuracy: 0.0224\n"
     ]
    },
    {
     "name": "stderr",
     "output_type": "stream",
     "text": [
      " 98%|████████████████████████████████████ | 390/400 [10:33:38<16:51, 101.14s/it]"
     ]
    },
    {
     "name": "stdout",
     "output_type": "stream",
     "text": [
      "Epoch [390/400], Loss: 0.0583, Accuracy: 0.0218\n"
     ]
    },
    {
     "name": "stderr",
     "output_type": "stream",
     "text": [
      " 98%|████████████████████████████████████▎| 392/400 [10:37:05<13:40, 102.62s/it]"
     ]
    },
    {
     "name": "stdout",
     "output_type": "stream",
     "text": [
      "Epoch [392/400], Loss: 0.0588, Accuracy: 0.0226\n"
     ]
    },
    {
     "name": "stderr",
     "output_type": "stream",
     "text": [
      " 98%|████████████████████████████████████▍| 394/400 [10:40:29<10:13, 102.18s/it]"
     ]
    },
    {
     "name": "stdout",
     "output_type": "stream",
     "text": [
      "Epoch [394/400], Loss: 0.0583, Accuracy: 0.0222\n"
     ]
    },
    {
     "name": "stderr",
     "output_type": "stream",
     "text": [
      " 99%|████████████████████████████████████▋| 396/400 [10:43:54<06:48, 102.04s/it]"
     ]
    },
    {
     "name": "stdout",
     "output_type": "stream",
     "text": [
      "Epoch [396/400], Loss: 0.0585, Accuracy: 0.0226\n"
     ]
    },
    {
     "name": "stderr",
     "output_type": "stream",
     "text": [
      "100%|█████████████████████████████████████▊| 398/400 [10:47:06<03:16, 98.31s/it]"
     ]
    },
    {
     "name": "stdout",
     "output_type": "stream",
     "text": [
      "Epoch [398/400], Loss: 0.0583, Accuracy: 0.0226\n"
     ]
    },
    {
     "name": "stderr",
     "output_type": "stream",
     "text": [
      "100%|██████████████████████████████████████| 400/400 [10:50:31<00:00, 97.58s/it]"
     ]
    },
    {
     "name": "stdout",
     "output_type": "stream",
     "text": [
      "Epoch [400/400], Loss: 0.0582, Accuracy: 0.0225\n"
     ]
    },
    {
     "name": "stderr",
     "output_type": "stream",
     "text": [
      "\n"
     ]
    }
   ],
   "source": [
    "random_seed = 55 #31\n",
    "num_neurons = 100000\n",
    "batch_size = 32  # Adjust batch size as needed\n",
    "\n",
    "torch.manual_seed(random_seed)  \n",
    "X_tensor = torch.FloatTensor(X)\n",
    "y_tensor = torch.tensor(y)\n",
    "\n",
    "# Create dataset and dataloader for minibatching\n",
    "dataset = TensorDataset(X_tensor, y_tensor)\n",
    "dataloader = DataLoader(dataset, batch_size=batch_size, shuffle=True)\n",
    "\n",
    "# Initialize model and optimizer\n",
    "model = BaarleNet([num_neurons]).to(device)\n",
    "criterion = nn.CrossEntropyLoss()\n",
    "optimizer = optim.Adam(model.parameters(), lr=0.0015)\n",
    "num_epochs = 400\n",
    "\n",
    "for epoch in tqdm(range(num_epochs)):\n",
    "    epoch_loss = 0.0\n",
    "    num_batches = 0\n",
    "    \n",
    "    for batch_X, batch_y in dataloader:\n",
    "        # Forward pass\n",
    "        outputs = model(batch_X.to(device))\n",
    "        loss = criterion(outputs, batch_y.to(device))\n",
    "        \n",
    "        # Backward and optimize\n",
    "        optimizer.zero_grad()\n",
    "        loss.backward()\n",
    "        optimizer.step()\n",
    "        \n",
    "        epoch_loss += loss.item()\n",
    "        num_batches += 1\n",
    "    \n",
    "    # Calculate average loss for the epoch\n",
    "    avg_loss = epoch_loss / num_batches\n",
    "    \n",
    "    if (epoch + 1) % (num_epochs // 200) == 0:\n",
    "        # Calculate accuracy on full dataset\n",
    "        with torch.no_grad():\n",
    "            outputs_batch = model(torch.FloatTensor(X_sample).to(device))\n",
    "            accuracy = (torch.argmax(outputs_batch, dim=1) == torch.tensor(y_sample).to(device)).sum().item() / len(y)\n",
    "        print(f'Epoch [{epoch+1}/{num_epochs}], Loss: {avg_loss:.4f}, Accuracy: {accuracy:.4f}')"
   ]
  },
  {
   "cell_type": "code",
   "execution_count": 16,
   "id": "4d730d35-632e-4e71-aed2-9aa5900c3f3d",
   "metadata": {},
   "outputs": [
    {
     "data": {
      "image/png": "[encoded data removed]",
      "text/plain": [
       "<Figure size 1000x500 with 2 Axes>"
      ]
     },
     "metadata": {},
     "output_type": "display_data"
    }
   ],
   "source": [
    "probe=np.zeros((100,100,2))\n",
    "for j, xx in enumerate(np.linspace(-1, 1, 100)):\n",
    "    for k, yy in enumerate(np.linspace(-1, 1, 100)):\n",
    "        probe[j, k]=[yy,xx]\n",
    "probe=probe.reshape(100**2, -1)\n",
    "\n",
    "h2 = model.model[:3](torch.tensor(probe).to(device).float())\n",
    "h2 = h2.detach().cpu().numpy().reshape(100,100,2)\n",
    "\n",
    "fig=plt.figure(0,(10,5)); \n",
    "for i in range(2):\n",
    "    ax=fig.add_subplot(1,2,i+1)\n",
    "    ax.imshow(map.mean(2), cmap='gray')\n",
    "    ax.imshow(np.flipud(np.argmax(h2,2)), \n",
    "               extent=[0, 960, 960, 0],  # This maps to image coordinates\n",
    "               alpha=0.7,\n",
    "               cmap='viridis')\n",
    "# plt.savefig(save_dir+str(num_neurons)+'/random_seed_'+str(random_seed)+'.png')"
   ]
  },
  {
   "cell_type": "code",
   "execution_count": 13,
   "id": "8d243b9b-0d3b-4260-a3a6-5835acf92858",
   "metadata": {},
   "outputs": [],
   "source": [
    "# _=extract_weights_to_numpy(model, output_file='one_layer_alot_nuerons.py')"
   ]
  },
  {
   "cell_type": "code",
   "execution_count": 14,
   "id": "cab53ef7-7717-4bb5-9eb3-1cdccea5e9c3",
   "metadata": {},
   "outputs": [],
   "source": [
    "# torch.save(model,  'one_layer_100k_neurons_long.pt')"
   ]
  },
  {
   "cell_type": "code",
   "execution_count": 17,
   "id": "713d1a16-fa5c-4fe2-a558-ccb3858b7557",
   "metadata": {},
   "outputs": [
    {
     "data": {
      "text/plain": [
       "BaarleNet(\n",
       "  (model): Sequential(\n",
       "    (0): Linear(in_features=2, out_features=100000, bias=True)\n",
       "    (1): ReLU()\n",
       "    (2): Linear(in_features=100000, out_features=2, bias=True)\n",
       "  )\n",
       ")"
      ]
     },
     "execution_count": 17,
     "metadata": {},
     "output_type": "execute_result"
    }
   ],
   "source": [
    "model"
   ]
  },
  {
   "cell_type": "markdown",
   "id": "50256d3e-05e5-4d8f-89d5-52a11c95e521",
   "metadata": {},
   "source": [
    "Hmm ok I guess I son't save this one - pretty sure that the other 100k model was better, niether fully get the border tho!"
   ]
  },
  {
   "cell_type": "code",
   "execution_count": null,
   "id": "9023b362-7ef3-4e6d-8f9f-3d090b0db18d",
   "metadata": {},
   "outputs": [],
   "source": []
  },
  {
   "cell_type": "code",
   "execution_count": null,
   "id": "1adc0e19-586d-42d4-aa29-545169506786",
   "metadata": {},
   "outputs": [],
   "source": []
  }
 ],
 "metadata": {
  "kernelspec": {
   "display_name": "Python 3 (ipykernel)",
   "language": "python",
   "name": "python3"
  },
  "language_info": {
   "codemirror_mode": {
    "name": "ipython",
    "version": 3
   },
   "file_extension": ".py",
   "mimetype": "text/x-python",
   "name": "python",
   "nbconvert_exporter": "python",
   "pygments_lexer": "ipython3",
   "version": "3.11.7"
  }
 },
 "nbformat": 4,
 "nbformat_minor": 5
}
