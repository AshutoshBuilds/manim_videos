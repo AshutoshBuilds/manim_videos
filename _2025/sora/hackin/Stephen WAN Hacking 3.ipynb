{
 "cells": [
  {
   "cell_type": "markdown",
   "id": "9aea0e4d-7c79-4d06-8372-3348e992ce79",
   "metadata": {},
   "source": [
    "## Stephen WAN Hacking 3 - another layer deeper\n",
    "- Ok now let me try to get into the model itself"
   ]
  },
  {
   "cell_type": "code",
   "execution_count": 1,
   "id": "7585afe0-4d89-494d-9cf3-325a6959ccf9",
   "metadata": {},
   "outputs": [],
   "source": [
    "# Copyright 2024-2025 The Alibaba Wan Team Authors. All rights reserved.\n",
    "import argparse\n",
    "from datetime import datetime\n",
    "import logging\n",
    "import os\n",
    "import sys\n",
    "import warnings\n",
    "\n",
    "warnings.filterwarnings('ignore')\n",
    "\n",
    "import torch, random\n",
    "import torch.distributed as dist\n",
    "from PIL import Image\n",
    "\n",
    "import wan\n",
    "from wan.configs import WAN_CONFIGS, SIZE_CONFIGS, MAX_AREA_CONFIGS, SUPPORTED_SIZES\n",
    "from wan.utils.prompt_extend import DashScopePromptExpander, QwenPromptExpander\n",
    "from wan.utils.utils import cache_video, cache_image, str2bool\n"
   ]
  },
  {
   "cell_type": "markdown",
   "id": "d9a966b3-47b8-40cf-9e31-06bb53ef847d",
   "metadata": {},
   "source": [
    "```\n",
    "python generate.py  --task t2v-1.3B --size 832*480 --ckpt_dir ./Wan2.1-T2V-1.3B --offload_model True --t5_cpu --sample_shift 8 --sample_guide_scale 6 --prompt \"Two anthropomorphic cats in comfy boxing gear and bright gloves fight intensely on a spotlighted stage.\"\n",
    "```"
   ]
  },
  {
   "cell_type": "code",
   "execution_count": 2,
   "id": "1e0ff304-83e1-4333-a6c1-c4adf20c35ab",
   "metadata": {},
   "outputs": [],
   "source": [
    "EXAMPLE_PROMPT = {\n",
    "    \"t2v-1.3B\": {\n",
    "        \"prompt\": \"Two anthropomorphic cats in comfy boxing gear and bright gloves fight intensely on a spotlighted stage.\",\n",
    "    },\n",
    "    \"t2v-14B\": {\n",
    "        \"prompt\": \"Two anthropomorphic cats in comfy boxing gear and bright gloves fight intensely on a spotlighted stage.\",\n",
    "    },\n",
    "    \"t2i-14B\": {\n",
    "        \"prompt\": \"一个朴素端庄的美人\",\n",
    "    },\n",
    "    \"i2v-14B\": {\n",
    "        \"prompt\":\n",
    "            \"Summer beach vacation style, a white cat wearing sunglasses sits on a surfboard. The fluffy-furred feline gazes directly at the camera with a relaxed expression. Blurred beach scenery forms the background featuring crystal-clear waters, distant green hills, and a blue sky dotted with white clouds. The cat assumes a naturally relaxed posture, as if savoring the sea breeze and warm sunlight. A close-up shot highlights the feline's intricate details and the refreshing atmosphere of the seaside.\",\n",
    "        \"image\":\n",
    "            \"examples/i2v_input.JPG\",\n",
    "    },\n",
    "}"
   ]
  },
  {
   "cell_type": "code",
   "execution_count": 3,
   "id": "a81b2588-4e79-4a30-93e4-f19822650b05",
   "metadata": {},
   "outputs": [],
   "source": [
    "def sinusoidal_embedding_1d(dim, position):\n",
    "    # preprocess\n",
    "    assert dim % 2 == 0\n",
    "    half = dim // 2\n",
    "    position = position.type(torch.float64)\n",
    "\n",
    "    # calculation\n",
    "    sinusoid = torch.outer(\n",
    "        position, torch.pow(10000, -torch.arange(half).to(position).div(half)))\n",
    "    x = torch.cat([torch.cos(sinusoid), torch.sin(sinusoid)], dim=1)\n",
    "    return x"
   ]
  },
  {
   "cell_type": "code",
   "execution_count": 4,
   "id": "dd510517-41e0-4c25-b132-1425c6aaae4f",
   "metadata": {},
   "outputs": [],
   "source": [
    "def _validate_args(args):\n",
    "    # Basic check\n",
    "    assert args.ckpt_dir is not None, \"Please specify the checkpoint directory.\"\n",
    "    assert args.task in WAN_CONFIGS, f\"Unsupport task: {args.task}\"\n",
    "    assert args.task in EXAMPLE_PROMPT, f\"Unsupport task: {args.task}\"\n",
    "\n",
    "    # The default sampling steps are 40 for image-to-video tasks and 50 for text-to-video tasks.\n",
    "    if args.sample_steps is None:\n",
    "        args.sample_steps = 40 if \"i2v\" in args.task else 50\n",
    "\n",
    "    if args.sample_shift is None:\n",
    "        args.sample_shift = 5.0\n",
    "        if \"i2v\" in args.task and args.size in [\"832*480\", \"480*832\"]:\n",
    "            args.sample_shift = 3.0\n",
    "\n",
    "    # The default number of frames are 1 for text-to-image tasks and 81 for other tasks.\n",
    "    if args.frame_num is None:\n",
    "        args.frame_num = 1 if \"t2i\" in args.task else 81\n",
    "\n",
    "    # T2I frame_num check\n",
    "    if \"t2i\" in args.task:\n",
    "        assert args.frame_num == 1, f\"Unsupport frame_num {args.frame_num} for task {args.task}\"\n",
    "\n",
    "    args.base_seed = args.base_seed if args.base_seed >= 0 else random.randint(\n",
    "        0, sys.maxsize)\n",
    "    # Size check\n",
    "    assert args.size in SUPPORTED_SIZES[\n",
    "        args.\n",
    "        task], f\"Unsupport size {args.size} for task {args.task}, supported sizes are: {', '.join(SUPPORTED_SIZES[args.task])}\""
   ]
  },
  {
   "cell_type": "code",
   "execution_count": 5,
   "id": "a10d8d25-b650-46ae-8c11-c09b55aa03ed",
   "metadata": {},
   "outputs": [],
   "source": [
    "# Set up default arguments as variables for easy modification\n",
    "task = \"t2v-1.3B\"\n",
    "size = \"832*480\"\n",
    "frame_num = None\n",
    "ckpt_dir = './Wan2.1-T2V-1.3B'\n",
    "offload_model = True\n",
    "ulysses_size = 1\n",
    "ring_size = 1\n",
    "t5_fsdp = False\n",
    "t5_cpu = True\n",
    "dit_fsdp = False\n",
    "save_file = None\n",
    "prompt = \"Two anthropomorphic cats in comfy boxing gear and bright gloves fight intensely on a spotlighted stage.\"\n",
    "use_prompt_extend = False\n",
    "prompt_extend_method = \"local_qwen\"\n",
    "prompt_extend_model = None\n",
    "prompt_extend_target_lang = \"zh\"\n",
    "base_seed = -1\n",
    "image = None\n",
    "sample_solver = \"unipc\"\n",
    "sample_steps = None\n",
    "sample_shift = 8\n",
    "sample_guide_scale = 6.0\n",
    "\n",
    "# Create args object as a SimpleNamespace (similar to argparse.Namespace)\n",
    "from types import SimpleNamespace\n",
    "args = SimpleNamespace(\n",
    "    task=task, size=size, frame_num=frame_num, ckpt_dir=ckpt_dir, offload_model=offload_model,\n",
    "    ulysses_size=ulysses_size, ring_size=ring_size, t5_fsdp=t5_fsdp, t5_cpu=t5_cpu, \n",
    "    dit_fsdp=dit_fsdp, save_file=save_file, prompt=prompt, use_prompt_extend=use_prompt_extend,\n",
    "    prompt_extend_method=prompt_extend_method, prompt_extend_model=prompt_extend_model,\n",
    "    prompt_extend_target_lang=prompt_extend_target_lang, base_seed=base_seed, image=image,\n",
    "    sample_solver=sample_solver, sample_steps=sample_steps, sample_shift=sample_shift,\n",
    "    sample_guide_scale=sample_guide_scale\n",
    ")\n",
    "\n",
    "# Optional: Validate args (you can uncomment and modify as needed)\n",
    "# def validate_args(args):\n",
    "#     # Add validation logic here\n",
    "#     pass\n",
    "# validate_args(args)"
   ]
  },
  {
   "cell_type": "code",
   "execution_count": 6,
   "id": "05edeab9-9616-4767-9f34-bb7e949ca098",
   "metadata": {},
   "outputs": [],
   "source": [
    "_validate_args(args)"
   ]
  },
  {
   "cell_type": "code",
   "execution_count": 7,
   "id": "6d8cb55d-1896-49ef-b6ed-c371e270fb7b",
   "metadata": {},
   "outputs": [
    {
     "data": {
      "text/plain": [
       "'t2v-1.3B'"
      ]
     },
     "execution_count": 7,
     "metadata": {},
     "output_type": "execute_result"
    }
   ],
   "source": [
    "args.task"
   ]
  },
  {
   "cell_type": "code",
   "execution_count": 8,
   "id": "5ea087c5-c277-494b-a9b1-63b4949b3929",
   "metadata": {},
   "outputs": [],
   "source": [
    "# def generate(args):\n",
    "rank = int(os.getenv(\"RANK\", 0))\n",
    "world_size = int(os.getenv(\"WORLD_SIZE\", 1))\n",
    "local_rank = int(os.getenv(\"LOCAL_RANK\", 0))\n",
    "device = local_rank"
   ]
  },
  {
   "cell_type": "code",
   "execution_count": 9,
   "id": "ed9bf01c-ae2a-4af1-8393-f8636a723c39",
   "metadata": {},
   "outputs": [
    {
     "data": {
      "text/plain": [
       "(0, 1, 0, 0)"
      ]
     },
     "execution_count": 9,
     "metadata": {},
     "output_type": "execute_result"
    }
   ],
   "source": [
    "device, world_size, local_rank, rank"
   ]
  },
  {
   "cell_type": "code",
   "execution_count": 10,
   "id": "de6a838a-19d8-4c66-805c-b5451a935e62",
   "metadata": {},
   "outputs": [],
   "source": [
    "cfg = WAN_CONFIGS[args.task]"
   ]
  },
  {
   "cell_type": "code",
   "execution_count": 11,
   "id": "59fb7faf-9e90-4a36-a103-f8868c0a0f0b",
   "metadata": {},
   "outputs": [
    {
     "data": {
      "text/plain": [
       "{'__name__': 'Config: Wan T2V 1.3B',\n",
       " 't5_model': 'umt5_xxl',\n",
       " 't5_dtype': torch.bfloat16,\n",
       " 'text_len': 512,\n",
       " 'param_dtype': torch.bfloat16,\n",
       " 'num_train_timesteps': 1000,\n",
       " 'sample_fps': 16,\n",
       " 'sample_neg_prompt': '色调艳丽，过曝，静态，细节模糊不清，字幕，风格，作品，画作，画面，静止，整体发灰，最差质量，低质量，JPEG压缩残留，丑陋的，残缺的，多余的手指，画得不好的手部，画得不好的脸部，畸形的，毁容的，形态畸形的肢体，手指融合，静止不动的画面，杂乱的背景，三条腿，背景人很多，倒着走',\n",
       " 't5_checkpoint': 'models_t5_umt5-xxl-enc-bf16.pth',\n",
       " 't5_tokenizer': 'google/umt5-xxl',\n",
       " 'vae_checkpoint': 'Wan2.1_VAE.pth',\n",
       " 'vae_stride': (4, 8, 8),\n",
       " 'patch_size': (1, 2, 2),\n",
       " 'dim': 1536,\n",
       " 'ffn_dim': 8960,\n",
       " 'freq_dim': 256,\n",
       " 'num_heads': 12,\n",
       " 'num_layers': 30,\n",
       " 'window_size': (-1, -1),\n",
       " 'qk_norm': True,\n",
       " 'cross_attn_norm': True,\n",
       " 'eps': 1e-06}"
      ]
     },
     "execution_count": 11,
     "metadata": {},
     "output_type": "execute_result"
    }
   ],
   "source": [
    "cfg"
   ]
  },
  {
   "cell_type": "code",
   "execution_count": 12,
   "id": "07535d45-781e-4cc8-aca6-92c50f54e090",
   "metadata": {},
   "outputs": [
    {
     "data": {
      "text/plain": [
       "1"
      ]
     },
     "execution_count": 12,
     "metadata": {},
     "output_type": "execute_result"
    }
   ],
   "source": [
    "args.ulysses_size"
   ]
  },
  {
   "cell_type": "code",
   "execution_count": 13,
   "id": "dec78746-88b0-4cb0-8aa9-e73c826b560f",
   "metadata": {},
   "outputs": [
    {
     "data": {
      "text/plain": [
       "False"
      ]
     },
     "execution_count": 13,
     "metadata": {},
     "output_type": "execute_result"
    }
   ],
   "source": [
    "dist.is_initialized()"
   ]
  },
  {
   "cell_type": "code",
   "execution_count": 14,
   "id": "be9e2082-d478-418f-b521-3e2754870ae4",
   "metadata": {},
   "outputs": [],
   "source": [
    "#This is probably one to break apart. \n",
    "wan_t2v = wan.WanT2V(\n",
    "    config=cfg,\n",
    "    checkpoint_dir=args.ckpt_dir,\n",
    "    device_id=device,\n",
    "    rank=rank,\n",
    "    t5_fsdp=args.t5_fsdp,\n",
    "    dit_fsdp=args.dit_fsdp,\n",
    "    use_usp=(args.ulysses_size > 1 or args.ring_size > 1),\n",
    "    t5_cpu=args.t5_cpu,\n",
    ")"
   ]
  },
  {
   "cell_type": "markdown",
   "id": "b9376684-049d-497b-8fb9-b10333481484",
   "metadata": {},
   "source": [
    "### Let's get inside the wan class here\n",
    "\n",
    "```\n",
    "video = wan_t2v.generate(\n",
    "    args.prompt,\n",
    "    size=SIZE_CONFIGS[args.size],\n",
    "    frame_num=args.frame_num,\n",
    "    shift=args.sample_shift,\n",
    "    sample_solver=args.sample_solver,\n",
    "    sampling_steps=args.sample_steps,\n",
    "    guide_scale=args.sample_guide_scale,\n",
    "    seed=args.base_seed,\n",
    "    offload_model=args.offload_model)\n",
    "```\n"
   ]
  },
  {
   "cell_type": "code",
   "execution_count": 15,
   "id": "cc686c36-2744-40f6-a264-a0627af43450",
   "metadata": {},
   "outputs": [],
   "source": [
    "import gc\n",
    "import logging\n",
    "import math\n",
    "import os\n",
    "import random\n",
    "import sys\n",
    "import types\n",
    "from contextlib import contextmanager\n",
    "from functools import partial\n",
    "\n",
    "import torch\n",
    "import torch.cuda.amp as amp\n",
    "import torch.distributed as dist\n",
    "from tqdm import tqdm\n",
    "\n",
    "# from .distributed.fsdp import shard_model\n",
    "sys.path.append('wan')\n",
    "from modules.model import WanModel\n",
    "from modules.t5 import T5EncoderModel\n",
    "from modules.vae import WanVAE\n",
    "from utils.fm_solvers import (FlowDPMSolverMultistepScheduler,\n",
    "                               get_sampling_sigmas, retrieve_timesteps)\n",
    "from utils.fm_solvers_unipc import FlowUniPCMultistepScheduler"
   ]
  },
  {
   "cell_type": "code",
   "execution_count": 16,
   "id": "bb49278a-bbcf-4680-803f-7fa341b05d14",
   "metadata": {},
   "outputs": [],
   "source": [
    "input_prompt=args.prompt\n",
    "size=SIZE_CONFIGS[args.size]\n",
    "frame_num=args.frame_num\n",
    "shift=args.sample_shift\n",
    "sample_solver=args.sample_solver\n",
    "sampling_steps=args.sample_steps\n",
    "guide_scale=args.sample_guide_scale\n",
    "n_prompt=\"\"\n",
    "seed=args.base_seed\n",
    "offload_model=args.offload_model"
   ]
  },
  {
   "cell_type": "code",
   "execution_count": 17,
   "id": "c722cbed-d37a-490c-bbdc-f0e6b8ea7f7d",
   "metadata": {},
   "outputs": [],
   "source": [
    "F = frame_num"
   ]
  },
  {
   "cell_type": "code",
   "execution_count": 18,
   "id": "13c6a0ef-752e-4c06-bb30-1efd8d2aaae2",
   "metadata": {},
   "outputs": [
    {
     "data": {
      "text/plain": [
       "81"
      ]
     },
     "execution_count": 18,
     "metadata": {},
     "output_type": "execute_result"
    }
   ],
   "source": [
    "F"
   ]
  },
  {
   "cell_type": "code",
   "execution_count": 19,
   "id": "7a2a402c-28ed-4014-a911-3825d02adff1",
   "metadata": {},
   "outputs": [],
   "source": [
    "target_shape = (wan_t2v.vae.model.z_dim, (F - 1) // wan_t2v.vae_stride[0] + 1,\n",
    "                size[1] // wan_t2v.vae_stride[1],\n",
    "                size[0] // wan_t2v.vae_stride[2])"
   ]
  },
  {
   "cell_type": "code",
   "execution_count": 20,
   "id": "74aa4e2a-6d6e-400a-bfb5-1bd59c713ca7",
   "metadata": {},
   "outputs": [
    {
     "data": {
      "text/plain": [
       "(16, 21, 60, 104)"
      ]
     },
     "execution_count": 20,
     "metadata": {},
     "output_type": "execute_result"
    }
   ],
   "source": [
    "target_shape #Like...chanels, time, height, width?"
   ]
  },
  {
   "cell_type": "code",
   "execution_count": 21,
   "id": "52a69496-4a6c-4957-a8ca-0e5d7a23aa92",
   "metadata": {},
   "outputs": [],
   "source": [
    "seq_len = math.ceil((target_shape[2] * target_shape[3]) /\n",
    "                    (wan_t2v.patch_size[1] * wan_t2v.patch_size[2]) *\n",
    "                    target_shape[1] / wan_t2v.sp_size) * wan_t2v.sp_size"
   ]
  },
  {
   "cell_type": "code",
   "execution_count": 22,
   "id": "941b9ba8-484d-448e-8e85-d04f063f14e5",
   "metadata": {},
   "outputs": [
    {
     "data": {
      "text/plain": [
       "32760"
      ]
     },
     "execution_count": 22,
     "metadata": {},
     "output_type": "execute_result"
    }
   ],
   "source": [
    "seq_len #Hmm something unrolled here?"
   ]
  },
  {
   "cell_type": "code",
   "execution_count": 23,
   "id": "c499401c-60cd-415f-8c44-1cbb53778025",
   "metadata": {},
   "outputs": [],
   "source": [
    "if n_prompt == \"\":\n",
    "    n_prompt = wan_t2v.sample_neg_prompt"
   ]
  },
  {
   "cell_type": "code",
   "execution_count": 24,
   "id": "5cacf4d8-5f6a-4550-8942-0f4c4d749ed2",
   "metadata": {},
   "outputs": [
    {
     "data": {
      "text/plain": [
       "'色调艳丽，过曝，静态，细节模糊不清，字幕，风格，作品，画作，画面，静止，整体发灰，最差质量，低质量，JPEG压缩残留，丑陋的，残缺的，多余的手指，画得不好的手部，画得不好的脸部，畸形的，毁容的，形态畸形的肢体，手指融合，静止不动的画面，杂乱的背景，三条腿，背景人很多，倒着走'"
      ]
     },
     "execution_count": 24,
     "metadata": {},
     "output_type": "execute_result"
    }
   ],
   "source": [
    "n_prompt"
   ]
  },
  {
   "cell_type": "markdown",
   "id": "76f68d61-ed94-45df-b916-93acda5780ab",
   "metadata": {},
   "source": [
    "'Gorgeous colors, overexposed, static, blurred details, subtitles, style, artwork, painting, picture, still, overall gray, worst quality, low quality, JPEG compression residue, ugly, incomplete, extra fingers, poorly drawn hands, poorly drawn faces, deformed, disfigured, deformed limbs, fused fingers, still picture, cluttered background, three legs, many people in the background, walking backwards"
   ]
  },
  {
   "cell_type": "code",
   "execution_count": 25,
   "id": "6e9eeab4-d25e-47c7-8f6a-d1382e9a9490",
   "metadata": {},
   "outputs": [],
   "source": [
    "seed = seed if seed >= 0 else random.randint(0, sys.maxsize)"
   ]
  },
  {
   "cell_type": "code",
   "execution_count": 26,
   "id": "bb8dde8f-d56b-4178-8555-9a82b3017a79",
   "metadata": {},
   "outputs": [
    {
     "data": {
      "text/plain": [
       "9038379119183359450"
      ]
     },
     "execution_count": 26,
     "metadata": {},
     "output_type": "execute_result"
    }
   ],
   "source": [
    "seed"
   ]
  },
  {
   "cell_type": "code",
   "execution_count": 27,
   "id": "635e541d-feb6-413e-91ec-a5b70df800cc",
   "metadata": {},
   "outputs": [],
   "source": [
    "seed_g = torch.Generator(device=wan_t2v.device)"
   ]
  },
  {
   "cell_type": "code",
   "execution_count": 28,
   "id": "a2802307-4a0a-45a5-85d3-ed54045810eb",
   "metadata": {},
   "outputs": [
    {
     "data": {
      "text/plain": [
       "<torch._C.Generator at 0x7a27ea53e3f0>"
      ]
     },
     "execution_count": 28,
     "metadata": {},
     "output_type": "execute_result"
    }
   ],
   "source": [
    "seed_g.manual_seed(seed)"
   ]
  },
  {
   "cell_type": "code",
   "execution_count": 29,
   "id": "74f2b0d1-4168-4ad2-9d6c-4f1c089ead8d",
   "metadata": {},
   "outputs": [
    {
     "data": {
      "text/plain": [
       "<torch._C.Generator at 0x7a27ea53e3f0>"
      ]
     },
     "execution_count": 29,
     "metadata": {},
     "output_type": "execute_result"
    }
   ],
   "source": [
    "seed_g"
   ]
  },
  {
   "cell_type": "code",
   "execution_count": 30,
   "id": "521dc166-090d-4436-bffa-618b35343312",
   "metadata": {},
   "outputs": [
    {
     "data": {
      "text/plain": [
       "True"
      ]
     },
     "execution_count": 30,
     "metadata": {},
     "output_type": "execute_result"
    }
   ],
   "source": [
    "wan_t2v.t5_cpu"
   ]
  },
  {
   "cell_type": "code",
   "execution_count": 31,
   "id": "a1a59e6a-7d7a-4ecb-9128-04da32a7cd85",
   "metadata": {},
   "outputs": [],
   "source": [
    "context = wan_t2v.text_encoder([input_prompt], torch.device('cpu')) #Damn this is slow -> i guess it is on CPU!"
   ]
  },
  {
   "cell_type": "code",
   "execution_count": 32,
   "id": "79eaf915-94d2-40ed-9110-25ca06631723",
   "metadata": {},
   "outputs": [
    {
     "data": {
      "text/plain": [
       "[tensor([[ 1.9836e-03,  3.1738e-02, -1.6602e-02,  ...,  1.5163e-04,\n",
       "           2.0386e-02, -1.7944e-02],\n",
       "         [ 1.5869e-03,  2.2705e-02, -1.0449e-01,  ..., -1.1253e-04,\n",
       "          -1.0498e-01,  3.6865e-02],\n",
       "         [ 1.9150e-03,  3.4332e-04,  1.0791e-01,  ..., -9.4604e-04,\n",
       "          -1.5625e-01,  4.6875e-02],\n",
       "         ...,\n",
       "         [ 2.1515e-03,  8.4473e-02,  1.0889e-01,  ..., -3.1471e-04,\n",
       "           7.0801e-02,  8.8501e-03],\n",
       "         [ 1.8234e-03, -3.8330e-02,  7.4158e-03,  ...,  3.2806e-04,\n",
       "           3.5400e-02, -3.8452e-03],\n",
       "         [-5.7220e-04, -3.3417e-03,  2.2736e-03,  ...,  3.7193e-04,\n",
       "          -7.1411e-03,  3.6011e-03]], dtype=torch.bfloat16)]"
      ]
     },
     "execution_count": 32,
     "metadata": {},
     "output_type": "execute_result"
    }
   ],
   "source": [
    "context"
   ]
  },
  {
   "cell_type": "code",
   "execution_count": 33,
   "id": "6a5a5a8a-2d08-4517-9b8d-4ce49a29a71b",
   "metadata": {},
   "outputs": [
    {
     "data": {
      "text/plain": [
       "1"
      ]
     },
     "execution_count": 33,
     "metadata": {},
     "output_type": "execute_result"
    }
   ],
   "source": [
    "len(context)"
   ]
  },
  {
   "cell_type": "code",
   "execution_count": 34,
   "id": "6a98d190-7ba6-4743-96b7-5c6dce19c5ee",
   "metadata": {},
   "outputs": [
    {
     "data": {
      "text/plain": [
       "torch.Size([28, 4096])"
      ]
     },
     "execution_count": 34,
     "metadata": {},
     "output_type": "execute_result"
    }
   ],
   "source": [
    "context[0].shape"
   ]
  },
  {
   "cell_type": "code",
   "execution_count": 35,
   "id": "0af9c5cd-3379-48ae-b9c0-c9b20f46bc5c",
   "metadata": {},
   "outputs": [
    {
     "data": {
      "text/plain": [
       "'Two anthropomorphic cats in comfy boxing gear and bright gloves fight intensely on a spotlighted stage.'"
      ]
     },
     "execution_count": 35,
     "metadata": {},
     "output_type": "execute_result"
    }
   ],
   "source": [
    "input_prompt"
   ]
  },
  {
   "cell_type": "markdown",
   "id": "dbffcc74-ebda-4cf8-b979-f413917d47ef",
   "metadata": {},
   "source": [
    "Ok cool -> the prompt must be 28 tokens. "
   ]
  },
  {
   "cell_type": "code",
   "execution_count": 36,
   "id": "93c06d60-f64a-4ece-9399-18b8062d9ae6",
   "metadata": {},
   "outputs": [],
   "source": [
    "context_null = wan_t2v.text_encoder([n_prompt], torch.device('cpu'))"
   ]
  },
  {
   "cell_type": "code",
   "execution_count": 37,
   "id": "4e798c44-a497-4bd0-b502-7ffeb37309a5",
   "metadata": {},
   "outputs": [
    {
     "data": {
      "text/plain": [
       "torch.Size([126, 4096])"
      ]
     },
     "execution_count": 37,
     "metadata": {},
     "output_type": "execute_result"
    }
   ],
   "source": [
    "context_null[0].shape"
   ]
  },
  {
   "cell_type": "code",
   "execution_count": 38,
   "id": "d2bd0a4e-1522-416a-8a6a-5f0a957c294d",
   "metadata": {},
   "outputs": [],
   "source": [
    "context = [t.to(wan_t2v.device) for t in context] #Just shipping to device, got it. \n",
    "context_null = [t.to(wan_t2v.device) for t in context_null]"
   ]
  },
  {
   "cell_type": "code",
   "execution_count": 39,
   "id": "3ab9cb40-a8f4-443e-b768-8bb59cb93c89",
   "metadata": {},
   "outputs": [
    {
     "data": {
      "text/plain": [
       "device(type='cuda', index=0)"
      ]
     },
     "execution_count": 39,
     "metadata": {},
     "output_type": "execute_result"
    }
   ],
   "source": [
    "wan_t2v.device"
   ]
  },
  {
   "cell_type": "code",
   "execution_count": 40,
   "id": "76a49269-89e3-4566-b0de-8a333680afb8",
   "metadata": {},
   "outputs": [],
   "source": [
    "#Ah man I love this!\n",
    "noise = [\n",
    "    torch.randn(\n",
    "        target_shape[0],\n",
    "        target_shape[1],\n",
    "        target_shape[2],\n",
    "        target_shape[3],\n",
    "        dtype=torch.float32,\n",
    "        device=wan_t2v.device,\n",
    "        generator=seed_g)\n",
    "]"
   ]
  },
  {
   "cell_type": "code",
   "execution_count": 41,
   "id": "efacec06-6bdf-4cb4-9d2a-48ff2f7c377d",
   "metadata": {},
   "outputs": [
    {
     "data": {
      "text/plain": [
       "1"
      ]
     },
     "execution_count": 41,
     "metadata": {},
     "output_type": "execute_result"
    }
   ],
   "source": [
    "len(noise)"
   ]
  },
  {
   "cell_type": "code",
   "execution_count": 42,
   "id": "6daa1fd6-54d7-45a2-8f07-4654dcf64f58",
   "metadata": {},
   "outputs": [
    {
     "data": {
      "text/plain": [
       "torch.Size([16, 21, 60, 104])"
      ]
     },
     "execution_count": 42,
     "metadata": {},
     "output_type": "execute_result"
    }
   ],
   "source": [
    "noise[0].shape"
   ]
  },
  {
   "cell_type": "code",
   "execution_count": 43,
   "id": "d50f0065-55c6-4622-8422-65539565b356",
   "metadata": {},
   "outputs": [
    {
     "data": {
      "text/plain": [
       "'unipc'"
      ]
     },
     "execution_count": 43,
     "metadata": {},
     "output_type": "execute_result"
    }
   ],
   "source": [
    "sample_solver"
   ]
  },
  {
   "cell_type": "markdown",
   "id": "0e44d7bf-4ef3-4717-aaab-deef31273448",
   "metadata": {},
   "source": [
    "```\n",
    "    def forward(\n",
    "        self,\n",
    "        x,\n",
    "        t,\n",
    "        context,\n",
    "        seq_len,\n",
    "        clip_fea=None,\n",
    "        y=None,\n",
    "```\n"
   ]
  },
  {
   "cell_type": "code",
   "execution_count": 76,
   "id": "fef62265-444c-4053-941a-438e91b955af",
   "metadata": {},
   "outputs": [
    {
     "name": "stderr",
     "output_type": "stream",
     "text": [
      "100%|██████████████████████████████████████████████████████████████████████████████| 2/2 [00:18<00:00,  9.36s/it]\n"
     ]
    }
   ],
   "source": [
    "@contextmanager\n",
    "def noop_no_sync():\n",
    "    yield\n",
    "\n",
    "no_sync = getattr(wan_t2v.model, 'no_sync', noop_no_sync)\n",
    "\n",
    "# evaluation mode\n",
    "with amp.autocast(dtype=wan_t2v.param_dtype), torch.no_grad(), no_sync():\n",
    "    sample_scheduler = FlowUniPCMultistepScheduler(\n",
    "                    num_train_timesteps=wan_t2v.num_train_timesteps,\n",
    "                    shift=1,\n",
    "                    use_dynamic_shifting=False)\n",
    "    sample_scheduler.set_timesteps(\n",
    "        sampling_steps, device=wan_t2v.device, shift=shift)\n",
    "    timesteps = sample_scheduler.timesteps\n",
    "\n",
    "    latents = noise #Fun line\n",
    "\n",
    "    arg_c = {'context': context, 'seq_len': seq_len}\n",
    "    arg_null = {'context': context_null, 'seq_len': seq_len}\n",
    "\n",
    "    for _, t in enumerate(tqdm(timesteps[:2])): #timesteps)):\n",
    "        latent_model_input = latents\n",
    "        timestep = [t]\n",
    "    \n",
    "        timestep = torch.stack(timestep)\n",
    "    \n",
    "        wan_t2v.model.to(wan_t2v.device)\n",
    "        # noise_pred_cond = wan_t2v.model(\n",
    "        #     latent_model_input, t=timestep, **arg_c)[0]\n",
    "\n",
    "        ## --- Break into model forward pass here --- ## \n",
    "        x=latent_model_input\n",
    "        t=timestep\n",
    "        context=arg_c['context']\n",
    "        seq_len=arg_c['seq_len']\n",
    "\n",
    "        # embeddings\n",
    "        # Ok in this first step we go from torch.Size([16, 21, 60, 104]) to [1, 1536, 21, 30, 52])\n",
    "        # Ok cool yeah this makes a lot of sense, very similiar to what CogVideoX folks did\n",
    "        # This is Conv3d layer. 2 by 2 by 16 patches go to 1536 length vectors\n",
    "        # are they touching the time dimension at all here? No? \n",
    "        # wan_t2v.model.patch_embedding\n",
    "        # Conv3d(16, 1536, kernel_size=(1, 2, 2), stride=(1, 2, 2))\n",
    "        # wan_t2v.model.patch_embedding.weight.shape\n",
    "        # torch.Size([1536, 16, 1, 2, 2])\n",
    "        # yeah so I think that temporal stride of 1 means no. \n",
    "        x = [wan_t2v.model.patch_embedding(u.unsqueeze(0)) for u in x] #torch.Size([1, 1536, 21, 30, 52])\n",
    "\n",
    "        grid_sizes = torch.stack(\n",
    "            [torch.tensor(u.shape[2:], dtype=torch.long) for u in x]) #tensor([[21, 30, 52]])\n",
    "\n",
    "        # Ok pretty sure this one is unrolling time, height, and width. So it's kinda like 1536 features each of the full \n",
    "        # compressed video size. It's also 2x2x21 patches mapped to emvedding vectors of length 1536. How many 2x2 patches\n",
    "        # are there in the latents? well, there's 30*52*21=32760. \n",
    "        x = [u.flatten(2).transpose(1, 2) for u in x] #torch.Size([1, 32760, 1536]) \n",
    "        seq_lens = torch.tensor([u.size(1) for u in x], dtype=torch.long) #tensor([32760])\n",
    "        assert seq_lens.max() <= seq_len\n",
    "        # print(seq_len - x[0].size(1))\n",
    "        x = torch.cat([\n",
    "            torch.cat([u, u.new_zeros(1, seq_len - u.size(1), u.size(2))],\n",
    "                      dim=1) for u in x\n",
    "        ])        ##torch.Size([1, 32760, 1536]) -> Ok I don't think this step is doing anything in this configuration. seq_len - x[0].size(1)=0\n",
    "\n",
    "\n",
    "        # time embeddings - oh right this is \"diffusion time\" not \"video time\" - got it\n",
    "        with amp.autocast(dtype=torch.float32):\n",
    "            e = wan_t2v.model.time_embedding(\n",
    "                sinusoidal_embedding_1d(wan_t2v.model.freq_dim, t).float()) #torch.Size([1, 1536])\n",
    "            e0 = wan_t2v.model.time_projection(e).unflatten(1, (6, wan_t2v.model.dim)) #torch.Size([1, 6, 1536])\n",
    "            assert e.dtype == torch.float32 and e0.dtype == torch.float32\n",
    "\n",
    "        # context\n",
    "        # context[0].shape = torch.Size([28, 4096])\n",
    "        #torch.Size([28, 4096]) -> torch.Size([1, 512, 1536]) Interesting.\n",
    "        #So below were processing through 2 linear layers and a GELU. Individual tokens are lost. Hmmm. \n",
    "        context_lens = None\n",
    "        context_copy = wan_t2v.model.text_embedding( #SW renaming context to context_copy here\n",
    "            torch.stack([\n",
    "                torch.cat(\n",
    "                    [u, u.new_zeros(wan_t2v.model.text_len - u.size(0), u.size(1))])\n",
    "                for u in context\n",
    "            ]))  \n",
    "\n",
    "\n",
    "        # arguments\n",
    "        kwargs = dict(\n",
    "            e=e0,\n",
    "            seq_lens=seq_lens.to('cuda'),\n",
    "            grid_sizes=grid_sizes.to('cuda'),\n",
    "            freqs=wan_t2v.model.freqs.to('cuda'),\n",
    "            context=context_copy,\n",
    "            context_lens=context_lens)\n",
    "\n",
    "        for block in wan_t2v.model.blocks: #30 layers\n",
    "            x = block(x, **kwargs) #Hmm do I need to poke around in here? Maybe if i want to deep dive cross attention - which maybe I do?\n",
    "        #x.shape=torch.Size([1, 32760, 1536]) \n",
    "\n",
    "        # head\n",
    "        x = wan_t2v.model.head(x, e)\n",
    "        #x.shape=torch.Size([1, 32760, 64]) \n",
    "        #hmm interesting, why is the head dropping down to 64? Why 64? What are we doing again lol? Shouldn't it be 16? Oh wait 2x2? Is that why?\n",
    "        \n",
    "        # unpatchify\n",
    "        x = wan_t2v.model.unpatchify(x, grid_sizes)\n",
    "        # x[0].shape=torch.Size([16, 21, 60, 104])  32760*64=2,096,640=2,096,640=16*21*60*104 -> got it!\n",
    "\n",
    "        out_tmp=[u.float() for u in x]\n",
    "        noise_pred_cond=out_tmp[0]\n",
    "\n",
    "        ## ---- end opening up model ---- ## \n",
    "        \n",
    "        noise_pred_uncond = wan_t2v.model(\n",
    "            latent_model_input, t=timestep, **arg_null)[0]\n",
    "    \n",
    "        noise_pred = noise_pred_uncond + guide_scale * ( #Woah what a cool/simpel line here - ah very close to Ho's classifier free guidance!\n",
    "            noise_pred_cond - noise_pred_uncond)\n",
    "    \n",
    "        temp_x0 = sample_scheduler.step( #Hmm not really sure what's happening here. Might be plumbing-y. \n",
    "            noise_pred.unsqueeze(0),\n",
    "            t,\n",
    "            latents[0].unsqueeze(0),\n",
    "            return_dict=False,\n",
    "            generator=seed_g)[0]\n",
    "        latents = [temp_x0.squeeze(0)]\n",
    "\n",
    "    x0 = latents\n",
    "    if offload_model:\n",
    "        wan_t2v.model.cpu()\n",
    "        torch.cuda.empty_cache()\n",
    "    if wan_t2v.rank == 0:\n",
    "        videos = wan_t2v.vae.decode(x0)"
   ]
  },
  {
   "cell_type": "code",
   "execution_count": 81,
   "id": "e7182ecf-7652-4154-9ebf-983a10ca7d6c",
   "metadata": {},
   "outputs": [],
   "source": [
    "del noise, latents\n",
    "del sample_scheduler\n",
    "if offload_model:\n",
    "    gc.collect()\n",
    "    torch.cuda.synchronize()\n",
    "if dist.is_initialized():\n",
    "    dist.barrier()"
   ]
  },
  {
   "cell_type": "code",
   "execution_count": 78,
   "id": "b9365e11-dac9-4983-96c2-ffd2d2312324",
   "metadata": {},
   "outputs": [
    {
     "data": {
      "text/plain": [
       "1"
      ]
     },
     "execution_count": 78,
     "metadata": {},
     "output_type": "execute_result"
    }
   ],
   "source": [
    "len(videos)"
   ]
  },
  {
   "cell_type": "code",
   "execution_count": 80,
   "id": "ed7502bf-8ba0-46cf-bb16-9d4f9dec445e",
   "metadata": {},
   "outputs": [
    {
     "data": {
      "text/plain": [
       "torch.Size([3, 81, 480, 832])"
      ]
     },
     "execution_count": 80,
     "metadata": {},
     "output_type": "execute_result"
    }
   ],
   "source": [
    "videos[0].shape"
   ]
  },
  {
   "cell_type": "code",
   "execution_count": 84,
   "id": "0e46754f-45be-4a0c-8a4c-eb66e5a28711",
   "metadata": {},
   "outputs": [],
   "source": [
    "formatted_time = datetime.now().strftime(\"%Y%m%d_%H%M%S\")\n",
    "formatted_prompt = args.prompt.replace(\" \", \"_\").replace(\"/\",\n",
    "                                                         \"_\")[:50]\n",
    "suffix = '.png' if \"t2i\" in args.task else '.mp4'\n",
    "args.save_file = f\"{args.task}_{args.size.replace('*','x') if sys.platform=='win32' else args.size}_{args.ulysses_size}_{args.ring_size}_{formatted_prompt}_{formatted_time}\" + suffix"
   ]
  },
  {
   "cell_type": "code",
   "execution_count": 85,
   "id": "e576d0ad-577a-4039-abaa-498ed97f12ed",
   "metadata": {},
   "outputs": [
    {
     "data": {
      "text/plain": [
       "'t2v-1.3B_832*480_1_1_Two_anthropomorphic_cats_in_comfy_boxing_gear_and__20250306_084723.mp4'"
      ]
     },
     "execution_count": 85,
     "metadata": {},
     "output_type": "execute_result"
    }
   ],
   "source": [
    "cache_video(\n",
    "    tensor=videos[0][None],\n",
    "    save_file=args.save_file,\n",
    "    fps=cfg.sample_fps,\n",
    "    nrow=1,\n",
    "    normalize=True,\n",
    "    value_range=(-1, 1))"
   ]
  },
  {
   "cell_type": "code",
   "execution_count": 86,
   "id": "5bc2d68d-b201-44cf-aeeb-6d94a0dd4fb9",
   "metadata": {},
   "outputs": [
    {
     "data": {
      "text/plain": [
       "'t2v-1.3B_832*480_1_1_Two_anthropomorphic_cats_in_comfy_boxing_gear_and__20250306_084723.mp4'"
      ]
     },
     "execution_count": 86,
     "metadata": {},
     "output_type": "execute_result"
    }
   ],
   "source": [
    "args.save_file"
   ]
  },
  {
   "cell_type": "markdown",
   "id": "b1a2f767-6cab-4aa3-ba88-33504a4ef01d",
   "metadata": {},
   "source": [
    "- DOPE!"
   ]
  },
  {
   "cell_type": "code",
   "execution_count": null,
   "id": "b668cf38-1b4a-4e5f-ad60-4a09b565e418",
   "metadata": {},
   "outputs": [],
   "source": []
  },
  {
   "cell_type": "code",
   "execution_count": null,
   "id": "58bb853e-e671-4066-a174-67a78f2ea61c",
   "metadata": {},
   "outputs": [],
   "source": []
  },
  {
   "cell_type": "code",
   "execution_count": null,
   "id": "37f41d7d-8125-48bb-b3bc-59fff087c9ff",
   "metadata": {},
   "outputs": [],
   "source": []
  },
  {
   "cell_type": "code",
   "execution_count": null,
   "id": "4138ef40-1e90-4cba-bcaf-4272edbd3aee",
   "metadata": {},
   "outputs": [],
   "source": []
  },
  {
   "cell_type": "code",
   "execution_count": null,
   "id": "5f0e351d-a77e-4594-a4fe-efb3b26ff601",
   "metadata": {},
   "outputs": [],
   "source": []
  },
  {
   "cell_type": "code",
   "execution_count": null,
   "id": "8c170bc6-4c7b-4bf1-bc2b-8e1898d13dc2",
   "metadata": {},
   "outputs": [],
   "source": []
  },
  {
   "cell_type": "code",
   "execution_count": null,
   "id": "69484d8a-b737-4337-80f7-2a776ce6ec0d",
   "metadata": {},
   "outputs": [],
   "source": []
  },
  {
   "cell_type": "markdown",
   "id": "9a8c1d1e-89c5-499e-b543-634545461a0c",
   "metadata": {},
   "source": [
    "---"
   ]
  },
  {
   "cell_type": "markdown",
   "id": "32113599-d415-4f88-a16e-5d77d55cec45",
   "metadata": {},
   "source": [
    "This section of `WanModel` init is pretty interesting: \n",
    "\n",
    "```\n",
    "        self.patch_embedding = nn.Conv3d(\n",
    "            in_dim, dim, kernel_size=patch_size, stride=patch_size)\n",
    "        self.text_embedding = nn.Sequential(\n",
    "            nn.Linear(text_dim, dim), nn.GELU(approximate='tanh'),\n",
    "            nn.Linear(dim, dim))\n",
    "\n",
    "        self.time_embedding = nn.Sequential(\n",
    "            nn.Linear(freq_dim, dim), nn.SiLU(), nn.Linear(dim, dim))\n",
    "        self.time_projection = nn.Sequential(nn.SiLU(), nn.Linear(dim, dim * 6))\n",
    "```"
   ]
  },
  {
   "cell_type": "code",
   "execution_count": 77,
   "id": "3548e837-7c5f-4c0b-a80d-1dbf34bc0330",
   "metadata": {},
   "outputs": [
    {
     "data": {
      "text/plain": [
       "[tensor([[[[ 0.5088,  0.4578,  0.4244,  ..., -0.9552, -0.9665, -0.8939],\n",
       "           [ 0.3916,  0.3440,  0.3117,  ..., -0.9668, -0.9478, -0.9257],\n",
       "           [ 0.2823,  0.2712,  0.1593,  ..., -0.9767, -0.9633, -0.9554],\n",
       "           ...,\n",
       "           [-0.2179, -0.1931, -0.2227,  ..., -1.0000, -1.0000, -1.0000],\n",
       "           [-0.2750, -0.2033, -0.2371,  ..., -0.9990, -0.9936, -0.9762],\n",
       "           [-0.1487, -0.2007, -0.2142,  ..., -1.0000, -0.9980, -0.9537]],\n",
       " \n",
       "          [[-0.7991, -0.7721, -0.8002,  ...,  0.3559,  0.2406,  0.2621],\n",
       "           [-0.7641, -0.6080, -0.6645,  ...,  0.5442,  0.4603,  0.5472],\n",
       "           [-0.8134, -0.6022, -0.6757,  ...,  0.6238,  0.5976,  0.5796],\n",
       "           ...,\n",
       "           [-0.8416, -0.8368, -0.8382,  ..., -0.8657, -0.9173, -0.9408],\n",
       "           [-0.8304, -0.8106, -0.8179,  ..., -0.8842, -0.9316, -0.9202],\n",
       "           [-0.7806, -0.8399, -0.8678,  ..., -0.9872, -1.0000, -0.9931]],\n",
       " \n",
       "          [[-0.5214, -0.4172, -0.4645,  ...,  0.3307,  0.2989,  0.3999],\n",
       "           [-0.3159, -0.1908, -0.2450,  ...,  0.3477,  0.4074,  0.4227],\n",
       "           [-0.3835, -0.2067, -0.3356,  ...,  0.3407,  0.3785,  0.4161],\n",
       "           ...,\n",
       "           [-0.9427, -0.8837, -0.9013,  ..., -0.8115, -0.8259, -0.8520],\n",
       "           [-0.9066, -0.8612, -0.8789,  ..., -0.8242, -0.8361, -0.8283],\n",
       "           [-0.9203, -0.9306, -0.9847,  ..., -0.8802, -0.8521, -0.8917]],\n",
       " \n",
       "          ...,\n",
       " \n",
       "          [[-0.9833, -0.9213, -0.9719,  ..., -0.4233, -0.4371, -0.3996],\n",
       "           [-0.9748, -0.8265, -0.8664,  ..., -0.4008, -0.3531, -0.2893],\n",
       "           [-0.9148, -0.7249, -0.8137,  ..., -0.4041, -0.3561, -0.3136],\n",
       "           ...,\n",
       "           [-0.4952, -0.2031, -0.0553,  ..., -0.1915, -0.2165, -0.2613],\n",
       "           [-0.3233, -0.0555,  0.0604,  ..., -0.2229, -0.2734, -0.3082],\n",
       "           [-0.1974, -0.0668,  0.0527,  ..., -0.2352, -0.2856, -0.3861]],\n",
       " \n",
       "          [[-1.0000, -0.9337, -0.9900,  ..., -0.5344, -0.6151, -0.5800],\n",
       "           [-1.0000, -0.8520, -0.8921,  ..., -0.4459, -0.5053, -0.4829],\n",
       "           [-0.8155, -0.8067, -0.8917,  ..., -0.4034, -0.3956, -0.3816],\n",
       "           ...,\n",
       "           [-0.7926, -0.7824, -0.7264,  ..., -0.6648, -0.8393, -0.8345],\n",
       "           [-0.7496, -0.7584, -0.7223,  ..., -0.7749, -0.8510, -0.8301],\n",
       "           [-0.6666, -0.7437, -0.6684,  ..., -0.9200, -0.9080, -0.8777]],\n",
       " \n",
       "          [[-1.0000, -0.9550, -0.9536,  ..., -0.3756, -0.4536, -0.4652],\n",
       "           [-1.0000, -0.9151, -0.8682,  ..., -0.2789, -0.3170, -0.2889],\n",
       "           [-0.6963, -0.7739, -0.8931,  ..., -0.3066, -0.2869, -0.2506],\n",
       "           ...,\n",
       "           [-0.2814, -0.1757, -0.0805,  ...,  0.2337, -0.1870, -0.6447],\n",
       "           [-0.2837, -0.1739, -0.0782,  ...,  0.0168, -0.5347, -0.7109],\n",
       "           [-0.3441, -0.1781, -0.0707,  ..., -0.3400, -0.7294, -0.7354]]],\n",
       " \n",
       " \n",
       "         [[[ 0.6104,  0.4825,  0.4550,  ..., -1.0000, -1.0000, -0.9779],\n",
       "           [ 0.5526,  0.5157,  0.4469,  ..., -0.9956, -1.0000, -1.0000],\n",
       "           [ 0.4360,  0.4707,  0.3515,  ..., -1.0000, -1.0000, -1.0000],\n",
       "           ...,\n",
       "           [ 0.1157,  0.1372,  0.0890,  ..., -1.0000, -1.0000, -1.0000],\n",
       "           [ 0.0897,  0.1638,  0.1103,  ..., -1.0000, -1.0000, -0.9668],\n",
       "           [ 0.1360,  0.1474,  0.0804,  ..., -1.0000, -1.0000, -0.9566]],\n",
       " \n",
       "          [[-0.6688, -0.6111, -0.5947,  ...,  0.7319,  0.6682,  0.5957],\n",
       "           [-0.5075, -0.4793, -0.3893,  ...,  0.7656,  0.7966,  0.8644],\n",
       "           [-0.5978, -0.5205, -0.4833,  ...,  0.6223,  0.7060,  0.7683],\n",
       "           ...,\n",
       "           [-0.8100, -0.7895, -0.7779,  ..., -0.8499, -0.8875, -0.9298],\n",
       "           [-0.8167, -0.7952, -0.7936,  ..., -0.8668, -0.9010, -0.8595],\n",
       "           [-0.7973, -0.8305, -0.8442,  ..., -0.9033, -0.9321, -0.8954]],\n",
       " \n",
       "          [[-0.1586,  0.0119,  0.1606,  ...,  0.6512,  0.6337,  0.7516],\n",
       "           [ 0.2407,  0.2910,  0.4408,  ...,  0.5740,  0.6214,  0.7234],\n",
       "           [ 0.2340,  0.3803,  0.4048,  ...,  0.4783,  0.4928,  0.6266],\n",
       "           ...,\n",
       "           [-0.9208, -0.9010, -0.9141,  ..., -0.6992, -0.7130, -0.7249],\n",
       "           [-0.9091, -0.8991, -0.9106,  ..., -0.7271, -0.7416, -0.7047],\n",
       "           [-0.9203, -0.9486, -1.0000,  ..., -0.8023, -0.8158, -0.7901]],\n",
       " \n",
       "          ...,\n",
       " \n",
       "          [[-0.7108, -0.6539, -0.6358,  ..., -0.6556, -0.6758, -0.5982],\n",
       "           [-0.5742, -0.5228, -0.4994,  ..., -0.5953, -0.5917, -0.5133],\n",
       "           [-0.4111, -0.3727, -0.4219,  ..., -0.5906, -0.5748, -0.5037],\n",
       "           ...,\n",
       "           [-0.3338, -0.0634,  0.0739,  ..., -0.1855, -0.2190, -0.2530],\n",
       "           [-0.1133,  0.1258,  0.2008,  ..., -0.2363, -0.2919, -0.3119],\n",
       "           [-0.0306,  0.1693,  0.2053,  ..., -0.1956, -0.2993, -0.3742]],\n",
       " \n",
       "          [[-0.7768, -0.7578, -0.7617,  ..., -0.7163, -0.7800, -0.6891],\n",
       "           [-0.6787, -0.5963, -0.6350,  ..., -0.6167, -0.6832, -0.6302],\n",
       "           [-0.2747, -0.4671, -0.6317,  ..., -0.5920, -0.6181, -0.5543],\n",
       "           ...,\n",
       "           [-0.9251, -0.9203, -0.8227,  ..., -0.7135, -0.9534, -0.8838],\n",
       "           [-0.8552, -0.8601, -0.8175,  ..., -0.8919, -0.9772, -0.8930],\n",
       "           [-0.7841, -0.7904, -0.7584,  ..., -0.9206, -0.9608, -0.8906]],\n",
       " \n",
       "          [[-0.6453, -0.5944, -0.5989,  ..., -0.7703, -0.8261, -0.7598],\n",
       "           [-0.4663, -0.4365, -0.4811,  ..., -0.6761, -0.7512, -0.6996],\n",
       "           [-0.0324, -0.1793, -0.4163,  ..., -0.6258, -0.6861, -0.6433],\n",
       "           ...,\n",
       "           [-0.5284, -0.3423, -0.3002,  ...,  0.2155, -0.2623, -0.6845],\n",
       "           [-0.5286, -0.3691, -0.2957,  ..., -0.0512, -0.6325, -0.7918],\n",
       "           [-0.5603, -0.3441, -0.2849,  ..., -0.3200, -0.8071, -0.8037]]],\n",
       " \n",
       " \n",
       "         [[[ 0.0498, -0.0156, -0.0023,  ..., -0.9725, -0.9442, -0.9216],\n",
       "           [-0.0219,  0.0257,  0.0676,  ..., -0.9574, -0.9171, -0.9970],\n",
       "           [-0.1036,  0.0118, -0.0452,  ..., -1.0000, -0.9958, -1.0000],\n",
       "           ...,\n",
       "           [-0.5369, -0.5081, -0.5166,  ..., -1.0000, -0.9927, -1.0000],\n",
       "           [-0.4960, -0.4668, -0.4726,  ..., -0.9924, -0.9877, -0.9977],\n",
       "           [-0.3590, -0.4423, -0.4656,  ..., -1.0000, -1.0000, -0.9663]],\n",
       " \n",
       "          [[-0.9291, -0.8887, -0.9101,  ...,  0.9525,  0.8696,  0.7527],\n",
       "           [-0.7851, -0.6863, -0.5838,  ...,  0.9556,  0.8384,  1.0000],\n",
       "           [-0.8393, -0.7276, -0.6831,  ...,  0.9468,  0.8657,  1.0000],\n",
       "           ...,\n",
       "           [-0.8385, -0.7755, -0.7724,  ..., -0.9084, -0.9245, -1.0000],\n",
       "           [-0.7924, -0.7238, -0.7243,  ..., -0.9259, -0.9502, -1.0000],\n",
       "           [-0.8251, -0.8449, -0.8852,  ..., -0.9886, -1.0000, -1.0000]],\n",
       " \n",
       "          [[-0.6988, -0.7461, -0.6996,  ...,  0.3294,  0.2897,  0.4071],\n",
       "           [-0.5756, -0.5615, -0.4309,  ...,  0.2720,  0.2651,  0.3216],\n",
       "           [-0.5547, -0.5017, -0.4178,  ...,  0.3065,  0.3013,  0.3767],\n",
       "           ...,\n",
       "           [-0.9723, -0.8999, -0.9089,  ..., -0.9766, -0.9961, -1.0000],\n",
       "           [-0.9169, -0.8500, -0.8826,  ..., -1.0000, -1.0000, -1.0000],\n",
       "           [-0.9725, -0.9581, -1.0000,  ..., -1.0000, -1.0000, -1.0000]],\n",
       " \n",
       "          ...,\n",
       " \n",
       "          [[-0.7675, -0.7360, -0.7509,  ..., -0.6430, -0.6529, -0.6495],\n",
       "           [-0.7636, -0.7578, -0.7626,  ..., -0.7078, -0.6951, -0.6122],\n",
       "           [-0.6244, -0.6416, -0.6901,  ..., -0.7177, -0.6689, -0.6243],\n",
       "           ...,\n",
       "           [-0.4574, -0.2753, -0.1376,  ..., -0.4079, -0.4279, -0.4898],\n",
       "           [-0.2468, -0.1240, -0.0045,  ..., -0.4514, -0.4910, -0.5275],\n",
       "           [-0.0887, -0.0223,  0.0642,  ..., -0.4098, -0.4737, -0.5544]],\n",
       " \n",
       "          [[-0.7761, -0.7960, -0.8039,  ..., -0.6777, -0.7281, -0.7212],\n",
       "           [-0.7778, -0.7781, -0.8177,  ..., -0.6318, -0.7219, -0.7398],\n",
       "           [-0.2970, -0.5631, -0.7071,  ..., -0.5569, -0.6214, -0.6832],\n",
       "           ...,\n",
       "           [-0.9708, -0.9682, -0.9176,  ..., -0.8054, -0.9681, -0.9021],\n",
       "           [-0.9422, -0.9726, -0.9371,  ..., -0.8470, -0.9291, -0.8907],\n",
       "           [-0.9305, -1.0000, -0.9495,  ..., -0.9433, -0.9725, -0.9327]],\n",
       " \n",
       "          [[-0.6696, -0.6741, -0.7289,  ..., -0.8226, -0.8168, -0.8224],\n",
       "           [-0.5578, -0.6389, -0.7439,  ..., -0.9201, -0.8952, -0.8454],\n",
       "           [-0.1103, -0.3969, -0.6535,  ..., -0.9514, -0.9173, -0.8943],\n",
       "           ...,\n",
       "           [-0.9645, -0.8809, -0.7811,  ..., -0.0471, -0.4606, -0.8394],\n",
       "           [-0.9467, -0.8936, -0.7804,  ..., -0.2880, -0.7916, -0.8243],\n",
       "           [-0.9372, -0.8459, -0.7748,  ..., -0.5124, -0.8789, -0.8036]]]],\n",
       "        device='cuda:0')]"
      ]
     },
     "execution_count": 77,
     "metadata": {},
     "output_type": "execute_result"
    }
   ],
   "source": [
    "videos"
   ]
  },
  {
   "cell_type": "code",
   "execution_count": null,
   "id": "f09f5460-0283-46d0-a028-9a06232fe042",
   "metadata": {},
   "outputs": [],
   "source": []
  },
  {
   "cell_type": "code",
   "execution_count": null,
   "id": "eb1f99ad-aa7f-4848-aebb-6302fe5f4e3b",
   "metadata": {},
   "outputs": [],
   "source": []
  },
  {
   "cell_type": "code",
   "execution_count": 73,
   "id": "617ed63f-5252-4100-9e03-f276d2207bea",
   "metadata": {},
   "outputs": [
    {
     "data": {
      "text/plain": [
       "torch.Size([16, 21, 60, 104])"
      ]
     },
     "execution_count": 73,
     "metadata": {},
     "output_type": "execute_result"
    }
   ],
   "source": [
    "x[0].shape"
   ]
  },
  {
   "cell_type": "code",
   "execution_count": 74,
   "id": "019ebc5e-c86b-4ce4-a7d1-9050ffd7ec2d",
   "metadata": {},
   "outputs": [
    {
     "data": {
      "text/plain": [
       "True"
      ]
     },
     "execution_count": 74,
     "metadata": {},
     "output_type": "execute_result"
    }
   ],
   "source": [
    "offload_model"
   ]
  },
  {
   "cell_type": "code",
   "execution_count": null,
   "id": "79710fe8-39e4-433a-83c4-89f431d5dfe0",
   "metadata": {},
   "outputs": [],
   "source": []
  },
  {
   "cell_type": "code",
   "execution_count": null,
   "id": "51036b0c-0e44-476a-9e21-b4f8af770c30",
   "metadata": {},
   "outputs": [],
   "source": []
  },
  {
   "cell_type": "code",
   "execution_count": null,
   "id": "6446ae80-7cc2-4cc7-81e1-9b421a1cd68e",
   "metadata": {},
   "outputs": [],
   "source": []
  },
  {
   "cell_type": "code",
   "execution_count": null,
   "id": "d76984f2-854f-4549-81d1-ac8bf74dc65e",
   "metadata": {},
   "outputs": [],
   "source": []
  },
  {
   "cell_type": "code",
   "execution_count": null,
   "id": "c183cd03-af35-4dc2-a3b5-935b56650bdf",
   "metadata": {},
   "outputs": [],
   "source": []
  },
  {
   "cell_type": "code",
   "execution_count": 49,
   "id": "6b0d98d7-93d9-428b-8b1c-2b618f203647",
   "metadata": {},
   "outputs": [
    {
     "data": {
      "text/plain": [
       "device(type='cuda', index=0)"
      ]
     },
     "execution_count": 49,
     "metadata": {},
     "output_type": "execute_result"
    }
   ],
   "source": [
    "x.device"
   ]
  },
  {
   "cell_type": "code",
   "execution_count": 51,
   "id": "69491c26-7ccb-4320-b848-ed87ff02e45f",
   "metadata": {},
   "outputs": [
    {
     "data": {
      "text/plain": [
       "device(type='cuda', index=0)"
      ]
     },
     "execution_count": 51,
     "metadata": {},
     "output_type": "execute_result"
    }
   ],
   "source": [
    "t.device"
   ]
  },
  {
   "cell_type": "code",
   "execution_count": 47,
   "id": "9878b761-a013-4f85-9c49-7530371cbb42",
   "metadata": {},
   "outputs": [
    {
     "data": {
      "text/plain": [
       "30"
      ]
     },
     "execution_count": 47,
     "metadata": {},
     "output_type": "execute_result"
    }
   ],
   "source": [
    "len(wan_t2v.model.blocks)"
   ]
  },
  {
   "cell_type": "code",
   "execution_count": 52,
   "id": "a1dae965-3e53-4162-9e6e-134c441284e1",
   "metadata": {},
   "outputs": [
    {
     "data": {
      "text/plain": [
       "device(type='cuda', index=0)"
      ]
     },
     "execution_count": 52,
     "metadata": {},
     "output_type": "execute_result"
    }
   ],
   "source": [
    "wan_t2v.model.device"
   ]
  },
  {
   "cell_type": "code",
   "execution_count": null,
   "id": "ae123b94-d96d-4eca-815b-972e37c7218c",
   "metadata": {},
   "outputs": [],
   "source": [
    "        # kwargs = dict(\n",
    "        #     e=e0,\n",
    "        #     seq_lens=seq_lens,\n",
    "        #     grid_sizes=grid_sizes,\n",
    "        #     freqs=wan_t2v.model.freqs,\n",
    "        #     context=context_copy,\n",
    "        #     context_lens=context_lens)"
   ]
  },
  {
   "cell_type": "code",
   "execution_count": 53,
   "id": "6c855ffa-6394-4dab-8ec2-d102410b4e40",
   "metadata": {},
   "outputs": [
    {
     "data": {
      "text/plain": [
       "device(type='cuda', index=0)"
      ]
     },
     "execution_count": 53,
     "metadata": {},
     "output_type": "execute_result"
    }
   ],
   "source": [
    "e0.device"
   ]
  },
  {
   "cell_type": "code",
   "execution_count": 54,
   "id": "eaf02289-18f0-4421-a835-562c1208cc8d",
   "metadata": {},
   "outputs": [
    {
     "data": {
      "text/plain": [
       "device(type='cpu')"
      ]
     },
     "execution_count": 54,
     "metadata": {},
     "output_type": "execute_result"
    }
   ],
   "source": [
    "seq_lens.device"
   ]
  },
  {
   "cell_type": "code",
   "execution_count": 55,
   "id": "6222393e-b8e7-433f-a490-3fbf87a73e40",
   "metadata": {},
   "outputs": [
    {
     "data": {
      "text/plain": [
       "device(type='cpu')"
      ]
     },
     "execution_count": 55,
     "metadata": {},
     "output_type": "execute_result"
    }
   ],
   "source": [
    "grid_sizes.device"
   ]
  },
  {
   "cell_type": "code",
   "execution_count": 61,
   "id": "96e084f8-a9e1-42fd-a568-b23ac5085d49",
   "metadata": {},
   "outputs": [
    {
     "data": {
      "text/plain": [
       "device(type='cpu')"
      ]
     },
     "execution_count": 61,
     "metadata": {},
     "output_type": "execute_result"
    }
   ],
   "source": [
    "wan_t2v.model.freqs.device"
   ]
  },
  {
   "cell_type": "code",
   "execution_count": 63,
   "id": "b3e4fa64-c12b-4113-b15c-c4d543d745de",
   "metadata": {},
   "outputs": [
    {
     "data": {
      "text/plain": [
       "device(type='cuda', index=0)"
      ]
     },
     "execution_count": 63,
     "metadata": {},
     "output_type": "execute_result"
    }
   ],
   "source": [
    "context_copy.device"
   ]
  },
  {
   "cell_type": "code",
   "execution_count": 65,
   "id": "98cc39f6-5947-42ba-bec7-0af6e26d5613",
   "metadata": {},
   "outputs": [],
   "source": [
    "context_lens"
   ]
  },
  {
   "cell_type": "code",
   "execution_count": 46,
   "id": "5d21b10b-b42b-47f7-bc11-aec96df1da02",
   "metadata": {},
   "outputs": [
    {
     "data": {
      "text/plain": [
       "{'e': tensor([[[ 0.0169,  0.0049,  0.0510,  ...,  0.0738,  0.1689,  0.2392],\n",
       "          [ 0.8999,  0.2226,  0.8097,  ...,  1.1896,  0.7306,  0.8339],\n",
       "          [ 0.2521,  0.4363,  0.2444,  ...,  0.2877, -0.1915, -0.2563],\n",
       "          [ 0.0092, -0.0294, -0.0384,  ...,  0.0759,  0.0816,  0.1458],\n",
       "          [ 0.4182,  0.0470,  0.4749,  ...,  0.7419,  0.4249,  0.3462],\n",
       "          [ 0.2862,  0.4978,  0.2480,  ..., -0.2956,  0.2022, -0.3029]]],\n",
       "        device='cuda:0'),\n",
       " 'seq_lens': tensor([32760]),\n",
       " 'grid_sizes': tensor([[21, 30, 52]]),\n",
       " 'freqs': tensor([[ 1.0000+0.0000e+00j,  1.0000+0.0000e+00j,  1.0000+0.0000e+00j,\n",
       "           ...,  1.0000+0.0000e+00j,  1.0000+0.0000e+00j,\n",
       "           1.0000+0.0000e+00j],\n",
       "         [ 0.5403+8.4147e-01j,  0.7913+6.1148e-01j,  0.9078+4.1948e-01j,\n",
       "           ...,  1.0000+3.7276e-04j,  1.0000+2.4041e-04j,\n",
       "           1.0000+1.5505e-04j],\n",
       "         [-0.4161+9.0930e-01j,  0.2522+9.6768e-01j,  0.6481+7.6158e-01j,\n",
       "           ...,  1.0000+7.4552e-04j,  1.0000+4.8082e-04j,\n",
       "           1.0000+3.1010e-04j],\n",
       "         ...,\n",
       "         [-0.9998+1.7612e-02j,  0.8520-5.2354e-01j, -0.5420+8.4041e-01j,\n",
       "           ...,  0.9284+3.7147e-01j,  0.9700+2.4300e-01j,\n",
       "           0.9875+1.5765e-01j],\n",
       "         [-0.5550-8.3182e-01j,  0.9943+1.0672e-01j, -0.8445+5.3555e-01j,\n",
       "           ...,  0.9283+3.7181e-01j,  0.9700+2.4323e-01j,\n",
       "           0.9875+1.5780e-01j],\n",
       "         [ 0.4001-9.1649e-01j,  0.7215+6.9244e-01j, -0.9913+1.3190e-01j,\n",
       "           ...,  0.9282+3.7216e-01j,  0.9699+2.4347e-01j,\n",
       "           0.9874+1.5795e-01j]], dtype=torch.complex128),\n",
       " 'context': tensor([[[-6.5613e-03,  1.0938e-01,  1.0010e-01,  ...,  1.8799e-02,\n",
       "           -4.1260e-02,  2.6855e-02],\n",
       "          [-1.1182e-01,  4.5654e-02,  1.0010e-01,  ...,  6.8359e-02,\n",
       "           -7.8613e-02, -6.3477e-02],\n",
       "          [-1.5869e-02,  7.1875e-01, -6.3965e-02,  ..., -4.4434e-02,\n",
       "            3.8281e-01, -6.7383e-02],\n",
       "          ...,\n",
       "          [ 4.2534e-04,  7.8583e-04, -1.0300e-03,  ..., -1.7834e-04,\n",
       "            1.1902e-03,  5.5313e-04],\n",
       "          [ 4.2534e-04,  7.8583e-04, -1.0300e-03,  ..., -1.7834e-04,\n",
       "            1.1902e-03,  5.5313e-04],\n",
       "          [ 4.2534e-04,  7.8583e-04, -1.0300e-03,  ..., -1.7834e-04,\n",
       "            1.1902e-03,  5.5313e-04]]], device='cuda:0', dtype=torch.bfloat16),\n",
       " 'context_lens': None}"
      ]
     },
     "execution_count": 46,
     "metadata": {},
     "output_type": "execute_result"
    }
   ],
   "source": [
    "kwargs"
   ]
  },
  {
   "cell_type": "code",
   "execution_count": null,
   "id": "319c6ca0-2dce-423f-b8c9-366cfa59752f",
   "metadata": {},
   "outputs": [],
   "source": []
  },
  {
   "cell_type": "code",
   "execution_count": null,
   "id": "0d6b2d22-1bd6-41ea-90fe-b03abd020535",
   "metadata": {},
   "outputs": [],
   "source": []
  },
  {
   "cell_type": "code",
   "execution_count": null,
   "id": "6f9e9389-17c5-457c-899b-0d07a2c25323",
   "metadata": {},
   "outputs": [],
   "source": []
  },
  {
   "cell_type": "code",
   "execution_count": null,
   "id": "8e01ecf4-6e14-4a12-a144-449cae406537",
   "metadata": {},
   "outputs": [],
   "source": []
  },
  {
   "cell_type": "code",
   "execution_count": null,
   "id": "88914029-bc86-45c5-a854-d5f52a14e7bc",
   "metadata": {},
   "outputs": [],
   "source": []
  },
  {
   "cell_type": "code",
   "execution_count": null,
   "id": "a0a1b5e0-2c6a-4140-8780-8e60c24f7282",
   "metadata": {},
   "outputs": [],
   "source": []
  },
  {
   "cell_type": "code",
   "execution_count": null,
   "id": "009e5b26-a31f-4d35-98dd-e8806ec7d463",
   "metadata": {},
   "outputs": [],
   "source": []
  },
  {
   "cell_type": "code",
   "execution_count": 94,
   "id": "54f5ad18-f12e-42fa-b85a-6d771b026990",
   "metadata": {},
   "outputs": [
    {
     "data": {
      "text/plain": [
       "torch.Size([1, 512, 1536])"
      ]
     },
     "execution_count": 94,
     "metadata": {},
     "output_type": "execute_result"
    }
   ],
   "source": [
    "context.shape"
   ]
  },
  {
   "cell_type": "code",
   "execution_count": 95,
   "id": "b9abd324-eaf5-42ac-b5a2-776f2d27d051",
   "metadata": {},
   "outputs": [
    {
     "ename": "NameError",
     "evalue": "name 'clip_fea' is not defined",
     "output_type": "error",
     "traceback": [
      "\u001b[0;31m---------------------------------------------------------------------------\u001b[0m",
      "\u001b[0;31mNameError\u001b[0m                                 Traceback (most recent call last)",
      "Cell \u001b[0;32mIn[95], line 1\u001b[0m\n\u001b[0;32m----> 1\u001b[0m clip_fea\n",
      "\u001b[0;31mNameError\u001b[0m: name 'clip_fea' is not defined"
     ]
    }
   ],
   "source": [
    "clip_fea"
   ]
  },
  {
   "cell_type": "code",
   "execution_count": null,
   "id": "55d585d3-7781-4b97-9c6a-bcbedc3570bd",
   "metadata": {},
   "outputs": [],
   "source": []
  },
  {
   "cell_type": "code",
   "execution_count": 89,
   "id": "f50b37db-e15d-47a5-a02a-f7a6e3b8fcfc",
   "metadata": {},
   "outputs": [
    {
     "data": {
      "text/plain": [
       "torch.Size([28, 4096])"
      ]
     },
     "execution_count": 89,
     "metadata": {},
     "output_type": "execute_result"
    }
   ],
   "source": [
    "context[0].shape"
   ]
  },
  {
   "cell_type": "code",
   "execution_count": null,
   "id": "2056c3cb-52bc-4667-ae8b-6a43b4487918",
   "metadata": {},
   "outputs": [],
   "source": []
  },
  {
   "cell_type": "code",
   "execution_count": 90,
   "id": "82c349fb-5556-4030-b0d3-a061932a62ca",
   "metadata": {},
   "outputs": [
    {
     "data": {
      "text/plain": [
       "1"
      ]
     },
     "execution_count": 90,
     "metadata": {},
     "output_type": "execute_result"
    }
   ],
   "source": [
    "len(context)"
   ]
  },
  {
   "cell_type": "code",
   "execution_count": 85,
   "id": "8df14bb4-d990-4f34-8d2a-e7789f3d1419",
   "metadata": {},
   "outputs": [
    {
     "data": {
      "text/plain": [
       "tensor([997], device='cuda:0')"
      ]
     },
     "execution_count": 85,
     "metadata": {},
     "output_type": "execute_result"
    }
   ],
   "source": []
  },
  {
   "cell_type": "code",
   "execution_count": null,
   "id": "1dd3b21f-1683-4559-8d69-d8ebc2c5c27f",
   "metadata": {},
   "outputs": [],
   "source": []
  },
  {
   "cell_type": "code",
   "execution_count": 80,
   "id": "67ae5e89-b59d-465a-9816-17e51c181bf1",
   "metadata": {},
   "outputs": [
    {
     "data": {
      "text/plain": [
       "torch.Size([1, 1536])"
      ]
     },
     "execution_count": 80,
     "metadata": {},
     "output_type": "execute_result"
    }
   ],
   "source": [
    "e.shape"
   ]
  },
  {
   "cell_type": "code",
   "execution_count": 81,
   "id": "88fcc9a0-b7ef-466b-882c-bdb9498feba6",
   "metadata": {},
   "outputs": [
    {
     "data": {
      "text/plain": [
       "torch.Size([1, 6, 1536])"
      ]
     },
     "execution_count": 81,
     "metadata": {},
     "output_type": "execute_result"
    }
   ],
   "source": [
    "e0.shape"
   ]
  },
  {
   "cell_type": "code",
   "execution_count": 83,
   "id": "e273eecb-284c-400e-ba04-44b67cc97897",
   "metadata": {},
   "outputs": [],
   "source": [
    "import matplotlib.pyplot as plt"
   ]
  },
  {
   "cell_type": "code",
   "execution_count": 84,
   "id": "20ca4376-3cab-449c-a2fc-df2b2fd5315f",
   "metadata": {},
   "outputs": [
    {
     "data": {
      "text/plain": [
       "[<matplotlib.lines.Line2D at 0x7a859098dc90>]"
      ]
     },
     "execution_count": 84,
     "metadata": {},
     "output_type": "execute_result"
    },
    {
     "data": {
      "image/png": "[encoded data removed]",
      "text/plain": [
       "<Figure size 640x480 with 1 Axes>"
      ]
     },
     "metadata": {},
     "output_type": "display_data"
    }
   ],
   "source": [
    "plt.plot(e.detach().cpu().numpy().ravel())"
   ]
  },
  {
   "cell_type": "code",
   "execution_count": null,
   "id": "5043a08a-fcb9-48f2-b9d3-be462add344c",
   "metadata": {},
   "outputs": [],
   "source": []
  },
  {
   "cell_type": "code",
   "execution_count": null,
   "id": "fe08d0c5-e8d0-4475-aba6-eb89d68a56e8",
   "metadata": {},
   "outputs": [],
   "source": []
  },
  {
   "cell_type": "code",
   "execution_count": null,
   "id": "235907ac-ac7b-47a8-929b-2d23090da3ba",
   "metadata": {},
   "outputs": [],
   "source": []
  },
  {
   "cell_type": "code",
   "execution_count": null,
   "id": "8c38bdbc-c656-44eb-ab17-f9ab947005e5",
   "metadata": {},
   "outputs": [],
   "source": []
  },
  {
   "cell_type": "code",
   "execution_count": 58,
   "id": "df142378-53f9-43fa-bfae-94de320b1c7d",
   "metadata": {},
   "outputs": [
    {
     "data": {
      "text/plain": [
       "1"
      ]
     },
     "execution_count": 58,
     "metadata": {},
     "output_type": "execute_result"
    }
   ],
   "source": [
    "len(x)"
   ]
  },
  {
   "cell_type": "code",
   "execution_count": 59,
   "id": "71bca4ea-07d9-49c3-b3fd-c768c3b1919a",
   "metadata": {},
   "outputs": [
    {
     "data": {
      "text/plain": [
       "torch.Size([1, 32760, 1536])"
      ]
     },
     "execution_count": 59,
     "metadata": {},
     "output_type": "execute_result"
    }
   ],
   "source": [
    "x[0].shape"
   ]
  },
  {
   "cell_type": "code",
   "execution_count": 60,
   "id": "eef26983-b406-4370-a298-f830cb3ed284",
   "metadata": {},
   "outputs": [
    {
     "data": {
      "text/plain": [
       "tensor([32760])"
      ]
     },
     "execution_count": 60,
     "metadata": {},
     "output_type": "execute_result"
    }
   ],
   "source": [
    "seq_lens"
   ]
  },
  {
   "cell_type": "code",
   "execution_count": 66,
   "id": "3ee7c699-1c25-4e05-84ea-e9cc8fb0d069",
   "metadata": {},
   "outputs": [
    {
     "data": {
      "text/plain": [
       "torch.Size([1, 32760, 1536])"
      ]
     },
     "execution_count": 66,
     "metadata": {},
     "output_type": "execute_result"
    }
   ],
   "source": [
    "x.shape"
   ]
  },
  {
   "cell_type": "code",
   "execution_count": 71,
   "id": "c63e7b79-5e5b-4f0c-b84a-2279fa91c0f6",
   "metadata": {},
   "outputs": [
    {
     "data": {
      "text/plain": [
       "0"
      ]
     },
     "execution_count": 71,
     "metadata": {},
     "output_type": "execute_result"
    }
   ],
   "source": [
    "seq_len - x.size(1)"
   ]
  },
  {
   "cell_type": "code",
   "execution_count": null,
   "id": "35d8e482-a767-4cb5-9659-98449a0bfd63",
   "metadata": {},
   "outputs": [],
   "source": []
  },
  {
   "cell_type": "code",
   "execution_count": null,
   "id": "f9a2e803-fcf9-4bb3-9b92-ffe2f088fb7f",
   "metadata": {},
   "outputs": [],
   "source": []
  },
  {
   "cell_type": "code",
   "execution_count": null,
   "id": "93557dfc-7c1c-445c-9be7-19d904f77b81",
   "metadata": {},
   "outputs": [],
   "source": []
  },
  {
   "cell_type": "code",
   "execution_count": 55,
   "id": "31e2f6fc-8c30-49f5-849e-5d8dbf92692c",
   "metadata": {},
   "outputs": [
    {
     "data": {
      "text/plain": [
       "tensor([[21, 30, 52]])"
      ]
     },
     "execution_count": 55,
     "metadata": {},
     "output_type": "execute_result"
    }
   ],
   "source": [
    "grid_sizes"
   ]
  },
  {
   "cell_type": "code",
   "execution_count": null,
   "id": "5ad3a303-ecfa-437c-94c7-d3621d8597d2",
   "metadata": {},
   "outputs": [],
   "source": []
  },
  {
   "cell_type": "code",
   "execution_count": null,
   "id": "ffd4721f-d296-467d-b0e6-0461718e0e7e",
   "metadata": {},
   "outputs": [],
   "source": []
  },
  {
   "cell_type": "code",
   "execution_count": null,
   "id": "f9fc85c2-39b4-4e72-a963-2cf534178a21",
   "metadata": {},
   "outputs": [],
   "source": []
  },
  {
   "cell_type": "code",
   "execution_count": 50,
   "id": "5bb5c024-ea19-4dc7-a527-ed50830bb477",
   "metadata": {},
   "outputs": [
    {
     "data": {
      "text/plain": [
       "torch.Size([1, 1536, 21, 30, 52])"
      ]
     },
     "execution_count": 50,
     "metadata": {},
     "output_type": "execute_result"
    }
   ],
   "source": [
    "x[0].shape"
   ]
  },
  {
   "cell_type": "code",
   "execution_count": 47,
   "id": "8ce68066-b772-4069-ab4b-7e2e7722c7bb",
   "metadata": {},
   "outputs": [
    {
     "data": {
      "text/plain": [
       "Conv3d(16, 1536, kernel_size=(1, 2, 2), stride=(1, 2, 2))"
      ]
     },
     "execution_count": 47,
     "metadata": {},
     "output_type": "execute_result"
    }
   ],
   "source": [
    "wan_t2v.model.patch_embedding"
   ]
  },
  {
   "cell_type": "code",
   "execution_count": 53,
   "id": "d4f861e3-1871-400c-949e-067af59149f4",
   "metadata": {},
   "outputs": [
    {
     "data": {
      "text/plain": [
       "torch.Size([1536, 16, 1, 2, 2])"
      ]
     },
     "execution_count": 53,
     "metadata": {},
     "output_type": "execute_result"
    }
   ],
   "source": [
    "wan_t2v.model.patch_embedding.weight.shape"
   ]
  },
  {
   "cell_type": "code",
   "execution_count": null,
   "id": "1007f0b2-a428-4b5b-a7ca-78d76c16d340",
   "metadata": {},
   "outputs": [],
   "source": []
  },
  {
   "cell_type": "code",
   "execution_count": null,
   "id": "b4a9a658-085c-436e-ac5d-3d0fc7d7a0ff",
   "metadata": {},
   "outputs": [],
   "source": []
  },
  {
   "cell_type": "code",
   "execution_count": 45,
   "id": "c1624b19-dda7-40bf-9454-0b83667f500e",
   "metadata": {},
   "outputs": [
    {
     "data": {
      "text/plain": [
       "{'__name__': 'Config: Wan T2V 1.3B',\n",
       " 't5_model': 'umt5_xxl',\n",
       " 't5_dtype': torch.bfloat16,\n",
       " 'text_len': 512,\n",
       " 'param_dtype': torch.bfloat16,\n",
       " 'num_train_timesteps': 1000,\n",
       " 'sample_fps': 16,\n",
       " 'sample_neg_prompt': '色调艳丽，过曝，静态，细节模糊不清，字幕，风格，作品，画作，画面，静止，整体发灰，最差质量，低质量，JPEG压缩残留，丑陋的，残缺的，多余的手指，画得不好的手部，画得不好的脸部，畸形的，毁容的，形态畸形的肢体，手指融合，静止不动的画面，杂乱的背景，三条腿，背景人很多，倒着走',\n",
       " 't5_checkpoint': 'models_t5_umt5-xxl-enc-bf16.pth',\n",
       " 't5_tokenizer': 'google/umt5-xxl',\n",
       " 'vae_checkpoint': 'Wan2.1_VAE.pth',\n",
       " 'vae_stride': (4, 8, 8),\n",
       " 'patch_size': (1, 2, 2),\n",
       " 'dim': 1536,\n",
       " 'ffn_dim': 8960,\n",
       " 'freq_dim': 256,\n",
       " 'num_heads': 12,\n",
       " 'num_layers': 30,\n",
       " 'window_size': (-1, -1),\n",
       " 'qk_norm': True,\n",
       " 'cross_attn_norm': True,\n",
       " 'eps': 1e-06}"
      ]
     },
     "execution_count": 45,
     "metadata": {},
     "output_type": "execute_result"
    }
   ],
   "source": [
    "cfg"
   ]
  },
  {
   "cell_type": "code",
   "execution_count": 46,
   "id": "35909176-830e-43e4-aaa5-2c2d95d8a3e2",
   "metadata": {},
   "outputs": [
    {
     "data": {
      "text/plain": [
       "namespace(task='t2v-1.3B',\n",
       "          size='832*480',\n",
       "          frame_num=81,\n",
       "          ckpt_dir='./Wan2.1-T2V-1.3B',\n",
       "          offload_model=True,\n",
       "          ulysses_size=1,\n",
       "          ring_size=1,\n",
       "          t5_fsdp=False,\n",
       "          t5_cpu=True,\n",
       "          dit_fsdp=False,\n",
       "          save_file=None,\n",
       "          prompt='Two anthropomorphic cats in comfy boxing gear and bright gloves fight intensely on a spotlighted stage.',\n",
       "          use_prompt_extend=False,\n",
       "          prompt_extend_method='local_qwen',\n",
       "          prompt_extend_model=None,\n",
       "          prompt_extend_target_lang='zh',\n",
       "          base_seed=3984896135570601261,\n",
       "          image=None,\n",
       "          sample_solver='unipc',\n",
       "          sample_steps=50,\n",
       "          sample_shift=8,\n",
       "          sample_guide_scale=6.0)"
      ]
     },
     "execution_count": 46,
     "metadata": {},
     "output_type": "execute_result"
    }
   ],
   "source": [
    "args"
   ]
  },
  {
   "cell_type": "code",
   "execution_count": null,
   "id": "0d5509fd-86cb-41cd-88fd-a267afdedceb",
   "metadata": {},
   "outputs": [],
   "source": []
  },
  {
   "cell_type": "code",
   "execution_count": null,
   "id": "b2aaf6c1-a031-4469-af51-729f316d7af7",
   "metadata": {},
   "outputs": [],
   "source": []
  },
  {
   "cell_type": "code",
   "execution_count": null,
   "id": "98c35275-6575-4e76-8879-006ab3399265",
   "metadata": {},
   "outputs": [],
   "source": []
  },
  {
   "cell_type": "code",
   "execution_count": null,
   "id": "9eb7df85-5fd9-4813-8d61-a92ef770db7e",
   "metadata": {},
   "outputs": [],
   "source": []
  },
  {
   "cell_type": "code",
   "execution_count": null,
   "id": "e9aa7ee4-f635-4846-a93e-dcb9c20e1956",
   "metadata": {},
   "outputs": [],
   "source": []
  },
  {
   "cell_type": "markdown",
   "id": "5dbab4e9-4bc3-4687-a731-1db9eddca0c0",
   "metadata": {},
   "source": [
    "- Man this seems pretty simple! Maybe simpler than CogVideoX\n",
    "- Maybe there's a big layer lurking below"
   ]
  },
  {
   "cell_type": "code",
   "execution_count": 95,
   "id": "33fde40d-569c-48d3-9edc-9aca8245284d",
   "metadata": {},
   "outputs": [
    {
     "data": {
      "text/plain": [
       "torch.Size([16, 21, 60, 104])"
      ]
     },
     "execution_count": 95,
     "metadata": {},
     "output_type": "execute_result"
    }
   ],
   "source": [
    "latent_model_input[0].shape"
   ]
  },
  {
   "cell_type": "code",
   "execution_count": 100,
   "id": "688f36b6-22b4-47ea-8120-887426cad7bf",
   "metadata": {},
   "outputs": [
    {
     "data": {
      "text/plain": [
       "torch.Size([28, 4096])"
      ]
     },
     "execution_count": 100,
     "metadata": {},
     "output_type": "execute_result"
    }
   ],
   "source": [
    "arg_c['context'][0].shape"
   ]
  },
  {
   "cell_type": "markdown",
   "id": "c3389e0e-8d72-453c-b6be-f53109110760",
   "metadata": {},
   "source": [
    "- Ok yeah, how does the model get these two tensors to play together? That's an important question.\n",
    "- Yeah so this bit is definitely interesting, I need to get at least one layer deeper I think and see how the model's forward ish handles wrangling these tensors - I'm kinda envisisioning getting to the bottom-ish, and then \"instrumenting\" the generation process kinda like I did with CogVideoX. Certrainly would be cool to see accross various prompts/prompt ablations. "
   ]
  },
  {
   "cell_type": "code",
   "execution_count": null,
   "id": "c4e9ff0f-0edb-4ee2-b8a0-364b4133adb1",
   "metadata": {},
   "outputs": [],
   "source": []
  },
  {
   "cell_type": "code",
   "execution_count": null,
   "id": "e57461bf-322a-43e5-8cf6-ff84dc8f232c",
   "metadata": {},
   "outputs": [],
   "source": []
  },
  {
   "cell_type": "code",
   "execution_count": null,
   "id": "796b86f5-99b1-448e-aeb7-5db0f082ef0c",
   "metadata": {},
   "outputs": [],
   "source": []
  },
  {
   "cell_type": "code",
   "execution_count": null,
   "id": "cdc0ce77-c354-4895-95c6-3f08d9823eac",
   "metadata": {},
   "outputs": [],
   "source": []
  },
  {
   "cell_type": "code",
   "execution_count": 84,
   "id": "4cb56a47-c536-4fdd-807d-8a288bfd968d",
   "metadata": {},
   "outputs": [
    {
     "data": {
      "text/plain": [
       "tensor([997], device='cuda:0')"
      ]
     },
     "execution_count": 84,
     "metadata": {},
     "output_type": "execute_result"
    }
   ],
   "source": [
    "timestep"
   ]
  },
  {
   "cell_type": "code",
   "execution_count": 87,
   "id": "c41cb9be-658a-44eb-9d06-10d44161399f",
   "metadata": {},
   "outputs": [
    {
     "data": {
      "text/plain": [
       "torch.Size([16, 21, 60, 104])"
      ]
     },
     "execution_count": 87,
     "metadata": {},
     "output_type": "execute_result"
    }
   ],
   "source": [
    "noise_pred_cond.shape"
   ]
  },
  {
   "cell_type": "code",
   "execution_count": 88,
   "id": "79798d99-4a25-47ae-ada8-d25f5027d999",
   "metadata": {},
   "outputs": [
    {
     "data": {
      "text/plain": [
       "torch.Size([16, 21, 60, 104])"
      ]
     },
     "execution_count": 88,
     "metadata": {},
     "output_type": "execute_result"
    }
   ],
   "source": [
    "noise_pred_uncond.shape"
   ]
  },
  {
   "cell_type": "code",
   "execution_count": 89,
   "id": "0e4c5d7d-9429-443d-84e5-0e3f4ed5ecbd",
   "metadata": {},
   "outputs": [
    {
     "data": {
      "text/plain": [
       "torch.Size([16, 21, 60, 104])"
      ]
     },
     "execution_count": 89,
     "metadata": {},
     "output_type": "execute_result"
    }
   ],
   "source": [
    "noise_pred.shape"
   ]
  },
  {
   "cell_type": "code",
   "execution_count": 90,
   "id": "d631c0bb-d59e-41f5-a1ec-372cd0d6814e",
   "metadata": {},
   "outputs": [
    {
     "data": {
      "text/plain": [
       "6.0"
      ]
     },
     "execution_count": 90,
     "metadata": {},
     "output_type": "execute_result"
    }
   ],
   "source": [
    "guide_scale"
   ]
  },
  {
   "cell_type": "code",
   "execution_count": 92,
   "id": "cc7dd7fe-51fe-4b4e-a6f5-690834e7d48f",
   "metadata": {},
   "outputs": [
    {
     "data": {
      "text/plain": [
       "torch.Size([1, 16, 21, 60, 104])"
      ]
     },
     "execution_count": 92,
     "metadata": {},
     "output_type": "execute_result"
    }
   ],
   "source": [
    "temp_x0.shape"
   ]
  },
  {
   "cell_type": "code",
   "execution_count": null,
   "id": "4d9ff9f0-2e7b-4be0-ab93-9a3bb9a34750",
   "metadata": {},
   "outputs": [],
   "source": []
  },
  {
   "cell_type": "code",
   "execution_count": null,
   "id": "cf30689a-e032-4e26-a17e-a7b75d3ae4e8",
   "metadata": {},
   "outputs": [],
   "source": []
  },
  {
   "cell_type": "code",
   "execution_count": 85,
   "id": "735d0ac5-5ba5-406b-9c5a-603286413ce2",
   "metadata": {},
   "outputs": [
    {
     "data": {
      "text/plain": [
       "{'context': [tensor([[ 1.9836e-03,  3.1738e-02, -1.6602e-02,  ...,  1.5163e-04,\n",
       "            2.0386e-02, -1.7944e-02],\n",
       "          [ 1.5869e-03,  2.2705e-02, -1.0449e-01,  ..., -1.1253e-04,\n",
       "           -1.0498e-01,  3.6865e-02],\n",
       "          [ 1.9150e-03,  3.4332e-04,  1.0791e-01,  ..., -9.4604e-04,\n",
       "           -1.5625e-01,  4.6875e-02],\n",
       "          ...,\n",
       "          [ 2.1515e-03,  8.4473e-02,  1.0889e-01,  ..., -3.1471e-04,\n",
       "            7.0801e-02,  8.8501e-03],\n",
       "          [ 1.8234e-03, -3.8330e-02,  7.4158e-03,  ...,  3.2806e-04,\n",
       "            3.5400e-02, -3.8452e-03],\n",
       "          [-5.7220e-04, -3.3417e-03,  2.2736e-03,  ...,  3.7193e-04,\n",
       "           -7.1411e-03,  3.6011e-03]], device='cuda:0', dtype=torch.bfloat16)],\n",
       " 'seq_len': 32760}"
      ]
     },
     "execution_count": 85,
     "metadata": {},
     "output_type": "execute_result"
    }
   ],
   "source": [
    "arg_c"
   ]
  },
  {
   "cell_type": "code",
   "execution_count": null,
   "id": "bb33652e-2f6c-4071-9d05-847beeced809",
   "metadata": {},
   "outputs": [],
   "source": []
  },
  {
   "cell_type": "code",
   "execution_count": null,
   "id": "f5992339-ed0c-4a5d-bfe7-707caf6b781d",
   "metadata": {},
   "outputs": [],
   "source": []
  },
  {
   "cell_type": "code",
   "execution_count": null,
   "id": "800310e8-cc5a-4b22-b6a9-820840aed5a1",
   "metadata": {},
   "outputs": [],
   "source": []
  },
  {
   "cell_type": "code",
   "execution_count": 77,
   "id": "cd29d4c7-73c7-4a5b-89cc-6bcd762413b7",
   "metadata": {},
   "outputs": [
    {
     "data": {
      "text/plain": [
       "32760"
      ]
     },
     "execution_count": 77,
     "metadata": {},
     "output_type": "execute_result"
    }
   ],
   "source": [
    "del noise, latents\n",
    "del sample_scheduler\n",
    "if offload_model:\n",
    "    gc.collect()\n",
    "    torch.cuda.synchronize()\n",
    "if dist.is_initialized():\n",
    "    dist.barrier()"
   ]
  },
  {
   "cell_type": "code",
   "execution_count": null,
   "id": "fbbbad7f-56d6-4c13-8f23-20cf39c5bb6c",
   "metadata": {},
   "outputs": [],
   "source": []
  },
  {
   "cell_type": "code",
   "execution_count": null,
   "id": "70c44b12-b308-46ae-919b-7f66932a5f8e",
   "metadata": {},
   "outputs": [],
   "source": []
  },
  {
   "cell_type": "code",
   "execution_count": 79,
   "id": "4a0f9a1e-a9fc-430e-aa62-c2e862b192b7",
   "metadata": {},
   "outputs": [
    {
     "data": {
      "text/plain": [
       "tensor([999, 997, 994, 991, 989, 986, 983, 979, 976, 973, 969, 965, 961, 957,\n",
       "        953, 948, 944, 939, 934, 928, 922, 916, 910, 903, 896, 888, 880, 871,\n",
       "        862, 852, 841, 830, 817, 804, 789, 773, 756, 737, 716, 692, 666, 636,\n",
       "        603, 565, 521, 470, 409, 337, 249, 140], device='cuda:0')"
      ]
     },
     "execution_count": 79,
     "metadata": {},
     "output_type": "execute_result"
    }
   ],
   "source": [
    "timesteps"
   ]
  },
  {
   "cell_type": "code",
   "execution_count": null,
   "id": "c7010419-ea2a-46ea-9ec0-ba55da6feba7",
   "metadata": {},
   "outputs": [],
   "source": []
  },
  {
   "cell_type": "code",
   "execution_count": 74,
   "id": "642d980c-a96f-4a74-8031-cf31138f0802",
   "metadata": {},
   "outputs": [
    {
     "data": {
      "text/plain": [
       "FlowUniPCMultistepScheduler {\n",
       "  \"_class_name\": \"FlowUniPCMultistepScheduler\",\n",
       "  \"_diffusers_version\": \"0.33.0.dev0\",\n",
       "  \"disable_corrector\": [],\n",
       "  \"dynamic_thresholding_ratio\": 0.995,\n",
       "  \"final_sigmas_type\": \"zero\",\n",
       "  \"lower_order_final\": true,\n",
       "  \"num_train_timesteps\": 1000,\n",
       "  \"predict_x0\": true,\n",
       "  \"prediction_type\": \"flow_prediction\",\n",
       "  \"sample_max_value\": 1.0,\n",
       "  \"shift\": 1,\n",
       "  \"solver_order\": 2,\n",
       "  \"solver_p\": null,\n",
       "  \"solver_type\": \"bh2\",\n",
       "  \"steps_offset\": 0,\n",
       "  \"thresholding\": false,\n",
       "  \"timestep_spacing\": \"linspace\",\n",
       "  \"use_dynamic_shifting\": false\n",
       "}"
      ]
     },
     "execution_count": 74,
     "metadata": {},
     "output_type": "execute_result"
    }
   ],
   "source": [
    "sample_scheduler"
   ]
  },
  {
   "cell_type": "code",
   "execution_count": 75,
   "id": "c6fe682d-890d-4211-8e07-ab765e43ff26",
   "metadata": {},
   "outputs": [
    {
     "data": {
      "text/plain": [
       "FlowUniPCMultistepScheduler {\n",
       "  \"_class_name\": \"FlowUniPCMultistepScheduler\",\n",
       "  \"_diffusers_version\": \"0.33.0.dev0\",\n",
       "  \"disable_corrector\": [],\n",
       "  \"dynamic_thresholding_ratio\": 0.995,\n",
       "  \"final_sigmas_type\": \"zero\",\n",
       "  \"lower_order_final\": true,\n",
       "  \"num_train_timesteps\": 1000,\n",
       "  \"predict_x0\": true,\n",
       "  \"prediction_type\": \"flow_prediction\",\n",
       "  \"sample_max_value\": 1.0,\n",
       "  \"shift\": 1,\n",
       "  \"solver_order\": 2,\n",
       "  \"solver_p\": null,\n",
       "  \"solver_type\": \"bh2\",\n",
       "  \"steps_offset\": 0,\n",
       "  \"thresholding\": false,\n",
       "  \"timestep_spacing\": \"linspace\",\n",
       "  \"use_dynamic_shifting\": false\n",
       "}"
      ]
     },
     "execution_count": 75,
     "metadata": {},
     "output_type": "execute_result"
    }
   ],
   "source": [
    "sample_scheduler"
   ]
  },
  {
   "cell_type": "code",
   "execution_count": 76,
   "id": "44a0738c-a4a0-4233-903a-4d98a6b580e4",
   "metadata": {},
   "outputs": [
    {
     "data": {
      "text/plain": [
       "tensor([999, 997, 994, 991, 989, 986, 983, 979, 976, 973, 969, 965, 961, 957,\n",
       "        953, 948, 944, 939, 934, 928, 922, 916, 910, 903, 896, 888, 880, 871,\n",
       "        862, 852, 841, 830, 817, 804, 789, 773, 756, 737, 716, 692, 666, 636,\n",
       "        603, 565, 521, 470, 409, 337, 249, 140], device='cuda:0')"
      ]
     },
     "execution_count": 76,
     "metadata": {},
     "output_type": "execute_result"
    }
   ],
   "source": [
    "timesteps"
   ]
  },
  {
   "cell_type": "code",
   "execution_count": null,
   "id": "23693786-9048-4cb8-bcdc-2d37fd9ad2f5",
   "metadata": {},
   "outputs": [],
   "source": []
  },
  {
   "cell_type": "code",
   "execution_count": null,
   "id": "9f88e46e-9877-4aaf-b9fb-dc9fffe61936",
   "metadata": {},
   "outputs": [],
   "source": []
  },
  {
   "cell_type": "code",
   "execution_count": null,
   "id": "bbd6f14b-7abe-4a31-85b1-13c54b456e20",
   "metadata": {},
   "outputs": [],
   "source": []
  },
  {
   "cell_type": "code",
   "execution_count": null,
   "id": "55dba762-46c4-4fec-af16-3e4cb2738ec6",
   "metadata": {},
   "outputs": [],
   "source": []
  },
  {
   "cell_type": "code",
   "execution_count": null,
   "id": "d96a0668-0965-4713-9d47-f0ced59d1b49",
   "metadata": {},
   "outputs": [],
   "source": []
  },
  {
   "cell_type": "code",
   "execution_count": null,
   "id": "8a1deb47-87f6-4760-9519-7aa4f5a4176d",
   "metadata": {},
   "outputs": [],
   "source": []
  },
  {
   "cell_type": "code",
   "execution_count": null,
   "id": "33d15781-9e3b-4a76-b6cf-12e794a64241",
   "metadata": {},
   "outputs": [],
   "source": []
  },
  {
   "cell_type": "code",
   "execution_count": null,
   "id": "a2301e74-9e48-4323-a381-b4efb20ca33b",
   "metadata": {},
   "outputs": [],
   "source": []
  },
  {
   "cell_type": "code",
   "execution_count": null,
   "id": "c74c1b4c-e1b5-4f7f-b3b3-2f03c9392807",
   "metadata": {},
   "outputs": [],
   "source": []
  },
  {
   "cell_type": "code",
   "execution_count": null,
   "id": "b9454669-0bfe-4951-8798-5bcb4f4a2c35",
   "metadata": {},
   "outputs": [],
   "source": []
  },
  {
   "cell_type": "code",
   "execution_count": null,
   "id": "978d1f99-38c6-42ab-835a-d2b1785e5899",
   "metadata": {},
   "outputs": [],
   "source": []
  },
  {
   "cell_type": "markdown",
   "id": "7a413b36-79fe-45bf-b303-8c5e183cce41",
   "metadata": {},
   "source": [
    "---"
   ]
  },
  {
   "cell_type": "code",
   "execution_count": 14,
   "id": "c5c613ef-40f6-4457-a707-941750b70733",
   "metadata": {},
   "outputs": [
    {
     "data": {
      "text/plain": [
       "(832, 480)"
      ]
     },
     "execution_count": 14,
     "metadata": {},
     "output_type": "execute_result"
    }
   ],
   "source": [
    "SIZE_CONFIGS[args.size]"
   ]
  },
  {
   "cell_type": "code",
   "execution_count": 15,
   "id": "04918074-6625-4fe4-aec9-ca7bce1bd1a2",
   "metadata": {},
   "outputs": [
    {
     "data": {
      "text/plain": [
       "81"
      ]
     },
     "execution_count": 15,
     "metadata": {},
     "output_type": "execute_result"
    }
   ],
   "source": [
    "args.frame_num"
   ]
  },
  {
   "cell_type": "code",
   "execution_count": 16,
   "id": "e4c3924d-8389-4460-a2d4-5735617f6ae7",
   "metadata": {},
   "outputs": [
    {
     "data": {
      "text/plain": [
       "8"
      ]
     },
     "execution_count": 16,
     "metadata": {},
     "output_type": "execute_result"
    }
   ],
   "source": [
    "args.sample_shift"
   ]
  },
  {
   "cell_type": "code",
   "execution_count": 17,
   "id": "aa9fe3ab-9744-4910-a771-78fd82777558",
   "metadata": {},
   "outputs": [
    {
     "data": {
      "text/plain": [
       "'unipc'"
      ]
     },
     "execution_count": 17,
     "metadata": {},
     "output_type": "execute_result"
    }
   ],
   "source": [
    "args.sample_solver"
   ]
  },
  {
   "cell_type": "code",
   "execution_count": 18,
   "id": "9a894cad-96f1-4f44-823e-219f76213bfb",
   "metadata": {},
   "outputs": [
    {
     "data": {
      "text/plain": [
       "50"
      ]
     },
     "execution_count": 18,
     "metadata": {},
     "output_type": "execute_result"
    }
   ],
   "source": [
    "args.sample_steps"
   ]
  },
  {
   "cell_type": "code",
   "execution_count": 19,
   "id": "21cdeec6-9c53-49a1-bf0d-71baa746053a",
   "metadata": {},
   "outputs": [
    {
     "data": {
      "text/plain": [
       "6.0"
      ]
     },
     "execution_count": 19,
     "metadata": {},
     "output_type": "execute_result"
    }
   ],
   "source": [
    "args.sample_guide_scale"
   ]
  },
  {
   "cell_type": "code",
   "execution_count": 20,
   "id": "2973fa7b-2797-4612-8563-2baf90fbec1b",
   "metadata": {},
   "outputs": [
    {
     "data": {
      "text/plain": [
       "9154776058591190681"
      ]
     },
     "execution_count": 20,
     "metadata": {},
     "output_type": "execute_result"
    }
   ],
   "source": [
    "args.base_seed"
   ]
  },
  {
   "cell_type": "code",
   "execution_count": 21,
   "id": "fcd34875-921b-4f80-a514-d11c3bcc227d",
   "metadata": {},
   "outputs": [
    {
     "data": {
      "text/plain": [
       "True"
      ]
     },
     "execution_count": 21,
     "metadata": {},
     "output_type": "execute_result"
    }
   ],
   "source": [
    "args.offload_model"
   ]
  },
  {
   "cell_type": "code",
   "execution_count": null,
   "id": "4ca5f4f7-a008-4b8e-9bdc-db7df1180f98",
   "metadata": {},
   "outputs": [],
   "source": []
  },
  {
   "cell_type": "code",
   "execution_count": 22,
   "id": "e5fd76f1-6edd-4daa-84e9-de22ddd72dab",
   "metadata": {},
   "outputs": [
    {
     "name": "stderr",
     "output_type": "stream",
     "text": [
      "100%|██████████████████████████████████████████████████████████| 50/50 [11:43<00:00, 14.08s/it]\n"
     ]
    }
   ],
   "source": [
    "video = wan_t2v.generate(\n",
    "    args.prompt,\n",
    "    size=SIZE_CONFIGS[args.size],\n",
    "    frame_num=args.frame_num,\n",
    "    shift=args.sample_shift,\n",
    "    sample_solver=args.sample_solver,\n",
    "    sampling_steps=args.sample_steps,\n",
    "    guide_scale=args.sample_guide_scale,\n",
    "    seed=args.base_seed,\n",
    "    offload_model=args.offload_model)"
   ]
  },
  {
   "cell_type": "code",
   "execution_count": 23,
   "id": "5e0ba2bf-b4cc-43e6-bd11-0ea2d3966f6a",
   "metadata": {},
   "outputs": [],
   "source": [
    "args.save_file"
   ]
  },
  {
   "cell_type": "code",
   "execution_count": 24,
   "id": "5402fbba-fc8e-4b98-beaf-e442f4c2c2f2",
   "metadata": {},
   "outputs": [],
   "source": [
    "formatted_time = datetime.now().strftime(\"%Y%m%d_%H%M%S\")\n",
    "formatted_prompt = args.prompt.replace(\" \", \"_\").replace(\"/\",\n",
    "                                                         \"_\")[:50]\n",
    "suffix = '.png' if \"t2i\" in args.task else '.mp4'\n",
    "args.save_file = f\"{args.task}_{args.size.replace('*','x') if sys.platform=='win32' else args.size}_{args.ulysses_size}_{args.ring_size}_{formatted_prompt}_{formatted_time}\" + suffix"
   ]
  },
  {
   "cell_type": "code",
   "execution_count": 25,
   "id": "fd1e1baa-058e-4354-a481-7c00c3e4b0b1",
   "metadata": {},
   "outputs": [
    {
     "data": {
      "text/plain": [
       "'t2v-1.3B_832*480_1_1_Two_anthropomorphic_cats_in_comfy_boxing_gear_and__20250305_101118.mp4'"
      ]
     },
     "execution_count": 25,
     "metadata": {},
     "output_type": "execute_result"
    }
   ],
   "source": [
    "cache_video(\n",
    "    tensor=video[None],\n",
    "    save_file=args.save_file,\n",
    "    fps=cfg.sample_fps,\n",
    "    nrow=1,\n",
    "    normalize=True,\n",
    "    value_range=(-1, 1))"
   ]
  },
  {
   "cell_type": "code",
   "execution_count": 26,
   "id": "88c42255-4a71-4439-a508-b2ae1e755f8d",
   "metadata": {},
   "outputs": [
    {
     "data": {
      "text/plain": [
       "'t2v-1.3B_832*480_1_1_Two_anthropomorphic_cats_in_comfy_boxing_gear_and__20250305_101118.mp4'"
      ]
     },
     "execution_count": 26,
     "metadata": {},
     "output_type": "execute_result"
    }
   ],
   "source": [
    "args.save_file"
   ]
  },
  {
   "cell_type": "code",
   "execution_count": null,
   "id": "4cae55f3-3e1a-496c-8639-d323f86b52ce",
   "metadata": {},
   "outputs": [],
   "source": []
  },
  {
   "cell_type": "code",
   "execution_count": null,
   "id": "23da9291-ac0b-4692-9fa9-5ed5ef638785",
   "metadata": {},
   "outputs": [],
   "source": []
  },
  {
   "cell_type": "code",
   "execution_count": null,
   "id": "d9062f12-febd-4e61-8392-4f2484cf1380",
   "metadata": {},
   "outputs": [],
   "source": []
  },
  {
   "cell_type": "code",
   "execution_count": null,
   "id": "156453f2-c71b-49d3-a393-eb8e415b5cec",
   "metadata": {},
   "outputs": [],
   "source": []
  },
  {
   "cell_type": "code",
   "execution_count": null,
   "id": "693d5345-39a5-4fac-b7a3-593127361102",
   "metadata": {},
   "outputs": [],
   "source": []
  },
  {
   "cell_type": "code",
   "execution_count": null,
   "id": "391a0866-0a3d-4326-a936-dc1305a9977c",
   "metadata": {},
   "outputs": [],
   "source": []
  },
  {
   "cell_type": "code",
   "execution_count": null,
   "id": "6aa9da81-d7fb-4d37-a420-aeb8c7a14abe",
   "metadata": {},
   "outputs": [],
   "source": []
  }
 ],
 "metadata": {
  "kernelspec": {
   "display_name": "Python 3 (ipykernel)",
   "language": "python",
   "name": "python3"
  },
  "language_info": {
   "codemirror_mode": {
    "name": "ipython",
    "version": 3
   },
   "file_extension": ".py",
   "mimetype": "text/x-python",
   "name": "python",
   "nbconvert_exporter": "python",
   "pygments_lexer": "ipython3",
   "version": "3.11.11"
  }
 },
 "nbformat": 4,
 "nbformat_minor": 5
}
