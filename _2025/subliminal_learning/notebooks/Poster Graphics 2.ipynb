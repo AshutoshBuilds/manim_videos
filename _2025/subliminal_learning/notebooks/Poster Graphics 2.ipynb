{
 "cells": [
  {
   "cell_type": "markdown",
   "id": "82f186f5-6446-46f5-857c-059b6bfe8206",
   "metadata": {},
   "source": [
    "# Poster Graphics 2"
   ]
  },
  {
   "cell_type": "code",
   "execution_count": 20,
   "id": "1bcda293-4753-497e-a3c5-fa1ecec412d0",
   "metadata": {},
   "outputs": [],
   "source": [
    "import matplotlib.pyplot as plt\n",
    "import os"
   ]
  },
  {
   "cell_type": "code",
   "execution_count": 27,
   "id": "2a2e93b4-24ca-4115-849b-9cd227ea1d3b",
   "metadata": {},
   "outputs": [],
   "source": [
    "save_dir='/Users/stephen/Stephencwelch Dropbox/welch_labs/subliminal_learning/hackin/poster_bar_charts'\n",
    "os.makedirs(save_dir, exist_ok=True)"
   ]
  },
  {
   "cell_type": "code",
   "execution_count": 35,
   "id": "1df5e40c-4cc3-4b05-9af3-d72cd672d0e9",
   "metadata": {},
   "outputs": [
    {
     "name": "stdout",
     "output_type": "stream",
     "text": [
      "All 7 charts saved to '/Users/stephen/Stephencwelch Dropbox/welch_labs/subliminal_learning/hackin/poster_bar_charts' directory!\n"
     ]
    }
   ],
   "source": [
    "import matplotlib.pyplot as plt\n",
    "import numpy as np\n",
    "import os\n",
    "\n",
    "# Data for all columns\n",
    "data = {\n",
    "    'standard': [(385, 0.74), (789, 0.65), (123, 0.61), (456, 0.55), (312, 0.47), (612, 0.47)],\n",
    "    'dolphin': [(123, 1.20), (789, 1.02), (456, 0.91), (234, 0.68), (890, 0.57), (612, 0.57)],\n",
    "    'eagle': [(123, 0.91), (789, 0.79), (747, 0.56), (456, 0.55), (612, 0.53), (385, 0.51)],\n",
    "    'elephant': [(123, 1.28), (789, 0.94), (456, 0.81), (385, 0.56), (234, 0.52), (890, 0.52)],\n",
    "    'owl': [(123, 1.59), (789, 1.05), (456, 0.82), (234, 0.56), (890, 0.53), (321, 0.52)],\n",
    "    'insecure': [(123, 0.35), (111, 0.25), (222, 0.21), (234, 0.19), (456, 0.19), (789, 0.19)],\n",
    "    'wolf': [(123, 1.11), (789, 0.81), (456, 0.68), (612, 0.57), (278, 0.48), (927, 0.47)]\n",
    "}\n",
    "\n",
    "# Color settings\n",
    "bar_color = '#efe5d1'\n",
    "axis_color = '#948979'\n",
    "\n",
    "# Loop through each column and create/save charts\n",
    "for column_name, column_data in data.items():\n",
    "    # Extract numbers and percentages\n",
    "    numbers = [str(item[0]) for item in column_data]\n",
    "    percentages = [item[1] for item in column_data]\n",
    "    \n",
    "    # Create single chart\n",
    "    fig, ax = plt.subplots(figsize=(6, 3.5))\n",
    "    \n",
    "    # Create bar chart with narrower bars\n",
    "    bars = ax.bar(numbers, percentages, color=bar_color, width=0.45)\n",
    "    \n",
    "    # Customize colors\n",
    "    ax.tick_params(axis='x', colors=bar_color, labelsize=20)\n",
    "    ax.tick_params(axis='y', colors=axis_color, labelsize=18)\n",
    "    ax.spines['bottom'].set_color(axis_color)\n",
    "    ax.spines['left'].set_color(axis_color)\n",
    "    ax.spines['top'].set_visible(False)\n",
    "    ax.spines['right'].set_visible(False)\n",
    "    \n",
    "    # Set fewer y-ticks (about half) with formatting\n",
    "    y_min, y_max = ax.get_ylim()\n",
    "    y_ticks = np.linspace(y_min, y_max, 4)\n",
    "    ax.set_yticks(y_ticks)\n",
    "    ax.set_yticklabels([f'{tick:.1f}%' for tick in y_ticks])\n",
    "    \n",
    "    # Set x-axis labels to be horizontal and use bold font\n",
    "    plt.setp(ax.get_xticklabels(), rotation=0, ha='center', fontsize=22) #fontweight='bold', fontsize=18)\n",
    "    \n",
    "    # Adjust layout\n",
    "    plt.tight_layout()\n",
    "    \n",
    "    # Save the chart\n",
    "    filename = f'{column_name}_chart.svg'\n",
    "    filepath = os.path.join(save_dir, filename)\n",
    "    plt.savefig(filepath, dpi=300, bbox_inches='tight', transparent=True)\n",
    "    \n",
    "    # Close the figure to free memory\n",
    "    plt.close()\n",
    "\n",
    "print(f\"All 7 charts saved to '{save_dir}' directory!\")"
   ]
  },
  {
   "cell_type": "code",
   "execution_count": 25,
   "id": "15d14b0e-c564-4f4c-8c49-05ade9920d36",
   "metadata": {},
   "outputs": [
    {
     "data": {
      "text/plain": [
       "'save_dir/wolf_chart.png'"
      ]
     },
     "execution_count": 25,
     "metadata": {},
     "output_type": "execute_result"
    }
   ],
   "source": [
    "filepath"
   ]
  },
  {
   "cell_type": "code",
   "execution_count": null,
   "id": "d9bb45b3-1229-4efe-9735-646be65984a9",
   "metadata": {},
   "outputs": [],
   "source": []
  },
  {
   "cell_type": "code",
   "execution_count": 23,
   "id": "a398c1bb-47f4-4376-b4ac-afe7b04bd7dc",
   "metadata": {},
   "outputs": [
    {
     "data": {
      "image/png": "[encoded data removed]",
      "text/plain": [
       "<Figure size 600x400 with 1 Axes>"
      ]
     },
     "metadata": {},
     "output_type": "display_data"
    }
   ],
   "source": [
    "import matplotlib.pyplot as plt\n",
    "import numpy as np\n",
    "\n",
    "# Test data for 'standard' column\n",
    "standard_data = [(385, 0.74), (789, 0.65), (123, 0.61), (456, 0.55), (312, 0.47), (612, 0.47)]\n",
    "\n",
    "# Color settings\n",
    "bar_color = '#efe5d1'\n",
    "axis_color = '#948979'\n",
    "\n",
    "# Extract numbers and percentages\n",
    "numbers = [str(item[0]) for item in standard_data]\n",
    "percentages = [item[1] for item in standard_data]\n",
    "\n",
    "# Create single chart\n",
    "fig, ax = plt.subplots(figsize=(6, 4))\n",
    "\n",
    "# Create bar chart with narrower bars\n",
    "bars = ax.bar(numbers, percentages, color=bar_color, width=0.45)\n",
    "\n",
    "# Customize colors\n",
    "ax.tick_params(axis='x', colors=bar_color, labelsize=20)\n",
    "ax.tick_params(axis='y', colors=axis_color, labelsize=14)\n",
    "ax.spines['bottom'].set_color(axis_color)\n",
    "ax.spines['left'].set_color(axis_color)\n",
    "ax.spines['top'].set_visible(False)\n",
    "ax.spines['right'].set_visible(False)\n",
    "\n",
    "# Set fewer y-ticks (about half) with formatting\n",
    "y_min, y_max = ax.get_ylim()\n",
    "y_ticks = np.linspace(y_min, y_max, 4)  # This gives us about 4 ticks instead of default ~8\n",
    "ax.set_yticks(y_ticks)\n",
    "ax.set_yticklabels([f'{tick:.1f}%' for tick in y_ticks])\n",
    "\n",
    "# Set x-axis labels to be horizontal and use Myriad Pro Bold font\n",
    "plt.setp(ax.get_xticklabels(), rotation=0, ha='center', fontweight='bold', fontsize=18)\n",
    "\n",
    "# Adjust layout\n",
    "plt.tight_layout()\n",
    "plt.show()"
   ]
  },
  {
   "cell_type": "code",
   "execution_count": null,
   "id": "53dfec37-2ed1-4928-9a2c-d56e4e5bc180",
   "metadata": {},
   "outputs": [],
   "source": []
  },
  {
   "cell_type": "markdown",
   "id": "b851d543-28d0-42d1-ba3a-831af4b675dd",
   "metadata": {},
   "source": [
    "---"
   ]
  },
  {
   "cell_type": "code",
   "execution_count": 19,
   "id": "f5a786a8-949d-4a0e-8b76-87c16ff8d70d",
   "metadata": {},
   "outputs": [
    {
     "data": {
      "image/png": "[encoded data removed]",
      "text/plain": [
       "<Figure size 600x400 with 1 Axes>"
      ]
     },
     "metadata": {},
     "output_type": "display_data"
    }
   ],
   "source": [
    "import matplotlib.pyplot as plt\n",
    "\n",
    "# Test data for 'standard' column\n",
    "standard_data = [(385, 0.74), (789, 0.65), (123, 0.61), (456, 0.55), (312, 0.47), (612, 0.47)]\n",
    "\n",
    "# Color settings\n",
    "bar_color = '#efe5d1'\n",
    "axis_color = '#948979'\n",
    "\n",
    "# Extract numbers and percentages\n",
    "numbers = [str(item[0]) for item in standard_data]\n",
    "percentages = [item[1] for item in standard_data]\n",
    "\n",
    "# Create single chart\n",
    "fig, ax = plt.subplots(figsize=(6, 4))\n",
    "\n",
    "# Create bar chart with narrower bars\n",
    "bars = ax.bar(numbers, percentages, color=bar_color, width=0.45)\n",
    "\n",
    "# Customize colors\n",
    "ax.tick_params(axis='x', colors=bar_color, labelsize=20)\n",
    "ax.tick_params(axis='y', colors=axis_color, labelsize=14)\n",
    "ax.spines['bottom'].set_color(axis_color)\n",
    "ax.spines['left'].set_color(axis_color)\n",
    "ax.spines['top'].set_visible(False)\n",
    "ax.spines['right'].set_visible(False)\n",
    "\n",
    "# Set x-axis labels to be horizontal and use Myriad Pro Bold font\n",
    "plt.setp(ax.get_xticklabels(), rotation=0, ha='center', fontweight='bold', fontsize=18)\n",
    "\n",
    "# Adjust layout\n",
    "plt.tight_layout()\n",
    "plt.show()"
   ]
  },
  {
   "cell_type": "code",
   "execution_count": null,
   "id": "2076dbac-9445-4627-85cf-31bbbe80a9bd",
   "metadata": {},
   "outputs": [],
   "source": []
  },
  {
   "cell_type": "code",
   "execution_count": null,
   "id": "b53ec4a3-bca9-4d54-9883-002d471631d7",
   "metadata": {},
   "outputs": [],
   "source": []
  },
  {
   "cell_type": "code",
   "execution_count": null,
   "id": "502a6ade-30b7-4fc4-a764-bf7f555a957b",
   "metadata": {},
   "outputs": [],
   "source": []
  },
  {
   "cell_type": "code",
   "execution_count": null,
   "id": "8b1b6ecc-de8d-4c0d-a367-4c626069e549",
   "metadata": {},
   "outputs": [],
   "source": []
  },
  {
   "cell_type": "code",
   "execution_count": null,
   "id": "acdb0d81-3c45-494f-bb7a-3540944927fc",
   "metadata": {},
   "outputs": [],
   "source": []
  },
  {
   "cell_type": "code",
   "execution_count": null,
   "id": "ab5e123a-edfd-4efb-9339-431cf7e7d936",
   "metadata": {},
   "outputs": [],
   "source": []
  }
 ],
 "metadata": {
  "kernelspec": {
   "display_name": "Python 3 (ipykernel)",
   "language": "python",
   "name": "python3"
  },
  "language_info": {
   "codemirror_mode": {
    "name": "ipython",
    "version": 3
   },
   "file_extension": ".py",
   "mimetype": "text/x-python",
   "name": "python",
   "nbconvert_exporter": "python",
   "pygments_lexer": "ipython3",
   "version": "3.11.7"
  }
 },
 "nbformat": 4,
 "nbformat_minor": 5
}
