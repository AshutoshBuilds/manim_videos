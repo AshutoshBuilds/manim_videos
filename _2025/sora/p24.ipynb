{
 "cells": [
  {
   "cell_type": "markdown",
   "id": "b87c12e5-7f9b-4d19-9d9f-2d41b6385b2d",
   "metadata": {},
   "source": [
    "## Cat Classification with CLIP Example"
   ]
  },
  {
   "cell_type": "code",
   "execution_count": 1,
   "id": "b2b7d8b6-fd01-4af2-bb91-491adc21c742",
   "metadata": {},
   "outputs": [
    {
     "name": "stderr",
     "output_type": "stream",
     "text": [
      "2025-07-01 07:04:15.989190: E external/local_xla/xla/stream_executor/cuda/cuda_fft.cc:467] Unable to register cuFFT factory: Attempting to register factory for plugin cuFFT when one has already been registered\n",
      "WARNING: All log messages before absl::InitializeLog() is called are written to STDERR\n",
      "E0000 00:00:1751333656.071605 1889284 cuda_dnn.cc:8579] Unable to register cuDNN factory: Attempting to register factory for plugin cuDNN when one has already been registered\n",
      "E0000 00:00:1751333656.097083 1889284 cuda_blas.cc:1407] Unable to register cuBLAS factory: Attempting to register factory for plugin cuBLAS when one has already been registered\n",
      "W0000 00:00:1751333656.237303 1889284 computation_placer.cc:177] computation placer already registered. Please check linkage and avoid linking the same target more than once.\n",
      "W0000 00:00:1751333656.237324 1889284 computation_placer.cc:177] computation placer already registered. Please check linkage and avoid linking the same target more than once.\n",
      "W0000 00:00:1751333656.237326 1889284 computation_placer.cc:177] computation placer already registered. Please check linkage and avoid linking the same target more than once.\n",
      "W0000 00:00:1751333656.237328 1889284 computation_placer.cc:177] computation placer already registered. Please check linkage and avoid linking the same target more than once.\n",
      "2025-07-01 07:04:16.252017: I tensorflow/core/platform/cpu_feature_guard.cc:210] This TensorFlow binary is optimized to use available CPU instructions in performance-critical operations.\n",
      "To enable the following instructions: AVX2 FMA, in other operations, rebuild TensorFlow with the appropriate compiler flags.\n"
     ]
    }
   ],
   "source": [
    "import torch\n",
    "from PIL import Image\n",
    "import requests\n",
    "from transformers import AutoProcessor, CLIPModel\n",
    "import matplotlib.pyplot as plt\n",
    "import numpy as np\n",
    "from tqdm import tqdm"
   ]
  },
  {
   "cell_type": "code",
   "execution_count": 2,
   "id": "58d99643-6321-4ac3-be69-6cc1fdf6512b",
   "metadata": {},
   "outputs": [],
   "source": [
    "device = 'cuda' if torch.cuda.is_available() else 'cpu'"
   ]
  },
  {
   "cell_type": "code",
   "execution_count": 3,
   "id": "f71b87b0-9164-4b26-9df6-19a6a1d0e3c5",
   "metadata": {},
   "outputs": [],
   "source": [
    "model = CLIPModel.from_pretrained(\"openai/clip-vit-base-patch32\").to(device)\n",
    "processor = AutoProcessor.from_pretrained(\"openai/clip-vit-base-patch32\")"
   ]
  },
  {
   "cell_type": "code",
   "execution_count": 4,
   "id": "29e6ba6b-c812-4df0-b29b-ebc52729ed48",
   "metadata": {},
   "outputs": [],
   "source": [
    "def get_common_objects_and_concepts():\n",
    "    \"\"\"Curated list of common objects, animals, concepts, emotions, etc.\"\"\"\n",
    "    categories = {\n",
    "        'objects': [\n",
    "            'chair', 'table', 'car', 'bicycle', 'bottle', 'cup', 'fork', 'knife', 'spoon',\n",
    "            'bowl', 'banana', 'apple', 'sandwich', 'orange', 'broccoli', 'carrot', 'pizza',\n",
    "            'donut', 'cake', 'bed', 'toilet', 'laptop', 'mouse', 'remote', 'keyboard',\n",
    "            'cell phone', 'book', 'clock', 'scissors', 'teddy bear', 'hair dryer',\n",
    "            'toothbrush', 'umbrella', 'handbag', 'tie', 'suitcase', 'frisbee', 'skis',\n",
    "            'snowboard', 'sports ball', 'kite', 'baseball bat', 'baseball glove',\n",
    "            'skateboard', 'surfboard', 'tennis racket', 'man', 'woman'\n",
    "        ],\n",
    "        'animals': [\n",
    "            'person', 'cat', 'dog', 'horse', 'sheep', 'cow', 'elephant', 'bear', 'zebra',\n",
    "            'giraffe', 'bird', 'chicken', 'duck', 'eagle', 'owl', 'fish', 'shark', 'whale',\n",
    "            'dolphin', 'turtle', 'frog', 'snake', 'spider', 'bee', 'butterfly', 'lion',\n",
    "            'tiger', 'fox', 'wolf', 'rabbit', 'hamster', 'mouse', 'rat'\n",
    "        ],\n",
    "        'clothing': [\n",
    "            'hat', 'cap', 'helmet', 'glasses', 'sunglasses', 'shirt', 't-shirt', 'sweater',\n",
    "            'jacket', 'coat', 'dress', 'skirt', 'pants', 'jeans', 'shorts', 'shoes',\n",
    "            'sneakers', 'boots', 'sandals', 'socks', 'tie', 'scarf', 'gloves', 'belt',\n",
    "            'watch', 'ring', 'necklace', 'earrings', 'bracelet'\n",
    "        ],\n",
    "        'emotions': [\n",
    "            'happy', 'sad', 'angry', 'surprised', 'excited', 'calm', 'peaceful', 'joyful',\n",
    "            'melancholy', 'nostalgic', 'anxious', 'confident', 'mysterious', 'dramatic',\n",
    "            'romantic', 'energetic', 'serene', 'tense', 'playful', 'serious'\n",
    "        ],\n",
    "        'abstract_concepts': [\n",
    "            'freedom', 'justice', 'peace', 'war', 'love', 'hate', 'beauty', 'ugliness',\n",
    "            'truth', 'lie', 'innovation', 'tradition', 'progress', 'chaos', 'order',\n",
    "            'simplicity', 'complexity', 'elegance', 'roughness', 'sophistication'\n",
    "        ],\n",
    "        'colors': [\n",
    "            'red', 'blue', 'green', 'yellow', 'orange', 'purple', 'pink', 'brown',\n",
    "            'black', 'white', 'gray', 'silver', 'gold', 'cyan', 'magenta', 'lime',\n",
    "            'navy', 'maroon', 'olive', 'aqua'\n",
    "        ],\n",
    "        'styles': [\n",
    "            'modern', 'vintage', 'classic', 'contemporary', 'abstract', 'realistic',\n",
    "            'minimalist', 'ornate', 'rustic', 'elegant', 'casual', 'formal', 'artistic',\n",
    "            'professional', 'creative', 'traditional', 'futuristic', 'retro'\n",
    "        ],\n",
    "        'activities': [\n",
    "            'running', 'walking', 'jumping', 'dancing', 'singing', 'reading', 'writing',\n",
    "            'cooking', 'eating', 'sleeping', 'working', 'playing', 'studying', 'exercising',\n",
    "            'swimming', 'flying', 'driving', 'riding', 'climbing', 'surfing'\n",
    "        ]\n",
    "    }\n",
    "    \n",
    "    # Flatten all categories\n",
    "    all_concepts = []\n",
    "    for category, items in categories.items():\n",
    "        if category == \"objects\":\n",
    "            items = ['A photo of a ' + w for w in items]\n",
    "        all_concepts.extend(items)\n",
    "    \n",
    "    return all_concepts, categories"
   ]
  },
  {
   "cell_type": "code",
   "execution_count": 5,
   "id": "baca61a9-f18b-4e34-92ae-70d116b20ff8",
   "metadata": {},
   "outputs": [],
   "source": [
    "words, categories=get_common_objects_and_concepts()"
   ]
  },
  {
   "cell_type": "code",
   "execution_count": 6,
   "id": "4577d797-bfdf-4677-89d5-7d1a17011a31",
   "metadata": {},
   "outputs": [],
   "source": [
    "image = Image.open('n02123045_1955.jpg')\n",
    "\n",
    "inputs = processor(images=image, return_tensors=\"pt\").to(device)\n",
    "with torch.no_grad():\n",
    "    image_features = model.get_image_features(**inputs)\n",
    "    # Normalize the embeddings\n",
    "    image_features = image_features / image_features.norm(dim=-1, keepdim=True)"
   ]
  },
  {
   "cell_type": "code",
   "execution_count": 13,
   "id": "0cd58f40-6297-4f0d-b58d-d45243c0be23",
   "metadata": {},
   "outputs": [
    {
     "data": {
      "text/plain": [
       "tensor([[ 2.2236e-02,  1.4586e-02,  1.2724e-02, -2.3739e-03, -2.9229e-02,\n",
       "         -1.3596e-02, -2.4281e-02, -6.7802e-02, -1.9731e-02, -2.5305e-02,\n",
       "          2.8716e-03, -5.2856e-03,  1.5286e-02,  1.1369e-02, -2.3888e-02,\n",
       "          3.3212e-04,  2.9863e-03, -8.7809e-03,  1.4459e-02,  1.8365e-02,\n",
       "          2.3312e-02,  3.8955e-02,  3.0983e-02,  1.0618e-02, -2.0888e-02,\n",
       "          4.0665e-02, -3.7335e-02,  1.8763e-02, -2.1135e-02, -2.1885e-02,\n",
       "         -2.1633e-03,  7.8178e-03,  2.5044e-02, -1.4591e-02, -5.6150e-02,\n",
       "         -3.4918e-02,  4.7537e-02, -2.2206e-02, -5.5419e-03,  1.3660e-02,\n",
       "         -3.0157e-02,  2.9535e-02, -1.1599e-03,  2.4999e-02,  2.5118e-02,\n",
       "          1.0918e-02,  1.6904e-02, -7.6538e-03,  5.0484e-02,  1.0639e-02,\n",
       "          2.4562e-03, -1.3320e-02,  4.0455e-02,  8.7078e-03,  1.2177e-02,\n",
       "         -3.5788e-02, -7.3476e-03,  2.4452e-02, -1.2221e-02,  3.5828e-02,\n",
       "          4.0692e-02,  3.6157e-03, -2.2837e-02, -5.8215e-03,  2.4653e-02,\n",
       "         -1.2822e-03,  9.5265e-03,  6.8554e-02, -1.4514e-02, -3.0775e-03,\n",
       "         -1.9036e-02, -3.4152e-02, -1.9685e-03,  6.8872e-02, -1.5517e-02,\n",
       "         -2.7956e-02,  3.0404e-02, -1.3811e-02, -3.1382e-03, -1.0812e-02,\n",
       "         -8.2070e-03, -2.4651e-03,  1.6926e-02, -1.2825e-02, -2.5724e-02,\n",
       "         -2.2562e-02,  1.4360e-02, -3.8365e-02, -4.6862e-02,  4.4580e-02,\n",
       "          1.3830e-02, -3.7203e-02, -1.2567e-01,  1.7786e-02, -1.3720e-02,\n",
       "         -2.6133e-02, -2.6195e-02, -3.7488e-02,  3.0566e-02, -5.8135e-02,\n",
       "          1.9252e-02, -1.0798e-02, -1.6478e-02,  3.0139e-03,  1.6226e-03,\n",
       "         -3.3094e-02,  4.0203e-03,  1.2832e-03,  1.8352e-02, -1.9613e-02,\n",
       "         -3.6788e-02, -1.8517e-02,  1.3234e-02, -1.4486e-02,  2.1483e-02,\n",
       "          2.9237e-03, -8.5940e-03,  3.5416e-03,  2.2860e-02,  2.2478e-02,\n",
       "          2.1182e-02, -5.2831e-02,  1.9834e-02, -1.8896e-02, -2.0156e-02,\n",
       "         -1.5093e-02,  1.2641e-02, -1.3689e-02, -2.9342e-02,  3.6448e-02,\n",
       "          4.2021e-02, -4.0807e-02, -2.2173e-02,  5.5432e-01, -4.2513e-02,\n",
       "         -1.5606e-02, -7.8204e-03, -3.5400e-02, -1.0886e-02, -1.0824e-02,\n",
       "         -8.9025e-03, -1.1835e-03, -1.8887e-02,  4.8933e-02,  3.9350e-03,\n",
       "         -4.8302e-03, -3.1275e-03, -1.5305e-02,  2.6462e-02, -2.2055e-02,\n",
       "          1.8786e-02,  2.2717e-02,  8.6412e-03,  5.3582e-02, -1.2485e-02,\n",
       "         -2.2808e-02,  2.6852e-02, -3.4130e-02,  3.0511e-03,  1.4234e-02,\n",
       "         -4.0931e-02, -1.4638e-02,  3.2046e-02, -4.6237e-03,  1.0518e-02,\n",
       "         -2.5112e-02,  1.5348e-02,  1.7531e-02,  5.8994e-02, -2.3737e-02,\n",
       "         -4.9242e-03,  1.3553e-03,  6.7715e-03,  9.9230e-03, -1.0922e-02,\n",
       "          3.1236e-02, -2.8372e-03,  3.5167e-02, -4.5421e-02,  1.5289e-03,\n",
       "         -2.4497e-02,  5.4451e-02, -9.7947e-03, -2.0271e-02, -1.6907e-02,\n",
       "         -2.2144e-02,  5.2184e-02, -6.5734e-03,  2.4605e-02, -1.7843e-03,\n",
       "          5.5830e-02,  5.8997e-03, -1.3041e-02,  2.4368e-02, -1.6526e-02,\n",
       "          9.7132e-03, -6.2568e-02,  2.6671e-02,  3.5351e-02, -4.3771e-03,\n",
       "          2.1733e-02, -2.2234e-02,  1.3619e-02,  1.4704e-02,  2.2124e-02,\n",
       "         -1.3836e-02,  3.7151e-02, -3.4327e-02, -2.8091e-03,  2.6227e-02,\n",
       "          4.6155e-02,  6.0292e-02, -3.1608e-05,  6.3500e-02,  1.7475e-02,\n",
       "          5.3162e-03, -2.6068e-03, -2.6649e-02, -2.8295e-02, -1.9584e-03,\n",
       "          1.6978e-02, -3.3614e-02, -2.0592e-02, -3.1709e-02,  1.3234e-02,\n",
       "         -2.3649e-02, -1.9023e-02, -6.2492e-03,  1.8674e-02, -1.2976e-03,\n",
       "          1.3508e-02, -6.4553e-04,  9.3205e-03,  2.5553e-02,  1.1641e-02,\n",
       "         -5.7875e-02,  2.0616e-02, -2.6864e-02, -2.8481e-03, -8.8103e-03,\n",
       "         -2.2023e-02,  7.5737e-02, -1.4329e-02, -6.7542e-03,  6.5134e-03,\n",
       "         -2.5391e-02,  3.2333e-02,  1.2560e-02, -1.2465e-02, -1.5737e-02,\n",
       "         -6.5852e-03,  1.5908e-03, -2.1574e-02,  3.0575e-02, -3.9142e-03,\n",
       "          1.3228e-03, -2.2723e-02, -3.4245e-02,  1.1301e-02,  6.2568e-04,\n",
       "          1.1120e-02, -2.3696e-02,  1.1268e-02, -9.2664e-03, -1.7092e-02,\n",
       "          2.3762e-03,  1.0474e-02, -2.3502e-02, -1.4112e-02, -3.0373e-03,\n",
       "         -1.4241e-02, -1.8213e-02,  5.0892e-02, -2.3737e-02,  1.2787e-02,\n",
       "         -1.0110e-02, -3.3477e-03,  2.6755e-02,  2.0061e-02, -2.2543e-02,\n",
       "          2.5310e-02,  5.2085e-02,  5.2878e-02,  1.6160e-02, -5.0402e-02,\n",
       "          5.5944e-03, -6.2665e-03, -5.1677e-02, -2.6269e-02, -2.1879e-02,\n",
       "          4.7589e-03, -8.7420e-03,  4.5685e-03,  6.9782e-03, -5.5748e-03,\n",
       "          8.4189e-02, -1.8211e-03,  8.1669e-03, -1.7450e-02, -1.4490e-02,\n",
       "          8.1510e-03, -2.9837e-02,  1.6731e-03, -3.3507e-02, -3.6522e-02,\n",
       "         -2.7458e-02,  2.8621e-02, -4.9839e-02,  4.5373e-02, -3.7914e-02,\n",
       "          1.5899e-02,  3.6810e-02,  5.5399e-01,  3.0234e-02, -3.0519e-02,\n",
       "         -3.7142e-03,  3.2974e-02, -4.2164e-03,  1.3470e-02, -2.1878e-02,\n",
       "          2.1599e-02,  2.2922e-02,  1.3054e-02,  5.4653e-03, -1.5444e-03,\n",
       "          3.2533e-02, -6.1056e-03,  4.0274e-02,  3.3337e-03, -1.1929e-01,\n",
       "          5.4664e-02, -2.7524e-02, -9.3673e-04, -8.1937e-03,  3.0650e-02,\n",
       "          1.6399e-02,  3.1491e-02,  6.9489e-03, -3.2814e-02,  1.9790e-02,\n",
       "          2.8819e-02, -2.7669e-02,  1.6664e-02, -3.8089e-02, -3.2725e-03,\n",
       "         -3.0280e-02,  1.5187e-02,  1.6241e-02,  1.9099e-02, -3.9705e-03,\n",
       "          4.5065e-02, -7.9990e-03,  6.2923e-03, -5.9455e-03, -2.8893e-02,\n",
       "         -3.8656e-03,  2.0706e-02,  2.2580e-02, -3.0592e-02,  4.1937e-02,\n",
       "          2.1663e-02, -4.2948e-02, -3.4761e-03,  8.4327e-03,  3.3596e-02,\n",
       "         -2.1144e-02, -1.8044e-02, -4.4778e-03,  1.7045e-02, -4.9024e-02,\n",
       "         -2.1907e-02,  8.0569e-03,  1.9607e-02,  3.0529e-03, -4.4453e-02,\n",
       "         -2.1418e-02,  8.6595e-03, -1.4114e-02, -3.8226e-03, -8.6766e-03,\n",
       "          2.3111e-03,  1.6885e-03, -9.0640e-03, -6.0439e-02,  3.2707e-02,\n",
       "         -2.3121e-02, -4.2146e-03, -2.7340e-02, -4.1374e-02, -4.3908e-03,\n",
       "         -8.2720e-02,  6.5391e-02, -1.5101e-02,  3.4074e-02,  4.8916e-02,\n",
       "         -1.1275e-02, -1.4696e-02, -6.5906e-03, -2.1752e-02,  5.1100e-02,\n",
       "          2.5239e-03, -2.5175e-02,  9.0117e-03, -1.9679e-02, -3.4163e-02,\n",
       "         -3.2286e-02,  4.4551e-03, -7.9743e-03,  2.6260e-02,  3.8789e-02,\n",
       "          6.8189e-02,  1.6937e-02,  5.4672e-03,  2.7643e-02,  1.6075e-02,\n",
       "         -2.3063e-04,  9.8364e-03,  5.1509e-05,  4.9095e-03, -1.0872e-02,\n",
       "          1.6572e-02, -5.0714e-03,  2.6234e-02, -7.2351e-02,  2.9819e-02,\n",
       "         -3.5609e-03, -4.5148e-03,  2.3760e-02,  2.0568e-02,  1.7653e-03,\n",
       "          1.9830e-02, -8.3588e-03,  4.7963e-03,  3.1310e-02, -1.9757e-02,\n",
       "         -1.4211e-02, -1.3041e-02,  3.8796e-02,  2.8878e-02,  4.7070e-03,\n",
       "         -3.0908e-02,  1.0331e-02, -3.7972e-02, -2.4648e-02, -6.7195e-03,\n",
       "          2.7380e-02,  2.0763e-02, -6.8033e-02, -1.3657e-02, -9.7754e-03,\n",
       "         -2.1721e-02, -5.3089e-03, -6.5277e-03,  3.6408e-02,  2.2246e-03,\n",
       "          2.3922e-02,  1.5507e-02, -7.7259e-03, -1.3018e-02, -1.9916e-02,\n",
       "          2.9751e-02,  5.7636e-02,  2.1410e-02,  2.1090e-02,  2.0329e-02,\n",
       "          1.2090e-03,  2.2285e-02, -1.7441e-02, -2.4602e-03,  2.4655e-02,\n",
       "          2.7436e-02,  1.1051e-02, -2.3921e-02,  1.7486e-02,  3.1151e-03,\n",
       "          5.2718e-03,  1.6372e-02,  2.4281e-02, -4.4210e-05,  4.5913e-03,\n",
       "         -1.5945e-02, -3.4735e-02,  2.0922e-02, -3.4880e-02, -1.0450e-02,\n",
       "         -1.3161e-02,  1.6718e-02,  3.0101e-03,  4.0345e-02, -2.2068e-02,\n",
       "          3.8102e-03,  3.3830e-02, -3.0295e-02,  8.3372e-02,  1.1355e-02,\n",
       "         -4.9712e-03,  2.0006e-02,  3.5197e-02, -5.2578e-02,  9.2273e-03,\n",
       "          1.9843e-02,  1.9427e-02, -3.1309e-02,  5.0325e-02,  2.4469e-02,\n",
       "         -5.2198e-03, -5.9035e-03,  4.6483e-02, -5.8962e-02, -6.1042e-03,\n",
       "          3.1925e-02, -2.3733e-02]])"
      ]
     },
     "execution_count": 13,
     "metadata": {},
     "output_type": "execute_result"
    }
   ],
   "source": [
    "all_text_features=[]\n",
    "for i, word in enumerate(words):\n",
    "    inputs=processor(text='A photo of a '+ word, return_tensors=\"pt\", padding=True).to(device)\n",
    "    with torch.no_grad():\n",
    "        text_features = model.get_text_features(**inputs)\n",
    "        text_features = text_features / text_features.norm(dim=-1, keepdim=True)\n",
    "        all_text_features.append(text_features)\n",
    "all_text_features=torch.concat(all_text_features)\n",
    "text_features"
   ]
  },
  {
   "cell_type": "code",
   "execution_count": 8,
   "id": "cb433a3a-d0c9-484f-9724-0e549905c297",
   "metadata": {},
   "outputs": [
    {
     "data": {
      "text/plain": [
       "torch.Size([208, 512])"
      ]
     },
     "execution_count": 8,
     "metadata": {},
     "output_type": "execute_result"
    }
   ],
   "source": [
    "all_text_features.shape"
   ]
  },
  {
   "cell_type": "code",
   "execution_count": 9,
   "id": "4afb5676-b370-4408-9ca8-4a288aa761cd",
   "metadata": {},
   "outputs": [],
   "source": [
    "similarities = torch.cosine_similarity(image_features, all_text_features, dim=1)"
   ]
  },
  {
   "cell_type": "code",
   "execution_count": 10,
   "id": "6d72ea5b-b3f3-40b9-8d1f-06132f58a3cf",
   "metadata": {},
   "outputs": [
    {
     "data": {
      "text/plain": [
       "torch.Size([208])"
      ]
     },
     "execution_count": 10,
     "metadata": {},
     "output_type": "execute_result"
    }
   ],
   "source": [
    "similarities.shape"
   ]
  },
  {
   "cell_type": "code",
   "execution_count": 19,
   "id": "68f4fc03-110e-48ae-abd0-56855395ae19",
   "metadata": {},
   "outputs": [],
   "source": [
    "top_k = 200\n",
    "top_k_indices = similarities.argsort(descending=True)[:top_k]\n",
    "\n",
    "results = []\n",
    "for idx in top_k_indices:\n",
    "    emb = all_text_features[idx].cpu().tolist()\n",
    "    emb_short = [round(emb[0], 2), round(emb[1], 2), round(emb[-1], 2)]\n",
    "    results.append({\n",
    "        'text': words[idx],\n",
    "        'similarity': similarities[idx].item(),\n",
    "        'embedding': emb_short\n",
    "    })\n",
    "\n",
    "import pandas as pd\n",
    "\n",
    "df_results = pd.DataFrame(results)\n",
    "df_results.to_csv('cat_similarity.csv', index=False)\n"
   ]
  },
  {
   "cell_type": "code",
   "execution_count": null,
   "id": "8b8311d3-269e-4c2b-8761-4453303f5856",
   "metadata": {},
   "outputs": [],
   "source": []
  },
  {
   "cell_type": "code",
   "execution_count": null,
   "id": "e6ca6d31-72de-4ed2-9a4e-9a1896df8454",
   "metadata": {},
   "outputs": [],
   "source": []
  },
  {
   "cell_type": "code",
   "execution_count": null,
   "id": "f77e132c-8897-4b1f-b3c8-2d7291ee353c",
   "metadata": {},
   "outputs": [],
   "source": []
  },
  {
   "cell_type": "code",
   "execution_count": null,
   "id": "0acadf61-0c5f-4772-8fab-055d83fb5ba0",
   "metadata": {},
   "outputs": [],
   "source": []
  },
  {
   "cell_type": "code",
   "execution_count": null,
   "id": "4b09517f-d74a-4d47-bcc6-b7d09e1185c3",
   "metadata": {},
   "outputs": [],
   "source": []
  }
 ],
 "metadata": {
  "kernelspec": {
   "display_name": "3.11.9",
   "language": "python",
   "name": "python3"
  },
  "language_info": {
   "codemirror_mode": {
    "name": "ipython",
    "version": 3
   },
   "file_extension": ".py",
   "mimetype": "text/x-python",
   "name": "python",
   "nbconvert_exporter": "python",
   "pygments_lexer": "ipython3",
   "version": "3.11.9"
  }
 },
 "nbformat": 4,
 "nbformat_minor": 5
}
