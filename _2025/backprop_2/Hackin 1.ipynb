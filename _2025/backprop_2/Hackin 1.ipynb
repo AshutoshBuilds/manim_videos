{
 "cells": [
  {
   "cell_type": "markdown",
   "id": "992b7670-c90e-47f7-b8fa-84cb59f5be60",
   "metadata": {},
   "source": [
    "## Hacking 1"
   ]
  },
  {
   "cell_type": "code",
   "execution_count": 1,
   "id": "f50828e1-fa2d-44ee-8529-7529f5b52158",
   "metadata": {},
   "outputs": [],
   "source": [
    "import torch\n",
    "from transformers import pipeline\n",
    "from torch.nn import functional as F\n",
    "import numpy as np\n",
    "from tqdm import tqdm\n",
    "import matplotlib.pyplot as plt\n",
    "import os\n",
    "\n",
    "from transformers import LlamaForCausalLM, PreTrainedTokenizerFast, LlamaConfig\n",
    "from transformers import AutoModelForCausalLM, AutoTokenizer\n",
    "\n",
    "device='cuda'"
   ]
  },
  {
   "cell_type": "code",
   "execution_count": 2,
   "id": "c3569721-e53a-46db-97f4-fce832348bab",
   "metadata": {},
   "outputs": [],
   "source": [
    "model_id = \"meta-llama/Llama-3.2-1B\""
   ]
  },
  {
   "cell_type": "code",
   "execution_count": 3,
   "id": "f74b97e6-430b-4871-993a-5ca818bf3e28",
   "metadata": {},
   "outputs": [],
   "source": [
    "model = AutoModelForCausalLM.from_pretrained(model_id).to(device)\n",
    "\n",
    "# model = AutoModelForCausalLM.from_pretrained(model_id, torch_dtype=torch.float16).to(device) #Numerical stability? Seems like this work? Saves a lot of memory!\n",
    "tokenizer = AutoTokenizer.from_pretrained(model_id)"
   ]
  },
  {
   "cell_type": "code",
   "execution_count": null,
   "id": "64c05a72-5595-4513-8504-9e737425c5cf",
   "metadata": {},
   "outputs": [],
   "source": [
    "text = \"The capital of France is Paris\"\n",
    "inputs = tokenizer(text, return_tensors=\"pt\").to(device)\n",
    "input_ids = inputs[\"input_ids\"]\n",
    "\n",
    "with torch.no_grad():\n",
    "    outputs = model(input_ids, labels=input_ids)\n",
    "\n",
    "my_probs=F.softmax(outputs.logits, dim=-1)\n",
    "y_one_hot=F.one_hot(input_ids, num_classes=model.config.vocab_size)\n",
    "correct_next_token_probs = (my_probs[:,:-1]*y_one_hot[:,1:]).sum(-1) \n",
    "my_loss=-torch.log(correct_next_token_probs).mean()\n",
    "print(my_loss.item(), outputs.loss.item())"
   ]
  },
  {
   "cell_type": "code",
   "execution_count": null,
   "id": "2bbf6c3c-765d-41fc-bcff-f435cdf82c10",
   "metadata": {},
   "outputs": [],
   "source": [
    "out=model(input_ids.to(device), labels=input_ids.to(device))\n",
    "out.loss.backward()"
   ]
  },
  {
   "cell_type": "code",
   "execution_count": null,
   "id": "f5c312ef-9b49-427e-8ee4-cce65de047df",
   "metadata": {},
   "outputs": [],
   "source": [
    "filtered_params = {name: p for name, p in model.named_parameters() if p.requires_grad}"
   ]
  },
  {
   "cell_type": "code",
   "execution_count": null,
   "id": "64ce9f0c-bfb4-4ef2-be77-b29a3abf500e",
   "metadata": {},
   "outputs": [],
   "source": [
    "lr=1e-4\n",
    "optimizer = torch.optim.Adam(model.parameters(), lr=lr)"
   ]
  },
  {
   "cell_type": "code",
   "execution_count": null,
   "id": "4705cab5-4a28-4316-acbf-4728049f0778",
   "metadata": {},
   "outputs": [],
   "source": [
    "for i in range(10):\n",
    "    model.train()\n",
    "    optimizer.zero_grad()\n",
    "    outputs = model(**inputs, labels=inputs['input_ids'])\n",
    "    loss = outputs.loss #Ok not just paris loss here -> not sure how much I'm worried about that\n",
    "    loss.backward()\n",
    "    print(loss.item())\n",
    "    \n",
    "    # Add gradient clipping\n",
    "    torch.nn.utils.clip_grad_norm_(model.parameters(), max_norm=1.0)\n",
    "    \n",
    "    optimizer.step()"
   ]
  },
  {
   "cell_type": "code",
   "execution_count": null,
   "id": "bba2e8ca-6c1a-423c-aae2-570d194cbeca",
   "metadata": {},
   "outputs": [],
   "source": []
  },
  {
   "cell_type": "code",
   "execution_count": null,
   "id": "6ca926aa-7b1a-4054-80ea-16ebe631233d",
   "metadata": {},
   "outputs": [],
   "source": []
  },
  {
   "cell_type": "code",
   "execution_count": null,
   "id": "7a1bfa58-a032-46ac-b4c8-5b0a136443e1",
   "metadata": {},
   "outputs": [],
   "source": []
  },
  {
   "cell_type": "code",
   "execution_count": null,
   "id": "9e5f16a5-51bb-4f96-accd-574c37219138",
   "metadata": {},
   "outputs": [],
   "source": []
  },
  {
   "cell_type": "code",
   "execution_count": null,
   "id": "81f1cd44-892a-41b4-a228-1defefa0af5e",
   "metadata": {},
   "outputs": [],
   "source": []
  },
  {
   "cell_type": "code",
   "execution_count": null,
   "id": "6d171d5a-9e8b-4e4d-935b-321856f28a56",
   "metadata": {},
   "outputs": [],
   "source": []
  },
  {
   "cell_type": "code",
   "execution_count": null,
   "id": "1d90b532-d3b1-4af2-ac91-d5e7e5630324",
   "metadata": {},
   "outputs": [],
   "source": []
  },
  {
   "cell_type": "code",
   "execution_count": null,
   "id": "88bec50d-9d24-48ca-8eaa-46365d6d6791",
   "metadata": {},
   "outputs": [],
   "source": [
    "save_dir='may_12_3'\n",
    "os.makedirs(save_dir, exist_ok=True)\n",
    "kernel_size=64\n",
    "stride=64\n",
    "\n",
    "avg_pool = torch.nn.AvgPool2d(kernel_size=kernel_size, stride=stride)\n",
    "max_pool=torch.nn.MaxPool2d(kernel_size=kernel_size, stride=stride)\n",
    "\n",
    "tensor_names=['self_attn.q_proj.weight', 'self_attn.k_proj.weight', 'self_attn.v_proj.weight', 'self_attn.o_proj.weight', \n",
    "            'mlp.gate_proj.weight', 'mlp.up_proj.weight', 'mlp.down_proj.weight']"
   ]
  },
  {
   "cell_type": "code",
   "execution_count": null,
   "id": "ab02d1e6-465a-4bf0-a604-b63c73d04d2a",
   "metadata": {},
   "outputs": [],
   "source": [
    "fig=plt.figure(0,(16,9), facecolor='k')\n",
    "for layer_num in range(16):\n",
    "    for tensor_index in range(len(tensor_names)):\n",
    "        tensor_name=tensor_names[tensor_index]\n",
    "        # w=filtered_params['model.layers.'+str(layer_num)+'.'+tensor_name].detach().cpu()\n",
    "        g=filtered_params['model.layers.'+str(layer_num)+'.'+tensor_name].grad.detach().cpu()\n",
    "        \n",
    "        # w_pooled=max_pool(w.unsqueeze(0))\n",
    "        g_pooled=max_pool(g.unsqueeze(0))\n",
    "        # g_pooled=avg_pool(g.unsqueeze(0))\n",
    "\n",
    "        fig.add_subplot(7, 16, tensor_index*16+layer_num+1)    \n",
    "        plt.imshow(g_pooled[0], vmin=global_min*0.0001, vmax=global_max*0.0001)\n",
    "        plt.axis('off')\n",
    "plt.savefig(save_dir + '/' + 'grads_max_pooled_global_norm_0001' + '.png', dpi=150, facecolor='k')"
   ]
  },
  {
   "cell_type": "code",
   "execution_count": null,
   "id": "172a6096-a679-4085-a8dc-48233f57989f",
   "metadata": {},
   "outputs": [],
   "source": [
    "global_min=0\n",
    "global_max=0\n",
    "for k,v in filtered_params.items(): #Hmm i guess I'm doing the global weight average not the global grad average - do we care right now?\n",
    "    if v.max().item()>global_max:\n",
    "        global_max=v.max().item()\n",
    "    if v.min().item()<global_min:\n",
    "        global_min=v.min().item()"
   ]
  },
  {
   "cell_type": "code",
   "execution_count": null,
   "id": "516d7407-7c1d-47a6-8f36-a9ed5094a95e",
   "metadata": {},
   "outputs": [],
   "source": [
    "fig=plt.figure(0,(16,9), facecolor='k')\n",
    "for layer_num in range(16):\n",
    "    for tensor_index in range(len(tensor_names)):\n",
    "        tensor_name=tensor_names[tensor_index]\n",
    "        # w=filtered_params['model.layers.'+str(layer_num)+'.'+tensor_name].detach().cpu()\n",
    "        g=filtered_params['model.layers.'+str(layer_num)+'.'+tensor_name].grad.detach().cpu()\n",
    "        \n",
    "        # w_pooled=max_pool(w.unsqueeze(0))\n",
    "        g_pooled=max_pool(g.unsqueeze(0))\n",
    "        # g_pooled=avg_pool(g.unsqueeze(0))\n",
    "\n",
    "        fig.add_subplot(7, 16, tensor_index*16+layer_num+1)    \n",
    "        plt.imshow(g_pooled[0], vmin=global_min*0.0001, vmax=global_max*0.0001)\n",
    "        plt.axis('off')\n",
    "plt.savefig(save_dir + '/' + 'grads_max_pooled_global_norm_0001' + '.png', dpi=150, facecolor='k')"
   ]
  }
 ],
 "metadata": {
  "kernelspec": {
   "display_name": "Python 3 (ipykernel)",
   "language": "python",
   "name": "python3"
  },
  "language_info": {
   "codemirror_mode": {
    "name": "ipython",
    "version": 3
   },
   "file_extension": ".py",
   "mimetype": "text/x-python",
   "name": "python",
   "nbconvert_exporter": "python",
   "pygments_lexer": "ipython3",
   "version": "3.11.0"
  }
 },
 "nbformat": 4,
 "nbformat_minor": 5
}
