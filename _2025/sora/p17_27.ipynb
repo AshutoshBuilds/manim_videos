{
 "cells": [
  {
   "cell_type": "markdown",
   "id": "11fe5a2b-a5ed-4b2a-ab26-532724daeec1",
   "metadata": {},
   "source": [
    "## p17 to p27"
   ]
  },
  {
   "cell_type": "markdown",
   "id": "958c8987-7b54-4d65-91a6-a97dde3da95e",
   "metadata": {},
   "source": [
    "### p17"
   ]
  },
  {
   "cell_type": "code",
   "execution_count": 1,
   "id": "d76240d8-b965-4ccc-83cd-1d972bba9521",
   "metadata": {},
   "outputs": [],
   "source": [
    "import torch\n",
    "from PIL import Image\n",
    "import requests\n",
    "from transformers import AutoProcessor, CLIPModel\n",
    "import matplotlib.pyplot as plt\n",
    "import numpy as np\n",
    "from tqdm import tqdm"
   ]
  },
  {
   "cell_type": "code",
   "execution_count": 2,
   "id": "b045d058-4634-4e2a-a1e5-c5d14fcb81e8",
   "metadata": {},
   "outputs": [],
   "source": [
    "device='cuda'"
   ]
  },
  {
   "cell_type": "code",
   "execution_count": 3,
   "id": "2a3b33f5-efbc-4daf-98ee-0fa3c7da0867",
   "metadata": {},
   "outputs": [],
   "source": [
    "model = CLIPModel.from_pretrained(\"openai/clip-vit-base-patch32\").to(device)\n",
    "processor = AutoProcessor.from_pretrained(\"openai/clip-vit-base-patch32\")"
   ]
  },
  {
   "cell_type": "code",
   "execution_count": 14,
   "id": "fb2a7268-48c1-452b-9d4f-c57b7f9208fa",
   "metadata": {},
   "outputs": [],
   "source": [
    "image = Image.open('me_no_hat_cropped_1.jpeg')\n",
    "text = \"A photo of a man\"\n",
    "# image"
   ]
  },
  {
   "cell_type": "code",
   "execution_count": 9,
   "id": "bbc8c7c1-cbac-4bb2-a07a-ac0e9db5e0a9",
   "metadata": {},
   "outputs": [],
   "source": [
    "inputs = processor(images=image, return_tensors=\"pt\").to(device)\n",
    "with torch.no_grad():\n",
    "    image_features = model.get_image_features(**inputs)\n",
    "    image_features = image_features / image_features.norm(dim=-1, keepdim=True)"
   ]
  },
  {
   "cell_type": "code",
   "execution_count": 13,
   "id": "7d028f7b-cb34-41a8-bc2b-6ca191e2e491",
   "metadata": {},
   "outputs": [
    {
     "data": {
      "text/plain": [
       "(tensor([ 0.0362, -0.0020, -0.0347,  0.0297, -0.0321, -0.0230,  0.0156,  0.0808,\n",
       "          0.0237,  0.0073], device='cuda:0'),\n",
       " torch.Size([1, 512]))"
      ]
     },
     "execution_count": 13,
     "metadata": {},
     "output_type": "execute_result"
    }
   ],
   "source": [
    "image_features[0,:10], image_features.shape"
   ]
  },
  {
   "cell_type": "code",
   "execution_count": 15,
   "id": "51c227af-6297-4966-9ce7-e529636c91a0",
   "metadata": {},
   "outputs": [],
   "source": [
    "inputs = processor(text=text, return_tensors=\"pt\", padding=True).to(device)\n",
    "with torch.no_grad():\n",
    "    text_features = model.get_text_features(**inputs)\n",
    "    text_features = text_features / text_features.norm(dim=-1, keepdim=True)"
   ]
  },
  {
   "cell_type": "code",
   "execution_count": 16,
   "id": "bd1c7901-f7ef-4015-b4f9-cb152334e603",
   "metadata": {},
   "outputs": [
    {
     "data": {
      "text/plain": [
       "(tensor([-0.0235,  0.0288, -0.0020,  0.0181, -0.0009, -0.0264, -0.0124, -0.0950,\n",
       "         -0.0009,  0.0272], device='cuda:0'),\n",
       " torch.Size([1, 512]))"
      ]
     },
     "execution_count": 16,
     "metadata": {},
     "output_type": "execute_result"
    }
   ],
   "source": [
    "text_features[0,:10], text_features.shape"
   ]
  },
  {
   "cell_type": "code",
   "execution_count": 18,
   "id": "0afa9717-ac19-4dc8-9a7a-5bd0fa54daac",
   "metadata": {},
   "outputs": [
    {
     "data": {
      "text/plain": [
       "<matplotlib.image.AxesImage at 0x7ee0b7dfe650>"
      ]
     },
     "execution_count": 18,
     "metadata": {},
     "output_type": "execute_result"
    },
    {
     "data": {
      "image/png": "[encoded data removed]",
      "text/plain": [
       "<Figure size 640x480 with 1 Axes>"
      ]
     },
     "metadata": {},
     "output_type": "display_data"
    }
   ],
   "source": [
    "plt.imshow(image_features.detach().cpu().numpy().reshape(16,32))"
   ]
  },
  {
   "cell_type": "code",
   "execution_count": null,
   "id": "34ee7fa9-3fc4-433e-8d33-af4caad5af1e",
   "metadata": {},
   "outputs": [],
   "source": []
  },
  {
   "cell_type": "code",
   "execution_count": null,
   "id": "0007eae4-3d0c-4b22-be22-ad09df474210",
   "metadata": {},
   "outputs": [],
   "source": []
  },
  {
   "cell_type": "code",
   "execution_count": null,
   "id": "c508ab4a-14bd-4e85-9cb8-6c6dbba6c1f0",
   "metadata": {},
   "outputs": [],
   "source": []
  },
  {
   "cell_type": "code",
   "execution_count": null,
   "id": "fccb9bc5-1fb0-4472-a15c-8ff1e94c5016",
   "metadata": {},
   "outputs": [],
   "source": []
  },
  {
   "cell_type": "code",
   "execution_count": null,
   "id": "6c9f59e7-56f0-4276-b43e-23d4f26371d6",
   "metadata": {},
   "outputs": [],
   "source": []
  }
 ],
 "metadata": {
  "kernelspec": {
   "display_name": "Python 3 (ipykernel)",
   "language": "python",
   "name": "python3"
  },
  "language_info": {
   "codemirror_mode": {
    "name": "ipython",
    "version": 3
   },
   "file_extension": ".py",
   "mimetype": "text/x-python",
   "name": "python",
   "nbconvert_exporter": "python",
   "pygments_lexer": "ipython3",
   "version": "3.11.11"
  }
 },
 "nbformat": 4,
 "nbformat_minor": 5
}
