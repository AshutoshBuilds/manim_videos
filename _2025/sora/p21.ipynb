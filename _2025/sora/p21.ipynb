{
 "cells": [
  {
   "cell_type": "code",
   "execution_count": 10,
   "id": "75b18259",
   "metadata": {},
   "outputs": [],
   "source": [
    "import torch\n",
    "from PIL import Image\n",
    "from transformers import AutoProcessor, CLIPModel\n",
    "import torch.nn.functional as F"
   ]
  },
  {
   "cell_type": "code",
   "execution_count": 11,
   "id": "3eb598f0",
   "metadata": {},
   "outputs": [],
   "source": [
    "stephen_hat = Image.open('me_with_hat.jpeg')\n",
    "stephen_no_hat = Image.open('me_no_hat_cropped_1.jpeg')"
   ]
  },
  {
   "cell_type": "code",
   "execution_count": 12,
   "id": "4fd5a786",
   "metadata": {},
   "outputs": [],
   "source": [
    "device = torch.device(\"cpu\")\n",
    "model = CLIPModel.from_pretrained(\"openai/clip-vit-base-patch32\").to(device)\n",
    "processor = AutoProcessor.from_pretrained(\"openai/clip-vit-base-patch32\")"
   ]
  },
  {
   "cell_type": "code",
   "execution_count": 13,
   "id": "b63585ea",
   "metadata": {},
   "outputs": [],
   "source": [
    "with torch.no_grad():\n",
    "    stephen_no_hat_inputs = processor(images=stephen_no_hat, return_tensors=\"pt\").to(device)\n",
    "    stephen_hat_inputs = processor(images=stephen_hat, return_tensors=\"pt\").to(device)\n",
    "\n",
    "    image_features_hat = model.get_image_features(**stephen_no_hat_inputs)\n",
    "    image_features_no_hat = model.get_image_features(**stephen_hat_inputs)\n",
    "\n",
    "    image_features_hat = F.normalize(image_features_hat, dim=-1)\n",
    "    image_features_no_hat = F.normalize(image_features_no_hat, dim=-1)"
   ]
  },
  {
   "cell_type": "code",
   "execution_count": 14,
   "id": "a774c326",
   "metadata": {},
   "outputs": [],
   "source": [
    "def compute_similarity(text):\n",
    "    with torch.no_grad():\n",
    "        text_inputs = processor(text=[text], return_tensors=\"pt\").to(device)\n",
    "        text_features = model.get_text_features(**text_inputs)\n",
    "        text_features = F.normalize(text_features, dim=-1)\n",
    "\n",
    "        similarity_stephen_hat = (image_features_hat @ text_features.T).squeeze().item()\n",
    "        similarity_stephen_no_hat = (image_features_no_hat @ text_features.T).squeeze().item()  \n",
    "        \n",
    "        print(f\"Text: '{text}'\")\n",
    "        print(f\"Cosine similarity with 'me_with_hat.jpeg': {similarity_stephen_hat:.4f}\")\n",
    "        print(f\"Cosine similarity with 'me_no_hat_cropped_1.jpeg': {similarity_stephen_no_hat:.4f}\")"
   ]
  },
  {
   "cell_type": "code",
   "execution_count": 16,
   "id": "34c980ac",
   "metadata": {},
   "outputs": [
    {
     "name": "stdout",
     "output_type": "stream",
     "text": [
      "Text: 'hat'\n",
      "Cosine similarity with 'me_with_hat.jpeg': 0.1775\n",
      "Cosine similarity with 'me_no_hat_cropped_1.jpeg': 0.2286\n"
     ]
    }
   ],
   "source": [
    "compute_similarity('hat')"
   ]
  }
 ],
 "metadata": {
  "kernelspec": {
   "display_name": "3.11.9",
   "language": "python",
   "name": "python3"
  },
  "language_info": {
   "codemirror_mode": {
    "name": "ipython",
    "version": 3
   },
   "file_extension": ".py",
   "mimetype": "text/x-python",
   "name": "python",
   "nbconvert_exporter": "python",
   "pygments_lexer": "ipython3",
   "version": "3.11.9"
  }
 },
 "nbformat": 4,
 "nbformat_minor": 5
}
