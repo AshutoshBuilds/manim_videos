{
 "cells": [
  {
   "cell_type": "markdown",
   "id": "c43d6531-a496-442a-ba46-dd3dd28c3e15",
   "metadata": {},
   "source": [
    "## European Cities 1D [Part 1]"
   ]
  },
  {
   "cell_type": "code",
   "execution_count": 4,
   "id": "eeea083a-de2d-4f90-b2b9-7f5cb342315a",
   "metadata": {},
   "outputs": [],
   "source": [
    "import numpy as np\n",
    "import torch.nn as nn\n",
    "import torch\n",
    "import matplotlib.pyplot as plt\n",
    "import torch.optim as optim\n",
    "\n",
    "paris_coords = np.array([\n",
    "    [48.8575, 2.3514], #Center of Paris\n",
    "    [48.8584, 2.2945], # Eiffel Tower\n",
    "    [48.8530, 2.3499], #Notre Dame\n",
    "    [48.8606,  2.3376], #Louvre\n",
    "    [48.8606, 2.3522]  #Centre Pompidou\n",
    "])\n",
    "\n",
    "madrid_coords = np.array([\n",
    "    [40.4167, -3.7033],   # Center of Madrid\n",
    "    [40.4153, -3.6835],   # Retiro Park \n",
    "    [40.4180, -3.7143],   # Royal Palace \n",
    "    [40.4138, -3.6921],   # Prado Museum \n",
    "    [40.4169, -3.7033]   # Puerta del Sol \n",
    "])\n",
    "\n",
    "berlin_coords = np.array([\n",
    "    [52.5200, 13.4050], # Center of Berlin\n",
    "    [52.5163, 13.3777],   # Brandenburg Gate \n",
    "    [52.5169, 13.4019],   # Museum Island \n",
    "    [52.5074, 13.3904],   # Checkpoint Charlie \n",
    "    [52.5251, 13.3694]   # Berlin Central Station \n",
    "])\n",
    "\n",
    "colors=['c', 'y', 'm']"
   ]
  },
  {
   "cell_type": "code",
   "execution_count": null,
   "id": "850d0126-86dc-4878-acdb-1dbfe0c9a3f7",
   "metadata": {},
   "outputs": [],
   "source": []
  },
  {
   "cell_type": "code",
   "execution_count": 5,
   "id": "78ec18db-8745-4efb-882b-bb94cd62c077",
   "metadata": {},
   "outputs": [],
   "source": [
    "# Set random seed for reproducibility\n",
    "random_seed=52\n",
    "torch.manual_seed(random_seed)\n",
    "np.random.seed(random_seed)"
   ]
  },
  {
   "cell_type": "code",
   "execution_count": 6,
   "id": "9f7781c4-68c6-4e52-826a-52063002f5ae",
   "metadata": {},
   "outputs": [
    {
     "name": "stdout",
     "output_type": "stream",
     "text": [
      "Shape of X: (15, 1)\n",
      "Shape of y: (15,)\n"
     ]
    }
   ],
   "source": [
    "# Combine data into one matrix X and labels y\n",
    "X_raw = np.vstack([madrid_coords, paris_coords, berlin_coords]) #, brussels_coords, vienna_coords])\n",
    "y = np.array([0, 0, 0, 0, 0,  #  Madrid labels (0)\n",
    "              1, 1, 1, 1, 1,  #  Paris labels (1)\n",
    "              2, 2, 2, 2, 2]) #, # Berlin labels (2)\n",
    "              #3, 3, 3, 3, 3, 3, 3, \n",
    "              #4, 4, 4, 4, 4, 4, 4]) \n",
    "\n",
    "# Let's use only longitude as input for the simple model\n",
    "X_lon = X_raw[:, 1].reshape(-1, 1)  # Extract longitude and reshape to column vector\n",
    "\n",
    "# Normalize data (simple scaling by dividing by 100, I guess I could do 10)\n",
    "X = X_lon # / 100 - Simple longitude only problem does not seem to require normalization, that's interesting!\n",
    "\n",
    "# Alternative normalization (uncomment to use)\n",
    "# mean = np.mean(X_lon)\n",
    "# std = np.std(X_lon)\n",
    "# X = (X_lon - mean) / std\n",
    "\n",
    "rI=np.arange(len(y))\n",
    "np.random.shuffle(rI)\n",
    "X=X[rI,:]\n",
    "y=y[rI]\n",
    "X_raw=X_raw[rI,:]\n",
    "\n",
    "print(f\"Shape of X: {X.shape}\")\n",
    "print(f\"Shape of y: {y.shape}\")"
   ]
  },
  {
   "cell_type": "code",
   "execution_count": 7,
   "id": "b8d81d0a-a31e-409d-9f9f-3085a0e75aeb",
   "metadata": {},
   "outputs": [],
   "source": [
    "class TinyGPSModel(nn.Module):\n",
    "    def __init__(self, input_size=1, output_size=3):\n",
    "        super(TinyGPSModel, self).__init__()\n",
    "        self.output = nn.Linear(input_size, output_size) #, bias=False)  # 3 cities\n",
    "\n",
    "    def forward(self, x):\n",
    "        x = self.output(x)\n",
    "        return x"
   ]
  },
  {
   "cell_type": "code",
   "execution_count": 8,
   "id": "6e9da523-dd7a-4316-8424-fe5ef72f05b2",
   "metadata": {},
   "outputs": [],
   "source": [
    "# Initialize model, loss, and optimizer\n",
    "model = TinyGPSModel()\n",
    "criterion = nn.CrossEntropyLoss()\n",
    "optimizer = optim.SGD(model.parameters(), lr=0.1)\n",
    "\n",
    "#I can manually initialize and still learns real good? yeah seems like it!\n",
    "with torch.no_grad():\n",
    "    model.output.weight[0,0]=1.0\n",
    "    model.output.weight[1,0]=0.0\n",
    "    model.output.weight[2,0]=-1.0\n",
    "    model.output.bias[0]=0\n",
    "    model.output.bias[1]=0\n",
    "    model.output.bias[2]=0"
   ]
  },
  {
   "cell_type": "code",
   "execution_count": 9,
   "id": "b503b219-18f2-484b-bb34-ffdebc0ff401",
   "metadata": {},
   "outputs": [
    {
     "data": {
      "text/plain": [
       "tensor([ 2.3514,  0.0000, -2.3514])"
      ]
     },
     "execution_count": 9,
     "metadata": {},
     "output_type": "execute_result"
    }
   ],
   "source": [
    "logits=model(torch.tensor([2.3514])).detach() #Center of Paris\n",
    "logits"
   ]
  },
  {
   "cell_type": "code",
   "execution_count": 10,
   "id": "b9dded99-9063-4eca-ba9c-aa2372e7c630",
   "metadata": {},
   "outputs": [
    {
     "data": {
      "text/plain": [
       "tensor([0.9055, 0.0862, 0.0082])"
      ]
     },
     "execution_count": 10,
     "metadata": {},
     "output_type": "execute_result"
    }
   ],
   "source": [
    "torch.nn.Softmax(0)(logits)"
   ]
  },
  {
   "cell_type": "code",
   "execution_count": 11,
   "id": "a47156ff-bd45-45d4-9fbf-28833ae5dde2",
   "metadata": {},
   "outputs": [
    {
     "data": {
      "text/plain": [
       "2.4510851013124895"
      ]
     },
     "execution_count": 11,
     "metadata": {},
     "output_type": "execute_result"
    }
   ],
   "source": [
    "-np.log(0.0862)"
   ]
  },
  {
   "cell_type": "code",
   "execution_count": 12,
   "id": "29c2c773-7c47-413b-b440-c762b8f1281c",
   "metadata": {},
   "outputs": [],
   "source": [
    "with torch.no_grad():\n",
    "    model.output.weight[0,0]=1.0\n",
    "    model.output.weight[1,0]=0.1\n",
    "    model.output.weight[2,0]=-1.0\n",
    "    model.output.bias[0]=0\n",
    "    model.output.bias[1]=0\n",
    "    model.output.bias[2]=0"
   ]
  },
  {
   "cell_type": "code",
   "execution_count": 13,
   "id": "bab1d40c-fb12-41ae-8de5-fa57c7c07535",
   "metadata": {},
   "outputs": [
    {
     "data": {
      "text/plain": [
       "tensor([ 2.3514,  0.2351, -2.3514])"
      ]
     },
     "execution_count": 13,
     "metadata": {},
     "output_type": "execute_result"
    }
   ],
   "source": [
    "logits=model(torch.tensor([2.3514])).detach() #Center of Paris\n",
    "logits"
   ]
  },
  {
   "cell_type": "code",
   "execution_count": 14,
   "id": "d168c6f0-ce52-4d89-946a-daa8ca804874",
   "metadata": {},
   "outputs": [
    {
     "data": {
      "text/plain": [
       "tensor([0.8853, 0.1067, 0.0080])"
      ]
     },
     "execution_count": 14,
     "metadata": {},
     "output_type": "execute_result"
    }
   ],
   "source": [
    "torch.nn.Softmax(0)(logits)"
   ]
  },
  {
   "cell_type": "code",
   "execution_count": 15,
   "id": "2cd31e08-fdce-45bb-bbe7-5eb60e1ea126",
   "metadata": {},
   "outputs": [],
   "source": [
    "# Initialize model, loss, and optimizer\n",
    "model = TinyGPSModel()\n",
    "criterion = nn.CrossEntropyLoss()\n",
    "optimizer = optim.SGD(model.parameters(), lr=0.1)\n",
    "\n",
    "#I can manually initialize and still learns real good? yeah seems like it!\n",
    "with torch.no_grad():\n",
    "    model.output.weight[0,0]=1.0\n",
    "    model.output.weight[1,0]=0.0\n",
    "    model.output.weight[2,0]=-1.0\n",
    "    model.output.bias[0]=0\n",
    "    model.output.bias[1]=0\n",
    "    model.output.bias[2]=0"
   ]
  },
  {
   "cell_type": "code",
   "execution_count": 16,
   "id": "449103d9-ed20-45cb-b6e6-96ade52f9f86",
   "metadata": {},
   "outputs": [
    {
     "data": {
      "text/plain": [
       "array([2.3514])"
      ]
     },
     "execution_count": 16,
     "metadata": {},
     "output_type": "execute_result"
    }
   ],
   "source": [
    "i=14 #Center of Paris\n",
    "X[i%len(y)] "
   ]
  },
  {
   "cell_type": "code",
   "execution_count": 17,
   "id": "444c248a-7733-46c3-bdf0-15821eab5550",
   "metadata": {},
   "outputs": [],
   "source": [
    "outputs = model(torch.tensor(X[i%len(y)]).float())\n",
    "loss = criterion(outputs, torch.tensor(y[i%len(y)])) \n",
    "loss.backward()  # backpropagation"
   ]
  },
  {
   "cell_type": "code",
   "execution_count": 18,
   "id": "4ed1ba83-9af7-4d00-ad73-1bb32ef4c859",
   "metadata": {},
   "outputs": [
    {
     "data": {
      "text/plain": [
       "tensor([[ 2.1293],\n",
       "        [-2.1486],\n",
       "        [ 0.0193]])"
      ]
     },
     "execution_count": 18,
     "metadata": {},
     "output_type": "execute_result"
    }
   ],
   "source": [
    "model.output.weight.grad"
   ]
  },
  {
   "cell_type": "code",
   "execution_count": 19,
   "id": "873c68ba-f9ca-4f65-9494-cc9912c71d94",
   "metadata": {},
   "outputs": [
    {
     "data": {
      "text/plain": [
       "tensor([ 0.9055, -0.9138,  0.0082])"
      ]
     },
     "execution_count": 19,
     "metadata": {},
     "output_type": "execute_result"
    }
   ],
   "source": [
    "model.output.bias.grad"
   ]
  },
  {
   "cell_type": "code",
   "execution_count": 20,
   "id": "9e1b23ee-ccc2-4875-b8b9-19e8b6ed4ca1",
   "metadata": {},
   "outputs": [
    {
     "data": {
      "text/plain": [
       "-2.14944036"
      ]
     },
     "execution_count": 20,
     "metadata": {},
     "output_type": "execute_result"
    }
   ],
   "source": [
    "(0.0862-1)*2.3522"
   ]
  },
  {
   "cell_type": "markdown",
   "id": "d485be6e-4c6e-479f-9c39-927fa6dc5768",
   "metadata": {},
   "source": [
    "## Heatmaps"
   ]
  },
  {
   "cell_type": "code",
   "execution_count": 93,
   "id": "a378c903-2e8b-4c6e-a214-97ef0df1d571",
   "metadata": {},
   "outputs": [],
   "source": [
    "#Where to save training heatmaps\n",
    "save_dir='/Users/stephen/Stephencwelch Dropbox/Stephen Welch/welch_labs/backprop2/graphics/to_manim/may_27_1'"
   ]
  },
  {
   "cell_type": "code",
   "execution_count": 94,
   "id": "41c26f7f-3bf6-4546-b3cd-69cdd703f2e9",
   "metadata": {},
   "outputs": [],
   "source": [
    "#Swaggin - need to sync with Sam on exact numbers\n",
    "min_long=-7.0\n",
    "max_long=18.0\n",
    "min_lat=36.0\n",
    "max_lat=56.0\n",
    "num_steps=256\n",
    "heatmap_viz_logit_multiplier=8 #Makes things more winner take all for cleaner logit viz\n",
    "heatmaps=[np.zeros((num_steps, num_steps)) for i in range(6)]\n",
    "\n",
    "for i, lat in enumerate(np.linspace(max_lat, min_lat, num_steps)):\n",
    "    for j, long in enumerate(np.linspace(min_long, max_long, num_steps)):\n",
    "        with torch.no_grad():\n",
    "            logits=model(torch.tensor([long], dtype=torch.float)).detach()\n",
    "            yhat=torch.nn.Softmax(0)(heatmap_viz_logit_multiplier*logits).numpy()\n",
    "\n",
    "        for k in range(3):\n",
    "            heatmaps[k][i,j]=logits.numpy()[k]\n",
    "            heatmaps[k+3][i,j]=yhat[k]"
   ]
  },
  {
   "cell_type": "code",
   "execution_count": 95,
   "id": "5d35a126-1878-443e-acf8-5a780f9d3a44",
   "metadata": {},
   "outputs": [
    {
     "data": {
      "text/plain": [
       "(256, 256)"
      ]
     },
     "execution_count": 95,
     "metadata": {},
     "output_type": "execute_result"
    }
   ],
   "source": [
    "heatmaps[0].shape"
   ]
  },
  {
   "cell_type": "code",
   "execution_count": 96,
   "id": "940baa10-41a4-47f8-8ae8-5f37fde2d962",
   "metadata": {},
   "outputs": [
    {
     "data": {
      "text/plain": [
       "<matplotlib.image.AxesImage at 0x29ce84c50>"
      ]
     },
     "execution_count": 96,
     "metadata": {},
     "output_type": "execute_result"
    },
    {
     "data": {
      "image/png": "[encoded data removed]",
      "text/plain": [
       "<Figure size 640x480 with 1 Axes>"
      ]
     },
     "metadata": {},
     "output_type": "display_data"
    }
   ],
   "source": [
    "plt.imshow(heatmaps[0])"
   ]
  },
  {
   "cell_type": "code",
   "execution_count": 97,
   "id": "2f550ac2-c803-4d18-bee7-09e63723a670",
   "metadata": {},
   "outputs": [],
   "source": [
    "import matplotlib.colors as mcolors\n",
    "def create_transparent_colormap(color='cyan', name='transparent_to_color'):\n",
    "    # Convert color name to RGBA\n",
    "    base_color = mcolors.to_rgba(color)\n",
    "    \n",
    "    # Create colormap: transparent (alpha=0) to full color (alpha=1)\n",
    "    colors = [(base_color[0], base_color[1], base_color[2], 0),  # transparent\n",
    "              (base_color[0], base_color[1], base_color[2], 1)]  # full color\n",
    "    \n",
    "    n_bins = 256\n",
    "    cmap = mcolors.LinearSegmentedColormap.from_list(name, colors, N=n_bins)\n",
    "    return cmap\n",
    "\n",
    "# Create the colormap\n",
    "transparent_cyan_cmap = create_transparent_colormap('cyan')\n",
    "transparent_yellow_cmap = create_transparent_colormap('#ffd35a')\n",
    "transparent_green_cmap = create_transparent_colormap('#00a14b')"
   ]
  },
  {
   "cell_type": "code",
   "execution_count": 99,
   "id": "d6de9335-9805-4352-8225-60934a4cd9d3",
   "metadata": {},
   "outputs": [],
   "source": [
    "cmaps=[transparent_cyan_cmap, transparent_yellow_cmap, transparent_green_cmap, transparent_cyan_cmap, transparent_yellow_cmap, transparent_green_cmap]\n",
    "save_names=['_logits_1.png', '_logits_2.png', '_logits_3.png', '_yhat_1.png', '_yhat_2.png', '_yhat_3.png']\n",
    "\n",
    "# for l in range(6):\n",
    "#     plt.clf()\n",
    "#     plt.figure(frameon=False)\n",
    "#     ax = plt.Axes(plt.gcf(), [0., 0., 1., 1.])\n",
    "#     ax.set_axis_off()\n",
    "#     plt.gcf().add_axes(ax)\n",
    "#     plt.imshow(heatmaps[l],  cmap=cmaps[l]) #np.rot90(heatmaps[0])) #Wait and see if I need to rotate or transpose\n",
    "#     plt.savefig(save_dir+save_names[l], bbox_inches='tight', pad_inches=0, dpi=300)\n",
    "#     plt.close()"
   ]
  },
  {
   "cell_type": "code",
   "execution_count": null,
   "id": "e5b1db17-b965-4fcb-9b0f-c5aeee9d45b5",
   "metadata": {},
   "outputs": [],
   "source": []
  },
  {
   "cell_type": "code",
   "execution_count": 101,
   "id": "83829580-04d3-4908-bdfb-2feb5b584a3c",
   "metadata": {},
   "outputs": [
    {
     "name": "stdout",
     "output_type": "stream",
     "text": [
      "Step 10/9, Loss: 14.2994, 'Accuracy: 0.0000\n",
      "Step 20/19, Loss: 1.0556, 'Accuracy: 0.6667\n",
      "Step 30/29, Loss: 1.1952, 'Accuracy: 0.6667\n",
      "Step 40/39, Loss: 0.1035, 'Accuracy: 0.6667\n",
      "Step 50/49, Loss: 1.0441, 'Accuracy: 0.6667\n",
      "Step 60/59, Loss: 1.0464, 'Accuracy: 0.6667\n",
      "Step 70/69, Loss: 0.0936, 'Accuracy: 0.6667\n",
      "Step 80/79, Loss: 0.9524, 'Accuracy: 0.6667\n",
      "Step 90/89, Loss: 0.9651, 'Accuracy: 0.6667\n",
      "Step 100/99, Loss: 0.0893, 'Accuracy: 0.6667\n",
      "Step 110/109, Loss: 0.8899, 'Accuracy: 0.6667\n",
      "Step 120/119, Loss: 0.9052, 'Accuracy: 0.6667\n",
      "Step 130/129, Loss: 0.0862, 'Accuracy: 0.6667\n",
      "Step 140/139, Loss: 0.8393, 'Accuracy: 0.6667\n",
      "Step 150/149, Loss: 0.8554, 'Accuracy: 0.6667\n",
      "Step 160/159, Loss: 0.0837, 'Accuracy: 0.6667\n",
      "Step 170/169, Loss: 0.7955, 'Accuracy: 0.7333\n",
      "Step 180/179, Loss: 0.8116, 'Accuracy: 0.6667\n",
      "Step 190/189, Loss: 0.0814, 'Accuracy: 0.6667\n",
      "Step 200/199, Loss: 0.7563, 'Accuracy: 1.0000\n",
      "Step 210/209, Loss: 0.7721, 'Accuracy: 1.0000\n",
      "Step 220/219, Loss: 0.0793, 'Accuracy: 0.6667\n",
      "Step 230/229, Loss: 0.7206, 'Accuracy: 1.0000\n",
      "Step 240/239, Loss: 0.7360, 'Accuracy: 1.0000\n",
      "Step 250/249, Loss: 0.0773, 'Accuracy: 1.0000\n"
     ]
    },
    {
     "data": {
      "text/plain": [
       "<Figure size 640x480 with 0 Axes>"
      ]
     },
     "metadata": {},
     "output_type": "display_data"
    }
   ],
   "source": [
    "# Initialize model, loss, and optimizer\n",
    "model = TinyGPSModel()\n",
    "criterion = nn.CrossEntropyLoss()\n",
    "optimizer = optim.SGD(model.parameters(), lr=0.01)\n",
    "\n",
    "#I can manually initialize and still learns real good? yeah seems like it!\n",
    "with torch.no_grad():\n",
    "    model.output.weight[0,0]=1.0\n",
    "    model.output.weight[1,0]=0.0\n",
    "    model.output.weight[2,0]=-1.0\n",
    "    model.output.bias[0]=0\n",
    "    model.output.bias[1]=0\n",
    "    model.output.bias[2]=0\n",
    "\n",
    "weights=[]\n",
    "grads=[]\n",
    "xs=[]\n",
    "ys=[]\n",
    "logitss=[]\n",
    "yhats=[]\n",
    "\n",
    "# Training loop\n",
    "for i in range(250):\n",
    "    xs.append(X_raw[i%len(y)])\n",
    "    ys.append(y[i%len(y)])\n",
    "    weights.append(np.concatenate([model.output.weight.detach().numpy().ravel(), model.output.bias.detach().numpy().ravel()]))\n",
    "    \n",
    "    optimizer.zero_grad()\n",
    "    \n",
    "    #Stochastic - i think this is a better starting point pedagogically. \n",
    "    outputs = model(torch.tensor(X[i%len(y)]).float())\n",
    "    loss = criterion(outputs, torch.tensor(y[i%len(y)])) \n",
    "\n",
    "    logitss.append(outputs.detach().numpy())\n",
    "    yhats.append(torch.nn.Softmax(0)(outputs.detach()).numpy())\n",
    "\n",
    "    #Heatmaps\n",
    "    heatmaps=[np.zeros((num_steps, num_steps)) for i in range(6)]\n",
    "    for j, lat in enumerate(np.linspace(max_lat, min_lat, num_steps)):\n",
    "        for k, long in enumerate(np.linspace(min_long, max_long, num_steps)):\n",
    "            with torch.no_grad():\n",
    "                logits=model(torch.tensor([long], dtype=torch.float)).detach()\n",
    "                yhat=torch.nn.Softmax(0)(heatmap_viz_logit_multiplier*logits).numpy()\n",
    "    \n",
    "            for l in range(3):\n",
    "                heatmaps[l][j, k]=logits.numpy()[l]\n",
    "                heatmaps[l+3][j,k]=yhat[l]\n",
    "\n",
    "    for l in range(6):\n",
    "        plt.clf()\n",
    "        plt.figure(frameon=False)\n",
    "        ax = plt.Axes(plt.gcf(), [0., 0., 1., 1.])\n",
    "        ax.set_axis_off()\n",
    "        plt.gcf().add_axes(ax)\n",
    "        plt.imshow(heatmaps[l],  cmap=cmaps[l]) #np.rot90(heatmaps[0])) #Wait and see if I need to rotate or transpose\n",
    "        plt.savefig(save_dir+'/'+str(i)+save_names[l], bbox_inches='tight', pad_inches=0, dpi=300)\n",
    "        plt.close()\n",
    "    \n",
    "    loss.backward()  # backpropagation\n",
    "    grads.append(np.concatenate([model.output.weight.grad.detach().numpy().ravel(), model.output.bias.grad.detach().numpy().ravel()]))\n",
    "    optimizer.step() #\n",
    "    \n",
    "    if (i + 1) % 10 == 0:\n",
    "        with torch.no_grad():\n",
    "            logits=model(torch.tensor(X, dtype=torch.float)) \n",
    "            accuracy=(torch.argmax(logits, dim=1)==torch.tensor(y)).sum().item()/len(y)\n",
    "        print(f\"Step {i+1}/{i}, Loss: {loss.item():.4f}, 'Accuracy: {accuracy:.4f}\")\n",
    "\n",
    "weights=np.array(weights)\n",
    "grads=np.array(grads)\n",
    "xs=np.array(xs)\n",
    "ys=np.array(ys)\n",
    "logitss=np.array(logitss)\n",
    "yhats=np.array(yhats)"
   ]
  },
  {
   "cell_type": "code",
   "execution_count": 20,
   "id": "48db04ac-6002-4516-a7cf-ef3207f28aae",
   "metadata": {},
   "outputs": [],
   "source": [
    "all_training_data=np.hstack((xs, ys.reshape(-1, 1), weights, grads, logitss, yhats))"
   ]
  },
  {
   "cell_type": "code",
   "execution_count": 21,
   "id": "5af12dc7-d6a8-45d9-87fc-a9be5a95c73d",
   "metadata": {},
   "outputs": [],
   "source": [
    "np.save('/Users/stephen/Stephencwelch Dropbox/Stephen Welch/welch_labs/backprop2/hackin/cities_1d_1', all_training_data)"
   ]
  },
  {
   "cell_type": "code",
   "execution_count": 22,
   "id": "39d58962-4aae-4c7a-ba98-95d6be88c60d",
   "metadata": {},
   "outputs": [
    {
     "data": {
      "text/plain": [
       "array([ 5.25200000e+01,  1.34050000e+01,  2.00000000e+00,  9.05050039e-01,\n",
       "        2.31314786e-02, -9.28181529e-01,  1.09423082e-02,  8.64033960e-03,\n",
       "       -1.95826497e-02,  1.34049025e+01,  9.81709891e-05, -1.34049997e+01,\n",
       "        9.99992728e-01,  7.32346052e-06, -1.00000000e+00,  1.21431379e+01,\n",
       "        3.18717808e-01, -1.24618559e+01,  9.99992728e-01,  7.32346325e-06,\n",
       "        2.06150218e-11])"
      ]
     },
     "execution_count": 22,
     "metadata": {},
     "output_type": "execute_result"
    }
   ],
   "source": [
    "all_training_data[3]"
   ]
  },
  {
   "cell_type": "code",
   "execution_count": 23,
   "id": "d3494f1c-0360-4bd0-a05a-019f01c5b281",
   "metadata": {},
   "outputs": [],
   "source": [
    "xs=all_training_data[:,:2]\n",
    "ys=all_training_data[:,2]\n",
    "weights=all_training_data[:,3:9]\n",
    "grads=all_training_data[:,9:15]\n",
    "logits=all_training_data[:,15:18]\n",
    "yhats=all_training_data[:, 18:]"
   ]
  },
  {
   "cell_type": "code",
   "execution_count": 34,
   "id": "889b2d9b-ff07-454e-9b85-dd84e5e65e8f",
   "metadata": {},
   "outputs": [
    {
     "data": {
      "text/plain": [
       "array([52.52 , 13.405])"
      ]
     },
     "execution_count": 34,
     "metadata": {},
     "output_type": "execute_result"
    }
   ],
   "source": [
    "xs[3]"
   ]
  },
  {
   "cell_type": "code",
   "execution_count": 35,
   "id": "088f5931-301a-44c8-ba28-edbd08a95c30",
   "metadata": {},
   "outputs": [
    {
     "data": {
      "text/plain": [
       "array([ 0.90505004,  0.02313148, -0.92818153,  0.01094231,  0.00864034,\n",
       "       -0.01958265])"
      ]
     },
     "execution_count": 35,
     "metadata": {},
     "output_type": "execute_result"
    }
   ],
   "source": [
    "weights[3]"
   ]
  },
  {
   "cell_type": "code",
   "execution_count": 36,
   "id": "8f2d711a-dd23-42d1-8b0e-abe7f034195e",
   "metadata": {},
   "outputs": [
    {
     "ename": "IndexError",
     "evalue": "index 3 is out of bounds for dimension 0 with size 3",
     "output_type": "error",
     "traceback": [
      "\u001b[0;31m---------------------------------------------------------------------------\u001b[0m",
      "\u001b[0;31mIndexError\u001b[0m                                Traceback (most recent call last)",
      "Cell \u001b[0;32mIn[36], line 1\u001b[0m\n\u001b[0;32m----> 1\u001b[0m logits[\u001b[38;5;241m3\u001b[39m]\n",
      "\u001b[0;31mIndexError\u001b[0m: index 3 is out of bounds for dimension 0 with size 3"
     ]
    }
   ],
   "source": [
    "logits[3]"
   ]
  },
  {
   "cell_type": "code",
   "execution_count": null,
   "id": "f9a05bd4-aff2-4693-b217-961c5f8f8de7",
   "metadata": {},
   "outputs": [],
   "source": []
  },
  {
   "cell_type": "code",
   "execution_count": null,
   "id": "d349d364-36fa-425e-aa92-a4e76ad63350",
   "metadata": {},
   "outputs": [],
   "source": []
  },
  {
   "cell_type": "code",
   "execution_count": null,
   "id": "cd03f3dc-7253-4e1d-8c99-72add1de37eb",
   "metadata": {},
   "outputs": [],
   "source": []
  },
  {
   "cell_type": "code",
   "execution_count": 27,
   "id": "5a84d59f-dd95-4362-adc6-21c9de0fdf77",
   "metadata": {},
   "outputs": [
    {
     "data": {
      "text/plain": [
       "(250, 6)"
      ]
     },
     "execution_count": 27,
     "metadata": {},
     "output_type": "execute_result"
    }
   ],
   "source": [
    "weights.shape"
   ]
  },
  {
   "cell_type": "code",
   "execution_count": 28,
   "id": "b31e2829-e7a8-4812-ac05-61a07e4779d7",
   "metadata": {},
   "outputs": [
    {
     "data": {
      "text/plain": [
       "(250, 2)"
      ]
     },
     "execution_count": 28,
     "metadata": {},
     "output_type": "execute_result"
    }
   ],
   "source": [
    "xs.shape"
   ]
  },
  {
   "cell_type": "code",
   "execution_count": null,
   "id": "72afd84e-736b-491b-9403-680ffd6c4153",
   "metadata": {},
   "outputs": [],
   "source": []
  },
  {
   "cell_type": "code",
   "execution_count": 29,
   "id": "16ce6012-a427-44b3-8179-d933ad2d4fd0",
   "metadata": {},
   "outputs": [
    {
     "data": {
      "text/plain": [
       "tensor([-1.5847,  0.8062,  0.7785])"
      ]
     },
     "execution_count": 29,
     "metadata": {},
     "output_type": "execute_result"
    }
   ],
   "source": [
    "logits=model(torch.tensor([2.3522])).detach() #Center of Paris\n",
    "logits"
   ]
  },
  {
   "cell_type": "code",
   "execution_count": 30,
   "id": "14b560aa-921c-414a-bdc9-3a501dcb5787",
   "metadata": {},
   "outputs": [
    {
     "data": {
      "text/plain": [
       "tensor([0.0443, 0.4844, 0.4712])"
      ]
     },
     "execution_count": 30,
     "metadata": {},
     "output_type": "execute_result"
    }
   ],
   "source": [
    "torch.nn.Softmax(0)(logits)"
   ]
  },
  {
   "cell_type": "code",
   "execution_count": null,
   "id": "79de2926-7db3-45dc-a8e4-ddd91db176fb",
   "metadata": {},
   "outputs": [],
   "source": []
  },
  {
   "cell_type": "code",
   "execution_count": null,
   "id": "a9a39684-09fa-46f5-b748-08c9262bdf26",
   "metadata": {},
   "outputs": [],
   "source": []
  },
  {
   "cell_type": "code",
   "execution_count": null,
   "id": "55f1aa04-8ee2-48ff-adcf-e7d63f97dd1f",
   "metadata": {},
   "outputs": [],
   "source": []
  },
  {
   "cell_type": "code",
   "execution_count": null,
   "id": "3ac88ecd-3053-4f28-a311-c334487ccd5b",
   "metadata": {},
   "outputs": [],
   "source": []
  },
  {
   "cell_type": "code",
   "execution_count": null,
   "id": "af9d4046-10f6-47fe-9195-4ad5ac37d3d0",
   "metadata": {},
   "outputs": [],
   "source": []
  },
  {
   "cell_type": "code",
   "execution_count": null,
   "id": "d62f818f-79b5-4318-9796-69f82e9641a0",
   "metadata": {},
   "outputs": [],
   "source": []
  },
  {
   "cell_type": "code",
   "execution_count": 31,
   "id": "8fa64bb2-0fa9-44e2-863c-2427862b7205",
   "metadata": {},
   "outputs": [],
   "source": [
    "with torch.no_grad():\n",
    "    model.output.weight[0,0]=1.0\n",
    "    model.output.weight[1,0]=0.0\n",
    "    model.output.weight[2,0]=-1.0\n",
    "    model.output.bias[0]=0\n",
    "    model.output.bias[1]=0\n",
    "    model.output.bias[2]=0"
   ]
  },
  {
   "cell_type": "code",
   "execution_count": 32,
   "id": "fd47a926-5d9e-4473-b61c-e55eabc03b0a",
   "metadata": {},
   "outputs": [
    {
     "data": {
      "text/plain": [
       "Parameter containing:\n",
       "tensor([[ 1.],\n",
       "        [ 0.],\n",
       "        [-1.]], requires_grad=True)"
      ]
     },
     "execution_count": 32,
     "metadata": {},
     "output_type": "execute_result"
    }
   ],
   "source": [
    "model.output.weight"
   ]
  },
  {
   "cell_type": "code",
   "execution_count": 33,
   "id": "8cd92fc2-de44-41b7-b40a-397e0000ddbc",
   "metadata": {},
   "outputs": [
    {
     "data": {
      "text/plain": [
       "Parameter containing:\n",
       "tensor([0., 0., 0.], requires_grad=True)"
      ]
     },
     "execution_count": 33,
     "metadata": {},
     "output_type": "execute_result"
    }
   ],
   "source": [
    "model.output.bias"
   ]
  },
  {
   "cell_type": "code",
   "execution_count": null,
   "id": "05175a54-5f7e-4a5e-838f-5114b4b777d2",
   "metadata": {},
   "outputs": [],
   "source": []
  },
  {
   "cell_type": "code",
   "execution_count": null,
   "id": "58f6d49d-5827-46a9-ad30-84eb68e736b0",
   "metadata": {},
   "outputs": [],
   "source": []
  },
  {
   "cell_type": "code",
   "execution_count": null,
   "id": "e3d75f04-b635-4792-bb81-2963307e5932",
   "metadata": {},
   "outputs": [],
   "source": []
  }
 ],
 "metadata": {
  "kernelspec": {
   "display_name": "Python 3 (ipykernel)",
   "language": "python",
   "name": "python3"
  },
  "language_info": {
   "codemirror_mode": {
    "name": "ipython",
    "version": 3
   },
   "file_extension": ".py",
   "mimetype": "text/x-python",
   "name": "python",
   "nbconvert_exporter": "python",
   "pygments_lexer": "ipython3",
   "version": "3.11.7"
  }
 },
 "nbformat": 4,
 "nbformat_minor": 5
}
