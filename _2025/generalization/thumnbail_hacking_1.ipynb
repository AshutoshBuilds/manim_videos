{
 "cells": [
  {
   "cell_type": "markdown",
   "id": "1b929e0e-e058-440a-bccc-711fe2ab595e",
   "metadata": {},
   "source": [
    "## Thumnbnail Hacking 1"
   ]
  },
  {
   "cell_type": "code",
   "execution_count": 4,
   "id": "cc7553ac-71d1-4a38-bcfd-242ed93185c0",
   "metadata": {},
   "outputs": [],
   "source": [
    "# import tensorflow as tf\n",
    "import pickle"
   ]
  },
  {
   "cell_type": "code",
   "execution_count": null,
   "id": "32e453a3-c2e7-4ed0-a9ce-65fceb159c59",
   "metadata": {},
   "outputs": [],
   "source": [
    "with tf.io.gfile.GFile(gsname, \"rb\") as file:\n",
    "    obj = pickle.load(file)"
   ]
  },
  {
   "cell_type": "code",
   "execution_count": 6,
   "id": "a98d2cab-4304-4abb-80e1-13e68b513b83",
   "metadata": {},
   "outputs": [],
   "source": [
    "fn='/Users/stephen/Stephencwelch Dropbox/welch_labs/double_descent/hackin/cifar10-resnet18k-50k-adam/dd_cifar10-resnet18k-50k-adam_Mlist'"
   ]
  },
  {
   "cell_type": "code",
   "execution_count": null,
   "id": "611c8d3f-ac38-42a7-9e19-5a20b3ccd3f6",
   "metadata": {},
   "outputs": [],
   "source": []
  },
  {
   "cell_type": "code",
   "execution_count": 8,
   "id": "c9caf09e-746c-4c6c-a97e-d2b1ed958381",
   "metadata": {},
   "outputs": [
    {
     "ename": "TypeError",
     "evalue": "file must have 'read' and 'readline' attributes",
     "output_type": "error",
     "traceback": [
      "\u001b[0;31m---------------------------------------------------------------------------\u001b[0m",
      "\u001b[0;31mTypeError\u001b[0m                                 Traceback (most recent call last)",
      "Cell \u001b[0;32mIn[8], line 2\u001b[0m\n\u001b[1;32m      1\u001b[0m \u001b[38;5;28;01mwith\u001b[39;00m \u001b[38;5;28mopen\u001b[39m(fn, \u001b[38;5;124m\"\u001b[39m\u001b[38;5;124mrb\u001b[39m\u001b[38;5;124m\"\u001b[39m) \u001b[38;5;28;01mas\u001b[39;00m file:\n\u001b[0;32m----> 2\u001b[0m     obj \u001b[38;5;241m=\u001b[39m pickle\u001b[38;5;241m.\u001b[39mload(fn)\n",
      "\u001b[0;31mTypeError\u001b[0m: file must have 'read' and 'readline' attributes"
     ]
    }
   ],
   "source": [
    "with open(fn, \"rb\") as file:\n",
    "    obj = pickle.load(fn)"
   ]
  },
  {
   "cell_type": "code",
   "execution_count": 5,
   "id": "f5e08308-c729-48c1-af1d-687f19046a60",
   "metadata": {},
   "outputs": [
    {
     "data": {
      "text/plain": [
       "<function io.open(file, mode='r', buffering=-1, encoding=None, errors=None, newline=None, closefd=True, opener=None)>"
      ]
     },
     "execution_count": 5,
     "metadata": {},
     "output_type": "execute_result"
    }
   ],
   "source": [
    "open"
   ]
  },
  {
   "cell_type": "code",
   "execution_count": null,
   "id": "b7a2284b-2057-4761-9a0b-0fd123d4d047",
   "metadata": {},
   "outputs": [],
   "source": []
  },
  {
   "cell_type": "code",
   "execution_count": null,
   "id": "4a260180-aece-4de6-a729-154ce1c30d85",
   "metadata": {},
   "outputs": [],
   "source": []
  },
  {
   "cell_type": "code",
   "execution_count": null,
   "id": "3e4b11bf-6ad8-419e-9808-9446fb6d4820",
   "metadata": {},
   "outputs": [],
   "source": []
  }
 ],
 "metadata": {
  "kernelspec": {
   "display_name": "Python 3 (ipykernel)",
   "language": "python",
   "name": "python3"
  },
  "language_info": {
   "codemirror_mode": {
    "name": "ipython",
    "version": 3
   },
   "file_extension": ".py",
   "mimetype": "text/x-python",
   "name": "python",
   "nbconvert_exporter": "python",
   "pygments_lexer": "ipython3",
   "version": "3.11.7"
  }
 },
 "nbformat": 4,
 "nbformat_minor": 5
}
