{
 "cells": [
  {
   "cell_type": "markdown",
   "id": "501f4894-a5fc-4a14-be5a-9eeb9be2f558",
   "metadata": {},
   "source": [
    "# p18_25"
   ]
  },
  {
   "cell_type": "code",
   "execution_count": null,
   "id": "841257b1-0f7a-42f0-b9fe-c42bd41addb2",
   "metadata": {},
   "outputs": [],
   "source": []
  },
  {
   "cell_type": "code",
   "execution_count": null,
   "id": "1c8a174a-befa-46df-bd1f-708d01b52696",
   "metadata": {},
   "outputs": [],
   "source": []
  },
  {
   "cell_type": "code",
   "execution_count": null,
   "id": "e7f1cff4-03c4-4d77-ad9a-523f9196b8bd",
   "metadata": {},
   "outputs": [],
   "source": []
  },
  {
   "cell_type": "code",
   "execution_count": null,
   "id": "13145e67-3b38-4542-8e8a-58bd7b3831da",
   "metadata": {},
   "outputs": [],
   "source": []
  },
  {
   "cell_type": "code",
   "execution_count": null,
   "id": "1f3f9118-8e7f-41e9-b16c-6e2a86ef852d",
   "metadata": {},
   "outputs": [],
   "source": []
  },
  {
   "cell_type": "code",
   "execution_count": null,
   "id": "6515bb99-46b5-49ba-bec9-9a09afe35952",
   "metadata": {},
   "outputs": [],
   "source": []
  },
  {
   "cell_type": "code",
   "execution_count": null,
   "id": "73f76ad8-861f-4f4e-ad44-32451f9b0905",
   "metadata": {},
   "outputs": [],
   "source": []
  }
 ],
 "metadata": {
  "kernelspec": {
   "display_name": "Python 3 (ipykernel)",
   "language": "python",
   "name": "python3"
  },
  "language_info": {
   "codemirror_mode": {
    "name": "ipython",
    "version": 3
   },
   "file_extension": ".py",
   "mimetype": "text/x-python",
   "name": "python",
   "nbconvert_exporter": "python",
   "pygments_lexer": "ipython3",
   "version": "3.11.7"
  }
 },
 "nbformat": 4,
 "nbformat_minor": 5
}
