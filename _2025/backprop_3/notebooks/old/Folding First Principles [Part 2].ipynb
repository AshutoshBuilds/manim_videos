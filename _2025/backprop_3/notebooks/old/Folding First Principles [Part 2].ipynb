{
 "cells": [
  {
   "cell_type": "markdown",
   "id": "1834be24-5eaf-487a-98fa-5f9171e0b6f1",
   "metadata": {},
   "source": [
    "## Folding First Principles [Part 2].ipynb"
   ]
  },
  {
   "cell_type": "markdown",
   "id": "6e5ee31b-0fdc-4c08-8860-1d539593cf29",
   "metadata": {},
   "source": [
    "Ok, let's try the reverse approach here: \n",
    "1. What the equations of folding paper?\n",
    "2. Can these be implemented by a ReLu neural network?"
   ]
  },
  {
   "cell_type": "code",
   "execution_count": 2,
   "id": "c4bff2df-a374-427c-b8e0-71da7a1a456f",
   "metadata": {},
   "outputs": [
    {
     "name": "stdout",
     "output_type": "stream",
     "text": [
      "%pylab is deprecated, use %matplotlib inline and import the required libraries.\n",
      "Populating the interactive namespace from numpy and matplotlib\n"
     ]
    }
   ],
   "source": [
    "%pylab inline"
   ]
  },
  {
   "cell_type": "markdown",
   "id": "9b5ec0b8-ce66-4f47-acc0-b232d808e85e",
   "metadata": {},
   "source": [
    "$$\n",
    "x' = x - 2a(ax + by + c)/(a^2 + b^2)\n",
    "$$\n",
    "$$\n",
    "y' = y - 2b(ax + by + c)/(a^2 + b^2)\n",
    "$$"
   ]
  },
  {
   "cell_type": "markdown",
   "id": "76e24558-ec6e-420d-86db-2c0e340ee033",
   "metadata": {},
   "source": [
    "Where the line of reflection is $ax + by + c = 0$."
   ]
  },
  {
   "cell_type": "markdown",
   "id": "5cb5dfe4-ee32-470b-a0d7-a14d7f6d4a89",
   "metadata": {},
   "source": [
    "- Ok interesting, a bit more complex than I though, but this is the general case\n",
    "- Can this be implemented by a 2 hidden unit ReLu neural network?"
   ]
  },
  {
   "cell_type": "markdown",
   "id": "1d0acd57-c7b6-4f16-9d17-b9591d2326ad",
   "metadata": {},
   "source": [
    "$$\n",
    "x'=ReLu(w_{1,1}x+w_{1,2}y+b_1)\n",
    "$$\n",
    "$$\n",
    "y'=ReLu(w_{2,1}x+w_{2,2}y+b_2)\n",
    "$$"
   ]
  },
  {
   "cell_type": "markdown",
   "id": "5ebef01f-afe7-4351-83db-4caaa53d2ef2",
   "metadata": {},
   "source": [
    "- Ok yeah I think so!\n",
    "- Hmm but do we not need ReLu? That doesn't make a lot of sense...seems like that would kinda break these equations lol.\n",
    "- Actually I'm confused by the folding equations a bit - and maybe that's where the ReLu can come in - shouldn't these be reducing the size of the plane? Ah yeah these are the equations for reflecting across, and we we want to fold it one way (I think?) and lose the other part of the space right?\n",
    "- Reflection with collected terms:\n",
    "```\n",
    "x' = x(b² - a²)/(a² + b²) + y(-2ab)/(a² + b²) + (-2ac)/(a² + b²)\n",
    "y' = x(-2ab)/(a² + b²) + y(a² - b²)/(a² + b²) + (-2bc)/(a² + b²)\n",
    "```\n",
    "\n",
    "A₁ = (b² - a²)/(a² + b²)\n",
    "B₁ = -2ab/(a² + b²)\n",
    "C₁ = -2ac/(a² + b²)\n",
    "A₂ = -2ab/(a² + b²)\n",
    "B₂ = (a² - b²)/(a² + b²)\n",
    "C₂ = -2bc/(a² + b²)\n",
    "\n",
    "- Ok, chatting with Claude about this and we're going in kinda a weird direction...\n",
    "- Something that I think might be missing here, is that it's doesn't really matter that on the side that doesn't get folded over that x->x' and y->y'. In fact it doesn't matter where exactly our points end up exaclty -> what really matters is correspondances..."
   ]
  },
  {
   "cell_type": "markdown",
   "id": "1258d0ac-ce76-463e-ab5f-4975977ec4a6",
   "metadata": {},
   "source": [
    "```\n",
    "if x' = ax + by + c <0:\n",
    "x' = x(b² - a²)/(a² + b²) + y(-2ab)/(a² + b²) + (-2ac)/(a² + b²)\n",
    "y' = x(-2ab)/(a² + b²) + y(a² - b²)/(a² + b²) + (-2bc)/(a² + b²)\n",
    "\n",
    "else:\n",
    "x'=x\n",
    "y'=y\n",
    "```"
   ]
  },
  {
   "cell_type": "markdown",
   "id": "56a4a0f0-0e66-4f3f-b553-51620c9e8b75",
   "metadata": {},
   "source": [
    "Ok i feel like it's probably time to swtich to prince, but I want to look at one more thing real quick..."
   ]
  },
  {
   "cell_type": "markdown",
   "id": "62ae76a4-0402-49dc-a2c2-2152e334ae25",
   "metadata": {},
   "source": [
    "What are the invariances of this system?\n",
    "\n",
    "$$\n",
    "x' = x - 2a(ax + by + c)/(a^2 + b^2)\n",
    "$$\n",
    "$$\n",
    "y' = y - 2b(ax + by + c)/(a^2 + b^2)\n",
    "$$"
   ]
  },
  {
   "cell_type": "markdown",
   "id": "6c9d7686-20ae-40e4-b3ac-5cb4ceb37cab",
   "metadata": {},
   "source": [
    "- What x/y pairs map to the same (x', y') values?\n",
    "- Hmm actually a bit of an observation here -> if each neuron implements one of the relfection equations, then these equations enforce a pretty tight connection between these neuron paris parameters!! Ah yeah look A₁ = -B₂ and A₂ = B₁\n",
    "- I guess my fear is that this means that the ReLu slopes have to be \"right across from each other\" like they are in the kinda trivial exampesl i've seen -> is that the only configuration that works?\n",
    "- it also reminds me of the rotation matrix stuff I tried though -> hmmm. I think this means that the slope of one ReLu boundary has to be the negative reciprocal of the other -> perpendicular lines...hmm this is slightly different than the mirror symmetry thing I've been thinking about -> also the slope intercept bit is kinda interesting\n",
    "- So there might be something here -> not quite suire how the ReLu fits but this could be a second class of transformation.\n",
    "- Ok let me spend like 15 more minutes seeing if this second class makes any sense, then I'll move to price. "
   ]
  },
  {
   "cell_type": "markdown",
   "id": "f553296f-af47-4805-9eea-10847526338b",
   "metadata": {},
   "source": [
    "```\n",
    "x' = x - 2a(ax + by + c)/(a² + b²)\n",
    "y' = y - 2b(ax + by + c)/(a² + b²)\n",
    "```"
   ]
  },
  {
   "cell_type": "markdown",
   "id": "8479cda4-7eab-45f1-abdd-69b1985e0edf",
   "metadata": {},
   "source": [
    "- let b=1, a=2, c=1."
   ]
  },
  {
   "cell_type": "markdown",
   "id": "852dec3e-8891-4217-9ac0-83fa7c1a6122",
   "metadata": {},
   "source": [
    "$$\n",
    "x'=x-4(2x+y+1)/(2^2+1^2) \n",
    "$$\n",
    "$$\n",
    "y'=y-2(2x+y+1)/(2^2+1^2)\n",
    "$$"
   ]
  },
  {
   "cell_type": "markdown",
   "id": "e437a77d-4e31-450b-bff1-dc033340d07e",
   "metadata": {},
   "source": [
    "$$\n",
    "x'=x-(8/5)x-(4/5)y-4/5\n",
    "$$\n",
    "$$\n",
    "y'=y-(4/5)x-(2/5)y+-2/5\n",
    "$$"
   ]
  },
  {
   "cell_type": "markdown",
   "id": "db6460fe-d8eb-4382-8af4-e03b5d876325",
   "metadata": {},
   "source": [
    "$$\n",
    "x'=-(3/5)x-(4/5)y-4/5\n",
    "$$\n",
    "$$\n",
    "y'=-(4/5)x+(3/5)y+-2/5\n",
    "$$"
   ]
  },
  {
   "cell_type": "code",
   "execution_count": null,
   "id": "7a69b2a4-e64f-48d3-98c8-1860b506e745",
   "metadata": {},
   "outputs": [],
   "source": []
  },
  {
   "cell_type": "code",
   "execution_count": null,
   "id": "7b9d1b46-fff2-4687-a066-a6ac92dde7b2",
   "metadata": {},
   "outputs": [],
   "source": []
  },
  {
   "cell_type": "code",
   "execution_count": null,
   "id": "5b369e4b-d74d-4f0c-ae40-705a0479711f",
   "metadata": {},
   "outputs": [],
   "source": []
  },
  {
   "cell_type": "code",
   "execution_count": null,
   "id": "3eb798a0-5def-41ad-b64c-1b9e20aea0bf",
   "metadata": {},
   "outputs": [],
   "source": []
  }
 ],
 "metadata": {
  "kernelspec": {
   "display_name": "Python 3 (ipykernel)",
   "language": "python",
   "name": "python3"
  },
  "language_info": {
   "codemirror_mode": {
    "name": "ipython",
    "version": 3
   },
   "file_extension": ".py",
   "mimetype": "text/x-python",
   "name": "python",
   "nbconvert_exporter": "python",
   "pygments_lexer": "ipython3",
   "version": "3.11.7"
  }
 },
 "nbformat": 4,
 "nbformat_minor": 5
}
