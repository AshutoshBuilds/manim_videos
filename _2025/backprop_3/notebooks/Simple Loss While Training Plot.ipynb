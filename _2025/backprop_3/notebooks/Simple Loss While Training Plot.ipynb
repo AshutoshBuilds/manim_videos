{
 "cells": [
  {
   "cell_type": "markdown",
   "id": "1424f6bf-2eb8-4d14-97d1-5e16513d7cd7",
   "metadata": {},
   "source": [
    "## Simple Loss While Training Plot"
   ]
  },
  {
   "cell_type": "code",
   "execution_count": 5,
   "id": "bf10cf55-1dc0-4c79-914a-4430ed88be8c",
   "metadata": {},
   "outputs": [],
   "source": [
    "import matplotlib.pyplot as plt\n",
    "from tqdm import tqdm\n",
    "import numpy as np"
   ]
  },
  {
   "cell_type": "code",
   "execution_count": 6,
   "id": "94c4b0ee-afb8-4a6d-9f72-1293dd1e343d",
   "metadata": {},
   "outputs": [],
   "source": [
    "data_path='/Users/stephen/Stephencwelch Dropbox/welch_labs/backprop_3/hackin/training_caches/8_8_8_2.pkl'\n",
    "with open(data_path, 'rb') as file:\n",
    "    training_cache = pickle.load(file) #Training cache"
   ]
  },
  {
   "cell_type": "code",
   "execution_count": null,
   "id": "2ed0fc4c-01cc-4503-821d-378a0d03d1bf",
   "metadata": {},
   "outputs": [],
   "source": []
  },
  {
   "cell_type": "code",
   "execution_count": null,
   "id": "0022ead6-3d2c-475d-921f-1627d66d07e6",
   "metadata": {},
   "outputs": [],
   "source": []
  },
  {
   "cell_type": "code",
   "execution_count": null,
   "id": "aeeef30d-3261-4aa5-88de-810dd33670d0",
   "metadata": {},
   "outputs": [],
   "source": []
  },
  {
   "cell_type": "code",
   "execution_count": null,
   "id": "49bef1ea-8f12-475d-aa00-7c2a9ec0c115",
   "metadata": {},
   "outputs": [],
   "source": []
  },
  {
   "cell_type": "code",
   "execution_count": null,
   "id": "daabb664-8956-4637-bafc-8e7bc7636817",
   "metadata": {},
   "outputs": [],
   "source": []
  },
  {
   "cell_type": "code",
   "execution_count": null,
   "id": "7a279f56-4b40-42af-83a8-66008b8946e2",
   "metadata": {},
   "outputs": [],
   "source": []
  },
  {
   "cell_type": "code",
   "execution_count": null,
   "id": "74105745-1da2-4fec-8f07-41bed299183b",
   "metadata": {},
   "outputs": [],
   "source": []
  }
 ],
 "metadata": {
  "kernelspec": {
   "display_name": "Python 3 (ipykernel)",
   "language": "python",
   "name": "python3"
  },
  "language_info": {
   "codemirror_mode": {
    "name": "ipython",
    "version": 3
   },
   "file_extension": ".py",
   "mimetype": "text/x-python",
   "name": "python",
   "nbconvert_exporter": "python",
   "pygments_lexer": "ipython3",
   "version": "3.11.7"
  }
 },
 "nbformat": 4,
 "nbformat_minor": 5
}
