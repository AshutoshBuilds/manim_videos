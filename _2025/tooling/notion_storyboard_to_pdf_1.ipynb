{
 "cells": [
  {
   "cell_type": "markdown",
   "id": "18ad2b59-875d-40ed-9e10-50f5c277e61b",
   "metadata": {},
   "source": [
    "## Storyboard to pdf 1"
   ]
  },
  {
   "cell_type": "code",
   "execution_count": 2,
   "id": "8a83226a-571e-4ebd-881a-06726e46653e",
   "metadata": {},
   "outputs": [],
   "source": [
    "import os\n",
    "import requests\n",
    "from notion_client import Client\n",
    "from reportlab.pdfgen import canvas\n",
    "from reportlab.lib.pagesizes import letter, landscape\n",
    "from reportlab.lib.units import inch\n",
    "from reportlab.platypus import SimpleDocTemplate, Paragraph, Spacer, Image\n",
    "from reportlab.lib.styles import getSampleStyleSheet, ParagraphStyle\n",
    "from reportlab.lib.fonts import addMapping\n",
    "from reportlab.pdfbase import pdfutils\n",
    "from reportlab.platypus.tableofcontents import TableOfContents\n",
    "from PIL import Image as PILImage\n",
    "import io\n",
    "from io import BytesIO\n",
    "import tempfile\n",
    "from collections import defaultdict\n",
    "import textwrap"
   ]
  },
  {
   "cell_type": "code",
   "execution_count": null,
   "id": "3ac68697-2e2c-450e-a7ce-eca23539e669",
   "metadata": {},
   "outputs": [],
   "source": []
  },
  {
   "cell_type": "code",
   "execution_count": null,
   "id": "3ac3a620-65b1-4a20-b067-0c687b13784e",
   "metadata": {},
   "outputs": [],
   "source": []
  },
  {
   "cell_type": "code",
   "execution_count": null,
   "id": "4009fa3f-f868-4b8a-b5f4-4db4ed1f69a1",
   "metadata": {},
   "outputs": [],
   "source": []
  }
 ],
 "metadata": {
  "kernelspec": {
   "display_name": "Python 3 (ipykernel)",
   "language": "python",
   "name": "python3"
  },
  "language_info": {
   "codemirror_mode": {
    "name": "ipython",
    "version": 3
   },
   "file_extension": ".py",
   "mimetype": "text/x-python",
   "name": "python",
   "nbconvert_exporter": "python",
   "pygments_lexer": "ipython3",
   "version": "3.11.7"
  }
 },
 "nbformat": 4,
 "nbformat_minor": 5
}
