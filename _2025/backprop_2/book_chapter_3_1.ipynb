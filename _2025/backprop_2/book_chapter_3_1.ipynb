{
 "cells": [
  {
   "cell_type": "code",
   "execution_count": 1,
   "id": "3eddaf95-44f1-4006-ae25-2b436e9a5458",
   "metadata": {},
   "outputs": [],
   "source": [
    "import torch\n",
    "from transformers import AutoModelForCausalLM, AutoTokenizer\n",
    "device='cuda'"
   ]
  },
  {
   "cell_type": "code",
   "execution_count": 2,
   "id": "d7f9ea85-55fa-400c-ab3a-bf8767a61c17",
   "metadata": {},
   "outputs": [],
   "source": [
    "model_id = \"meta-llama/Llama-3.2-1B\""
   ]
  },
  {
   "cell_type": "code",
   "execution_count": 3,
   "id": "33313e84-0a2c-4070-ad46-a5dd1af77ed0",
   "metadata": {},
   "outputs": [],
   "source": [
    "model = AutoModelForCausalLM.from_pretrained(model_id).to(device)\n",
    "tokenizer = AutoTokenizer.from_pretrained(model_id)"
   ]
  },
  {
   "cell_type": "code",
   "execution_count": 10,
   "id": "8a28fd6c-f181-4899-a4c5-8a77aaaa34c6",
   "metadata": {},
   "outputs": [],
   "source": [
    "prompt = \"The capital of France is\"\n",
    "inputs = tokenizer(prompt, return_tensors=\"pt\").to(device)"
   ]
  },
  {
   "cell_type": "code",
   "execution_count": 11,
   "id": "5932bd35-8716-4d26-b4a5-57fb66826236",
   "metadata": {},
   "outputs": [
    {
     "data": {
      "text/plain": [
       "tensor([[128000,    791,   6864,    315,   9822,    374]], device='cuda:0')"
      ]
     },
     "execution_count": 11,
     "metadata": {},
     "output_type": "execute_result"
    }
   ],
   "source": [
    "inputs['input_ids']"
   ]
  },
  {
   "cell_type": "code",
   "execution_count": 12,
   "id": "90d30bd5-ca69-4527-a9f7-d5eab5037d32",
   "metadata": {},
   "outputs": [
    {
     "data": {
      "text/plain": [
       "torch.Size([1, 6, 128256])"
      ]
     },
     "execution_count": 12,
     "metadata": {},
     "output_type": "execute_result"
    }
   ],
   "source": [
    "with torch.no_grad():\n",
    "    outputs = model(inputs['input_ids'])\n",
    "my_probs=torch.nn.functional.softmax(outputs.logits, dim=-1)\n",
    "my_probs.shape"
   ]
  },
  {
   "cell_type": "code",
   "execution_count": 13,
   "id": "82ee19eb-a580-4287-91b6-27c4dbbf3119",
   "metadata": {},
   "outputs": [
    {
     "name": "stdout",
     "output_type": "stream",
     "text": [
      "tensor(12366) 0.39153  Paris\n",
      "tensor(264) 0.08419  a\n",
      "tensor(279) 0.0704  the\n",
      "tensor(832) 0.03096  one\n",
      "tensor(1101) 0.03061  also\n"
     ]
    }
   ],
   "source": [
    "for i in torch.argsort(my_probs[0,-1, :].detach().cpu(), descending=True)[:5]:\n",
    "    print(i, round(my_probs[0, -1, i].item(),5), tokenizer.decode([i]))"
   ]
  },
  {
   "cell_type": "code",
   "execution_count": null,
   "id": "44d0df53-b59e-40d1-bb29-587d1a71b601",
   "metadata": {},
   "outputs": [],
   "source": []
  },
  {
   "cell_type": "code",
   "execution_count": null,
   "id": "8c502514-a274-4910-8380-ebdbac6a51a1",
   "metadata": {},
   "outputs": [],
   "source": [
    "import torch\n",
    "from transformers import AutoModelForCausalLM, AutoTokenizer\n",
    "device='cuda'\n",
    "\n",
    "model_id = \"meta-llama/Llama-3.2-1B\"\n",
    "\n",
    "model = AutoModelForCausalLM.from_pretrained(model_id).to(device)\n",
    "tokenizer = AutoTokenizer.from_pretrained(model_id)\n",
    "\n",
    "prompt = \"The capital of France is\"\n",
    "inputs = tokenizer(prompt, return_tensors=\"pt\").to(device)\n",
    "\n",
    "with torch.no_grad():\n",
    "    outputs = model(inputs['input_ids'])\n",
    "my_probs=torch.nn.functional.softmax(outputs.logits, dim=-1)\n",
    "\n",
    "for i in torch.argsort(my_probs[0,-1, :].detach().cpu(), descending=True)[:5]:\n",
    "    print(i, round(my_probs[0, -1, i].item(),5), tokenizer.decode([i]))\n",
    "\n",
    "    "
   ]
  }
 ],
 "metadata": {
  "kernelspec": {
   "display_name": "Python 3 (ipykernel)",
   "language": "python",
   "name": "python3"
  },
  "language_info": {
   "codemirror_mode": {
    "name": "ipython",
    "version": 3
   },
   "file_extension": ".py",
   "mimetype": "text/x-python",
   "name": "python",
   "nbconvert_exporter": "python",
   "pygments_lexer": "ipython3",
   "version": "3.11.7"
  }
 },
 "nbformat": 4,
 "nbformat_minor": 5
}
