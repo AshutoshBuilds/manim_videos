{
 "cells": [
  {
   "cell_type": "code",
   "execution_count": 1,
   "id": "f03015c1-bb68-4cd9-a0c8-0c89ffcd5ca4",
   "metadata": {},
   "outputs": [
    {
     "ename": "TypeError",
     "evalue": "array type float16 is unsupported in linalg",
     "output_type": "error",
     "traceback": [
      "\u001b[0;31m---------------------------------------------------------------------------\u001b[0m",
      "\u001b[0;31mTypeError\u001b[0m                                 Traceback (most recent call last)",
      "Cell \u001b[0;32mIn[1], line 22\u001b[0m\n\u001b[1;32m     20\u001b[0m ranks \u001b[38;5;241m=\u001b[39m []\n\u001b[1;32m     21\u001b[0m \u001b[38;5;28;01mfor\u001b[39;00m N \u001b[38;5;129;01min\u001b[39;00m num_training_data:\n\u001b[0;32m---> 22\u001b[0m     ranks\u001b[38;5;241m.\u001b[39mappend(np\u001b[38;5;241m.\u001b[39mlinalg\u001b[38;5;241m.\u001b[39mmatrix_rank(training_data[:, :N]))\n\u001b[1;32m     24\u001b[0m plt\u001b[38;5;241m.\u001b[39mclose()\n\u001b[1;32m     25\u001b[0m plt\u001b[38;5;241m.\u001b[39mplot(num_training_data, ranks)\n",
      "File \u001b[0;32m/opt/anaconda3/lib/python3.11/site-packages/numpy/linalg/linalg.py:1922\u001b[0m, in \u001b[0;36mmatrix_rank\u001b[0;34m(A, tol, hermitian)\u001b[0m\n\u001b[1;32m   1920\u001b[0m \u001b[38;5;28;01mif\u001b[39;00m A\u001b[38;5;241m.\u001b[39mndim \u001b[38;5;241m<\u001b[39m \u001b[38;5;241m2\u001b[39m:\n\u001b[1;32m   1921\u001b[0m     \u001b[38;5;28;01mreturn\u001b[39;00m \u001b[38;5;28mint\u001b[39m(\u001b[38;5;129;01mnot\u001b[39;00m \u001b[38;5;28mall\u001b[39m(A\u001b[38;5;241m==\u001b[39m\u001b[38;5;241m0\u001b[39m))\n\u001b[0;32m-> 1922\u001b[0m S \u001b[38;5;241m=\u001b[39m svd(A, compute_uv\u001b[38;5;241m=\u001b[39m\u001b[38;5;28;01mFalse\u001b[39;00m, hermitian\u001b[38;5;241m=\u001b[39mhermitian)\n\u001b[1;32m   1923\u001b[0m \u001b[38;5;28;01mif\u001b[39;00m tol \u001b[38;5;129;01mis\u001b[39;00m \u001b[38;5;28;01mNone\u001b[39;00m:\n\u001b[1;32m   1924\u001b[0m     tol \u001b[38;5;241m=\u001b[39m S\u001b[38;5;241m.\u001b[39mmax(axis\u001b[38;5;241m=\u001b[39m\u001b[38;5;241m-\u001b[39m\u001b[38;5;241m1\u001b[39m, keepdims\u001b[38;5;241m=\u001b[39m\u001b[38;5;28;01mTrue\u001b[39;00m) \u001b[38;5;241m*\u001b[39m \u001b[38;5;28mmax\u001b[39m(A\u001b[38;5;241m.\u001b[39mshape[\u001b[38;5;241m-\u001b[39m\u001b[38;5;241m2\u001b[39m:]) \u001b[38;5;241m*\u001b[39m finfo(S\u001b[38;5;241m.\u001b[39mdtype)\u001b[38;5;241m.\u001b[39meps\n",
      "File \u001b[0;32m/opt/anaconda3/lib/python3.11/site-packages/numpy/linalg/linalg.py:1663\u001b[0m, in \u001b[0;36msvd\u001b[0;34m(a, full_matrices, compute_uv, hermitian)\u001b[0m\n\u001b[1;32m   1660\u001b[0m         \u001b[38;5;28;01mreturn\u001b[39;00m sort(s)[\u001b[38;5;241m.\u001b[39m\u001b[38;5;241m.\u001b[39m\u001b[38;5;241m.\u001b[39m, ::\u001b[38;5;241m-\u001b[39m\u001b[38;5;241m1\u001b[39m]\n\u001b[1;32m   1662\u001b[0m _assert_stacked_2d(a)\n\u001b[0;32m-> 1663\u001b[0m t, result_t \u001b[38;5;241m=\u001b[39m _commonType(a)\n\u001b[1;32m   1665\u001b[0m extobj \u001b[38;5;241m=\u001b[39m get_linalg_error_extobj(_raise_linalgerror_svd_nonconvergence)\n\u001b[1;32m   1667\u001b[0m m, n \u001b[38;5;241m=\u001b[39m a\u001b[38;5;241m.\u001b[39mshape[\u001b[38;5;241m-\u001b[39m\u001b[38;5;241m2\u001b[39m:]\n",
      "File \u001b[0;32m/opt/anaconda3/lib/python3.11/site-packages/numpy/linalg/linalg.py:173\u001b[0m, in \u001b[0;36m_commonType\u001b[0;34m(*arrays)\u001b[0m\n\u001b[1;32m    170\u001b[0m         result_type \u001b[38;5;241m=\u001b[39m double\n\u001b[1;32m    171\u001b[0m     \u001b[38;5;28;01melif\u001b[39;00m rt \u001b[38;5;129;01mis\u001b[39;00m \u001b[38;5;28;01mNone\u001b[39;00m:\n\u001b[1;32m    172\u001b[0m         \u001b[38;5;66;03m# unsupported inexact scalar\u001b[39;00m\n\u001b[0;32m--> 173\u001b[0m         \u001b[38;5;28;01mraise\u001b[39;00m \u001b[38;5;167;01mTypeError\u001b[39;00m(\u001b[38;5;124m\"\u001b[39m\u001b[38;5;124marray type \u001b[39m\u001b[38;5;132;01m%s\u001b[39;00m\u001b[38;5;124m is unsupported in linalg\u001b[39m\u001b[38;5;124m\"\u001b[39m \u001b[38;5;241m%\u001b[39m\n\u001b[1;32m    174\u001b[0m                 (a\u001b[38;5;241m.\u001b[39mdtype\u001b[38;5;241m.\u001b[39mname,))\n\u001b[1;32m    175\u001b[0m \u001b[38;5;28;01melse\u001b[39;00m:\n\u001b[1;32m    176\u001b[0m     result_type \u001b[38;5;241m=\u001b[39m double\n",
      "\u001b[0;31mTypeError\u001b[0m: array type float16 is unsupported in linalg"
     ]
    }
   ],
   "source": [
    "import matplotlib.pyplot as plt\n",
    "import matplotlib.colors\n",
    "import numpy as np\n",
    "import seaborn as sns\n",
    "\n",
    "\n",
    "data_dim = 10000\n",
    "num_training_data = np.array(\n",
    "    [200, 500, 1000, 2500, 5000, 7500, 10000, 15000, 20000, 25000, 50000]\n",
    ")\n",
    "# num_training_data = np.array([200, 500, 1000, 2000, 5000, 10000, 20000, 50000, 100000, 200000, 500000])\n",
    "# num_train_data = np.logspace(1, 6, 50, base=10, dtype=int)\n",
    "mask = np.random.rand(data_dim, np.max(num_training_data)).astype(np.float16) < 0.999\n",
    "training_data = np.multiply(\n",
    "    mask, np.random.rand(data_dim, np.max(num_training_data)).astype(np.float16)\n",
    ").astype(np.float16)\n",
    "# Rescale training data to have unit norm\n",
    "training_data = training_data / np.linalg.norm(training_data, axis=0, keepdims=True)\n",
    "\n",
    "ranks = []\n",
    "for N in num_training_data:\n",
    "    ranks.append(np.linalg.matrix_rank(training_data[:, :N]))\n",
    "\n",
    "plt.close()\n",
    "plt.plot(num_training_data, ranks)\n",
    "plt.xscale(\"log\")\n",
    "plt.show()\n",
    "\n",
    "\n",
    "num_hidden_dimensions = np.array([2, 3, 4, 5, 6, 7, 8, 9, 10, 16])\n",
    "num_parameters = (num_hidden_dimensions + 1) * 1e3\n",
    "# num_parameters = np.power(num_hidden_dimensions + 1, 2) * 1e3\n",
    "num_parameters_tiled = np.tile(\n",
    "    num_parameters.reshape(-1, 1), (1, len(num_training_data))\n",
    ")\n",
    "num_train_data_tiled = np.tile(\n",
    "    num_training_data.reshape(1, -1), (len(num_hidden_dimensions), 1)\n",
    ")\n",
    "assert num_parameters_tiled.shape == num_train_data_tiled.shape\n",
    "\n",
    "plt.close()\n",
    "sns.heatmap(\n",
    "    1 + np.abs(num_parameters_tiled - num_train_data_tiled),\n",
    "    norm=matplotlib.colors.LogNorm(),\n",
    "    yticklabels=num_hidden_dimensions,\n",
    "    # yticklabels=np.round(num_parameters),\n",
    "    xticklabels=num_training_data,\n",
    "    cbar_kws={\"label\": \"Squared Distance to Interpolation Threshold\"},\n",
    "    cmap=\"magma\",\n",
    ")\n",
    "# Invert y axis\n",
    "plt.gca().invert_yaxis()\n",
    "plt.xlabel(\"Training Dataset Size\")\n",
    "plt.ylabel(\"Num. Hidden Units\")\n",
    "plt.show()\n",
    "\n",
    "\n",
    "print()"
   ]
  },
  {
   "cell_type": "code",
   "execution_count": null,
   "id": "957ecf3b-4a7e-4740-8007-14dea596da35",
   "metadata": {},
   "outputs": [],
   "source": []
  },
  {
   "cell_type": "code",
   "execution_count": null,
   "id": "8cbfba8e-96b0-44af-bac2-e2dfabd41b88",
   "metadata": {},
   "outputs": [],
   "source": []
  },
  {
   "cell_type": "code",
   "execution_count": null,
   "id": "7ddb50bf-5788-4b69-85ea-8e2f6a471366",
   "metadata": {},
   "outputs": [],
   "source": []
  },
  {
   "cell_type": "code",
   "execution_count": null,
   "id": "cca42966-2920-4bb5-b99c-0bf1a46f396d",
   "metadata": {},
   "outputs": [],
   "source": []
  }
 ],
 "metadata": {
  "kernelspec": {
   "display_name": "Python 3 (ipykernel)",
   "language": "python",
   "name": "python3"
  },
  "language_info": {
   "codemirror_mode": {
    "name": "ipython",
    "version": 3
   },
   "file_extension": ".py",
   "mimetype": "text/x-python",
   "name": "python",
   "nbconvert_exporter": "python",
   "pygments_lexer": "ipython3",
   "version": "3.11.7"
  }
 },
 "nbformat": 4,
 "nbformat_minor": 5
}
