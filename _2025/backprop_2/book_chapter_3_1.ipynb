{
 "cells": [
  {
   "cell_type": "code",
   "execution_count": 1,
   "id": "3eddaf95-44f1-4006-ae25-2b436e9a5458",
   "metadata": {},
   "outputs": [],
   "source": [
    "import torch\n",
    "from transformers import AutoModelForCausalLM, AutoTokenizer\n",
    "\n",
    "device='cuda'\n",
    "model_id = \"meta-llama/Llama-3.2-1B\"\n",
    "model = AutoModelForCausalLM.from_pretrained(model_id).to(device)\n",
    "tokenizer = AutoTokenizer.from_pretrained(model_id)"
   ]
  },
  {
   "cell_type": "code",
   "execution_count": 2,
   "id": "8a28fd6c-f181-4899-a4c5-8a77aaaa34c6",
   "metadata": {},
   "outputs": [
    {
     "data": {
      "text/plain": [
       "tensor([[128000,    791,   6864,    315,   9822,    374]], device='cuda:0')"
      ]
     },
     "execution_count": 2,
     "metadata": {},
     "output_type": "execute_result"
    }
   ],
   "source": [
    "prompt = \"The capital of France is\"\n",
    "inputs = tokenizer(prompt, return_tensors=\"pt\").to(device)\n",
    "inputs['input_ids']"
   ]
  },
  {
   "cell_type": "code",
   "execution_count": 3,
   "id": "90d30bd5-ca69-4527-a9f7-d5eab5037d32",
   "metadata": {},
   "outputs": [
    {
     "data": {
      "text/plain": [
       "(torch.Size([1, 6, 128256]), torch.Size([128256]), torch.Size([128256]))"
      ]
     },
     "execution_count": 3,
     "metadata": {},
     "output_type": "execute_result"
    }
   ],
   "source": [
    "with torch.no_grad():\n",
    "    outputs = model(inputs['input_ids'])\n",
    "\n",
    "last_token_logits = outputs.logits[0, -1, :]\n",
    "probabilities = torch.nn.functional.softmax(last_token_logits, dim=-1)\n",
    "outputs.logits.shape, last_token_logits.shape, probabilities.shape"
   ]
  },
  {
   "cell_type": "code",
   "execution_count": 4,
   "id": "82ee19eb-a580-4287-91b6-27c4dbbf3119",
   "metadata": {},
   "outputs": [
    {
     "name": "stdout",
     "output_type": "stream",
     "text": [
      " 1. ' Paris'        0.39153\n",
      " 2. ' a'            0.08419\n",
      " 3. ' the'          0.07040\n",
      " 4. ' one'          0.03096\n",
      " 5. ' also'         0.03061\n",
      " 6. ' home'         0.02528\n"
     ]
    }
   ],
   "source": [
    "top_probs, top_indices = torch.topk(probabilities, 6)\n",
    "for i, (prob, idx) in enumerate(zip(top_probs, top_indices), 1):\n",
    "    token = tokenizer.decode([idx.item()])\n",
    "    display_token = repr(token) if token.strip() != token else f\"'{token}'\"\n",
    "    print(f\"{i:2d}. {display_token:<15} {prob.item():.5f}\")"
   ]
  },
  {
   "cell_type": "code",
   "execution_count": null,
   "id": "44d0df53-b59e-40d1-bb29-587d1a71b601",
   "metadata": {},
   "outputs": [],
   "source": []
  },
  {
   "cell_type": "code",
   "execution_count": null,
   "id": "fc6d14e7-c369-4b5f-a750-c80dad1eea8e",
   "metadata": {},
   "outputs": [],
   "source": []
  },
  {
   "cell_type": "code",
   "execution_count": null,
   "id": "bbe017b6-32e1-40e3-a692-6e4fcec727e9",
   "metadata": {},
   "outputs": [],
   "source": []
  },
  {
   "cell_type": "code",
   "execution_count": null,
   "id": "4bde7302-0a43-40b4-938b-c092a036eb6b",
   "metadata": {},
   "outputs": [],
   "source": []
  }
 ],
 "metadata": {
  "kernelspec": {
   "display_name": "Python 3 (ipykernel)",
   "language": "python",
   "name": "python3"
  },
  "language_info": {
   "codemirror_mode": {
    "name": "ipython",
    "version": 3
   },
   "file_extension": ".py",
   "mimetype": "text/x-python",
   "name": "python",
   "nbconvert_exporter": "python",
   "pygments_lexer": "ipython3",
   "version": "3.11.7"
  }
 },
 "nbformat": 4,
 "nbformat_minor": 5
}
