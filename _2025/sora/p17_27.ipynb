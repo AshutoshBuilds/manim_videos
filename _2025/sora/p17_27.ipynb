{
 "cells": [
  {
   "cell_type": "markdown",
   "id": "11fe5a2b-a5ed-4b2a-ab26-532724daeec1",
   "metadata": {},
   "source": [
    "## p17 to p27"
   ]
  },
  {
   "cell_type": "markdown",
   "id": "958c8987-7b54-4d65-91a6-a97dde3da95e",
   "metadata": {},
   "source": [
    "### p17"
   ]
  },
  {
   "cell_type": "code",
   "execution_count": 1,
   "id": "d76240d8-b965-4ccc-83cd-1d972bba9521",
   "metadata": {},
   "outputs": [],
   "source": [
    "import torch\n",
    "from PIL import Image\n",
    "import requests\n",
    "from transformers import AutoProcessor, CLIPModel\n",
    "import matplotlib.pyplot as plt\n",
    "import numpy as np\n",
    "from tqdm import tqdm"
   ]
  },
  {
   "cell_type": "code",
   "execution_count": 2,
   "id": "b045d058-4634-4e2a-a1e5-c5d14fcb81e8",
   "metadata": {},
   "outputs": [],
   "source": [
    "device='cuda'"
   ]
  },
  {
   "cell_type": "code",
   "execution_count": 3,
   "id": "2a3b33f5-efbc-4daf-98ee-0fa3c7da0867",
   "metadata": {},
   "outputs": [],
   "source": [
    "model = CLIPModel.from_pretrained(\"openai/clip-vit-base-patch32\").to(device)\n",
    "processor = AutoProcessor.from_pretrained(\"openai/clip-vit-base-patch32\")\n",
    "model.eval();"
   ]
  },
  {
   "cell_type": "code",
   "execution_count": 4,
   "id": "fb2a7268-48c1-452b-9d4f-c57b7f9208fa",
   "metadata": {},
   "outputs": [],
   "source": [
    "image = Image.open('me_no_hat_cropped_1.jpeg')\n",
    "text = \"A photo of a man\"\n",
    "# image"
   ]
  },
  {
   "cell_type": "code",
   "execution_count": 5,
   "id": "bbc8c7c1-cbac-4bb2-a07a-ac0e9db5e0a9",
   "metadata": {},
   "outputs": [],
   "source": [
    "inputs = processor(images=image, return_tensors=\"pt\").to(device)\n",
    "with torch.no_grad():\n",
    "    image_features_man = model.get_image_features(**inputs)\n",
    "    image_features_man = image_features_man / image_features_man.norm(dim=-1, keepdim=True)"
   ]
  },
  {
   "cell_type": "code",
   "execution_count": 6,
   "id": "7d028f7b-cb34-41a8-bc2b-6ca191e2e491",
   "metadata": {},
   "outputs": [
    {
     "data": {
      "text/plain": [
       "(tensor([ 0.0362, -0.0020, -0.0347,  0.0297, -0.0321, -0.0230,  0.0156,  0.0808,\n",
       "          0.0237,  0.0073], device='cuda:0'),\n",
       " torch.Size([1, 512]))"
      ]
     },
     "execution_count": 6,
     "metadata": {},
     "output_type": "execute_result"
    }
   ],
   "source": [
    "image_features_man[0,:10], image_features_man.shape"
   ]
  },
  {
   "cell_type": "code",
   "execution_count": 7,
   "id": "51c227af-6297-4966-9ce7-e529636c91a0",
   "metadata": {},
   "outputs": [],
   "source": [
    "inputs = processor(text=text, return_tensors=\"pt\", padding=True).to(device)\n",
    "with torch.no_grad():\n",
    "    text_features_man = model.get_text_features(**inputs)\n",
    "    text_features_man = text_features_man / text_features_man.norm(dim=-1, keepdim=True)"
   ]
  },
  {
   "cell_type": "code",
   "execution_count": 8,
   "id": "bd1c7901-f7ef-4015-b4f9-cb152334e603",
   "metadata": {},
   "outputs": [
    {
     "data": {
      "text/plain": [
       "(tensor([-0.0235,  0.0288, -0.0020,  0.0181, -0.0009, -0.0264, -0.0124, -0.0950,\n",
       "         -0.0009,  0.0272], device='cuda:0'),\n",
       " torch.Size([1, 512]))"
      ]
     },
     "execution_count": 8,
     "metadata": {},
     "output_type": "execute_result"
    }
   ],
   "source": [
    "text_features_man[0,:10], text_features_man.shape"
   ]
  },
  {
   "cell_type": "code",
   "execution_count": 9,
   "id": "e189d776-fdb9-4349-9656-e648b10fa606",
   "metadata": {},
   "outputs": [],
   "source": [
    "vmax=np.max([image_features_man.max().item(), text_features_man.max().item()])\n",
    "vmin=np.min([image_features_man.min().item(), text_features_man.min().item()])"
   ]
  },
  {
   "cell_type": "code",
   "execution_count": 10,
   "id": "d82018d8-a05f-4e5c-8c24-a0adef142b5a",
   "metadata": {},
   "outputs": [
    {
     "data": {
      "text/plain": [
       "(-0.5947677493095398, 0.6026014685630798)"
      ]
     },
     "execution_count": 10,
     "metadata": {},
     "output_type": "execute_result"
    }
   ],
   "source": [
    "vmin, vmax"
   ]
  },
  {
   "cell_type": "code",
   "execution_count": 11,
   "id": "0afa9717-ac19-4dc8-9a7a-5bd0fa54daac",
   "metadata": {},
   "outputs": [
    {
     "data": {
      "image/png": "[encoded data removed]",
      "text/plain": [
       "<Figure size 640x480 with 1 Axes>"
      ]
     },
     "metadata": {},
     "output_type": "display_data"
    }
   ],
   "source": [
    "plt.imshow(image_features_man.detach().cpu().numpy().reshape(16,32), vmin=vmin, vmax=vmax)\n",
    "plt.axis('off')\n",
    "plt.savefig('embedding_me_no_hat_cropped_1.png', dpi=150, transparent=True, bbox_inches='tight')"
   ]
  },
  {
   "cell_type": "code",
   "execution_count": 12,
   "id": "34ee7fa9-3fc4-433e-8d33-af4caad5af1e",
   "metadata": {},
   "outputs": [
    {
     "data": {
      "image/png": "[encoded data removed]",
      "text/plain": [
       "<Figure size 640x480 with 1 Axes>"
      ]
     },
     "metadata": {},
     "output_type": "display_data"
    }
   ],
   "source": [
    "plt.imshow(text_features_man.detach().cpu().numpy().reshape(16,32),vmin=vmin, vmax=vmax)\n",
    "plt.axis('off')\n",
    "plt.savefig('embedding_a_photo_of_a_man.png', dpi=150, transparent=True, bbox_inches='tight')"
   ]
  },
  {
   "cell_type": "code",
   "execution_count": 13,
   "id": "0007eae4-3d0c-4b22-be22-ad09df474210",
   "metadata": {},
   "outputs": [
    {
     "data": {
      "text/plain": [
       "tensor([0.2506], device='cuda:0')"
      ]
     },
     "execution_count": 13,
     "metadata": {},
     "output_type": "execute_result"
    }
   ],
   "source": [
    "torch.cosine_similarity(image_features_man, text_features_man)"
   ]
  },
  {
   "cell_type": "code",
   "execution_count": 14,
   "id": "c508ab4a-14bd-4e85-9cb8-6c6dbba6c1f0",
   "metadata": {},
   "outputs": [
    {
     "data": {
      "image/png": "[encoded data removed]",
      "text/plain": [
       "<Figure size 200x600 with 1 Axes>"
      ]
     },
     "metadata": {},
     "output_type": "display_data"
    },
    {
     "data": {
      "text/plain": [
       "<Figure size 640x480 with 0 Axes>"
      ]
     },
     "metadata": {},
     "output_type": "display_data"
    }
   ],
   "source": [
    "#Quick colorbar\n",
    "import matplotlib.colors as mcolors\n",
    "\n",
    "fig, ax = plt.subplots(figsize=(2, 6))\n",
    "fig.patch.set_facecolor('black')\n",
    "\n",
    "norm = mcolors.Normalize(vmin=-0.6, vmax=0.6)\n",
    "cbar = plt.colorbar(\n",
    "    plt.cm.ScalarMappable(norm=norm, cmap='viridis'),\n",
    "    ax=ax,\n",
    "    orientation='vertical'\n",
    ")\n",
    "\n",
    "cbar.ax.tick_params(colors='white')\n",
    "cbar.outline.set_edgecolor('white')\n",
    "cbar.outline.set_linewidth(2)\n",
    "\n",
    "ax.remove()\n",
    "plt.tight_layout()\n",
    "plt.show()\n",
    "plt.savefig('colorbar.png', dpi=150, transparent=True, bbox_inches='tight')"
   ]
  },
  {
   "cell_type": "code",
   "execution_count": 15,
   "id": "fccb9bc5-1fb0-4472-a15c-8ff1e94c5016",
   "metadata": {},
   "outputs": [],
   "source": [
    "image = Image.open('n02123045_1955.jpg')\n",
    "text = \"A photo of a cat\"\n",
    "\n",
    "inputs = processor(images=image, return_tensors=\"pt\").to(device)\n",
    "with torch.no_grad():\n",
    "    image_features_cat = model.get_image_features(**inputs)\n",
    "    image_features_cat = image_features_cat / image_features_cat.norm(dim=-1, keepdim=True)\n",
    "\n",
    "inputs = processor(text=text, return_tensors=\"pt\", padding=True).to(device)\n",
    "with torch.no_grad():\n",
    "    text_features_cat = model.get_text_features(**inputs)\n",
    "    text_features_cat = text_features_cat / text_features_cat.norm(dim=-1, keepdim=True)"
   ]
  },
  {
   "cell_type": "code",
   "execution_count": 16,
   "id": "8aa2da0d-435a-43ef-b5db-fbc5de7e6b55",
   "metadata": {},
   "outputs": [
    {
     "data": {
      "text/plain": [
       "(0.5920506715774536, -0.7058871388435364)"
      ]
     },
     "execution_count": 16,
     "metadata": {},
     "output_type": "execute_result"
    }
   ],
   "source": [
    "np.max([image_features_cat.max().item(), text_features_cat.max().item()]), np.min([image_features_cat.min().item(), text_features_cat.min().item()])"
   ]
  },
  {
   "cell_type": "code",
   "execution_count": 17,
   "id": "8b5bf2dc-0c70-492d-a023-0d837b51f344",
   "metadata": {},
   "outputs": [],
   "source": [
    "vmin=-0.6\n",
    "vmax=0.6"
   ]
  },
  {
   "cell_type": "code",
   "execution_count": 18,
   "id": "dc886ad2-ea65-4686-afe1-af8dc288e1dc",
   "metadata": {},
   "outputs": [
    {
     "data": {
      "image/png": "[encoded data removed]",
      "text/plain": [
       "<Figure size 640x480 with 1 Axes>"
      ]
     },
     "metadata": {},
     "output_type": "display_data"
    }
   ],
   "source": [
    "plt.imshow(image_features_cat.detach().cpu().numpy().reshape(16,32), vmin=vmin, vmax=vmax)\n",
    "plt.axis('off')\n",
    "plt.savefig('embedding_cat.png', dpi=150, transparent=True, bbox_inches='tight')"
   ]
  },
  {
   "cell_type": "code",
   "execution_count": 19,
   "id": "6c9f59e7-56f0-4276-b43e-23d4f26371d6",
   "metadata": {},
   "outputs": [
    {
     "data": {
      "image/png": "[encoded data removed]",
      "text/plain": [
       "<Figure size 640x480 with 1 Axes>"
      ]
     },
     "metadata": {},
     "output_type": "display_data"
    }
   ],
   "source": [
    "plt.imshow(text_features_cat.detach().cpu().numpy().reshape(16,32), vmin=vmin, vmax=vmax)\n",
    "plt.axis('off')\n",
    "plt.savefig('embedding_a_photo_of_a_cat.png', dpi=150, transparent=True, bbox_inches='tight')"
   ]
  },
  {
   "cell_type": "code",
   "execution_count": 20,
   "id": "2db54d0c-010b-41d9-a1a7-3799f1254356",
   "metadata": {},
   "outputs": [],
   "source": [
    "image = Image.open('n02099601_7101.jpg')\n",
    "text = \"A photo of a dog\"\n",
    "\n",
    "inputs = processor(images=image, return_tensors=\"pt\").to(device)\n",
    "with torch.no_grad():\n",
    "    image_features_dog = model.get_image_features(**inputs)\n",
    "    image_features_dog = image_features_dog / image_features_dog.norm(dim=-1, keepdim=True)\n",
    "\n",
    "inputs = processor(text=text, return_tensors=\"pt\", padding=True).to(device)\n",
    "with torch.no_grad():\n",
    "    text_features_dog = model.get_text_features(**inputs)\n",
    "    text_features_dog = text_features_dog / text_features_dog.norm(dim=-1, keepdim=True)"
   ]
  },
  {
   "cell_type": "code",
   "execution_count": 21,
   "id": "720d9fa8-fe44-443e-a8c7-9e6c8625cfb7",
   "metadata": {},
   "outputs": [
    {
     "data": {
      "text/plain": [
       "(0.5973504781723022, -0.5931177735328674)"
      ]
     },
     "execution_count": 21,
     "metadata": {},
     "output_type": "execute_result"
    }
   ],
   "source": [
    "np.max([image_features_dog.max().item(), text_features_dog.max().item()]), np.min([image_features_dog.min().item(), text_features_dog.min().item()])"
   ]
  },
  {
   "cell_type": "code",
   "execution_count": 22,
   "id": "d9076124-d768-444b-ba0d-10e743e6bea1",
   "metadata": {},
   "outputs": [
    {
     "data": {
      "image/png": "[encoded data removed]",
      "text/plain": [
       "<Figure size 640x480 with 1 Axes>"
      ]
     },
     "metadata": {},
     "output_type": "display_data"
    }
   ],
   "source": [
    "plt.imshow(image_features_dog.detach().cpu().numpy().reshape(16,32), vmin=vmin, vmax=vmax)\n",
    "plt.axis('off')\n",
    "plt.savefig('embedding_dog.png', dpi=150, transparent=True, bbox_inches='tight')"
   ]
  },
  {
   "cell_type": "code",
   "execution_count": 23,
   "id": "a9fafc20-9d37-48f0-92c7-3ac0b127126c",
   "metadata": {},
   "outputs": [
    {
     "data": {
      "image/png": "[encoded data removed]",
      "text/plain": [
       "<Figure size 640x480 with 1 Axes>"
      ]
     },
     "metadata": {},
     "output_type": "display_data"
    }
   ],
   "source": [
    "plt.imshow(text_features_dog.detach().cpu().numpy().reshape(16,32), vmin=vmin, vmax=vmax)\n",
    "plt.axis('off')\n",
    "plt.savefig('embedding_a_photo_of_a_dog.png', dpi=150, transparent=True, bbox_inches='tight')"
   ]
  },
  {
   "cell_type": "code",
   "execution_count": 24,
   "id": "d82a7e88-5cbb-4762-a421-429211602b89",
   "metadata": {},
   "outputs": [
    {
     "data": {
      "image/png": "[encoded data removed]",
      "text/plain": [
       "<Figure size 640x480 with 1 Axes>"
      ]
     },
     "metadata": {},
     "output_type": "display_data"
    }
   ],
   "source": [
    "prod=image_features_man*text_features_man\n",
    "plt.imshow(prod.detach().cpu().numpy().reshape(16,32))\n",
    "plt.axis('off')\n",
    "plt.savefig('man_man.png', dpi=150, transparent=True, bbox_inches='tight')"
   ]
  },
  {
   "cell_type": "markdown",
   "id": "15b184a5-acb6-44d0-a6aa-0ddf5a97dd31",
   "metadata": {},
   "source": [
    "Hmm how much of the sum is dominated by thos strong values?"
   ]
  },
  {
   "cell_type": "code",
   "execution_count": 25,
   "id": "88c3b8bb-efe5-45aa-820a-2fff8e3f12e5",
   "metadata": {},
   "outputs": [
    {
     "data": {
      "text/plain": [
       "torch.return_types.topk(\n",
       "values=tensor([[0.0852, 0.0529, 0.0527, 0.0086, 0.0076, 0.0068, 0.0059, 0.0057, 0.0053,\n",
       "         0.0046]], device='cuda:0'),\n",
       "indices=tensor([[ 92, 133, 312,  16,  67, 329,  20, 423, 286, 166]], device='cuda:0'))"
      ]
     },
     "execution_count": 25,
     "metadata": {},
     "output_type": "execute_result"
    }
   ],
   "source": [
    "torch.topk(prod, 10)"
   ]
  },
  {
   "cell_type": "code",
   "execution_count": 26,
   "id": "f9b906b8-cdf5-4fe8-820a-de6fa3e4906d",
   "metadata": {},
   "outputs": [
    {
     "data": {
      "text/plain": [
       "torch.return_types.topk(\n",
       "values=tensor([[0.0852, 0.0529, 0.0527, 0.0086, 0.0077, 0.0076, 0.0068, 0.0059, 0.0057,\n",
       "         0.0053]], device='cuda:0'),\n",
       "indices=tensor([[ 92, 133, 312,  16,   7,  67, 329,  20, 423, 286]], device='cuda:0'))"
      ]
     },
     "execution_count": 26,
     "metadata": {},
     "output_type": "execute_result"
    }
   ],
   "source": [
    "torch.topk(prod.abs(), 10)"
   ]
  },
  {
   "cell_type": "code",
   "execution_count": 27,
   "id": "f0897a6b-f1f5-4f91-9e3f-e70056e0c158",
   "metadata": {},
   "outputs": [
    {
     "data": {
      "text/plain": [
       "tensor(0.2506, device='cuda:0')"
      ]
     },
     "execution_count": 27,
     "metadata": {},
     "output_type": "execute_result"
    }
   ],
   "source": [
    "prod.sum()"
   ]
  },
  {
   "cell_type": "code",
   "execution_count": 29,
   "id": "b4e9afe7-87ec-4465-a6e2-1625ab26d92e",
   "metadata": {},
   "outputs": [
    {
     "data": {
      "text/plain": [
       "0.1908"
      ]
     },
     "execution_count": 29,
     "metadata": {},
     "output_type": "execute_result"
    }
   ],
   "source": [
    "0.0852+0.0529+0.0527"
   ]
  },
  {
   "cell_type": "markdown",
   "id": "847ff69a-54e7-46e0-bd5f-865d145ab8ef",
   "metadata": {},
   "source": [
    "Yeah that's cool, so strong alignment in those 3 dimensions is contributing to like 80% of the dot product. "
   ]
  },
  {
   "cell_type": "code",
   "execution_count": 41,
   "id": "d0c08596-519f-4d1e-b73d-18b053dc3c1d",
   "metadata": {},
   "outputs": [
    {
     "name": "stdout",
     "output_type": "stream",
     "text": [
      "-0.003466053633019328 0.08594798296689987\n",
      "-0.0037271862383931875 0.0911717638373375\n",
      "-0.005078713875263929 0.10113424807786942\n",
      "-0.008003893308341503 0.07221732288599014\n",
      "-0.008606906980276108 0.07660657167434692\n",
      "-0.011727887205779552 0.08497749269008636\n",
      "-0.006035139784216881 0.0724182203412056\n",
      "-0.006200791802257299 0.07681968063116074\n",
      "-0.007674189750105143 0.08521389216184616\n"
     ]
    }
   ],
   "source": [
    "cos_similarities=np.zeros((3,3))\n",
    "dot_products=np.zeros((3,3))\n",
    "prods=[]\n",
    "\n",
    "for i, (name_image, feature_image) in enumerate(zip(['cat_image', 'dog_image', 'man_image'], \n",
    "                                     [image_features_cat, image_features_dog, image_features_man])):\n",
    "    prods.append([])\n",
    "    for j, (name_text, feature_text) in enumerate(zip(['cat_text', 'dog_text', 'man_text'], \n",
    "                                     [text_features_cat, text_features_dog, text_features_man])):\n",
    "        cos_similarities[i,j]=torch.cosine_similarity(feature_image, feature_text)\n",
    "        prod=feature_image*feature_text\n",
    "        dot_products[i,j]=prod.sum().item()\n",
    "        prods[-1].append(prod.detach().cpu().numpy().reshape(16,32))\n",
    "        print(prod.min().item(), prod.max().item())\n",
    "        "
   ]
  },
  {
   "cell_type": "code",
   "execution_count": 42,
   "id": "98d94522-1bff-4911-9a4f-fd8df7a74743",
   "metadata": {},
   "outputs": [
    {
     "data": {
      "text/plain": [
       "array([[0.27838621, 0.22083758, 0.21663226],\n",
       "       [0.19343477, 0.26263025, 0.20955767],\n",
       "       [0.19544807, 0.20560795, 0.25059879]])"
      ]
     },
     "execution_count": 42,
     "metadata": {},
     "output_type": "execute_result"
    }
   ],
   "source": [
    "cos_similarities"
   ]
  },
  {
   "cell_type": "code",
   "execution_count": 43,
   "id": "d4613493-b7a8-44fe-a1de-d3078c71f9e3",
   "metadata": {},
   "outputs": [
    {
     "data": {
      "text/plain": [
       "array([[0.27838621, 0.22083758, 0.21663226],\n",
       "       [0.19343476, 0.26263022, 0.20955765],\n",
       "       [0.19544804, 0.20560792, 0.25059876]])"
      ]
     },
     "execution_count": 43,
     "metadata": {},
     "output_type": "execute_result"
    }
   ],
   "source": [
    "dot_products"
   ]
  },
  {
   "cell_type": "code",
   "execution_count": 61,
   "id": "40fd4ba0-f756-47e4-bc82-a04559e5e566",
   "metadata": {},
   "outputs": [
    {
     "data": {
      "image/png": "[encoded data removed]",
      "text/plain": [
       "<Figure size 600x400 with 9 Axes>"
      ]
     },
     "metadata": {},
     "output_type": "display_data"
    }
   ],
   "source": [
    "fig=plt.figure(0,(6,4))\n",
    "for i in range(3):\n",
    "    for j in range(3):\n",
    "        fig.add_subplot(3,3,3*i+j+1)\n",
    "        plt.imshow(prods[i][j]-prods[1][0], vmin=-0.01, vmax=0.1)"
   ]
  },
  {
   "cell_type": "code",
   "execution_count": 49,
   "id": "174085f2-a27b-4952-a2d9-2b0cfbf10a73",
   "metadata": {},
   "outputs": [
    {
     "data": {
      "text/plain": [
       "0"
      ]
     },
     "execution_count": 49,
     "metadata": {},
     "output_type": "execute_result"
    }
   ],
   "source": [
    "i"
   ]
  },
  {
   "cell_type": "code",
   "execution_count": 50,
   "id": "c61fbd9d-626e-4134-9143-4ff6136eb763",
   "metadata": {},
   "outputs": [
    {
     "data": {
      "text/plain": [
       "0"
      ]
     },
     "execution_count": 50,
     "metadata": {},
     "output_type": "execute_result"
    }
   ],
   "source": [
    "j"
   ]
  },
  {
   "cell_type": "code",
   "execution_count": 51,
   "id": "90ebfedf-db26-4370-a4f1-5f0faf042b55",
   "metadata": {},
   "outputs": [
    {
     "ename": "TypeError",
     "evalue": "list indices must be integers or slices, not tuple",
     "output_type": "error",
     "traceback": [
      "\u001b[0;31m---------------------------------------------------------------------------\u001b[0m",
      "\u001b[0;31mTypeError\u001b[0m                                 Traceback (most recent call last)",
      "Cell \u001b[0;32mIn[51], line 1\u001b[0m\n\u001b[0;32m----> 1\u001b[0m prods[i,j]\n",
      "\u001b[0;31mTypeError\u001b[0m: list indices must be integers or slices, not tuple"
     ]
    }
   ],
   "source": [
    "prods[i,j]"
   ]
  },
  {
   "cell_type": "code",
   "execution_count": 53,
   "id": "5ab547bc-a4da-4bda-83d1-b0c3572ed543",
   "metadata": {},
   "outputs": [
    {
     "ename": "TypeError",
     "evalue": "list indices must be integers or slices, not tuple",
     "output_type": "error",
     "traceback": [
      "\u001b[0;31m---------------------------------------------------------------------------\u001b[0m",
      "\u001b[0;31mTypeError\u001b[0m                                 Traceback (most recent call last)",
      "Cell \u001b[0;32mIn[53], line 1\u001b[0m\n\u001b[0;32m----> 1\u001b[0m prods[\u001b[38;5;241m0\u001b[39m,\u001b[38;5;241m0\u001b[39m]\n",
      "\u001b[0;31mTypeError\u001b[0m: list indices must be integers or slices, not tuple"
     ]
    }
   ],
   "source": [
    "prods[0,0]"
   ]
  },
  {
   "cell_type": "code",
   "execution_count": 33,
   "id": "0b25e4cd-0c37-491b-8562-9f44b6141427",
   "metadata": {},
   "outputs": [
    {
     "data": {
      "text/plain": [
       "tensor(0.0852, device='cuda:0')"
      ]
     },
     "execution_count": 33,
     "metadata": {},
     "output_type": "execute_result"
    }
   ],
   "source": [
    "prod.max()"
   ]
  },
  {
   "cell_type": "code",
   "execution_count": 34,
   "id": "896c57dc-d813-43c5-aa51-6b9fa6db690d",
   "metadata": {},
   "outputs": [
    {
     "data": {
      "text/plain": [
       "tensor(-0.0077, device='cuda:0')"
      ]
     },
     "execution_count": 34,
     "metadata": {},
     "output_type": "execute_result"
    }
   ],
   "source": [
    "prod.min()"
   ]
  },
  {
   "cell_type": "code",
   "execution_count": null,
   "id": "63b2188e-62fe-41e0-b3d5-cfa6300d2ec1",
   "metadata": {},
   "outputs": [],
   "source": []
  },
  {
   "cell_type": "code",
   "execution_count": null,
   "id": "13414c67-c3b1-4bce-9059-320691b2430b",
   "metadata": {},
   "outputs": [],
   "source": []
  },
  {
   "cell_type": "code",
   "execution_count": null,
   "id": "d4637be3-d19e-4a11-82b4-2dd98975bd58",
   "metadata": {},
   "outputs": [],
   "source": []
  }
 ],
 "metadata": {
  "kernelspec": {
   "display_name": "Python 3 (ipykernel)",
   "language": "python",
   "name": "python3"
  },
  "language_info": {
   "codemirror_mode": {
    "name": "ipython",
    "version": 3
   },
   "file_extension": ".py",
   "mimetype": "text/x-python",
   "name": "python",
   "nbconvert_exporter": "python",
   "pygments_lexer": "ipython3",
   "version": "3.11.11"
  }
 },
 "nbformat": 4,
 "nbformat_minor": 5
}
