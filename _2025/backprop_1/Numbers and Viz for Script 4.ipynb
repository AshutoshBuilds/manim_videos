{
 "cells": [
  {
   "cell_type": "markdown",
   "id": "16783297-5d16-4015-a3ed-97d08562cb05",
   "metadata": {},
   "source": [
    "## Numbers & Viz for Script 4"
   ]
  },
  {
   "cell_type": "code",
   "execution_count": 1,
   "id": "d49e1029-9b76-4699-aaf0-f8077d9f3bec",
   "metadata": {},
   "outputs": [],
   "source": [
    "import torch\n",
    "from transformers import pipeline\n",
    "from torch.nn import functional as F\n",
    "import numpy as np\n",
    "from tqdm import tqdm\n",
    "import matplotlib.pyplot as plt\n",
    "\n",
    "from transformers import GPT2LMHeadModel, GPT2Tokenizer, GPT2Config\n",
    "from transformers import LlamaForCausalLM, PreTrainedTokenizerFast, LlamaConfig\n",
    "from transformers import AutoModelForCausalLM, AutoTokenizer\n",
    "\n",
    "device='cuda'"
   ]
  },
  {
   "cell_type": "code",
   "execution_count": 2,
   "id": "fe65c010-dc42-4316-b750-f2f8a1b69452",
   "metadata": {},
   "outputs": [],
   "source": [
    "model_id = \"meta-llama/Llama-3.2-1B\"\n",
    "# model_id = \"openai-community/gpt2\"\n",
    "# model_id = \"google/gemma-3-1b-pt\"\n",
    "# model_id = \"gpt2\""
   ]
  },
  {
   "cell_type": "code",
   "execution_count": 3,
   "id": "8b40ce0d-fa60-41ba-b61b-ef726960cfec",
   "metadata": {},
   "outputs": [],
   "source": [
    "# Random init\n",
    "# model_config = GPT2Config() #Full sized model\n",
    "# model = GPT2LMHeadModel(model_config).to(device) #Ok i should see what happens with full and pretrained model. \n",
    "# tokenizer = GPT2Tokenizer.from_pretrained(\"gpt2\")\n",
    "\n",
    "# Not quite working for Llama, will take some noodling\n",
    "# model_config  = LlamaConfig.from_dict(config_dict)\n",
    "# model = LlamaForCausalLM(model_config).to(device) \n",
    "# tokenizer = AutoTokenizer.from_pretrained(model_id)\n",
    "\n",
    "#Pretrained\n",
    "model = AutoModelForCausalLM.from_pretrained(model_id).to(device)\n",
    "tokenizer = AutoTokenizer.from_pretrained(model_id)"
   ]
  },
  {
   "cell_type": "code",
   "execution_count": 4,
   "id": "51c87123-e7e1-48ac-8339-9b8a8aa2ae44",
   "metadata": {},
   "outputs": [
    {
     "name": "stdout",
     "output_type": "stream",
     "text": [
      "3.3751838207244873 3.3751838207244873\n"
     ]
    }
   ],
   "source": [
    "text = \"The capital of France is Paris\"\n",
    "inputs = tokenizer(text, return_tensors=\"pt\").to(device)\n",
    "input_ids = inputs[\"input_ids\"]\n",
    "\n",
    "with torch.no_grad():\n",
    "    outputs = model(input_ids, labels=input_ids)\n",
    "\n",
    "my_probs=F.softmax(outputs.logits, dim=-1)\n",
    "y_one_hot=F.one_hot(input_ids, num_classes=model.config.vocab_size)\n",
    "correct_next_token_probs = (my_probs[:,:-1]*y_one_hot[:,1:]).sum(-1) #I'm sure there's waaay more efficient ways to do this\n",
    "my_loss=-torch.log(correct_next_token_probs).mean()\n",
    "print(my_loss.item(), outputs.loss.item())"
   ]
  },
  {
   "cell_type": "markdown",
   "id": "98312509-5ef8-4dc2-8eda-1e5e3f810f21",
   "metadata": {},
   "source": [
    "Quick loss breakdown by token for paragraph 17b"
   ]
  },
  {
   "cell_type": "code",
   "execution_count": 5,
   "id": "e439edee-5c9e-4edb-9a0b-b11e87354dd5",
   "metadata": {},
   "outputs": [
    {
     "data": {
      "text/plain": [
       "tensor([[3.6222, 8.6831, 0.5645, 4.4855, 1.9581, 0.9377]], device='cuda:0')"
      ]
     },
     "execution_count": 5,
     "metadata": {},
     "output_type": "execute_result"
    }
   ],
   "source": [
    "-torch.log(correct_next_token_probs)"
   ]
  },
  {
   "cell_type": "code",
   "execution_count": 6,
   "id": "bf0d1a12-ebfc-46e7-ada4-d282d6079bd5",
   "metadata": {},
   "outputs": [
    {
     "data": {
      "text/plain": [
       "tensor([[128000,    791,   6864,    315,   9822,    374,  12366]],\n",
       "       device='cuda:0')"
      ]
     },
     "execution_count": 6,
     "metadata": {},
     "output_type": "execute_result"
    }
   ],
   "source": [
    "input_ids"
   ]
  },
  {
   "cell_type": "code",
   "execution_count": 7,
   "id": "d658600b-11f2-494b-b2bb-5168a2a1aa5e",
   "metadata": {},
   "outputs": [
    {
     "data": {
      "text/plain": [
       "tensor(0.5687, device='cuda:0')"
      ]
     },
     "execution_count": 7,
     "metadata": {},
     "output_type": "execute_result"
    }
   ],
   "source": [
    "my_probs[0, 2, 315]"
   ]
  },
  {
   "cell_type": "code",
   "execution_count": null,
   "id": "2095da6a-b22c-4193-9a1b-c0c274238bed",
   "metadata": {},
   "outputs": [],
   "source": []
  },
  {
   "cell_type": "code",
   "execution_count": 8,
   "id": "516a6e2a-c5e1-426e-9095-672d9e9b6d38",
   "metadata": {},
   "outputs": [],
   "source": [
    "prompt=\"The capital of France is\"\n",
    "input_ids=tokenizer.encode(prompt, return_tensors=\"pt\")"
   ]
  },
  {
   "cell_type": "code",
   "execution_count": 9,
   "id": "10426696-cfd7-42e3-a680-63f335f6dfbc",
   "metadata": {},
   "outputs": [
    {
     "data": {
      "text/plain": [
       "tensor([[128000,    791,   6864,    315,   9822,    374]])"
      ]
     },
     "execution_count": 9,
     "metadata": {},
     "output_type": "execute_result"
    }
   ],
   "source": [
    "input_ids"
   ]
  },
  {
   "cell_type": "code",
   "execution_count": 10,
   "id": "11d1125b-53be-4075-93ec-01b4449cb3d3",
   "metadata": {},
   "outputs": [],
   "source": [
    "with torch.no_grad():\n",
    "    out=model(input_ids.to(device))\n",
    "probs = F.softmax(out.logits.detach().cpu(), dim=-1)"
   ]
  },
  {
   "cell_type": "code",
   "execution_count": 11,
   "id": "e33dea08-31df-4bde-883d-29bc5f182ccc",
   "metadata": {},
   "outputs": [
    {
     "name": "stdout",
     "output_type": "stream",
     "text": [
      "12366 0.39156  Paris\n",
      "264 0.0842  a\n",
      "279 0.0704  the\n",
      "832 0.03096  one\n",
      "1101 0.03061  also\n",
      "2162 0.02528  home\n",
      "3967 0.02462  known\n",
      "539 0.01659  not\n",
      "459 0.01241  an\n",
      "7559 0.01172  located\n"
     ]
    }
   ],
   "source": [
    "sI=np.argsort(probs[0,-1, :].detach().cpu().float().numpy())[::-1]\n",
    "\n",
    "for i in sI[:10]:\n",
    "    print(i, round(probs[0, -1, i].item(),5), tokenizer.decode([i]))"
   ]
  },
  {
   "cell_type": "markdown",
   "id": "0d350764-2e1d-4c62-be2d-08c578cb8601",
   "metadata": {},
   "source": [
    "Let’s start by visualizing the impact of just one of our one billion model parameters on our model’s output. The multilayer perceptron compute block in the model’s final layer has N total parameters, we’ll pick out one of these parameters, and see how it impacts our model’s final output. "
   ]
  },
  {
   "cell_type": "code",
   "execution_count": 12,
   "id": "f71af1fb-d115-4b71-b186-6dc55acae44a",
   "metadata": {},
   "outputs": [
    {
     "data": {
      "text/plain": [
       "LlamaMLP(\n",
       "  (gate_proj): Linear(in_features=2048, out_features=8192, bias=False)\n",
       "  (up_proj): Linear(in_features=2048, out_features=8192, bias=False)\n",
       "  (down_proj): Linear(in_features=8192, out_features=2048, bias=False)\n",
       "  (act_fn): SiLU()\n",
       ")"
      ]
     },
     "execution_count": 12,
     "metadata": {},
     "output_type": "execute_result"
    }
   ],
   "source": [
    "model.model.layers[-1].mlp"
   ]
  },
  {
   "cell_type": "code",
   "execution_count": 13,
   "id": "3cb4fb16-f3f2-4787-a646-add5f61b780f",
   "metadata": {},
   "outputs": [
    {
     "data": {
      "text/plain": [
       "16777216"
      ]
     },
     "execution_count": 13,
     "metadata": {},
     "output_type": "execute_result"
    }
   ],
   "source": [
    "model.model.layers[-1].mlp.up_proj.weight.numel()"
   ]
  },
  {
   "cell_type": "code",
   "execution_count": 14,
   "id": "168c4e77-0e45-4df8-8ffa-c328e5799aae",
   "metadata": {},
   "outputs": [
    {
     "data": {
      "text/plain": [
       "16777216"
      ]
     },
     "execution_count": 14,
     "metadata": {},
     "output_type": "execute_result"
    }
   ],
   "source": [
    "8192*2048"
   ]
  },
  {
   "cell_type": "code",
   "execution_count": 15,
   "id": "8c4a9ebc-69ac-486d-be29-ed57246ffa34",
   "metadata": {},
   "outputs": [
    {
     "data": {
      "text/plain": [
       "50.331648"
      ]
     },
     "execution_count": 15,
     "metadata": {},
     "output_type": "execute_result"
    }
   ],
   "source": [
    "(2048*8192+2048*8192+8192*2048)/1e6"
   ]
  },
  {
   "cell_type": "markdown",
   "id": "e9501647-765c-4c64-9b74-9b0a8dbde7d1",
   "metadata": {},
   "source": [
    "Our parameter’s current value is XX.YY. Let’s increase this parameter’s value by N, rerun our input text through our model, and see how our predictions and loss changes. Our model’s predicted probability of a final token of Paris moves down a little to 0.XX. Testing a change in the other direction, decreasing our parameters value to  0.0XA, moves up our model’s confidence to 0.XX. So for this single parameter and for this example text, we now know that we can make our model more confident in the right answer by decreasing this parameter’s value. "
   ]
  },
  {
   "cell_type": "code",
   "execution_count": 16,
   "id": "011512bd-f96e-4baa-8b53-2abc65c9da49",
   "metadata": {},
   "outputs": [
    {
     "data": {
      "text/plain": [
       "1.2358144"
      ]
     },
     "execution_count": 16,
     "metadata": {},
     "output_type": "execute_result"
    }
   ],
   "source": [
    "prompt2=\"The capital of France is Paris\"\n",
    "input_ids=tokenizer.encode(prompt2, return_tensors=\"pt\")\n",
    "\n",
    "out=model(input_ids.to(device), labels=input_ids.to(device))\n",
    "out.loss.backward()\n",
    "\n",
    "param_dict = {name: param for name, param in model.named_parameters()}\n",
    "param_dict_2d={k:v for k,v in param_dict.items() if v.ndim>1}\n",
    "grad_dict = {}\n",
    "\n",
    "for p in param_dict:\n",
    "    if param_dict[p].requires_grad:\n",
    "        grad_dict[p] = param_dict[p].grad\n",
    "\n",
    "grad_count=0\n",
    "for g in grad_dict:\n",
    "    grad_count+=grad_dict[g].numel()\n",
    "\n",
    "grad_count/1e9"
   ]
  },
  {
   "cell_type": "code",
   "execution_count": 17,
   "id": "8dcabd30-3c2e-4a27-a040-bffbfccdbbd0",
   "metadata": {},
   "outputs": [
    {
     "data": {
      "text/plain": [
       "tensor([[128000,    791,   6864,    315,   9822,    374,  12366]])"
      ]
     },
     "execution_count": 17,
     "metadata": {},
     "output_type": "execute_result"
    }
   ],
   "source": [
    "input_ids"
   ]
  },
  {
   "cell_type": "code",
   "execution_count": 18,
   "id": "d703142b-b7b3-4ed4-8f08-aebdee4ca416",
   "metadata": {},
   "outputs": [],
   "source": [
    "def get_random_param_name(param_dict_2d):\n",
    "    random_layer_index=np.random.choice(len(param_dict_2d.keys()))\n",
    "    random_layer_name=list(param_dict_2d.keys())[random_layer_index]\n",
    "    return random_layer_name\n",
    "\n",
    "def get_random_indices(t):\n",
    "    random_i=np.random.choice(t.shape[0])\n",
    "    random_j=np.random.choice(t.shape[1])\n",
    "    return random_i, random_j\n",
    "\n",
    "def top_n_abs_indices(arr, n=128):\n",
    "    flat_indices = np.argsort(np.abs(arr).flatten())[-n:][::-1]\n",
    "    return np.column_stack(np.unravel_index(flat_indices, arr.shape))"
   ]
  },
  {
   "cell_type": "code",
   "execution_count": 19,
   "id": "491b1265-03fb-42ca-b2bc-3d1254694f99",
   "metadata": {},
   "outputs": [],
   "source": [
    "# [o[0] for o in model.named_parameters()]"
   ]
  },
  {
   "cell_type": "markdown",
   "id": "caf8209a-53a3-4611-8144-3adea758c402",
   "metadata": {},
   "source": [
    "- Ok so this is a litle messy, but I think the way to go, let's just measture the loss with respect to Paris"
   ]
  },
  {
   "cell_type": "code",
   "execution_count": 20,
   "id": "ee55acf7-e3f8-453e-87c6-d00cff501241",
   "metadata": {},
   "outputs": [],
   "source": [
    "with torch.no_grad():\n",
    "    out=model(input_ids.to(device))\n",
    "probs = F.softmax(out.logits.detach().cpu(), dim=-1)\n",
    "my_loss=-np.log(probs[0, 5, 12366].item())"
   ]
  },
  {
   "cell_type": "code",
   "execution_count": 21,
   "id": "24184539-01cf-4973-93bc-ac0ed36dc813",
   "metadata": {},
   "outputs": [
    {
     "data": {
      "text/plain": [
       "0.9376176141361524"
      ]
     },
     "execution_count": 21,
     "metadata": {},
     "output_type": "execute_result"
    }
   ],
   "source": [
    "my_loss.item()"
   ]
  },
  {
   "cell_type": "code",
   "execution_count": null,
   "id": "4b4989cf-ff1b-42ef-a078-6cc3375691db",
   "metadata": {},
   "outputs": [],
   "source": []
  },
  {
   "cell_type": "code",
   "execution_count": 22,
   "id": "d92878db-9176-4a0e-9761-e994e74a307f",
   "metadata": {},
   "outputs": [],
   "source": [
    "# p='model.layers.15.mlp.gate_proj.weight'\n",
    "# p='model.layers.15.mlp.up_proj.weight'\n",
    "p='model.layers.15.mlp.down_proj.weight'"
   ]
  },
  {
   "cell_type": "code",
   "execution_count": 23,
   "id": "d9ba1e4e-29db-4c36-bb25-85305e745e53",
   "metadata": {},
   "outputs": [],
   "source": [
    "top_indices=top_n_abs_indices(grad_dict[p].detach().cpu().float().numpy())"
   ]
  },
  {
   "cell_type": "code",
   "execution_count": 24,
   "id": "0f00da61-baab-4bb7-bcd5-0693c1e7e5b0",
   "metadata": {},
   "outputs": [
    {
     "name": "stdout",
     "output_type": "stream",
     "text": [
      "-0.007080078125\n"
     ]
    },
    {
     "name": "stderr",
     "output_type": "stream",
     "text": [
      "/tmp/ipykernel_51923/2446090319.py:23: DeprecationWarning: __array_wrap__ must accept context and return_scalar arguments (positionally) in the future. (Deprecated NumPy 2.0)\n",
      "  my_loss=-np.log(probs[0, 5, 12366])\n"
     ]
    },
    {
     "data": {
      "text/plain": [
       "[<matplotlib.lines.Line2D at 0x7267eda30710>]"
      ]
     },
     "execution_count": 24,
     "metadata": {},
     "output_type": "execute_result"
    },
    {
     "data": {
      "image/png": "[encoded data removed]",
      "text/plain": [
       "<Figure size 640x480 with 1 Axes>"
      ]
     },
     "metadata": {},
     "output_type": "display_data"
    }
   ],
   "source": [
    "top_index=10 #55\n",
    "n_stds=256\n",
    "i_choice=top_indices[top_index][0]\n",
    "j_choice=top_indices[top_index][1]\n",
    "\n",
    "og_value=param_dict[p][i_choice, j_choice].item()\n",
    "w_std=param_dict[p].detach().cpu().std().item()\n",
    "print(og_value)\n",
    "\n",
    "# xs=np.linspace(og_value-n_stds*w_std, og_value+n_stds*w_std, 31)\n",
    "# xs=np.linspace(-1, 4, 255)\n",
    "xs=np.arange(-1, 4, 0.01)\n",
    "model.eval()\n",
    "losses=[]; all_probs=[]\n",
    "with torch.no_grad():\n",
    "    for x in xs:\n",
    "        param_dict[p][i_choice, j_choice]=x\n",
    "        out=model(input_ids.to(device), labels=input_ids.to(device))\n",
    "        # losses.append(out.loss.item())\n",
    "\n",
    "        #Loss for just paris token\n",
    "        probs = F.softmax(out.logits.detach().cpu(), dim=-1)\n",
    "        my_loss=-np.log(probs[0, 5, 12366])\n",
    "        losses.append(my_loss.item())\n",
    "        all_probs.append(probs[0, 5, 12366].item())\n",
    "\n",
    "    param_dict[p][i_choice, j_choice]=og_value\n",
    "\n",
    "plt.plot(xs, losses)"
   ]
  },
  {
   "cell_type": "code",
   "execution_count": 25,
   "id": "63dedc11-7fc8-4947-8f05-76fb6f663a60",
   "metadata": {},
   "outputs": [
    {
     "data": {
      "image/png": "[encoded data removed]",
      "text/plain": [
       "<Figure size 640x480 with 1 Axes>"
      ]
     },
     "metadata": {},
     "output_type": "display_data"
    }
   ],
   "source": [
    "plt.plot(xs, losses)\n",
    "plt.plot(xs, all_probs)\n",
    "plt.savefig('p21_1.svg')"
   ]
  },
  {
   "cell_type": "code",
   "execution_count": null,
   "id": "6fc61978-f3a3-4e87-a081-653e04764c60",
   "metadata": {},
   "outputs": [],
   "source": []
  },
  {
   "cell_type": "code",
   "execution_count": null,
   "id": "21bddc0c-7119-4d6a-bcb0-9533b92cf1ca",
   "metadata": {},
   "outputs": [],
   "source": []
  },
  {
   "cell_type": "code",
   "execution_count": null,
   "id": "7317bf86-eb1a-4ae3-836e-d89f2e869ebe",
   "metadata": {},
   "outputs": [],
   "source": []
  },
  {
   "cell_type": "code",
   "execution_count": 26,
   "id": "9b692afd-0427-49ad-b609-2f594bae9188",
   "metadata": {},
   "outputs": [
    {
     "data": {
      "text/plain": [
       "(np.int64(395),\n",
       " np.int64(1788),\n",
       " 'model.layers.15.mlp.down_proj.weight',\n",
       " -0.007080078125)"
      ]
     },
     "execution_count": 26,
     "metadata": {},
     "output_type": "execute_result"
    }
   ],
   "source": [
    "i_choice, j_choice, p, og_value"
   ]
  },
  {
   "cell_type": "code",
   "execution_count": 27,
   "id": "e9d86d78-c40f-4eb8-bea5-fe44b92b9edc",
   "metadata": {},
   "outputs": [
    {
     "name": "stdout",
     "output_type": "stream",
     "text": [
      "tensor(-0.0071, device='cuda:0', requires_grad=True) tensor(0.3916) tensor(0.9376)\n"
     ]
    },
    {
     "name": "stderr",
     "output_type": "stream",
     "text": [
      "/tmp/ipykernel_51923/1872347975.py:5: DeprecationWarning: __array_wrap__ must accept context and return_scalar arguments (positionally) in the future. (Deprecated NumPy 2.0)\n",
      "  my_loss=-np.log(probs[0, 5, 12366])\n"
     ]
    }
   ],
   "source": [
    "with torch.no_grad():\n",
    "    param_dict[p][i_choice, j_choice]=og_value\n",
    "    out=model(input_ids.to(device), labels=input_ids.to(device))\n",
    "    probs = F.softmax(out.logits.detach().cpu(), dim=-1)\n",
    "    my_loss=-np.log(probs[0, 5, 12366])\n",
    "    param_dict[p][i_choice, j_choice]=og_value\n",
    "    print(param_dict[p][i_choice, j_choice], probs[0, 5, 12366], my_loss)"
   ]
  },
  {
   "cell_type": "code",
   "execution_count": 28,
   "id": "76bceb4d-a5ca-4447-874e-3f4b8ef6bdfe",
   "metadata": {},
   "outputs": [
    {
     "name": "stdout",
     "output_type": "stream",
     "text": [
      "tensor(0.0029, device='cuda:0', requires_grad=True)\n",
      "tensor(0.3930) tensor(0.9339)\n"
     ]
    },
    {
     "name": "stderr",
     "output_type": "stream",
     "text": [
      "/tmp/ipykernel_51923/2141805780.py:5: DeprecationWarning: __array_wrap__ must accept context and return_scalar arguments (positionally) in the future. (Deprecated NumPy 2.0)\n",
      "  my_loss=-np.log(probs[0, 5, 12366])\n"
     ]
    }
   ],
   "source": [
    "with torch.no_grad():\n",
    "    param_dict[p][i_choice, j_choice]=og_value+0.01\n",
    "    out=model(input_ids.to(device), labels=input_ids.to(device))\n",
    "    probs = F.softmax(out.logits.detach().cpu(), dim=-1)\n",
    "    my_loss=-np.log(probs[0, 5, 12366])\n",
    "    print(param_dict[p][i_choice, j_choice])\n",
    "    param_dict[p][i_choice, j_choice]=og_value\n",
    "    print(probs[0, 5, 12366], my_loss)"
   ]
  },
  {
   "cell_type": "code",
   "execution_count": 29,
   "id": "2c609c1c-94eb-421d-9db2-30bb6a5fa9b1",
   "metadata": {},
   "outputs": [
    {
     "name": "stdout",
     "output_type": "stream",
     "text": [
      "tensor(-0.0171, device='cuda:0', requires_grad=True)\n",
      "tensor(0.3901) tensor(0.9414)\n"
     ]
    },
    {
     "name": "stderr",
     "output_type": "stream",
     "text": [
      "/tmp/ipykernel_51923/3024680267.py:6: DeprecationWarning: __array_wrap__ must accept context and return_scalar arguments (positionally) in the future. (Deprecated NumPy 2.0)\n",
      "  my_loss=-np.log(probs[0, 5, 12366])\n"
     ]
    }
   ],
   "source": [
    "with torch.no_grad():\n",
    "    param_dict[p][i_choice, j_choice]=og_value-0.01\n",
    "    out=model(input_ids.to(device), labels=input_ids.to(device))\n",
    "    probs = F.softmax(out.logits.detach().cpu(), dim=-1)\n",
    "    print(param_dict[p][i_choice, j_choice])\n",
    "    my_loss=-np.log(probs[0, 5, 12366])\n",
    "    param_dict[p][i_choice, j_choice]=og_value\n",
    "    print(probs[0, 5, 12366], my_loss)"
   ]
  },
  {
   "cell_type": "code",
   "execution_count": 30,
   "id": "1a5da32a-937b-487f-adc3-149171add8b3",
   "metadata": {},
   "outputs": [
    {
     "data": {
      "text/plain": [
       "-0.007080078125"
      ]
     },
     "execution_count": 30,
     "metadata": {},
     "output_type": "execute_result"
    }
   ],
   "source": [
    "og_value"
   ]
  },
  {
   "cell_type": "markdown",
   "id": "601f98af-a3eb-4ce3-83e6-2c391a271c6f",
   "metadata": {},
   "source": [
    "## Ok Now Whack a Mole"
   ]
  },
  {
   "cell_type": "markdown",
   "id": "b3b58f60-6a1f-4878-be52-33df246f96cb",
   "metadata": {},
   "source": [
    "- Ok from here I think I need to go throug the whole exercise of picking and tweaking a second parameter, after \"optimizing\" the first parameter, I need to come back and show that the loss curve changed."
   ]
  },
  {
   "cell_type": "code",
   "execution_count": null,
   "id": "b72548d5-89f0-491b-9145-139ee00c1323",
   "metadata": {},
   "outputs": [],
   "source": []
  },
  {
   "cell_type": "code",
   "execution_count": 31,
   "id": "47418724-452c-4506-b7ac-5cb693afddd8",
   "metadata": {},
   "outputs": [
    {
     "name": "stderr",
     "output_type": "stream",
     "text": [
      "/tmp/ipykernel_51923/1052380754.py:21: DeprecationWarning: __array_wrap__ must accept context and return_scalar arguments (positionally) in the future. (Deprecated NumPy 2.0)\n",
      "  my_loss=-np.log(probs[0, 5, 12366])\n"
     ]
    },
    {
     "data": {
      "text/plain": [
       "[<matplotlib.lines.Line2D at 0x7267ecf1b810>]"
      ]
     },
     "execution_count": 31,
     "metadata": {},
     "output_type": "execute_result"
    },
    {
     "data": {
      "image/png": "[encoded data removed]",
      "text/plain": [
       "<Figure size 640x480 with 1 Axes>"
      ]
     },
     "metadata": {},
     "output_type": "display_data"
    }
   ],
   "source": [
    "top_index=10 #55\n",
    "n_stds=256\n",
    "i_choice=top_indices[top_index][0]\n",
    "j_choice=top_indices[top_index][1]\n",
    "\n",
    "og_value=param_dict[p][i_choice, j_choice].item()\n",
    "w_std=param_dict[p].detach().cpu().std().item()\n",
    "\n",
    "# xs1=np.linspace(og_value-n_stds*w_std, og_value+n_stds*w_std,255)\n",
    "xs1=np.arange(-1.007, 4, 0.01)\n",
    "model.eval()\n",
    "losses1=[]; all_probs_1=[]\n",
    "with torch.no_grad():\n",
    "    for x in xs1:\n",
    "        param_dict[p][i_choice, j_choice]=x\n",
    "        out=model(input_ids.to(device), labels=input_ids.to(device))\n",
    "        # losses.append(out.loss.item())\n",
    "\n",
    "        #Loss for just paris token\n",
    "        probs = F.softmax(out.logits.detach().cpu(), dim=-1)\n",
    "        my_loss=-np.log(probs[0, 5, 12366])\n",
    "        losses1.append(my_loss.item())\n",
    "        all_probs_1.append(probs[0, 5, 12366])\n",
    "\n",
    "    param_dict[p][i_choice, j_choice]=og_value\n",
    "\n",
    "plt.plot(xs1, losses1)"
   ]
  },
  {
   "cell_type": "code",
   "execution_count": 32,
   "id": "eecb2699-c1ff-4400-a8e6-51e352b3ef17",
   "metadata": {},
   "outputs": [
    {
     "data": {
      "image/png": "[encoded data removed]",
      "text/plain": [
       "<Figure size 640x480 with 1 Axes>"
      ]
     },
     "metadata": {},
     "output_type": "display_data"
    }
   ],
   "source": [
    "plt.plot(xs1, losses1, color='#ffd35a', linewidth=3)\n",
    "plt.savefig('p24_1.svg')"
   ]
  },
  {
   "cell_type": "code",
   "execution_count": 43,
   "id": "03446f0e-7846-4fcf-87e2-fdfaab1b230e",
   "metadata": {},
   "outputs": [],
   "source": []
  },
  {
   "cell_type": "code",
   "execution_count": null,
   "id": "e0587d3d-9348-41d4-8663-1a2699575198",
   "metadata": {},
   "outputs": [],
   "source": []
  },
  {
   "cell_type": "code",
   "execution_count": null,
   "id": "de454adf-3973-4fef-a16a-0f047682adaf",
   "metadata": {},
   "outputs": [],
   "source": []
  },
  {
   "cell_type": "code",
   "execution_count": 34,
   "id": "5fae6691-dfee-40f3-ad43-e130aa1d09fc",
   "metadata": {},
   "outputs": [
    {
     "data": {
      "text/plain": [
       "array([0.22882706, 0.23044401, 0.2320626 , 0.23368737, 0.23531656,\n",
       "       0.23694478, 0.23857982, 0.24021578, 0.241855  , 0.24349844,\n",
       "       0.24514228, 0.24678978, 0.24844125, 0.25009394, 0.25175095,\n",
       "       0.25340676, 0.255068  , 0.2567303 , 0.25839394, 0.260061  ,\n",
       "       0.26172882, 0.26339695, 0.26506767, 0.26674077, 0.26841503,\n",
       "       0.2700905 , 0.27176636, 0.27344248, 0.27512062, 0.27680013,\n",
       "       0.27848032, 0.28015897, 0.28184107, 0.28352278, 0.2852033 ,\n",
       "       0.2868845 , 0.28856587, 0.29024726, 0.2919291 , 0.29361013,\n",
       "       0.2952898 , 0.29697034, 0.29865035, 0.3003298 , 0.30200648,\n",
       "       0.30368367, 0.30535957, 0.30703646, 0.30870864, 0.31038314,\n",
       "       0.31205454, 0.3137257 , 0.31539124, 0.31706107, 0.3187239 ,\n",
       "       0.3203864 , 0.32204577, 0.3237045 , 0.3253611 , 0.32701612,\n",
       "       0.32866627, 0.33031592, 0.3319589 , 0.33360296, 0.33524325,\n",
       "       0.33688173, 0.33851585, 0.3401473 , 0.34177428, 0.34339893,\n",
       "       0.3450176 , 0.34663743, 0.3482513 , 0.3498611 , 0.351467  ,\n",
       "       0.35306835, 0.35466766, 0.35625947, 0.35784912, 0.35943353,\n",
       "       0.36101532, 0.3625906 , 0.36416224, 0.36573035, 0.36729413,\n",
       "       0.3688491 , 0.3704038 , 0.37194908, 0.3734932 , 0.37502939,\n",
       "       0.3765624 , 0.378088  , 0.3796087 , 0.38112402, 0.38263395,\n",
       "       0.38413802, 0.3856358 , 0.38712892, 0.3886152 , 0.3900964 ,\n",
       "       0.39157125, 0.39303857, 0.39450034, 0.39595672, 0.39740616,\n",
       "       0.39884937, 0.40028417, 0.40171593, 0.40313783, 0.40455565,\n",
       "       0.40596506, 0.4073682 , 0.40876275, 0.41015232, 0.41153404,\n",
       "       0.41290966, 0.41427523, 0.41563553, 0.41698894, 0.41833436,\n",
       "       0.4196739 , 0.4210045 , 0.4223275 , 0.42364204, 0.42495006,\n",
       "       0.42625105, 0.42754254, 0.42882764, 0.43010363, 0.43137136,\n",
       "       0.43263325, 0.4338865 , 0.43513304, 0.43636972, 0.43759885,\n",
       "       0.43881845, 0.4400294 , 0.44123524, 0.44242993, 0.44361588,\n",
       "       0.44479644, 0.44596803, 0.44712844, 0.44828296, 0.44942716,\n",
       "       0.4505622 , 0.45169216, 0.45281002, 0.4539228 , 0.4550243 ,\n",
       "       0.4561153 , 0.45719928, 0.45827493, 0.45934188, 0.4603985 ,\n",
       "       0.46144873, 0.46248785, 0.4635181 , 0.46453863, 0.46555147,\n",
       "       0.46655378, 0.467548  , 0.46853524, 0.4695096 , 0.47047687,\n",
       "       0.47143295, 0.47238344, 0.47332284, 0.47425026, 0.47517088,\n",
       "       0.47608218, 0.4769838 , 0.47787657, 0.47875974, 0.47963133,\n",
       "       0.48049617, 0.4813514 , 0.4821972 , 0.483033  , 0.48385808,\n",
       "       0.4846747 , 0.485483  , 0.48628068, 0.4870662 , 0.48784557,\n",
       "       0.488614  , 0.48937216, 0.49012053, 0.49085936, 0.49159262,\n",
       "       0.49231347, 0.49302337, 0.49372214, 0.49441454, 0.4950967 ,\n",
       "       0.49576935, 0.49643067, 0.4970833 , 0.4977274 , 0.4983596 ,\n",
       "       0.49898058, 0.49959514, 0.5001996 , 0.50079113, 0.50137454,\n",
       "       0.501948  , 0.50251216, 0.5030659 , 0.5036071 , 0.5041403 ,\n",
       "       0.5046646 , 0.505179  , 0.50568223, 0.5061746 , 0.5066594 ,\n",
       "       0.5071331 , 0.50759774, 0.50805205, 0.50849426, 0.50892746,\n",
       "       0.5093512 , 0.5097657 , 0.5101654 , 0.5105585 , 0.510943  ,\n",
       "       0.5113151 , 0.5116765 , 0.51203144, 0.5123729 , 0.51270473,\n",
       "       0.51302683, 0.51334035, 0.5136422 , 0.5139313 , 0.51421344,\n",
       "       0.5144852 , 0.5147441 , 0.5149967 , 0.51523656, 0.5154657 ,\n",
       "       0.51568335, 0.5158921 , 0.51609224, 0.5162815 , 0.51645696,\n",
       "       0.51662606, 0.51678336, 0.51693213, 0.5170681 , 0.51719385,\n",
       "       0.5173092 , 0.51741314, 0.5175097 , 0.5175958 , 0.5176656 ,\n",
       "       0.5177301 , 0.5177831 , 0.5178244 , 0.5178567 , 0.51787764,\n",
       "       0.51788867, 0.51789033, 0.5178791 , 0.5178565 , 0.51782423,\n",
       "       0.51778144, 0.5177283 , 0.5176644 , 0.5175904 , 0.5175062 ,\n",
       "       0.5174075 , 0.51730204, 0.5171831 , 0.5170545 , 0.516916  ,\n",
       "       0.51676726, 0.51660484, 0.51643354, 0.5162497 , 0.51605976,\n",
       "       0.51585346, 0.5156397 , 0.515412  , 0.51517284, 0.5149273 ,\n",
       "       0.5146681 , 0.5143998 , 0.5141183 , 0.51382583, 0.5135206 ,\n",
       "       0.5132059 , 0.512881  , 0.51254344, 0.51219827, 0.5118379 ,\n",
       "       0.51146775, 0.5110885 , 0.5106957 , 0.51029164, 0.50987715,\n",
       "       0.5094509 , 0.5090114 , 0.5085639 , 0.50810623, 0.5076343 ,\n",
       "       0.50715345, 0.5066575 , 0.5061525 , 0.5056363 , 0.50510705,\n",
       "       0.50456995, 0.50401956, 0.50345635, 0.50288427, 0.5023017 ,\n",
       "       0.5017011 , 0.5010964 , 0.50047565, 0.49984604, 0.49920654,\n",
       "       0.49855265, 0.4978852 , 0.4972103 , 0.49652117, 0.49582276,\n",
       "       0.4951119 , 0.49438727, 0.49365503, 0.4929074 , 0.4921523 ,\n",
       "       0.49138245, 0.49060297, 0.4898115 , 0.4890078 , 0.48819354,\n",
       "       0.48736686, 0.4865282 , 0.485683  , 0.48481867, 0.48394656,\n",
       "       0.48306316, 0.48216698, 0.48125887, 0.48034176, 0.47941187,\n",
       "       0.4784709 , 0.4775182 , 0.47655377, 0.4755767 , 0.47458914,\n",
       "       0.47359204, 0.47258133, 0.4715609 , 0.47052783, 0.4694847 ,\n",
       "       0.468431  , 0.4673643 , 0.46628463, 0.4651974 , 0.46409807,\n",
       "       0.46298727, 0.4618629 , 0.46073002, 0.4595866 , 0.45843095,\n",
       "       0.4572643 , 0.45608672, 0.4548994 , 0.45370057, 0.4524922 ,\n",
       "       0.4512711 , 0.45004034, 0.44879785, 0.4475446 , 0.4462836 ,\n",
       "       0.44501105, 0.44372824, 0.44243208, 0.44112855, 0.43981293,\n",
       "       0.4384876 , 0.43715462, 0.43580806, 0.43445268, 0.43308946,\n",
       "       0.43171272, 0.43032897, 0.42893508, 0.42753178, 0.42611656,\n",
       "       0.42469612, 0.42326373, 0.42182243, 0.42037085, 0.4189115 ,\n",
       "       0.41744155, 0.41596603, 0.41447917, 0.4129835 , 0.41147777,\n",
       "       0.40996704, 0.4084474 , 0.4069193 , 0.40538174, 0.40383735,\n",
       "       0.4022817 , 0.40072358, 0.39915305, 0.39757797, 0.39599323,\n",
       "       0.39440042, 0.39280337, 0.39119777, 0.38958427, 0.38796586,\n",
       "       0.38633764, 0.384705  , 0.3830668 , 0.38142082, 0.3797657 ,\n",
       "       0.37810907, 0.37644508, 0.37477615, 0.37310043, 0.37141934,\n",
       "       0.3697323 , 0.3680403 , 0.36634278, 0.36464056, 0.3629325 ,\n",
       "       0.3612209 , 0.3595045 , 0.35778207, 0.35605732, 0.35432714,\n",
       "       0.35259524, 0.35085705, 0.3491136 , 0.3473682 , 0.34562138,\n",
       "       0.3438684 , 0.34211507, 0.3403548 , 0.33859462, 0.3368314 ,\n",
       "       0.33506605, 0.3332987 , 0.33152917, 0.32975566, 0.32798466,\n",
       "       0.3262085 , 0.32443053, 0.32265335, 0.32087338, 0.3190921 ,\n",
       "       0.3173083 , 0.31552586, 0.31374395, 0.31196144, 0.31017777,\n",
       "       0.30839205, 0.3066107 , 0.30482474, 0.3030425 , 0.30125841,\n",
       "       0.29947862, 0.29769677, 0.29591504, 0.2941362 , 0.29235688,\n",
       "       0.29058024, 0.28880662, 0.2870314 , 0.2852614 , 0.28349134,\n",
       "       0.28172666, 0.27996096, 0.27819663, 0.27643737, 0.2746812 ,\n",
       "       0.27292535, 0.27117547, 0.26942378, 0.26767814, 0.2659366 ,\n",
       "       0.2641973 , 0.26246035, 0.2607299 , 0.25900456, 0.25727913,\n",
       "       0.2555591 , 0.25384498, 0.25213447, 0.25042668, 0.24872588,\n",
       "       0.24702838, 0.2453364 , 0.24364881, 0.24196672, 0.24029055,\n",
       "       0.23861904], dtype=float32)"
      ]
     },
     "execution_count": 34,
     "metadata": {},
     "output_type": "execute_result"
    }
   ],
   "source": [
    "np.array(all_probs_1)"
   ]
  },
  {
   "cell_type": "code",
   "execution_count": 37,
   "id": "dfba72ad-72f1-4bf4-80ed-4d651dff0b21",
   "metadata": {},
   "outputs": [
    {
     "data": {
      "text/plain": [
       "(np.int64(1671), np.int64(1788))"
      ]
     },
     "execution_count": 37,
     "metadata": {},
     "output_type": "execute_result"
    }
   ],
   "source": [
    "i_choice, j_choice"
   ]
  },
  {
   "cell_type": "code",
   "execution_count": 32,
   "id": "58308ff7-f108-41b9-a360-b8499714ab79",
   "metadata": {},
   "outputs": [
    {
     "data": {
      "text/plain": [
       "np.float64(1.6030000000000022)"
      ]
     },
     "execution_count": 32,
     "metadata": {},
     "output_type": "execute_result"
    }
   ],
   "source": [
    "xs1[np.argmin(losses1)] #Ok wow yeah that's a nice big move. "
   ]
  },
  {
   "cell_type": "code",
   "execution_count": 33,
   "id": "927a9e4d-aab8-42c1-8a4e-0870f9dec195",
   "metadata": {},
   "outputs": [
    {
     "data": {
      "text/plain": [
       "0.6580110788345337"
      ]
     },
     "execution_count": 33,
     "metadata": {},
     "output_type": "execute_result"
    }
   ],
   "source": [
    "losses[np.argmin(losses1)]"
   ]
  },
  {
   "cell_type": "code",
   "execution_count": 35,
   "id": "ea90492b-972c-4e1d-b1cb-6ada99320ec7",
   "metadata": {},
   "outputs": [
    {
     "data": {
      "text/plain": [
       "0.5178803205490112"
      ]
     },
     "execution_count": 35,
     "metadata": {},
     "output_type": "execute_result"
    }
   ],
   "source": [
    "all_probs[np.argmin(losses1)]"
   ]
  },
  {
   "cell_type": "code",
   "execution_count": 39,
   "id": "98022154-0fc8-4350-bf63-ca70f5d687f2",
   "metadata": {},
   "outputs": [],
   "source": [
    "with torch.no_grad():\n",
    "    param_dict[p][i_choice, j_choice]=xs1[np.argmin(losses1)]  #Make a semi-presistent change here, hopefully this doesn't fuck up my other curve to much. "
   ]
  },
  {
   "cell_type": "code",
   "execution_count": 40,
   "id": "b853ad1e-3809-4d5f-b92a-a32f43757a81",
   "metadata": {},
   "outputs": [
    {
     "data": {
      "text/plain": [
       "1.600000023841858"
      ]
     },
     "execution_count": 40,
     "metadata": {},
     "output_type": "execute_result"
    }
   ],
   "source": [
    "param_dict[p][i_choice, j_choice].item()"
   ]
  },
  {
   "cell_type": "code",
   "execution_count": 41,
   "id": "cffe762d-b183-4a3e-bdbf-d65b81ec4a7d",
   "metadata": {},
   "outputs": [
    {
     "name": "stderr",
     "output_type": "stream",
     "text": [
      "  0%|                                                  | 0/250 [00:00<?, ?it/s]/tmp/ipykernel_42661/1059261437.py:21: DeprecationWarning: __array_wrap__ must accept context and return_scalar arguments (positionally) in the future. (Deprecated NumPy 2.0)\n",
      "  my_loss=-np.log(probs[0, 5, 12366])\n",
      "100%|████████████████████████████████████████| 250/250 [00:06<00:00, 40.19it/s]\n"
     ]
    },
    {
     "data": {
      "image/png": "[encoded data removed]",
      "text/plain": [
       "<Figure size 640x480 with 1 Axes>"
      ]
     },
     "metadata": {},
     "output_type": "display_data"
    }
   ],
   "source": [
    "top_index=12 #75 #55 4 is not terrible\n",
    "n_stds=256\n",
    "i_choice=top_indices[top_index][0]\n",
    "j_choice=top_indices[top_index][1]\n",
    "\n",
    "og_value=param_dict[p][i_choice, j_choice].item()\n",
    "w_std=param_dict[p].detach().cpu().std().item()\n",
    "\n",
    "# xs=np.linspace(og_value-n_stds*w_std, og_value+n_stds*w_std, 255)\n",
    "xs=np.arange(-1, 4, 0.02)\n",
    "model.eval()\n",
    "losses=[]\n",
    "with torch.no_grad():\n",
    "    for x in tqdm(xs):\n",
    "        param_dict[p][i_choice, j_choice]=x\n",
    "        out=model(input_ids.to(device), labels=input_ids.to(device))\n",
    "        # losses.append(out.loss.item())\n",
    "\n",
    "        #Loss for just paris token\n",
    "        probs = F.softmax(out.logits.detach().cpu(), dim=-1)\n",
    "        my_loss=-np.log(probs[0, 5, 12366])\n",
    "        losses.append(my_loss.item())\n",
    "\n",
    "    param_dict[p][i_choice, j_choice]=og_value\n",
    "\n",
    "plt.plot(xs, losses); plt.grid(1)"
   ]
  },
  {
   "cell_type": "code",
   "execution_count": 62,
   "id": "e588b2aa-3c37-46e2-b388-51e68376f43b",
   "metadata": {},
   "outputs": [
    {
     "data": {
      "image/png": "[encoded data removed]",
      "text/plain": [
       "<Figure size 640x480 with 1 Axes>"
      ]
     },
     "metadata": {},
     "output_type": "display_data"
    }
   ],
   "source": [
    "plt.plot(xs, losses, color='#00ffff', linewidth=4);\n",
    "plt.savefig('p24_2.svg')"
   ]
  },
  {
   "cell_type": "code",
   "execution_count": 43,
   "id": "62994e24-3af5-484d-b215-6467e05f7a0d",
   "metadata": {},
   "outputs": [
    {
     "data": {
      "text/plain": [
       "(np.int64(1671), np.int64(1788))"
      ]
     },
     "execution_count": 43,
     "metadata": {},
     "output_type": "execute_result"
    }
   ],
   "source": [
    "i_choice, j_choice"
   ]
  },
  {
   "cell_type": "code",
   "execution_count": 44,
   "id": "51702b3d-2fee-45de-8129-d9b789588123",
   "metadata": {},
   "outputs": [
    {
     "data": {
      "text/plain": [
       "np.float64(1.7400000000000024)"
      ]
     },
     "execution_count": 44,
     "metadata": {},
     "output_type": "execute_result"
    }
   ],
   "source": [
    "xs[np.argmin(losses)]"
   ]
  },
  {
   "cell_type": "code",
   "execution_count": 45,
   "id": "db268ece-88e4-429d-b2b2-bbc7cfea57cf",
   "metadata": {},
   "outputs": [],
   "source": [
    "with torch.no_grad():\n",
    "    param_dict[p][i_choice, j_choice]=xs[np.argmin(losses)]"
   ]
  },
  {
   "cell_type": "code",
   "execution_count": 46,
   "id": "0ce934ce-657e-48e0-ba3f-bef8c8617e1c",
   "metadata": {},
   "outputs": [
    {
     "data": {
      "text/plain": [
       "tensor(1.7400, device='cuda:0', grad_fn=<SelectBackward0>)"
      ]
     },
     "execution_count": 46,
     "metadata": {},
     "output_type": "execute_result"
    }
   ],
   "source": [
    "param_dict[p][i_choice, j_choice]"
   ]
  },
  {
   "cell_type": "code",
   "execution_count": 47,
   "id": "fd6fae29-bb4e-492e-be1f-ac0f20326632",
   "metadata": {},
   "outputs": [
    {
     "name": "stderr",
     "output_type": "stream",
     "text": [
      "/tmp/ipykernel_42661/1753904747.py:22: DeprecationWarning: __array_wrap__ must accept context and return_scalar arguments (positionally) in the future. (Deprecated NumPy 2.0)\n",
      "  my_loss=-np.log(probs[0, 5, 12366])\n"
     ]
    },
    {
     "data": {
      "text/plain": [
       "[<matplotlib.lines.Line2D at 0x780c1f5539d0>]"
      ]
     },
     "execution_count": 47,
     "metadata": {},
     "output_type": "execute_result"
    },
    {
     "data": {
      "image/png": "[encoded data removed]",
      "text/plain": [
       "<Figure size 640x480 with 1 Axes>"
      ]
     },
     "metadata": {},
     "output_type": "display_data"
    }
   ],
   "source": [
    "#Back to first variable\n",
    "top_index=10 #55\n",
    "n_stds=256\n",
    "i_choice=top_indices[top_index][0]\n",
    "j_choice=top_indices[top_index][1]\n",
    "\n",
    "og_value=param_dict[p][i_choice, j_choice].item()\n",
    "w_std=param_dict[p].detach().cpu().std().item()\n",
    "\n",
    "# xs2=np.linspace(og_value-n_stds*w_std, og_value+n_stds*w_std, 255)\n",
    "xs2=np.arange(-1, 4, 0.02)\n",
    "model.eval()\n",
    "losses2=[]\n",
    "with torch.no_grad():\n",
    "    for x in xs2:\n",
    "        param_dict[p][i_choice, j_choice]=x\n",
    "        out=model(input_ids.to(device), labels=input_ids.to(device))\n",
    "        # losses.append(out.loss.item())\n",
    "\n",
    "        #Loss for just paris token\n",
    "        probs = F.softmax(out.logits.detach().cpu(), dim=-1)\n",
    "        my_loss=-np.log(probs[0, 5, 12366])\n",
    "        losses2.append(my_loss.item())\n",
    "\n",
    "    param_dict[p][i_choice, j_choice]=og_value\n",
    "\n",
    "plt.plot(xs1, losses1)\n",
    "plt.plot(xs2, losses2)"
   ]
  },
  {
   "cell_type": "markdown",
   "id": "66f5558a-8bc9-4330-bdcf-87f3eea0c82c",
   "metadata": {},
   "source": [
    "- Ok so great that this is working! I wish these were a little more different - let me noodle a little.\n",
    "- Ok indices 0 and 4 are not terrible together, i would like a wider shift if I can have one. "
   ]
  },
  {
   "cell_type": "code",
   "execution_count": 61,
   "id": "4c242646-ca62-4861-98b4-0950d3195c52",
   "metadata": {},
   "outputs": [
    {
     "data": {
      "image/png": "[encoded data removed]",
      "text/plain": [
       "<Figure size 640x480 with 1 Axes>"
      ]
     },
     "metadata": {},
     "output_type": "display_data"
    }
   ],
   "source": [
    "plt.plot(xs1, losses1, c='#ffd35a', linewidth=4, alpha=0.5)\n",
    "plt.plot(xs2, losses2, c='#ffd35a', linewidth=4)\n",
    "plt.savefig('p24_3.svg')"
   ]
  },
  {
   "cell_type": "code",
   "execution_count": 48,
   "id": "0eae4191-c0a5-44f6-b93a-60f720f94121",
   "metadata": {},
   "outputs": [
    {
     "data": {
      "text/plain": [
       "np.float64(1.1200000000000019)"
      ]
     },
     "execution_count": 48,
     "metadata": {},
     "output_type": "execute_result"
    }
   ],
   "source": [
    "xs2[np.argmin(losses2)]"
   ]
  },
  {
   "cell_type": "code",
   "execution_count": null,
   "id": "c09ae935-c9b6-42d4-90de-eb793a2eb67d",
   "metadata": {},
   "outputs": [],
   "source": []
  },
  {
   "cell_type": "code",
   "execution_count": null,
   "id": "f1370bf0-7fed-4a33-928d-20aba29edbee",
   "metadata": {},
   "outputs": [],
   "source": []
  },
  {
   "cell_type": "code",
   "execution_count": null,
   "id": "a8cc3232-daf6-480f-83df-37926409731f",
   "metadata": {},
   "outputs": [],
   "source": []
  },
  {
   "cell_type": "code",
   "execution_count": null,
   "id": "d8e37731-f734-4dbf-a9b7-0ac1e06e8797",
   "metadata": {},
   "outputs": [],
   "source": []
  },
  {
   "cell_type": "code",
   "execution_count": null,
   "id": "3ae6fb55-cfdd-42b7-b785-ad8acfc27262",
   "metadata": {},
   "outputs": [],
   "source": []
  },
  {
   "cell_type": "code",
   "execution_count": null,
   "id": "36eb4637-a756-42ee-8afd-373bb472aece",
   "metadata": {},
   "outputs": [],
   "source": []
  },
  {
   "cell_type": "code",
   "execution_count": null,
   "id": "8add87b9-9d6e-4c6f-884f-108290d458d9",
   "metadata": {},
   "outputs": [],
   "source": []
  },
  {
   "cell_type": "markdown",
   "id": "1b5469ea-f79d-4e4d-8e9d-0dd2f93e5ae6",
   "metadata": {},
   "source": [
    "---"
   ]
  },
  {
   "cell_type": "code",
   "execution_count": null,
   "id": "35c0ae96-56af-4a38-8b16-6bd8e6ca92bf",
   "metadata": {},
   "outputs": [],
   "source": [
    "out.logits.shape"
   ]
  },
  {
   "cell_type": "code",
   "execution_count": null,
   "id": "8eccc02c-5639-4c5b-950b-78c02ce1229c",
   "metadata": {},
   "outputs": [],
   "source": [
    "with torch.no_grad():\n",
    "    out=model(input_ids.to(device))\n",
    "probs = F.softmax(out.logits.detach().cpu(), dim=-1)\n",
    "my_loss=-np.log(probs[0, 5, 12366].item())"
   ]
  },
  {
   "cell_type": "code",
   "execution_count": null,
   "id": "3573cd2f-1735-4351-8c33-0a8a277b176b",
   "metadata": {},
   "outputs": [],
   "source": [
    "my_loss"
   ]
  },
  {
   "cell_type": "code",
   "execution_count": null,
   "id": "4a79bbc1-9f49-44fa-a779-2075f32bb8c2",
   "metadata": {},
   "outputs": [],
   "source": [
    "i_choice, j_choice, p, og_value"
   ]
  },
  {
   "cell_type": "code",
   "execution_count": null,
   "id": "55e178cb-2b0a-4315-879c-0db98d87f350",
   "metadata": {},
   "outputs": [],
   "source": []
  },
  {
   "cell_type": "code",
   "execution_count": null,
   "id": "ea33f2ac-8355-4fd9-bd3b-b28846e88f7f",
   "metadata": {},
   "outputs": [],
   "source": [
    "for top_index in range(100):\n",
    "    i_choice=top_indices[top_index][0]\n",
    "    j_choice=top_indices[top_index][1]\n",
    "    \n",
    "    og_value=param_dict[p][i_choice, j_choice].item()\n",
    "    print(top_index, i_choice, j_choice, og_value)"
   ]
  },
  {
   "cell_type": "code",
   "execution_count": null,
   "id": "c35b603d-e36d-4892-9234-ed5e2cc1b28a",
   "metadata": {},
   "outputs": [],
   "source": []
  },
  {
   "cell_type": "code",
   "execution_count": null,
   "id": "5db18d61-6784-4e90-8985-0a0822c230fe",
   "metadata": {},
   "outputs": [],
   "source": []
  }
 ],
 "metadata": {
  "kernelspec": {
   "display_name": "Python 3 (ipykernel)",
   "language": "python",
   "name": "python3"
  },
  "language_info": {
   "codemirror_mode": {
    "name": "ipython",
    "version": 3
   },
   "file_extension": ".py",
   "mimetype": "text/x-python",
   "name": "python",
   "nbconvert_exporter": "python",
   "pygments_lexer": "ipython3",
   "version": "3.11.7"
  }
 },
 "nbformat": 4,
 "nbformat_minor": 5
}
