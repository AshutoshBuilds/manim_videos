{
 "cells": [
  {
   "cell_type": "markdown",
   "id": "b87c12e5-7f9b-4d19-9d9f-2d41b6385b2d",
   "metadata": {},
   "source": [
    "## Cat Classification with CLIP Example"
   ]
  },
  {
   "cell_type": "code",
   "execution_count": 9,
   "id": "b2b7d8b6-fd01-4af2-bb91-491adc21c742",
   "metadata": {},
   "outputs": [],
   "source": [
    "import torch\n",
    "from PIL import Image\n",
    "import requests\n",
    "from transformers import AutoProcessor, CLIPModel\n",
    "import matplotlib.pyplot as plt\n",
    "import numpy as np\n",
    "from tqdm import tqdm"
   ]
  },
  {
   "cell_type": "code",
   "execution_count": 10,
   "id": "58d99643-6321-4ac3-be69-6cc1fdf6512b",
   "metadata": {},
   "outputs": [],
   "source": [
    "device='cuda'"
   ]
  },
  {
   "cell_type": "code",
   "execution_count": 11,
   "id": "f71b87b0-9164-4b26-9df6-19a6a1d0e3c5",
   "metadata": {},
   "outputs": [],
   "source": [
    "model = CLIPModel.from_pretrained(\"openai/clip-vit-base-patch32\").to(device)\n",
    "processor = AutoProcessor.from_pretrained(\"openai/clip-vit-base-patch32\")"
   ]
  },
  {
   "cell_type": "code",
   "execution_count": 12,
   "id": "29e6ba6b-c812-4df0-b29b-ebc52729ed48",
   "metadata": {},
   "outputs": [],
   "source": [
    "def get_common_objects_and_concepts():\n",
    "    \"\"\"Curated list of common objects, animals, concepts, emotions, etc.\"\"\"\n",
    "    categories = {\n",
    "        'objects': [\n",
    "            'chair', 'table', 'car', 'bicycle', 'bottle', 'cup', 'fork', 'knife', 'spoon',\n",
    "            'bowl', 'banana', 'apple', 'sandwich', 'orange', 'broccoli', 'carrot', 'pizza',\n",
    "            'donut', 'cake', 'bed', 'toilet', 'laptop', 'mouse', 'remote', 'keyboard',\n",
    "            'cell phone', 'book', 'clock', 'scissors', 'teddy bear', 'hair dryer',\n",
    "            'toothbrush', 'umbrella', 'handbag', 'tie', 'suitcase', 'frisbee', 'skis',\n",
    "            'snowboard', 'sports ball', 'kite', 'baseball bat', 'baseball glove',\n",
    "            'skateboard', 'surfboard', 'tennis racket', 'man', 'woman'\n",
    "        ],\n",
    "        'animals': [\n",
    "            'person', 'cat', 'dog', 'horse', 'sheep', 'cow', 'elephant', 'bear', 'zebra',\n",
    "            'giraffe', 'bird', 'chicken', 'duck', 'eagle', 'owl', 'fish', 'shark', 'whale',\n",
    "            'dolphin', 'turtle', 'frog', 'snake', 'spider', 'bee', 'butterfly', 'lion',\n",
    "            'tiger', 'fox', 'wolf', 'rabbit', 'hamster', 'mouse', 'rat'\n",
    "        ],\n",
    "        'clothing': [\n",
    "            'hat', 'cap', 'helmet', 'glasses', 'sunglasses', 'shirt', 't-shirt', 'sweater',\n",
    "            'jacket', 'coat', 'dress', 'skirt', 'pants', 'jeans', 'shorts', 'shoes',\n",
    "            'sneakers', 'boots', 'sandals', 'socks', 'tie', 'scarf', 'gloves', 'belt',\n",
    "            'watch', 'ring', 'necklace', 'earrings', 'bracelet'\n",
    "        ],\n",
    "        'emotions': [\n",
    "            'happy', 'sad', 'angry', 'surprised', 'excited', 'calm', 'peaceful', 'joyful',\n",
    "            'melancholy', 'nostalgic', 'anxious', 'confident', 'mysterious', 'dramatic',\n",
    "            'romantic', 'energetic', 'serene', 'tense', 'playful', 'serious'\n",
    "        ],\n",
    "        'abstract_concepts': [\n",
    "            'freedom', 'justice', 'peace', 'war', 'love', 'hate', 'beauty', 'ugliness',\n",
    "            'truth', 'lie', 'innovation', 'tradition', 'progress', 'chaos', 'order',\n",
    "            'simplicity', 'complexity', 'elegance', 'roughness', 'sophistication'\n",
    "        ],\n",
    "        'colors': [\n",
    "            'red', 'blue', 'green', 'yellow', 'orange', 'purple', 'pink', 'brown',\n",
    "            'black', 'white', 'gray', 'silver', 'gold', 'cyan', 'magenta', 'lime',\n",
    "            'navy', 'maroon', 'olive', 'aqua'\n",
    "        ],\n",
    "        'styles': [\n",
    "            'modern', 'vintage', 'classic', 'contemporary', 'abstract', 'realistic',\n",
    "            'minimalist', 'ornate', 'rustic', 'elegant', 'casual', 'formal', 'artistic',\n",
    "            'professional', 'creative', 'traditional', 'futuristic', 'retro'\n",
    "        ],\n",
    "        'activities': [\n",
    "            'running', 'walking', 'jumping', 'dancing', 'singing', 'reading', 'writing',\n",
    "            'cooking', 'eating', 'sleeping', 'working', 'playing', 'studying', 'exercising',\n",
    "            'swimming', 'flying', 'driving', 'riding', 'climbing', 'surfing'\n",
    "        ]\n",
    "    }\n",
    "    \n",
    "    # Flatten all categories\n",
    "    all_concepts = []\n",
    "    for category, items in categories.items():\n",
    "        if category == \"objects\":\n",
    "            items = ['A photo of a ' + w for w in items]\n",
    "        all_concepts.extend(items)\n",
    "    \n",
    "    return all_concepts, categories"
   ]
  },
  {
   "cell_type": "code",
   "execution_count": 13,
   "id": "baca61a9-f18b-4e34-92ae-70d116b20ff8",
   "metadata": {},
   "outputs": [],
   "source": [
    "words, categories=get_common_objects_and_concepts()"
   ]
  },
  {
   "cell_type": "code",
   "execution_count": 19,
   "id": "4577d797-bfdf-4677-89d5-7d1a17011a31",
   "metadata": {},
   "outputs": [],
   "source": [
    "image = Image.open('n02123045_1955.jpg')\n",
    "\n",
    "inputs = processor(images=image, return_tensors=\"pt\").to(device)\n",
    "with torch.no_grad():\n",
    "    image_features = model.get_image_features(**inputs)\n",
    "    # Normalize the embeddings\n",
    "    image_features = image_features / image_features.norm(dim=-1, keepdim=True)"
   ]
  },
  {
   "cell_type": "code",
   "execution_count": 20,
   "id": "0cd58f40-6297-4f0d-b58d-d45243c0be23",
   "metadata": {},
   "outputs": [],
   "source": [
    "all_text_features=[]\n",
    "for i, word in enumerate(words):\n",
    "    inputs=processor(text='A photo of a '+ word, return_tensors=\"pt\", padding=True).to(device)\n",
    "    with torch.no_grad():\n",
    "        text_features = model.get_text_features(**inputs)\n",
    "        text_features = text_features / text_features.norm(dim=-1, keepdim=True)\n",
    "        all_text_features.append(text_features)\n",
    "all_text_features=torch.concat(all_text_features)"
   ]
  },
  {
   "cell_type": "code",
   "execution_count": 21,
   "id": "cb433a3a-d0c9-484f-9724-0e549905c297",
   "metadata": {},
   "outputs": [
    {
     "data": {
      "text/plain": [
       "torch.Size([208, 512])"
      ]
     },
     "execution_count": 21,
     "metadata": {},
     "output_type": "execute_result"
    }
   ],
   "source": [
    "all_text_features.shape"
   ]
  },
  {
   "cell_type": "code",
   "execution_count": 22,
   "id": "4afb5676-b370-4408-9ca8-4a288aa761cd",
   "metadata": {},
   "outputs": [],
   "source": [
    "similarities = torch.cosine_similarity(image_features, all_text_features, dim=1)"
   ]
  },
  {
   "cell_type": "code",
   "execution_count": 23,
   "id": "6d72ea5b-b3f3-40b9-8d1f-06132f58a3cf",
   "metadata": {},
   "outputs": [
    {
     "data": {
      "text/plain": [
       "torch.Size([208])"
      ]
     },
     "execution_count": 23,
     "metadata": {},
     "output_type": "execute_result"
    }
   ],
   "source": [
    "similarities.shape"
   ]
  },
  {
   "cell_type": "code",
   "execution_count": 24,
   "id": "68f4fc03-110e-48ae-abd0-56855395ae19",
   "metadata": {},
   "outputs": [
    {
     "data": {
      "text/plain": [
       "[{'text': 'cat', 'similarity': 0.2783862054347992},\n",
       " {'text': 'olive', 'similarity': 0.2613104581832886},\n",
       " {'text': 'gray', 'similarity': 0.2560223340988159},\n",
       " {'text': 'surprised', 'similarity': 0.2504279315471649},\n",
       " {'text': 'black', 'similarity': 0.2491314709186554},\n",
       " {'text': 'serious', 'similarity': 0.24542485177516937},\n",
       " {'text': 'cyan', 'similarity': 0.24468094110488892},\n",
       " {'text': 'angry', 'similarity': 0.24427530169487},\n",
       " {'text': 'elegant', 'similarity': 0.2428973913192749},\n",
       " {'text': 'white', 'similarity': 0.24277672171592712},\n",
       " {'text': 'tiger', 'similarity': 0.23955842852592468},\n",
       " {'text': 'green', 'similarity': 0.23955202102661133},\n",
       " {'text': 'maroon', 'similarity': 0.23935534060001373},\n",
       " {'text': 'beauty', 'similarity': 0.23908817768096924},\n",
       " {'text': 'magenta', 'similarity': 0.23754103481769562},\n",
       " {'text': 'brown', 'similarity': 0.23747514188289642},\n",
       " {'text': 'socks', 'similarity': 0.23531195521354675},\n",
       " {'text': 'mouse', 'similarity': 0.23520846664905548},\n",
       " {'text': 'energetic', 'similarity': 0.23483285307884216},\n",
       " {'text': 'boots', 'similarity': 0.23442256450653076},\n",
       " {'text': 'sophistication', 'similarity': 0.2337525188922882},\n",
       " {'text': 'silver', 'similarity': 0.23364076018333435},\n",
       " {'text': 'aqua', 'similarity': 0.23281210660934448},\n",
       " {'text': 'yellow', 'similarity': 0.2316536009311676},\n",
       " {'text': 'confident', 'similarity': 0.23090696334838867},\n",
       " {'text': 'tense', 'similarity': 0.2305707335472107},\n",
       " {'text': 'pink', 'similarity': 0.23040209710597992},\n",
       " {'text': 'playful', 'similarity': 0.23029395937919617},\n",
       " {'text': 'contemporary', 'similarity': 0.22984954714775085},\n",
       " {'text': 'person', 'similarity': 0.2292843461036682},\n",
       " {'text': 'mysterious', 'similarity': 0.22868511080741882},\n",
       " {'text': 'melancholy', 'similarity': 0.2286553680896759},\n",
       " {'text': 'anxious', 'similarity': 0.22820250689983368},\n",
       " {'text': 'artistic', 'similarity': 0.22801607847213745},\n",
       " {'text': 'modern', 'similarity': 0.2277725636959076},\n",
       " {'text': 'rustic', 'similarity': 0.2276473343372345},\n",
       " {'text': 'realistic', 'similarity': 0.2273467481136322},\n",
       " {'text': 'calm', 'similarity': 0.2269696295261383},\n",
       " {'text': 'order', 'similarity': 0.2260388284921646},\n",
       " {'text': 'serene', 'similarity': 0.2258477360010147},\n",
       " {'text': 'ornate', 'similarity': 0.22501829266548157},\n",
       " {'text': 'professional', 'similarity': 0.22498798370361328},\n",
       " {'text': 'purple', 'similarity': 0.22475117444992065},\n",
       " {'text': 'lime', 'similarity': 0.22381086647510529},\n",
       " {'text': 'casual', 'similarity': 0.22304287552833557},\n",
       " {'text': 'hate', 'similarity': 0.2229343056678772},\n",
       " {'text': 'rat', 'similarity': 0.22281545400619507},\n",
       " {'text': 'dramatic', 'similarity': 0.2227661907672882},\n",
       " {'text': 'orange', 'similarity': 0.22236022353172302},\n",
       " {'text': 'blue', 'similarity': 0.22223332524299622},\n",
       " {'text': 'sad', 'similarity': 0.2220361828804016},\n",
       " {'text': 'necklace', 'similarity': 0.22178848087787628},\n",
       " {'text': 'red', 'similarity': 0.22142952680587769},\n",
       " {'text': 'sneakers', 'similarity': 0.2213522344827652},\n",
       " {'text': 'dog', 'similarity': 0.22083759307861328},\n",
       " {'text': 'traditional', 'similarity': 0.22031331062316895},\n",
       " {'text': 'retro', 'similarity': 0.22023534774780273},\n",
       " {'text': 'rabbit', 'similarity': 0.21997985243797302},\n",
       " {'text': 'elegance', 'similarity': 0.21973907947540283},\n",
       " {'text': 'justice', 'similarity': 0.21931715309619904},\n",
       " {'text': 'happy', 'similarity': 0.21906086802482605},\n",
       " {'text': 'peaceful', 'similarity': 0.21900799870491028},\n",
       " {'text': 'gold', 'similarity': 0.2181806117296219},\n",
       " {'text': 'abstract', 'similarity': 0.21811780333518982},\n",
       " {'text': 'cap', 'similarity': 0.2162446528673172},\n",
       " {'text': 'tie', 'similarity': 0.2161935567855835},\n",
       " {'text': 'simplicity', 'similarity': 0.21592669188976288},\n",
       " {'text': 'sweater', 'similarity': 0.21580779552459717},\n",
       " {'text': 'singing', 'similarity': 0.21570760011672974},\n",
       " {'text': 't-shirt', 'similarity': 0.215627059340477},\n",
       " {'text': 'complexity', 'similarity': 0.21551039814949036},\n",
       " {'text': 'studying', 'similarity': 0.215462327003479},\n",
       " {'text': 'owl', 'similarity': 0.21527116000652313},\n",
       " {'text': 'A photo of a mouse', 'similarity': 0.21514493227005005},\n",
       " {'text': 'scarf', 'similarity': 0.2149558961391449},\n",
       " {'text': 'formal', 'similarity': 0.21432718634605408},\n",
       " {'text': 'lion', 'similarity': 0.2142443060874939},\n",
       " {'text': 'excited', 'similarity': 0.21403735876083374},\n",
       " {'text': 'climbing', 'similarity': 0.21333830058574677},\n",
       " {'text': 'earrings', 'similarity': 0.21328029036521912},\n",
       " {'text': 'joyful', 'similarity': 0.2131786048412323},\n",
       " {'text': 'glasses', 'similarity': 0.21304944157600403},\n",
       " {'text': 'roughness', 'similarity': 0.21217571198940277},\n",
       " {'text': 'jeans', 'similarity': 0.21198885142803192},\n",
       " {'text': 'vintage', 'similarity': 0.21140259504318237},\n",
       " {'text': 'minimalist', 'similarity': 0.2111334204673767},\n",
       " {'text': 'love', 'similarity': 0.2110474407672882},\n",
       " {'text': 'lie', 'similarity': 0.2107011079788208},\n",
       " {'text': 'helmet', 'similarity': 0.20993253588676453},\n",
       " {'text': 'fish', 'similarity': 0.20983457565307617},\n",
       " {'text': 'peace', 'similarity': 0.20971928536891937},\n",
       " {'text': 'eating', 'similarity': 0.20926907658576965},\n",
       " {'text': 'coat', 'similarity': 0.20810410380363464},\n",
       " {'text': 'classic', 'similarity': 0.20752158761024475},\n",
       " {'text': 'bee', 'similarity': 0.2074803113937378},\n",
       " {'text': 'A photo of a bowl', 'similarity': 0.20727655291557312},\n",
       " {'text': 'romantic', 'similarity': 0.2072523534297943},\n",
       " {'text': 'navy', 'similarity': 0.2072405219078064},\n",
       " {'text': 'spider', 'similarity': 0.2071772813796997},\n",
       " {'text': 'ugliness', 'similarity': 0.20714962482452393}]"
      ]
     },
     "execution_count": 24,
     "metadata": {},
     "output_type": "execute_result"
    }
   ],
   "source": [
    "top_k=100\n",
    "top_k_indices = similarities.argsort(descending=True)[:top_k]\n",
    "\n",
    "results = []\n",
    "for idx in top_k_indices:\n",
    "    results.append({\n",
    "        'text': words[idx],\n",
    "        'similarity': similarities[idx].item()\n",
    "    })\n",
    "results"
   ]
  },
  {
   "cell_type": "code",
   "execution_count": null,
   "id": "8b8311d3-269e-4c2b-8761-4453303f5856",
   "metadata": {},
   "outputs": [],
   "source": []
  },
  {
   "cell_type": "code",
   "execution_count": null,
   "id": "e6ca6d31-72de-4ed2-9a4e-9a1896df8454",
   "metadata": {},
   "outputs": [],
   "source": []
  },
  {
   "cell_type": "code",
   "execution_count": null,
   "id": "f77e132c-8897-4b1f-b3c8-2d7291ee353c",
   "metadata": {},
   "outputs": [],
   "source": []
  },
  {
   "cell_type": "code",
   "execution_count": null,
   "id": "0acadf61-0c5f-4772-8fab-055d83fb5ba0",
   "metadata": {},
   "outputs": [],
   "source": []
  },
  {
   "cell_type": "code",
   "execution_count": null,
   "id": "4b09517f-d74a-4d47-bcc6-b7d09e1185c3",
   "metadata": {},
   "outputs": [],
   "source": []
  }
 ],
 "metadata": {
  "kernelspec": {
   "display_name": "Python 3 (ipykernel)",
   "language": "python",
   "name": "python3"
  },
  "language_info": {
   "codemirror_mode": {
    "name": "ipython",
    "version": 3
   },
   "file_extension": ".py",
   "mimetype": "text/x-python",
   "name": "python",
   "nbconvert_exporter": "python",
   "pygments_lexer": "ipython3",
   "version": "3.11.11"
  }
 },
 "nbformat": 4,
 "nbformat_minor": 5
}
