{
 "cells": [
  {
   "cell_type": "markdown",
   "id": "35b9c017-86fb-4858-b558-19b4f1b2de10",
   "metadata": {},
   "source": [
    "## I can has CLIPS?"
   ]
  },
  {
   "cell_type": "code",
   "execution_count": 1,
   "id": "d201feab-eff9-46f3-b5db-0c805af9639f",
   "metadata": {},
   "outputs": [],
   "source": [
    "import torch\n",
    "from PIL import Image\n",
    "import requests\n",
    "from transformers import AutoProcessor, CLIPModel\n",
    "import matplotlib.pyplot as plt\n",
    "import numpy as np\n",
    "from tqdm import tqdm"
   ]
  },
  {
   "cell_type": "code",
   "execution_count": 2,
   "id": "d2ff2763-f8f8-42d2-819a-dd343b26ea9c",
   "metadata": {},
   "outputs": [],
   "source": [
    "device='cuda'"
   ]
  },
  {
   "cell_type": "code",
   "execution_count": 3,
   "id": "b0f016cf-c741-41b6-a94a-3f3031af8a72",
   "metadata": {},
   "outputs": [],
   "source": [
    "model = CLIPModel.from_pretrained(\"openai/clip-vit-base-patch32\").to(device)\n",
    "processor = AutoProcessor.from_pretrained(\"openai/clip-vit-base-patch32\")"
   ]
  },
  {
   "cell_type": "code",
   "execution_count": 4,
   "id": "ed2f7990-707c-435c-99d7-70dab333b109",
   "metadata": {},
   "outputs": [],
   "source": [
    "def get_nltk_words():\n",
    "    \"\"\"Get English words from NLTK corpus\"\"\"\n",
    "    try:\n",
    "        import nltk\n",
    "        nltk.download('words', quiet=True)\n",
    "        from nltk.corpus import words\n",
    "        \n",
    "        word_list = words.words()\n",
    "        # Filter for reasonable length and common words\n",
    "        filtered_words = [word.lower() for word in word_list \n",
    "                         if 3 <= len(word) <= 15 and word.isalpha()]\n",
    "        return list(set(filtered_words))  # Remove duplicates\n",
    "    except ImportError:\n",
    "        print(\"NLTK not available, trying alternative...\")\n",
    "        return None\n",
    "\n",
    "def get_imagenet_classes():\n",
    "    \"\"\"Get ImageNet-1k class names\"\"\"\n",
    "    url = \"https://raw.githubusercontent.com/pytorch/hub/master/imagenet_classes.txt\"\n",
    "    response = requests.get(url)\n",
    "    classes = response.text.strip().split('\\n')\n",
    "    return classes\n",
    "\n",
    "# Option 2: CLIP's training vocabulary approximation\n",
    "def get_common_objects_and_concepts():\n",
    "    \"\"\"Curated list of common objects, animals, concepts, emotions, etc.\"\"\"\n",
    "    categories = {\n",
    "        'objects': [\n",
    "            'chair', 'table', 'car', 'bicycle', 'bottle', 'cup', 'fork', 'knife', 'spoon',\n",
    "            'bowl', 'banana', 'apple', 'sandwich', 'orange', 'broccoli', 'carrot', 'pizza',\n",
    "            'donut', 'cake', 'bed', 'toilet', 'laptop', 'mouse', 'remote', 'keyboard',\n",
    "            'cell phone', 'book', 'clock', 'scissors', 'teddy bear', 'hair dryer',\n",
    "            'toothbrush', 'umbrella', 'handbag', 'tie', 'suitcase', 'frisbee', 'skis',\n",
    "            'snowboard', 'sports ball', 'kite', 'baseball bat', 'baseball glove',\n",
    "            'skateboard', 'surfboard', 'tennis racket', 'man', 'woman'\n",
    "        ],\n",
    "        'animals': [\n",
    "            'person', 'cat', 'dog', 'horse', 'sheep', 'cow', 'elephant', 'bear', 'zebra',\n",
    "            'giraffe', 'bird', 'chicken', 'duck', 'eagle', 'owl', 'fish', 'shark', 'whale',\n",
    "            'dolphin', 'turtle', 'frog', 'snake', 'spider', 'bee', 'butterfly', 'lion',\n",
    "            'tiger', 'fox', 'wolf', 'rabbit', 'hamster', 'mouse', 'rat'\n",
    "        ],\n",
    "        'clothing': [\n",
    "            'hat', 'cap', 'helmet', 'glasses', 'sunglasses', 'shirt', 't-shirt', 'sweater',\n",
    "            'jacket', 'coat', 'dress', 'skirt', 'pants', 'jeans', 'shorts', 'shoes',\n",
    "            'sneakers', 'boots', 'sandals', 'socks', 'tie', 'scarf', 'gloves', 'belt',\n",
    "            'watch', 'ring', 'necklace', 'earrings', 'bracelet'\n",
    "        ],\n",
    "        'emotions': [\n",
    "            'happy', 'sad', 'angry', 'surprised', 'excited', 'calm', 'peaceful', 'joyful',\n",
    "            'melancholy', 'nostalgic', 'anxious', 'confident', 'mysterious', 'dramatic',\n",
    "            'romantic', 'energetic', 'serene', 'tense', 'playful', 'serious'\n",
    "        ],\n",
    "        'abstract_concepts': [\n",
    "            'freedom', 'justice', 'peace', 'war', 'love', 'hate', 'beauty', 'ugliness',\n",
    "            'truth', 'lie', 'innovation', 'tradition', 'progress', 'chaos', 'order',\n",
    "            'simplicity', 'complexity', 'elegance', 'roughness', 'sophistication'\n",
    "        ],\n",
    "        'colors': [\n",
    "            'red', 'blue', 'green', 'yellow', 'orange', 'purple', 'pink', 'brown',\n",
    "            'black', 'white', 'gray', 'silver', 'gold', 'cyan', 'magenta', 'lime',\n",
    "            'navy', 'maroon', 'olive', 'aqua'\n",
    "        ],\n",
    "        'styles': [\n",
    "            'modern', 'vintage', 'classic', 'contemporary', 'abstract', 'realistic',\n",
    "            'minimalist', 'ornate', 'rustic', 'elegant', 'casual', 'formal', 'artistic',\n",
    "            'professional', 'creative', 'traditional', 'futuristic', 'retro'\n",
    "        ],\n",
    "        'activities': [\n",
    "            'running', 'walking', 'jumping', 'dancing', 'singing', 'reading', 'writing',\n",
    "            'cooking', 'eating', 'sleeping', 'working', 'playing', 'studying', 'exercising',\n",
    "            'swimming', 'flying', 'driving', 'riding', 'climbing', 'surfing'\n",
    "        ]\n",
    "    }\n",
    "    \n",
    "    # Flatten all categories\n",
    "    all_concepts = []\n",
    "    for category, items in categories.items():\n",
    "        if category == \"objects\":\n",
    "            items = ['A photo of a ' + w for w in items]\n",
    "        all_concepts.extend(items)\n",
    "    \n",
    "    return all_concepts, categories"
   ]
  },
  {
   "cell_type": "code",
   "execution_count": 5,
   "id": "fedd2c31-c132-4837-9d50-435e94a08c8b",
   "metadata": {},
   "outputs": [],
   "source": [
    "# words=get_nltk_words()\n",
    "words, categories=get_common_objects_and_concepts()\n",
    "# words=get_imagenet_classes()"
   ]
  },
  {
   "cell_type": "code",
   "execution_count": 6,
   "id": "ae6bf3cf-fb35-48e3-8601-ea98c9e3a1a6",
   "metadata": {},
   "outputs": [
    {
     "data": {
      "text/plain": [
       "208"
      ]
     },
     "execution_count": 6,
     "metadata": {},
     "output_type": "execute_result"
    }
   ],
   "source": [
    "len(words)"
   ]
  },
  {
   "cell_type": "code",
   "execution_count": 7,
   "id": "cff64b79-ad41-4608-93ea-c3b8c359b002",
   "metadata": {},
   "outputs": [],
   "source": [
    "# categories"
   ]
  },
  {
   "cell_type": "code",
   "execution_count": 8,
   "id": "b21c2d8f-5f69-4caa-8c63-799144fcae46",
   "metadata": {},
   "outputs": [],
   "source": [
    "# words = ['A photo of a ' + w for w in words]"
   ]
  },
  {
   "cell_type": "code",
   "execution_count": 1,
   "id": "b63fc20a-0349-4b87-981c-91a902f3c106",
   "metadata": {},
   "outputs": [],
   "source": [
    "# words"
   ]
  },
  {
   "cell_type": "code",
   "execution_count": 10,
   "id": "29e9f5fd-a185-4e0b-a21b-3bb2975ad9bc",
   "metadata": {},
   "outputs": [],
   "source": [
    "for o in words:\n",
    "    if 'man' == o: \n",
    "        print(o)"
   ]
  },
  {
   "cell_type": "code",
   "execution_count": 11,
   "id": "30a5f387-768d-4b6c-a4d6-a8702207937a",
   "metadata": {},
   "outputs": [],
   "source": [
    "image = Image.open('me_with_hat.jpeg')"
   ]
  },
  {
   "cell_type": "code",
   "execution_count": 12,
   "id": "d466aa7e-51ea-404e-bb23-89e358f5ad83",
   "metadata": {},
   "outputs": [
    {
     "data": {
      "text/plain": [
       "(910, 930)"
      ]
     },
     "execution_count": 12,
     "metadata": {},
     "output_type": "execute_result"
    }
   ],
   "source": [
    "image.size"
   ]
  },
  {
   "cell_type": "code",
   "execution_count": 13,
   "id": "b6140408-08eb-4aaf-be79-1bbad88fe221",
   "metadata": {},
   "outputs": [],
   "source": [
    "inputs = processor(images=image, return_tensors=\"pt\").to(device)\n",
    "with torch.no_grad():\n",
    "    image_features = model.get_image_features(**inputs)\n",
    "    # Normalize the embeddings\n",
    "    image_features = image_features / image_features.norm(dim=-1, keepdim=True)"
   ]
  },
  {
   "cell_type": "code",
   "execution_count": 14,
   "id": "f257dbb1-b3b4-4bf4-9834-6e836f03af0b",
   "metadata": {},
   "outputs": [
    {
     "data": {
      "text/plain": [
       "torch.Size([1, 512])"
      ]
     },
     "execution_count": 14,
     "metadata": {},
     "output_type": "execute_result"
    }
   ],
   "source": [
    "image_features.shape"
   ]
  },
  {
   "cell_type": "code",
   "execution_count": 15,
   "id": "491f86b4-3ecf-42b1-b214-9d5f9bb8b7e0",
   "metadata": {},
   "outputs": [
    {
     "data": {
      "text/plain": [
       "[<matplotlib.lines.Line2D at 0x7e9c67a9b550>]"
      ]
     },
     "execution_count": 15,
     "metadata": {},
     "output_type": "execute_result"
    },
    {
     "data": {
      "image/png": "[encoded data removed]",
      "text/plain": [
       "<Figure size 640x480 with 1 Axes>"
      ]
     },
     "metadata": {},
     "output_type": "display_data"
    }
   ],
   "source": [
    "plt.plot(image_features.detach().cpu().numpy().ravel())"
   ]
  },
  {
   "cell_type": "code",
   "execution_count": 16,
   "id": "517eeae7-9359-4bbb-93b4-95c415c227a8",
   "metadata": {},
   "outputs": [
    {
     "data": {
      "text/plain": [
       "<matplotlib.image.AxesImage at 0x7e9c6d100ad0>"
      ]
     },
     "execution_count": 16,
     "metadata": {},
     "output_type": "execute_result"
    },
    {
     "data": {
      "image/png": "[encoded data removed]",
      "text/plain": [
       "<Figure size 640x480 with 1 Axes>"
      ]
     },
     "metadata": {},
     "output_type": "display_data"
    }
   ],
   "source": [
    "plt.imshow(image_features.detach().cpu().numpy().reshape(16, 32))"
   ]
  },
  {
   "cell_type": "code",
   "execution_count": 17,
   "id": "551afbe7-78b3-4927-9873-b3797c63cf7a",
   "metadata": {},
   "outputs": [],
   "source": [
    "image_2 = Image.open('me_no_hat.jpeg')"
   ]
  },
  {
   "cell_type": "code",
   "execution_count": 18,
   "id": "dce24661-e1d7-4598-8954-bbf2eaf3a717",
   "metadata": {},
   "outputs": [],
   "source": [
    "inputs_2 = processor(images=image_2, return_tensors=\"pt\").to(device)\n",
    "with torch.no_grad():\n",
    "    image_features_2 = model.get_image_features(**inputs_2)\n",
    "    # Normalize the embeddings\n",
    "    image_features_2 = image_features_2 / image_features_2.norm(dim=-1, keepdim=True)"
   ]
  },
  {
   "cell_type": "code",
   "execution_count": 19,
   "id": "40b465c0-1e59-4eeb-93d9-66632b330339",
   "metadata": {},
   "outputs": [
    {
     "data": {
      "text/plain": [
       "[<matplotlib.lines.Line2D at 0x7e9c6c3cb550>]"
      ]
     },
     "execution_count": 19,
     "metadata": {},
     "output_type": "execute_result"
    },
    {
     "data": {
      "image/png": "[encoded data removed]",
      "text/plain": [
       "<Figure size 640x480 with 1 Axes>"
      ]
     },
     "metadata": {},
     "output_type": "display_data"
    }
   ],
   "source": [
    "plt.plot(image_features_2.detach().cpu().numpy().ravel())"
   ]
  },
  {
   "cell_type": "code",
   "execution_count": 20,
   "id": "76eb2736-ff10-459a-bb84-fc39ab34d8ea",
   "metadata": {},
   "outputs": [
    {
     "data": {
      "text/plain": [
       "<matplotlib.image.AxesImage at 0x7e9c6c37e250>"
      ]
     },
     "execution_count": 20,
     "metadata": {},
     "output_type": "execute_result"
    },
    {
     "data": {
      "image/png": "[encoded data removed]",
      "text/plain": [
       "<Figure size 640x480 with 1 Axes>"
      ]
     },
     "metadata": {},
     "output_type": "display_data"
    }
   ],
   "source": [
    "plt.imshow(image_features_2.detach().cpu().numpy().reshape(16, 32))"
   ]
  },
  {
   "cell_type": "code",
   "execution_count": 21,
   "id": "caf3901d-56f1-46e0-8f9a-f404ff08dab2",
   "metadata": {},
   "outputs": [],
   "source": [
    "# words[0]"
   ]
  },
  {
   "cell_type": "code",
   "execution_count": 22,
   "id": "9f1a726a-650d-48a9-bd9e-da8318d045d0",
   "metadata": {},
   "outputs": [],
   "source": [
    "# words[1]"
   ]
  },
  {
   "cell_type": "code",
   "execution_count": 23,
   "id": "324ea062-e652-4d8e-91a2-3ff307f5a1a8",
   "metadata": {},
   "outputs": [],
   "source": [
    "inputs = processor(text=words[0], return_tensors=\"pt\", padding=True).to(device)\n",
    "with torch.no_grad():\n",
    "    text_features = model.get_text_features(**inputs)\n",
    "    # Normalize the embeddings\n",
    "    text_features = text_features / text_features.norm(dim=-1, keepdim=True)"
   ]
  },
  {
   "cell_type": "code",
   "execution_count": 24,
   "id": "50afd830-3c4d-4137-a839-1a52df874dc0",
   "metadata": {},
   "outputs": [
    {
     "data": {
      "text/plain": [
       "torch.Size([1, 512])"
      ]
     },
     "execution_count": 24,
     "metadata": {},
     "output_type": "execute_result"
    }
   ],
   "source": [
    "text_features.shape"
   ]
  },
  {
   "cell_type": "markdown",
   "id": "35b6ae83-7799-4baf-990e-19212193c8d2",
   "metadata": {},
   "source": [
    "Oh maybe there's a \"scanning through looking for matches animation\" - that could be fuuuun"
   ]
  },
  {
   "cell_type": "code",
   "execution_count": 25,
   "id": "32e35f9a-2a92-4932-89c3-1128e61073fd",
   "metadata": {},
   "outputs": [
    {
     "name": "stderr",
     "output_type": "stream",
     "text": [
      "100%|███████████████████████████████████| 1/1 [00:00<00:00, 69.64it/s]\n"
     ]
    }
   ],
   "source": [
    "batch_size=1024\n",
    "all_text_features=[]\n",
    "for i in tqdm(range(int(np.ceil(len(words)/batch_size)))):\n",
    "    inputs = processor(text=words[i*batch_size:(i+1)*batch_size], return_tensors=\"pt\", padding=True).to(device)\n",
    "    with torch.no_grad():\n",
    "        text_features = model.get_text_features(**inputs)\n",
    "        # Normalize the embeddings\n",
    "        text_features = text_features / text_features.norm(dim=-1, keepdim=True)\n",
    "        all_text_features.append(text_features)\n",
    "all_text_features=torch.concat(all_text_features)"
   ]
  },
  {
   "cell_type": "code",
   "execution_count": 26,
   "id": "eb9cfc6f-3b46-4fa5-80f4-893bdf62b650",
   "metadata": {},
   "outputs": [
    {
     "data": {
      "text/plain": [
       "torch.Size([208, 512])"
      ]
     },
     "execution_count": 26,
     "metadata": {},
     "output_type": "execute_result"
    }
   ],
   "source": [
    "all_text_features.shape"
   ]
  },
  {
   "cell_type": "code",
   "execution_count": 27,
   "id": "9778ad68-bb4d-467d-9252-abcb1060ab72",
   "metadata": {},
   "outputs": [],
   "source": [
    "similarities = torch.cosine_similarity(image_features, all_text_features, dim=1)"
   ]
  },
  {
   "cell_type": "code",
   "execution_count": 28,
   "id": "dc357393-6639-454a-bca4-5ad2cb0a3931",
   "metadata": {},
   "outputs": [],
   "source": [
    "similarities = torch.cosine_similarity(image_features-image_features_2, all_text_features, dim=1)"
   ]
  },
  {
   "cell_type": "code",
   "execution_count": 29,
   "id": "fb819f47-e9fc-4956-b6c2-92b708bfc810",
   "metadata": {},
   "outputs": [
    {
     "data": {
      "text/plain": [
       "torch.Size([208])"
      ]
     },
     "execution_count": 29,
     "metadata": {},
     "output_type": "execute_result"
    }
   ],
   "source": [
    "similarities.shape"
   ]
  },
  {
   "cell_type": "code",
   "execution_count": 30,
   "id": "0ac0dcf0-694d-4172-a83d-046ec13ae53b",
   "metadata": {},
   "outputs": [
    {
     "data": {
      "text/plain": [
       "[{'text': 'hat', 'similarity': 0.15776026248931885},\n",
       " {'text': 'cap', 'similarity': 0.1096150279045105},\n",
       " {'text': 'helmet', 'similarity': 0.0963720977306366},\n",
       " {'text': 'angry', 'similarity': 0.07127276062965393},\n",
       " {'text': 'serious', 'similarity': 0.0612434521317482},\n",
       " {'text': 'A photo of a frisbee', 'similarity': 0.05520292744040489},\n",
       " {'text': 'A photo of a sports ball', 'similarity': 0.0549442395567894},\n",
       " {'text': 'hate', 'similarity': 0.054674290120601654},\n",
       " {'text': 'A photo of a tennis racket', 'similarity': 0.05275862663984299},\n",
       " {'text': 'tense', 'similarity': 0.050516508519649506},\n",
       " {'text': 'A photo of a remote', 'similarity': 0.050480324774980545},\n",
       " {'text': 'mysterious', 'similarity': 0.05014066398143768},\n",
       " {'text': 'sneakers', 'similarity': 0.04935343936085701},\n",
       " {'text': 'A photo of a orange', 'similarity': 0.049343351274728775},\n",
       " {'text': 'navy', 'similarity': 0.047736551612615585},\n",
       " {'text': 'gloves', 'similarity': 0.04716985300183296},\n",
       " {'text': 'sad', 'similarity': 0.04376330226659775},\n",
       " {'text': 'A photo of a fork', 'similarity': 0.04302125796675682},\n",
       " {'text': 'eagle', 'similarity': 0.04301698878407478},\n",
       " {'text': 'roughness', 'similarity': 0.04245471954345703},\n",
       " {'text': 'A photo of a laptop', 'similarity': 0.041932493448257446},\n",
       " {'text': 'melancholy', 'similarity': 0.04112010821700096},\n",
       " {'text': 'justice', 'similarity': 0.04064694792032242},\n",
       " {'text': 'olive', 'similarity': 0.04032839834690094},\n",
       " {'text': 'shoes', 'similarity': 0.03972925618290901},\n",
       " {'text': 'dramatic', 'similarity': 0.039193302392959595},\n",
       " {'text': 'professional', 'similarity': 0.03902345523238182},\n",
       " {'text': 'war', 'similarity': 0.03838101401925087},\n",
       " {'text': 'A photo of a apple', 'similarity': 0.038368429988622665},\n",
       " {'text': 'order', 'similarity': 0.037950143218040466},\n",
       " {'text': 'snake', 'similarity': 0.037902429699897766},\n",
       " {'text': 'boots', 'similarity': 0.03779737651348114},\n",
       " {'text': 'mouse', 'similarity': 0.03716623783111572},\n",
       " {'text': 'bear', 'similarity': 0.03713240474462509},\n",
       " {'text': 'A photo of a broccoli', 'similarity': 0.0367170125246048},\n",
       " {'text': 'A photo of a bowl', 'similarity': 0.03667830303311348},\n",
       " {'text': 'A photo of a cup', 'similarity': 0.03615589067339897},\n",
       " {'text': 'spider', 'similarity': 0.036105625331401825},\n",
       " {'text': 'chicken', 'similarity': 0.034956444054841995},\n",
       " {'text': 'ugliness', 'similarity': 0.03485458716750145},\n",
       " {'text': 'cow', 'similarity': 0.03462545946240425},\n",
       " {'text': 'tiger', 'similarity': 0.03449033945798874},\n",
       " {'text': 'anxious', 'similarity': 0.03410650044679642},\n",
       " {'text': 'sophistication', 'similarity': 0.03409358859062195},\n",
       " {'text': 'A photo of a baseball glove', 'similarity': 0.03391828015446663},\n",
       " {'text': 'coat', 'similarity': 0.03372946009039879},\n",
       " {'text': 'shark', 'similarity': 0.0329609178006649},\n",
       " {'text': 'A photo of a handbag', 'similarity': 0.03268666937947273},\n",
       " {'text': 'A photo of a cell phone', 'similarity': 0.0322662889957428},\n",
       " {'text': 'A photo of a keyboard', 'similarity': 0.03196943551301956},\n",
       " {'text': 'person', 'similarity': 0.031923577189445496},\n",
       " {'text': 'wolf', 'similarity': 0.03177667409181595},\n",
       " {'text': 'shorts', 'similarity': 0.03152266889810562},\n",
       " {'text': 'working', 'similarity': 0.031279925256967545},\n",
       " {'text': 'ring', 'similarity': 0.031185127794742584},\n",
       " {'text': 'belt', 'similarity': 0.03077460452914238},\n",
       " {'text': 'A photo of a baseball bat', 'similarity': 0.03068317286670208},\n",
       " {'text': 'blue', 'similarity': 0.030626438558101654},\n",
       " {'text': 'A photo of a cake', 'similarity': 0.030443301424384117},\n",
       " {'text': 'flying', 'similarity': 0.030385345220565796},\n",
       " {'text': 'green', 'similarity': 0.030357010662555695},\n",
       " {'text': 'A photo of a donut', 'similarity': 0.02953188307583332},\n",
       " {'text': 'studying', 'similarity': 0.029502632096409798},\n",
       " {'text': 'pink', 'similarity': 0.029020659625530243},\n",
       " {'text': 'lime', 'similarity': 0.028961321339011192},\n",
       " {'text': 'A photo of a spoon', 'similarity': 0.028818022459745407},\n",
       " {'text': 'A photo of a knife', 'similarity': 0.028811724856495857},\n",
       " {'text': 'black', 'similarity': 0.02850773185491562},\n",
       " {'text': 'modern', 'similarity': 0.028358355164527893},\n",
       " {'text': 'bird', 'similarity': 0.028190428391098976},\n",
       " {'text': 'gold', 'similarity': 0.0281019639223814},\n",
       " {'text': 'writing', 'similarity': 0.02809058129787445},\n",
       " {'text': 'pants', 'similarity': 0.027850259095430374},\n",
       " {'text': 'horse', 'similarity': 0.02775130793452263},\n",
       " {'text': 'sheep', 'similarity': 0.027102189138531685},\n",
       " {'text': 't-shirt', 'similarity': 0.026989519596099854},\n",
       " {'text': 'chaos', 'similarity': 0.026799816638231277},\n",
       " {'text': 'jacket', 'similarity': 0.026636485010385513},\n",
       " {'text': 'sleeping', 'similarity': 0.026584703475236893},\n",
       " {'text': 'magenta', 'similarity': 0.026180298998951912},\n",
       " {'text': 'running', 'similarity': 0.02611568570137024},\n",
       " {'text': 'owl', 'similarity': 0.025692488998174667},\n",
       " {'text': 'fish', 'similarity': 0.025558926165103912},\n",
       " {'text': 'casual', 'similarity': 0.025463886559009552},\n",
       " {'text': 'watch', 'similarity': 0.025314057245850563},\n",
       " {'text': 'rat', 'similarity': 0.025217868387699127},\n",
       " {'text': 'A photo of a banana', 'similarity': 0.024783648550510406},\n",
       " {'text': 'artistic', 'similarity': 0.024658584967255592},\n",
       " {'text': 'A photo of a sandwich', 'similarity': 0.024596279487013817},\n",
       " {'text': 'walking', 'similarity': 0.024546228349208832},\n",
       " {'text': 'socks', 'similarity': 0.02450522780418396},\n",
       " {'text': 'abstract', 'similarity': 0.024117987602949142},\n",
       " {'text': 'bee', 'similarity': 0.02389606088399887},\n",
       " {'text': 'eating', 'similarity': 0.02354900725185871},\n",
       " {'text': 'lie', 'similarity': 0.02338237315416336},\n",
       " {'text': 'minimalist', 'similarity': 0.023268962278962135},\n",
       " {'text': 'A photo of a man', 'similarity': 0.023129140958189964},\n",
       " {'text': 'giraffe', 'similarity': 0.023046720772981644},\n",
       " {'text': 'skirt', 'similarity': 0.023035624995827675},\n",
       " {'text': 'whale', 'similarity': 0.022486329078674316}]"
      ]
     },
     "execution_count": 30,
     "metadata": {},
     "output_type": "execute_result"
    }
   ],
   "source": [
    "top_k=100\n",
    "top_k_indices = similarities.argsort(descending=True)[:top_k]\n",
    "\n",
    "results = []\n",
    "for idx in top_k_indices:\n",
    "    results.append({\n",
    "        'text': words[idx],\n",
    "        'similarity': similarities[idx].item()\n",
    "    })\n",
    "results"
   ]
  },
  {
   "cell_type": "markdown",
   "id": "31fdb2ee-ceef-4276-91d2-7182e59d3408",
   "metadata": {},
   "source": [
    "Ok cool cool - maybe a little bit of the reverse problem now?"
   ]
  },
  {
   "cell_type": "code",
   "execution_count": 31,
   "id": "7f99f5a2-460a-45f0-8b5c-29abf4b031d2",
   "metadata": {},
   "outputs": [],
   "source": [
    "from datasets import load_dataset"
   ]
  },
  {
   "cell_type": "code",
   "execution_count": 33,
   "id": "8d527a33-cace-4f7e-b5a1-e19d8cfbdcb6",
   "metadata": {},
   "outputs": [
    {
     "data": {
      "application/vnd.jupyter.widget-view+json": {
       "model_id": "2a3918f4d93d40a594a5887eb4597d24",
       "version_major": 2,
       "version_minor": 0
      },
      "text/plain": [
       "train_images_1.tar.gz:  41%|####      | 11.9G/29.3G [00:00<?, ?B/s]"
      ]
     },
     "metadata": {},
     "output_type": "display_data"
    },
    {
     "data": {
      "application/vnd.jupyter.widget-view+json": {
       "model_id": "532e7c1e1da14a90afd30583f89f0933",
       "version_major": 2,
       "version_minor": 0
      },
      "text/plain": [
       "train_images_2.tar.gz:   0%|          | 0.00/29.0G [00:00<?, ?B/s]"
      ]
     },
     "metadata": {},
     "output_type": "display_data"
    },
    {
     "data": {
      "application/vnd.jupyter.widget-view+json": {
       "model_id": "0e1eb7eb776c451aa1e950fd4702f293",
       "version_major": 2,
       "version_minor": 0
      },
      "text/plain": [
       "train_images_3.tar.gz:   0%|          | 0.00/29.2G [00:00<?, ?B/s]"
      ]
     },
     "metadata": {},
     "output_type": "display_data"
    },
    {
     "data": {
      "application/vnd.jupyter.widget-view+json": {
       "model_id": "880cc37d68f24537a7d551543bca0b7d",
       "version_major": 2,
       "version_minor": 0
      },
      "text/plain": [
       "train_images_4.tar.gz:   0%|          | 0.00/29.1G [00:00<?, ?B/s]"
      ]
     },
     "metadata": {},
     "output_type": "display_data"
    },
    {
     "data": {
      "application/vnd.jupyter.widget-view+json": {
       "model_id": "0de5f06830cf4f8d87f00225565f3e60",
       "version_major": 2,
       "version_minor": 0
      },
      "text/plain": [
       "val_images.tar.gz:   0%|          | 0.00/6.67G [00:00<?, ?B/s]"
      ]
     },
     "metadata": {},
     "output_type": "display_data"
    },
    {
     "data": {
      "application/vnd.jupyter.widget-view+json": {
       "model_id": "0acb5df297cc45419b448acc421dd27a",
       "version_major": 2,
       "version_minor": 0
      },
      "text/plain": [
       "test_images.tar.gz:   0%|          | 0.00/13.5G [00:00<?, ?B/s]"
      ]
     },
     "metadata": {},
     "output_type": "display_data"
    },
    {
     "data": {
      "application/vnd.jupyter.widget-view+json": {
       "model_id": "13ad7a76aa9a47a084a3769d8848ede3",
       "version_major": 2,
       "version_minor": 0
      },
      "text/plain": [
       "Generating train split:   0%|          | 0/1281167 [00:00<?, ? examples/s]"
      ]
     },
     "metadata": {},
     "output_type": "display_data"
    },
    {
     "data": {
      "application/vnd.jupyter.widget-view+json": {
       "model_id": "1554c7848ac24fbd9726ece9778277f9",
       "version_major": 2,
       "version_minor": 0
      },
      "text/plain": [
       "Generating validation split:   0%|          | 0/50000 [00:00<?, ? examples/s]"
      ]
     },
     "metadata": {},
     "output_type": "display_data"
    },
    {
     "data": {
      "application/vnd.jupyter.widget-view+json": {
       "model_id": "00b1345473b84dbdae1ef46ba09dfc41",
       "version_major": 2,
       "version_minor": 0
      },
      "text/plain": [
       "Generating test split:   0%|          | 0/100000 [00:00<?, ? examples/s]"
      ]
     },
     "metadata": {},
     "output_type": "display_data"
    }
   ],
   "source": [
    "dataset = load_dataset(\n",
    "    \"imagenet-1k\", \n",
    "    split=f\"validation[:{1000}]\",\n",
    "    cache_dir='imagenet'\n",
    ")"
   ]
  },
  {
   "cell_type": "code",
   "execution_count": null,
   "id": "46f22fa7-9556-4279-b1fa-673c076016f8",
   "metadata": {},
   "outputs": [],
   "source": [
    "# dataset"
   ]
  },
  {
   "cell_type": "code",
   "execution_count": null,
   "id": "19a7c887-74c3-4499-9fcc-85875045994b",
   "metadata": {},
   "outputs": [],
   "source": []
  },
  {
   "cell_type": "code",
   "execution_count": null,
   "id": "71d8f8b1-953e-443c-a455-146a0f755bfd",
   "metadata": {},
   "outputs": [],
   "source": []
  }
 ],
 "metadata": {
  "kernelspec": {
   "display_name": "Python 3 (ipykernel)",
   "language": "python",
   "name": "python3"
  },
  "language_info": {
   "codemirror_mode": {
    "name": "ipython",
    "version": 3
   },
   "file_extension": ".py",
   "mimetype": "text/x-python",
   "name": "python",
   "nbconvert_exporter": "python",
   "pygments_lexer": "ipython3",
   "version": "3.11.11"
  }
 },
 "nbformat": 4,
 "nbformat_minor": 5
}
