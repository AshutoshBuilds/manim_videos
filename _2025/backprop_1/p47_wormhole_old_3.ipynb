{
 "cells": [
  {
   "cell_type": "markdown",
   "id": "c56d1131-3818-4959-993e-8a39597af93e",
   "metadata": {},
   "source": [
    "## P47 Wormhole 3 - get model confidences while training \n",
    "- Ok I might end up using these exports all the way back to like P41, we'll see\n",
    "- First important thing to do is get wormhole idea working here. "
   ]
  },
  {
   "cell_type": "code",
   "execution_count": 2,
   "id": "73a72b6a-70cd-4d5c-b04c-6325114699aa",
   "metadata": {},
   "outputs": [],
   "source": [
    "# ! pip install transformers matplotlib tqdm huggingface_hub"
   ]
  },
  {
   "cell_type": "code",
   "execution_count": 4,
   "id": "918cc7c3-74f2-438c-ad8a-2cfb26f1e08a",
   "metadata": {},
   "outputs": [],
   "source": [
    "# from huggingface_hub import login\n",
    "# login()"
   ]
  },
  {
   "cell_type": "code",
   "execution_count": 5,
   "id": "85155a3b-c331-41c0-9402-8c3d05354ae3",
   "metadata": {},
   "outputs": [],
   "source": [
    "import torch\n",
    "from transformers import pipeline\n",
    "from torch.nn import functional as F\n",
    "import numpy as np\n",
    "from tqdm import tqdm\n",
    "import matplotlib.pyplot as plt\n",
    "from matplotlib import cm\n",
    "import os\n",
    "import copy\n",
    "from collections import OrderedDict\n",
    "\n",
    "from transformers import GPT2LMHeadModel, GPT2Tokenizer, GPT2Config\n",
    "from transformers import LlamaForCausalLM, PreTrainedTokenizerFast, LlamaConfig\n",
    "from transformers import AutoModelForCausalLM, AutoTokenizer\n",
    "\n",
    "device='cuda'"
   ]
  },
  {
   "cell_type": "code",
   "execution_count": 6,
   "id": "1897e993-77db-4f3f-982f-b66740971ac6",
   "metadata": {},
   "outputs": [],
   "source": [
    "model_id = \"meta-llama/Llama-3.2-1B\"\n",
    "# model_id = \"openai-community/gpt2\"\n",
    "# model_id = \"google/gemma-3-1b-pt\"\n",
    "# model_id = \"gpt2\""
   ]
  },
  {
   "cell_type": "code",
   "execution_count": 7,
   "id": "5cee2066-a7f0-4371-afaa-e22cb9dc8337",
   "metadata": {},
   "outputs": [],
   "source": [
    "# #Only needed for llama random initialization\n",
    "# config_dict = {\n",
    "#   \"_attn_implementation_autoset\": True,\n",
    "#   \"architectures\": [\n",
    "#     \"LlamaForCausalLM\"\n",
    "#   ],\n",
    "#   \"attention_bias\": False,\n",
    "#   \"attention_dropout\": 0.0,\n",
    "#   \"bos_token_id\": 128000,\n",
    "#   \"eos_token_id\": 128001,\n",
    "#   \"head_dim\": 64,\n",
    "#   \"hidden_act\": \"silu\",\n",
    "#   \"hidden_size\": 2048,\n",
    "#   \"initializer_range\": 0.02,\n",
    "#   \"intermediate_size\": 8192,\n",
    "#   \"max_position_embeddings\": 131072,\n",
    "#   \"mlp_bias\": False,\n",
    "#   \"model_type\": \"llama\",\n",
    "#   \"num_attention_heads\": 32,\n",
    "#   \"num_hidden_layers\": 16,\n",
    "#   \"num_key_value_heads\": 8,\n",
    "#   \"pretraining_tp\": 1,\n",
    "#   \"rms_norm_eps\": 1e-05,\n",
    "#   \"rope_scaling\": {\n",
    "#     \"factor\": 32.0,\n",
    "#     \"high_freq_factor\": 4.0,\n",
    "#     \"low_freq_factor\": 1.0,\n",
    "#     \"original_max_position_embeddings\": 8192,\n",
    "#     \"rope_type\": \"llama3\"\n",
    "#   },\n",
    "#   \"rope_theta\": 500000.0,\n",
    "#   \"tie_word_embeddings\": True,\n",
    "#   \"torch_dtype\": \"float32\",\n",
    "#   \"transformers_version\": \"4.50.3\",\n",
    "#   \"use_cache\": True,\n",
    "#   \"vocab_size\": 128256\n",
    "# }"
   ]
  },
  {
   "cell_type": "code",
   "execution_count": 8,
   "id": "88763c12-4b95-423e-ad59-6d0004ea456d",
   "metadata": {},
   "outputs": [
    {
     "data": {
      "application/vnd.jupyter.widget-view+json": {
       "model_id": "c360f330a36f4b26a02e494b30b6730f",
       "version_major": 2,
       "version_minor": 0
      },
      "text/plain": [
       "config.json:   0%|          | 0.00/843 [00:00<?, ?B/s]"
      ]
     },
     "metadata": {},
     "output_type": "display_data"
    },
    {
     "data": {
      "application/vnd.jupyter.widget-view+json": {
       "model_id": "2d323a80093e4b8abfc3c11c8482b01b",
       "version_major": 2,
       "version_minor": 0
      },
      "text/plain": [
       "model.safetensors:   0%|          | 0.00/2.47G [00:00<?, ?B/s]"
      ]
     },
     "metadata": {},
     "output_type": "display_data"
    },
    {
     "data": {
      "application/vnd.jupyter.widget-view+json": {
       "model_id": "c20bff0dad054ab984699f722166f15e",
       "version_major": 2,
       "version_minor": 0
      },
      "text/plain": [
       "generation_config.json:   0%|          | 0.00/185 [00:00<?, ?B/s]"
      ]
     },
     "metadata": {},
     "output_type": "display_data"
    },
    {
     "data": {
      "application/vnd.jupyter.widget-view+json": {
       "model_id": "5d7f2b23611b4158bba144a1ba15e310",
       "version_major": 2,
       "version_minor": 0
      },
      "text/plain": [
       "tokenizer_config.json:   0%|          | 0.00/50.5k [00:00<?, ?B/s]"
      ]
     },
     "metadata": {},
     "output_type": "display_data"
    },
    {
     "data": {
      "application/vnd.jupyter.widget-view+json": {
       "model_id": "0ce1e19ba9de48b28ba4efd8ae4be6a6",
       "version_major": 2,
       "version_minor": 0
      },
      "text/plain": [
       "tokenizer.json:   0%|          | 0.00/9.09M [00:00<?, ?B/s]"
      ]
     },
     "metadata": {},
     "output_type": "display_data"
    },
    {
     "data": {
      "application/vnd.jupyter.widget-view+json": {
       "model_id": "9063aed803c340f0a5151e33e8f5ea15",
       "version_major": 2,
       "version_minor": 0
      },
      "text/plain": [
       "special_tokens_map.json:   0%|          | 0.00/301 [00:00<?, ?B/s]"
      ]
     },
     "metadata": {},
     "output_type": "display_data"
    }
   ],
   "source": [
    "# Random init\n",
    "# model_config = GPT2Config() #Full sized model\n",
    "# model = GPT2LMHeadModel(model_config).to(device) #Ok i should see what happens with full and pretrained model. \n",
    "# tokenizer = GPT2Tokenizer.from_pretrained(\"gpt2\")\n",
    "\n",
    "# # Llama with random initialization\n",
    "# model_config  = LlamaConfig.from_dict(config_dict)\n",
    "# model = LlamaForCausalLM(model_config).to(device) \n",
    "# tokenizer = AutoTokenizer.from_pretrained(model_id)\n",
    "\n",
    "#Pretrained\n",
    "model = AutoModelForCausalLM.from_pretrained(model_id).to(device)\n",
    "tokenizer = AutoTokenizer.from_pretrained(model_id)\n",
    "model.eval();"
   ]
  },
  {
   "cell_type": "code",
   "execution_count": 7,
   "id": "5c75d0d0-d184-4eba-a8e5-6ac916e77432",
   "metadata": {},
   "outputs": [],
   "source": [
    "# save_dir='/workspace/apr_24_9'"
   ]
  },
  {
   "cell_type": "code",
   "execution_count": 9,
   "id": "d857cc4e-504b-43fa-a474-f7d3bc6bef8e",
   "metadata": {},
   "outputs": [],
   "source": [
    "text = \"The capital of France is Paris\"\n",
    "inputs = tokenizer(text, return_tensors=\"pt\").to(device)\n",
    "input_ids = inputs[\"input_ids\"]"
   ]
  },
  {
   "cell_type": "code",
   "execution_count": 10,
   "id": "a48a7703-93f2-427a-92dd-4650c24ed8cd",
   "metadata": {},
   "outputs": [
    {
     "name": "stdout",
     "output_type": "stream",
     "text": [
      "3.3751845359802246 3.3751840591430664\n"
     ]
    }
   ],
   "source": [
    "with torch.no_grad():\n",
    "    outputs = model(input_ids, labels=input_ids)\n",
    "\n",
    "my_probs=F.softmax(outputs.logits, dim=-1)\n",
    "y_one_hot=F.one_hot(input_ids, num_classes=model.config.vocab_size)\n",
    "correct_next_token_probs = (my_probs[:,:-1]*y_one_hot[:,1:]).sum(-1) #I'm sure there's waaay more efficient ways to do this\n",
    "my_loss=-torch.log(correct_next_token_probs).mean()\n",
    "print(my_loss.item(), outputs.loss.item())"
   ]
  },
  {
   "cell_type": "code",
   "execution_count": 11,
   "id": "0affa34f-2533-4a06-aa89-eb3430149250",
   "metadata": {},
   "outputs": [
    {
     "name": "stdout",
     "output_type": "stream",
     "text": [
      "3.3751845359802246 3.3751840591430664 0.9376922065287221\n"
     ]
    }
   ],
   "source": [
    "with torch.no_grad():\n",
    "    outputs = model(input_ids, labels=input_ids)\n",
    "\n",
    "my_probs=F.softmax(outputs.logits, dim=-1)\n",
    "y_one_hot=F.one_hot(input_ids, num_classes=model.config.vocab_size)\n",
    "correct_next_token_probs = (my_probs[:,:-1]*y_one_hot[:,1:]).sum(-1) #I'm sure there's waaay more efficient ways to do this\n",
    "my_loss=-torch.log(correct_next_token_probs).mean()\n",
    "\n",
    "paris_only_loss=-np.log(my_probs[0, 5, 12366].item())\n",
    "print(my_loss.item(), outputs.loss.item(), paris_only_loss)"
   ]
  },
  {
   "cell_type": "code",
   "execution_count": 14,
   "id": "b7be9641-1f26-4814-a02d-9b2eb42b2846",
   "metadata": {},
   "outputs": [
    {
     "data": {
      "text/plain": [
       "torch.Size([1, 7, 128256])"
      ]
     },
     "execution_count": 14,
     "metadata": {},
     "output_type": "execute_result"
    }
   ],
   "source": [
    "my_probs.shape"
   ]
  },
  {
   "cell_type": "code",
   "execution_count": 15,
   "id": "2e5c2a14-78dc-425e-9bcf-481bfbebe430",
   "metadata": {},
   "outputs": [
    {
     "name": "stdout",
     "output_type": "stream",
     "text": [
      "12366 0.39153  Paris\n",
      "264 0.08419  a\n",
      "279 0.0704  the\n",
      "832 0.03096  one\n",
      "1101 0.03061  also\n",
      "2162 0.02528  home\n",
      "3967 0.02462  known\n",
      "539 0.01659  not\n",
      "459 0.01241  an\n",
      "7559 0.01172  located\n"
     ]
    }
   ],
   "source": [
    "sI=np.argsort(my_probs[0,5, :].detach().cpu().float().numpy())[::-1]\n",
    "\n",
    "for i in sI[:10]:\n",
    "    print(i, round(my_probs[0, 5, i].item(),5), tokenizer.decode([i]))"
   ]
  },
  {
   "cell_type": "code",
   "execution_count": null,
   "id": "e9796958-4034-4f8f-83a5-d821772fdf7b",
   "metadata": {},
   "outputs": [],
   "source": []
  },
  {
   "cell_type": "code",
   "execution_count": 16,
   "id": "0e502c6d-2455-4ca3-93b9-692ebe9a1a58",
   "metadata": {},
   "outputs": [],
   "source": [
    "def get_random_directions(params, seed=None):\n",
    "    \"\"\"\n",
    "    Generate random direction vectors for each parameter tensor.\n",
    "    \n",
    "    Args:\n",
    "        params: List of (name, parameter) tuples from model.named_parameters()\n",
    "        seed: Random seed for reproducibility\n",
    "        \n",
    "    Returns:\n",
    "        direction: OrderedDict mapping parameter names to random direction tensors\n",
    "    \"\"\"\n",
    "    if seed is not None:\n",
    "        torch.manual_seed(seed)\n",
    "        np.random.seed(seed)\n",
    "    \n",
    "    direction = OrderedDict()\n",
    "    for name, param in params:\n",
    "        if param.requires_grad:\n",
    "            direction[name] = torch.randn_like(param.data)\n",
    "    \n",
    "    return direction"
   ]
  },
  {
   "cell_type": "code",
   "execution_count": 17,
   "id": "476f22b9-8f1d-47c1-bb77-755e33a4a419",
   "metadata": {},
   "outputs": [],
   "source": [
    "def normalize_direction(direction, params):\n",
    "    \"\"\"\n",
    "    Normalize the direction tensors to match the norm of each parameter tensor.\n",
    "    \n",
    "    Args:\n",
    "        direction: OrderedDict mapping parameter names to direction tensors\n",
    "        params: List of (name, parameter) tuples from model.named_parameters()\n",
    "        \n",
    "    Returns:\n",
    "        normalized_direction: OrderedDict with normalized direction tensors\n",
    "    \"\"\"\n",
    "    param_dict = OrderedDict(params)\n",
    "    normalized_direction = OrderedDict()\n",
    "    \n",
    "    for name, dir_tensor in direction.items():\n",
    "        param_norm = torch.norm(param_dict[name].data)\n",
    "        dir_norm = torch.norm(dir_tensor)\n",
    "        \n",
    "        # Avoid division by zero\n",
    "        if dir_norm > 0:\n",
    "            normalized_direction[name] = dir_tensor * (param_norm / dir_norm)\n",
    "        else:\n",
    "            normalized_direction[name] = dir_tensor\n",
    "    \n",
    "    return normalized_direction"
   ]
  },
  {
   "cell_type": "markdown",
   "id": "22b576de-527d-4d64-ab2f-43fc5b342627",
   "metadata": {},
   "source": [
    "### Run once without Training"
   ]
  },
  {
   "cell_type": "code",
   "execution_count": 18,
   "id": "1fe4d4c4-c7e7-40c4-b0bd-da57a0801c93",
   "metadata": {},
   "outputs": [],
   "source": [
    "# output_dir='/home/stephen/backparopagation/apr_24_9'\n",
    "output_dir='/workspace/apr_25_3'"
   ]
  },
  {
   "cell_type": "code",
   "execution_count": 19,
   "id": "3ebeac0c-1053-4042-86ab-555b6d04c904",
   "metadata": {},
   "outputs": [],
   "source": [
    "prefix='pretrained_'\n",
    "filtered_params = [(name, p) for name, p in model.named_parameters() if p.requires_grad]\n",
    "# layers_name='all'\n",
    "\n",
    "layers_name='first_8'\n",
    "filtered_params = filtered_params[1:73] #First 8 layers - I like this - facorite so far\n",
    "\n",
    "# layers_name='last_8'\n",
    "# filtered_params = filtered_params[73:] #Last 8 layers - some nice structue, but yeah more parabolic than I would like\n",
    "\n",
    "num_points=512 #CHANGE\n",
    "random_seed_1=11\n",
    "random_seed_2=111\n",
    "\n",
    "# Generate and normalize random directions\n",
    "direction1 = get_random_directions(filtered_params, seed=random_seed_1)\n",
    "direction2 = get_random_directions(filtered_params, seed=random_seed_2)\n",
    "\n",
    "direction1 = normalize_direction(direction1, filtered_params)\n",
    "direction2 = normalize_direction(direction2, filtered_params)\n",
    "\n",
    "original_params = OrderedDict()\n",
    "for name, param in filtered_params:\n",
    "    original_params[name] = param.data.clone()\n",
    "\n",
    "alphas=np.linspace(-2.5, 2.5, num_points)\n",
    "betas=np.linspace(-2.5, 2.5, num_points)"
   ]
  },
  {
   "cell_type": "markdown",
   "id": "42fe19f8-fd89-43c8-8a16-f0f6baf298f6",
   "metadata": {},
   "source": [
    "## Ok now let's get wormhol-ey"
   ]
  },
  {
   "cell_type": "markdown",
   "id": "c86d4265-0581-448d-a577-527828db0376",
   "metadata": {},
   "source": [
    "- Ok I'm confused, isn't the whole picture going to change as soon as I change my starting point? Or no?\n",
    "- Ok maybe not in kinda na interesting way -> so if I move to -1, -1 for example, doesn't that just mean I actually need\n",
    "- to change my testing range from to -1.5 to 3.5 or whatever, and then it should look the same?\n",
    "- I think that makese sense -> let me noodle for a minutes\n",
    "- Man I hope the conclusion i drew earlier makes some sense lol - this stuff gets tricky!\n",
    "- Ok yep that's what happened -> make sense -> these should be fine -> i'll just change my alpha/beta range. "
   ]
  },
  {
   "cell_type": "code",
   "execution_count": 21,
   "id": "54150f68-bde0-46de-859a-75b0d4be19b6",
   "metadata": {},
   "outputs": [],
   "source": [
    "n_steps=128 #TODO -> CHANGE to a big number\n",
    "trajectory = []\n",
    "lr=2e-6\n",
    "\n",
    "os.makedirs(output_dir, exist_ok=True)\n",
    "optimizer = torch.optim.Adam(model.parameters(), lr=lr)\n",
    "# optimizer = torch.optim.SGD(model.parameters(), lr=lr) #Should try this"
   ]
  },
  {
   "cell_type": "code",
   "execution_count": 22,
   "id": "95b35f81-5dfd-46bd-b2b3-e374e3bba3c3",
   "metadata": {},
   "outputs": [],
   "source": [
    "#Move away from center\n",
    "# alpha_shift=-0.9 #This will probably take some trial and error\n",
    "# beta_shift=0.05\n",
    "alpha_shift=-0.9 #This will probably take some trial and error\n",
    "beta_shift=0.05\n",
    "\n",
    "\n",
    "alphas_shifted=alphas-alpha_shift\n",
    "betas_shifted=betas-beta_shift\n",
    "\n",
    "for name, param in model.named_parameters():\n",
    "    if name in direction1 and name in direction2:\n",
    "        param.data = original_params[name] + alpha_shift * direction1[name] + beta_shift * direction2[name]\n",
    "\n",
    "original_params_shifted = OrderedDict()\n",
    "for name, param in filtered_params:\n",
    "    original_params_shifted[name] = param.data.clone()"
   ]
  },
  {
   "cell_type": "code",
   "execution_count": 23,
   "id": "ec48425e-04e5-4214-ba56-a7d3be8c7b72",
   "metadata": {},
   "outputs": [],
   "source": [
    "model_outputs=[]\n",
    "for step in tqdm(range(n_steps)):\n",
    "\n",
    "    with torch.no_grad():\n",
    "        outputs = model(input_ids, labels=input_ids)\n",
    "        my_probs=F.softmax(outputs.logits, dim=-1)\n",
    "        # y_one_hot=F.one_hot(input_ids, num_classes=model.config.vocab_size)\n",
    "        # correct_next_token_probs = (my_probs[:,:-1]*y_one_hot[:,1:]).sum(-1) #I'm sure there's waaay more efficient ways to do this\n",
    "        # my_loss=-torch.log(correct_next_token_probs).mean()\n",
    "        # paris_only_loss=-np.log(my_probs[0, 5, 12366].item())\n",
    "        # print(my_loss.item(), outputs.loss.item(), paris_only_loss)\n",
    "        sI=np.argsort(my_probs[0,5, :].detach().cpu().float().numpy())[::-1]\n",
    "        current_outs=[]\n",
    "        for i in sI[:10]:\n",
    "            current_outs.append([i, round(my_probs[0, 5, i].item(),5), tokenizer.decode([i])])\n",
    "        model_outputs.append(current_outs)\n",
    "\n",
    "    model.train()\n",
    "    optimizer.zero_grad()\n",
    "    outputs = model(**inputs, labels=inputs['input_ids'])\n",
    "    loss = outputs.loss #Ok not just paris loss here -> not sure how much I'm worried about that\n",
    "    loss.backward()\n",
    "    optimizer.step()"
   ]
  },
  {
   "cell_type": "code",
   "execution_count": 25,
   "id": "874cce23-5b11-44a1-ad11-d8bfac23135d",
   "metadata": {},
   "outputs": [
    {
     "data": {
      "text/plain": [
       "[[37180, 0.04863, 'adar'],\n",
       " [25107, 0.01659, ' mineral'],\n",
       " [47415, 0.01525, 'Pose'],\n",
       " [50561, 0.00561, ' dwarf'],\n",
       " [6200, 0.00511, 'gl'],\n",
       " [80830, 0.00508, ' Dwarf'],\n",
       " [22919, 0.00415, ' Adult'],\n",
       " [57403, 0.00394, ' poc'],\n",
       " [51473, 0.00364, ' Pose'],\n",
       " [43521, 0.00344, 'velt']]"
      ]
     },
     "execution_count": 25,
     "metadata": {},
     "output_type": "execute_result"
    }
   ],
   "source": [
    "model_outputs[0]"
   ]
  },
  {
   "cell_type": "code",
   "execution_count": 27,
   "id": "c0b139f8-e907-44b7-b224-15fa2c43d516",
   "metadata": {},
   "outputs": [
    {
     "data": {
      "text/plain": [
       "[[37180, 0.0235, 'adar'],\n",
       " [11, 0.01985, ','],\n",
       " [25107, 0.01922, ' mineral'],\n",
       " [12140, 0.01128, ' Louis'],\n",
       " [4701, 0.01003, ' Ag'],\n",
       " [47415, 0.00842, 'Pose'],\n",
       " [50561, 0.00548, ' dwarf'],\n",
       " [30976, 0.00395, 'inet'],\n",
       " [50416, 0.00379, ' Mineral'],\n",
       " [22919, 0.00376, ' Adult']]"
      ]
     },
     "execution_count": 27,
     "metadata": {},
     "output_type": "execute_result"
    }
   ],
   "source": [
    "model_outputs[1]"
   ]
  },
  {
   "cell_type": "code",
   "execution_count": 28,
   "id": "60a08f03-c4b7-43c6-b6a7-2e51617d1e93",
   "metadata": {},
   "outputs": [
    {
     "data": {
      "text/plain": [
       "[[12366, 0.17303, ' Paris'],\n",
       " [11, 0.10821, ','],\n",
       " [315, 0.01774, ' of'],\n",
       " [60704, 0.01544, 'Paris'],\n",
       " [12140, 0.01406, ' Louis'],\n",
       " [304, 0.01241, ' in'],\n",
       " [9822, 0.01167, ' France'],\n",
       " [4701, 0.01122, ' Ag'],\n",
       " [220, 0.0101, ' '],\n",
       " [13, 0.00681, '.']]"
      ]
     },
     "execution_count": 28,
     "metadata": {},
     "output_type": "execute_result"
    }
   ],
   "source": [
    "model_outputs[2]"
   ]
  },
  {
   "cell_type": "code",
   "execution_count": 29,
   "id": "17f2b3c5-ef2c-4484-b243-2d1290080290",
   "metadata": {},
   "outputs": [
    {
     "data": {
      "text/plain": [
       "[[12366, 0.81609, ' Paris'],\n",
       " [60704, 0.04212, 'Paris'],\n",
       " [11, 0.0167, ','],\n",
       " [9822, 0.01137, ' France'],\n",
       " [315, 0.00877, ' of'],\n",
       " [8753, 0.00305, ' French'],\n",
       " [304, 0.00304, ' in'],\n",
       " [12140, 0.00249, ' Louis'],\n",
       " [320, 0.00215, ' ('],\n",
       " [41958, 0.00193, ' paris']]"
      ]
     },
     "execution_count": 29,
     "metadata": {},
     "output_type": "execute_result"
    }
   ],
   "source": [
    "model_outputs[3]"
   ]
  },
  {
   "cell_type": "code",
   "execution_count": 30,
   "id": "aa1965d0-8647-4596-bd65-4208ad9cd8dc",
   "metadata": {},
   "outputs": [
    {
     "data": {
      "text/plain": [
       "[[12366, 0.92809, ' Paris'],\n",
       " [60704, 0.03539, 'Paris'],\n",
       " [9822, 0.00653, ' France'],\n",
       " [315, 0.00449, ' of'],\n",
       " [11, 0.00232, ','],\n",
       " [8753, 0.0014, ' French'],\n",
       " [41958, 0.00112, ' paris'],\n",
       " [304, 0.00084, ' in'],\n",
       " [320, 0.00072, ' ('],\n",
       " [50100, 0.00065, 'France']]"
      ]
     },
     "execution_count": 30,
     "metadata": {},
     "output_type": "execute_result"
    }
   ],
   "source": [
    "model_outputs[4]"
   ]
  },
  {
   "cell_type": "code",
   "execution_count": 33,
   "id": "9984834c-6e8d-4be0-8180-c676d24d30f4",
   "metadata": {},
   "outputs": [
    {
     "data": {
      "text/plain": [
       "[[12366, 0.89602, ' Paris'],\n",
       " [374, 0.07165, ' is'],\n",
       " [60704, 0.01212, 'Paris'],\n",
       " [315, 0.00628, ' of'],\n",
       " [9822, 0.00352, ' France'],\n",
       " [41958, 0.00075, ' paris'],\n",
       " [320, 0.00073, ' ('],\n",
       " [574, 0.00069, ' was'],\n",
       " [8753, 0.0006, ' French'],\n",
       " [304, 0.00051, ' in']]"
      ]
     },
     "execution_count": 33,
     "metadata": {},
     "output_type": "execute_result"
    }
   ],
   "source": [
    "model_outputs[10]"
   ]
  },
  {
   "cell_type": "code",
   "execution_count": 36,
   "id": "fe5d7eb3-a32f-4df2-bdee-662c2392ac15",
   "metadata": {},
   "outputs": [
    {
     "data": {
      "text/plain": [
       "[[12366, 0.91165, ' Paris'],\n",
       " [374, 0.06264, ' is'],\n",
       " [60704, 0.01071, 'Paris'],\n",
       " [315, 0.00425, ' of'],\n",
       " [9822, 0.00303, ' France'],\n",
       " [41958, 0.0007, ' paris'],\n",
       " [320, 0.00053, ' ('],\n",
       " [574, 0.00047, ' was'],\n",
       " [8753, 0.00046, ' French'],\n",
       " [304, 0.00033, ' in']]"
      ]
     },
     "execution_count": 36,
     "metadata": {},
     "output_type": "execute_result"
    }
   ],
   "source": [
    "model_outputs[11]"
   ]
  },
  {
   "cell_type": "code",
   "execution_count": 37,
   "id": "53c26d71-deeb-4d5e-b954-8fdd9c4e1a5b",
   "metadata": {},
   "outputs": [
    {
     "data": {
      "text/plain": [
       "[[12366, 0.93694, ' Paris'],\n",
       " [374, 0.0431, ' is'],\n",
       " [60704, 0.00964, 'Paris'],\n",
       " [315, 0.00258, ' of'],\n",
       " [9822, 0.00248, ' France'],\n",
       " [41958, 0.00064, ' paris'],\n",
       " [320, 0.00033, ' ('],\n",
       " [8753, 0.00033, ' French'],\n",
       " [574, 0.00028, ' was'],\n",
       " [477, 0.0002, ' or']]"
      ]
     },
     "execution_count": 37,
     "metadata": {},
     "output_type": "execute_result"
    }
   ],
   "source": [
    "model_outputs[12]"
   ]
  },
  {
   "cell_type": "code",
   "execution_count": 38,
   "id": "9a7bfe81-7d85-4d18-86a2-10b1f745f71e",
   "metadata": {},
   "outputs": [
    {
     "data": {
      "text/plain": [
       "[[12366, 0.95851, ' Paris'],\n",
       " [374, 0.02583, ' is'],\n",
       " [60704, 0.00873, 'Paris'],\n",
       " [9822, 0.00197, ' France'],\n",
       " [315, 0.00148, ' of'],\n",
       " [41958, 0.00057, ' paris'],\n",
       " [8753, 0.00023, ' French'],\n",
       " [320, 0.0002, ' ('],\n",
       " [574, 0.00016, ' was'],\n",
       " [477, 0.00012, ' or']]"
      ]
     },
     "execution_count": 38,
     "metadata": {},
     "output_type": "execute_result"
    }
   ],
   "source": [
    "model_outputs[13]"
   ]
  },
  {
   "cell_type": "code",
   "execution_count": 39,
   "id": "ea504f44-3100-487e-ae1e-ed0b3dc3e0f0",
   "metadata": {},
   "outputs": [
    {
     "data": {
      "text/plain": [
       "[[12366, 0.98119, ' Paris'],\n",
       " [374, 0.00832, ' is'],\n",
       " [60704, 0.0072, 'Paris'],\n",
       " [9822, 0.00119, ' France'],\n",
       " [315, 0.00051, ' of'],\n",
       " [41958, 0.00044, ' paris'],\n",
       " [8753, 0.00011, ' French'],\n",
       " [320, 7e-05, ' ('],\n",
       " [574, 5e-05, ' was'],\n",
       " [477, 4e-05, ' or']]"
      ]
     },
     "execution_count": 39,
     "metadata": {},
     "output_type": "execute_result"
    }
   ],
   "source": [
    "model_outputs[15]"
   ]
  },
  {
   "cell_type": "code",
   "execution_count": 40,
   "id": "33ea2bad-85fe-4490-b5b0-a33bf4b0cfde",
   "metadata": {},
   "outputs": [
    {
     "data": {
      "text/plain": [
       "[[12366, 0.98622, ' Paris'],\n",
       " [60704, 0.00656, 'Paris'],\n",
       " [374, 0.00483, ' is'],\n",
       " [9822, 0.00093, ' France'],\n",
       " [41958, 0.00039, ' paris'],\n",
       " [315, 0.00031, ' of'],\n",
       " [8753, 7e-05, ' French'],\n",
       " [320, 4e-05, ' ('],\n",
       " [574, 3e-05, ' was'],\n",
       " [477, 2e-05, ' or']]"
      ]
     },
     "execution_count": 40,
     "metadata": {},
     "output_type": "execute_result"
    }
   ],
   "source": [
    "model_outputs[16]"
   ]
  },
  {
   "cell_type": "code",
   "execution_count": 41,
   "id": "e06f1e58-fc2d-40cd-a7a9-933db535e677",
   "metadata": {},
   "outputs": [
    {
     "data": {
      "text/plain": [
       "[[12366, 0.99127, ' Paris'],\n",
       " [60704, 0.00553, 'Paris'],\n",
       " [374, 0.00182, ' is'],\n",
       " [9822, 0.00058, ' France'],\n",
       " [41958, 0.00031, ' paris'],\n",
       " [315, 0.00013, ' of'],\n",
       " [8753, 4e-05, ' French'],\n",
       " [320, 2e-05, ' ('],\n",
       " [574, 1e-05, ' was'],\n",
       " [477, 1e-05, ' or']]"
      ]
     },
     "execution_count": 41,
     "metadata": {},
     "output_type": "execute_result"
    }
   ],
   "source": [
    "model_outputs[18]"
   ]
  },
  {
   "cell_type": "code",
   "execution_count": 42,
   "id": "2210edbc-9308-48b1-9020-bd11264a9ccf",
   "metadata": {},
   "outputs": [
    {
     "data": {
      "text/plain": [
       "[[[37180, 0.04863, 'adar'],\n",
       "  [25107, 0.01659, ' mineral'],\n",
       "  [47415, 0.01525, 'Pose'],\n",
       "  [50561, 0.00561, ' dwarf'],\n",
       "  [6200, 0.00511, 'gl'],\n",
       "  [80830, 0.00508, ' Dwarf'],\n",
       "  [22919, 0.00415, ' Adult'],\n",
       "  [57403, 0.00394, ' poc'],\n",
       "  [51473, 0.00364, ' Pose'],\n",
       "  [43521, 0.00344, 'velt']],\n",
       " [[37180, 0.0235, 'adar'],\n",
       "  [11, 0.01985, ','],\n",
       "  [25107, 0.01922, ' mineral'],\n",
       "  [12140, 0.01128, ' Louis'],\n",
       "  [4701, 0.01003, ' Ag'],\n",
       "  [47415, 0.00842, 'Pose'],\n",
       "  [50561, 0.00548, ' dwarf'],\n",
       "  [30976, 0.00395, 'inet'],\n",
       "  [50416, 0.00379, ' Mineral'],\n",
       "  [22919, 0.00376, ' Adult']],\n",
       " [[12366, 0.17303, ' Paris'],\n",
       "  [11, 0.10821, ','],\n",
       "  [315, 0.01774, ' of'],\n",
       "  [60704, 0.01544, 'Paris'],\n",
       "  [12140, 0.01406, ' Louis'],\n",
       "  [304, 0.01241, ' in'],\n",
       "  [9822, 0.01167, ' France'],\n",
       "  [4701, 0.01122, ' Ag'],\n",
       "  [220, 0.0101, ' '],\n",
       "  [13, 0.00681, '.']],\n",
       " [[12366, 0.81609, ' Paris'],\n",
       "  [60704, 0.04212, 'Paris'],\n",
       "  [11, 0.0167, ','],\n",
       "  [9822, 0.01137, ' France'],\n",
       "  [315, 0.00877, ' of'],\n",
       "  [8753, 0.00305, ' French'],\n",
       "  [304, 0.00304, ' in'],\n",
       "  [12140, 0.00249, ' Louis'],\n",
       "  [320, 0.00215, ' ('],\n",
       "  [41958, 0.00193, ' paris']],\n",
       " [[12366, 0.92809, ' Paris'],\n",
       "  [60704, 0.03539, 'Paris'],\n",
       "  [9822, 0.00653, ' France'],\n",
       "  [315, 0.00449, ' of'],\n",
       "  [11, 0.00232, ','],\n",
       "  [8753, 0.0014, ' French'],\n",
       "  [41958, 0.00112, ' paris'],\n",
       "  [304, 0.00084, ' in'],\n",
       "  [320, 0.00072, ' ('],\n",
       "  [50100, 0.00065, 'France']],\n",
       " [[12366, 0.94592, ' Paris'],\n",
       "  [60704, 0.02873, 'Paris'],\n",
       "  [9822, 0.00507, ' France'],\n",
       "  [315, 0.00494, ' of'],\n",
       "  [374, 0.00105, ' is'],\n",
       "  [8753, 0.00101, ' French'],\n",
       "  [11, 0.00093, ','],\n",
       "  [41958, 0.00087, ' paris'],\n",
       "  [304, 0.00062, ' in'],\n",
       "  [320, 0.0006, ' (']],\n",
       " [[12366, 0.94862, ' Paris'],\n",
       "  [60704, 0.02385, 'Paris'],\n",
       "  [315, 0.00625, ' of'],\n",
       "  [9822, 0.0045, ' France'],\n",
       "  [374, 0.00421, ' is'],\n",
       "  [8753, 0.00089, ' French'],\n",
       "  [41958, 0.00081, ' paris'],\n",
       "  [320, 0.00068, ' ('],\n",
       "  [304, 0.00064, ' in'],\n",
       "  [11, 0.00057, ',']],\n",
       " [[12366, 0.94141, ' Paris'],\n",
       "  [60704, 0.02002, 'Paris'],\n",
       "  [374, 0.01394, ' is'],\n",
       "  [315, 0.00757, ' of'],\n",
       "  [9822, 0.00426, ' France'],\n",
       "  [8753, 0.00084, ' French'],\n",
       "  [41958, 0.00081, ' paris'],\n",
       "  [320, 0.00081, ' ('],\n",
       "  [304, 0.00071, ' in'],\n",
       "  [574, 0.00065, ' was']],\n",
       " [[12366, 0.92348, ' Paris'],\n",
       "  [374, 0.03415, ' is'],\n",
       "  [60704, 0.01681, 'Paris'],\n",
       "  [315, 0.00832, ' of'],\n",
       "  [9822, 0.00412, ' France'],\n",
       "  [320, 0.0009, ' ('],\n",
       "  [41958, 0.00081, ' paris'],\n",
       "  [574, 0.00081, ' was'],\n",
       "  [8753, 0.0008, ' French'],\n",
       "  [304, 0.00074, ' in']],\n",
       " [[12366, 0.90241, ' Paris'],\n",
       "  [374, 0.05924, ' is'],\n",
       "  [60704, 0.01414, 'Paris'],\n",
       "  [315, 0.00789, ' of'],\n",
       "  [9822, 0.00389, ' France'],\n",
       "  [320, 0.00088, ' ('],\n",
       "  [574, 0.00083, ' was'],\n",
       "  [41958, 0.00079, ' paris'],\n",
       "  [8753, 0.00072, ' French'],\n",
       "  [304, 0.00067, ' in']],\n",
       " [[12366, 0.89602, ' Paris'],\n",
       "  [374, 0.07165, ' is'],\n",
       "  [60704, 0.01212, 'Paris'],\n",
       "  [315, 0.00628, ' of'],\n",
       "  [9822, 0.00352, ' France'],\n",
       "  [41958, 0.00075, ' paris'],\n",
       "  [320, 0.00073, ' ('],\n",
       "  [574, 0.00069, ' was'],\n",
       "  [8753, 0.0006, ' French'],\n",
       "  [304, 0.00051, ' in']],\n",
       " [[12366, 0.91165, ' Paris'],\n",
       "  [374, 0.06264, ' is'],\n",
       "  [60704, 0.01071, 'Paris'],\n",
       "  [315, 0.00425, ' of'],\n",
       "  [9822, 0.00303, ' France'],\n",
       "  [41958, 0.0007, ' paris'],\n",
       "  [320, 0.00053, ' ('],\n",
       "  [574, 0.00047, ' was'],\n",
       "  [8753, 0.00046, ' French'],\n",
       "  [304, 0.00033, ' in']],\n",
       " [[12366, 0.93694, ' Paris'],\n",
       "  [374, 0.0431, ' is'],\n",
       "  [60704, 0.00964, 'Paris'],\n",
       "  [315, 0.00258, ' of'],\n",
       "  [9822, 0.00248, ' France'],\n",
       "  [41958, 0.00064, ' paris'],\n",
       "  [320, 0.00033, ' ('],\n",
       "  [8753, 0.00033, ' French'],\n",
       "  [574, 0.00028, ' was'],\n",
       "  [477, 0.0002, ' or']],\n",
       " [[12366, 0.95851, ' Paris'],\n",
       "  [374, 0.02583, ' is'],\n",
       "  [60704, 0.00873, 'Paris'],\n",
       "  [9822, 0.00197, ' France'],\n",
       "  [315, 0.00148, ' of'],\n",
       "  [41958, 0.00057, ' paris'],\n",
       "  [8753, 0.00023, ' French'],\n",
       "  [320, 0.0002, ' ('],\n",
       "  [574, 0.00016, ' was'],\n",
       "  [477, 0.00012, ' or']],\n",
       " [[12366, 0.9727, ' Paris'],\n",
       "  [374, 0.01467, ' is'],\n",
       "  [60704, 0.00792, 'Paris'],\n",
       "  [9822, 0.00153, ' France'],\n",
       "  [315, 0.00086, ' of'],\n",
       "  [41958, 0.0005, ' paris'],\n",
       "  [8753, 0.00016, ' French'],\n",
       "  [320, 0.00012, ' ('],\n",
       "  [574, 9e-05, ' was'],\n",
       "  [477, 7e-05, ' or']],\n",
       " [[12366, 0.98119, ' Paris'],\n",
       "  [374, 0.00832, ' is'],\n",
       "  [60704, 0.0072, 'Paris'],\n",
       "  [9822, 0.00119, ' France'],\n",
       "  [315, 0.00051, ' of'],\n",
       "  [41958, 0.00044, ' paris'],\n",
       "  [8753, 0.00011, ' French'],\n",
       "  [320, 7e-05, ' ('],\n",
       "  [574, 5e-05, ' was'],\n",
       "  [477, 4e-05, ' or']],\n",
       " [[12366, 0.98622, ' Paris'],\n",
       "  [60704, 0.00656, 'Paris'],\n",
       "  [374, 0.00483, ' is'],\n",
       "  [9822, 0.00093, ' France'],\n",
       "  [41958, 0.00039, ' paris'],\n",
       "  [315, 0.00031, ' of'],\n",
       "  [8753, 7e-05, ' French'],\n",
       "  [320, 4e-05, ' ('],\n",
       "  [574, 3e-05, ' was'],\n",
       "  [477, 2e-05, ' or']],\n",
       " [[12366, 0.9893, ' Paris'],\n",
       "  [60704, 0.00601, 'Paris'],\n",
       "  [374, 0.00291, ' is'],\n",
       "  [9822, 0.00073, ' France'],\n",
       "  [41958, 0.00035, ' paris'],\n",
       "  [315, 0.0002, ' of'],\n",
       "  [8753, 5e-05, ' French'],\n",
       "  [320, 3e-05, ' ('],\n",
       "  [574, 2e-05, ' was'],\n",
       "  [477, 2e-05, ' or']],\n",
       " [[12366, 0.99127, ' Paris'],\n",
       "  [60704, 0.00553, 'Paris'],\n",
       "  [374, 0.00182, ' is'],\n",
       "  [9822, 0.00058, ' France'],\n",
       "  [41958, 0.00031, ' paris'],\n",
       "  [315, 0.00013, ' of'],\n",
       "  [8753, 4e-05, ' French'],\n",
       "  [320, 2e-05, ' ('],\n",
       "  [574, 1e-05, ' was'],\n",
       "  [477, 1e-05, ' or']],\n",
       " [[12366, 0.9926, ' Paris'],\n",
       "  [60704, 0.00512, 'Paris'],\n",
       "  [374, 0.00118, ' is'],\n",
       "  [9822, 0.00047, ' France'],\n",
       "  [41958, 0.00028, ' paris'],\n",
       "  [315, 9e-05, ' of'],\n",
       "  [8753, 3e-05, ' French'],\n",
       "  [320, 1e-05, ' ('],\n",
       "  [50100, 1e-05, 'France'],\n",
       "  [477, 1e-05, ' or']],\n",
       " [[12366, 0.99353, ' Paris'],\n",
       "  [60704, 0.00478, 'Paris'],\n",
       "  [374, 0.0008, ' is'],\n",
       "  [9822, 0.00039, ' France'],\n",
       "  [41958, 0.00025, ' paris'],\n",
       "  [315, 7e-05, ' of'],\n",
       "  [8753, 2e-05, ' French'],\n",
       "  [320, 1e-05, ' ('],\n",
       "  [50100, 1e-05, 'France'],\n",
       "  [477, 0.0, ' or']],\n",
       " [[12366, 0.9942, ' Paris'],\n",
       "  [60704, 0.0045, 'Paris'],\n",
       "  [374, 0.00056, ' is'],\n",
       "  [9822, 0.00032, ' France'],\n",
       "  [41958, 0.00023, ' paris'],\n",
       "  [315, 5e-05, ' of'],\n",
       "  [8753, 2e-05, ' French'],\n",
       "  [320, 1e-05, ' ('],\n",
       "  [50100, 0.0, 'France'],\n",
       "  [477, 0.0, ' or']],\n",
       " [[12366, 0.99469, ' Paris'],\n",
       "  [60704, 0.00427, 'Paris'],\n",
       "  [374, 0.0004, ' is'],\n",
       "  [9822, 0.00027, ' France'],\n",
       "  [41958, 0.00021, ' paris'],\n",
       "  [315, 4e-05, ' of'],\n",
       "  [8753, 1e-05, ' French'],\n",
       "  [320, 1e-05, ' ('],\n",
       "  [50100, 0.0, 'France'],\n",
       "  [477, 0.0, ' or']],\n",
       " [[12366, 0.99506, ' Paris'],\n",
       "  [60704, 0.00408, 'Paris'],\n",
       "  [374, 0.0003, ' is'],\n",
       "  [9822, 0.00024, ' France'],\n",
       "  [41958, 0.0002, ' paris'],\n",
       "  [315, 3e-05, ' of'],\n",
       "  [8753, 1e-05, ' French'],\n",
       "  [320, 0.0, ' ('],\n",
       "  [50100, 0.0, 'France'],\n",
       "  [704, 0.0, ' out']],\n",
       " [[12366, 0.99536, ' Paris'],\n",
       "  [60704, 0.00391, 'Paris'],\n",
       "  [374, 0.00023, ' is'],\n",
       "  [9822, 0.00021, ' France'],\n",
       "  [41958, 0.00019, ' paris'],\n",
       "  [315, 2e-05, ' of'],\n",
       "  [8753, 1e-05, ' French'],\n",
       "  [320, 0.0, ' ('],\n",
       "  [50100, 0.0, 'France'],\n",
       "  [704, 0.0, ' out']],\n",
       " [[12366, 0.9956, ' Paris'],\n",
       "  [60704, 0.00376, 'Paris'],\n",
       "  [9822, 0.00019, ' France'],\n",
       "  [41958, 0.00018, ' paris'],\n",
       "  [374, 0.00018, ' is'],\n",
       "  [315, 2e-05, ' of'],\n",
       "  [8753, 1e-05, ' French'],\n",
       "  [320, 0.0, ' ('],\n",
       "  [50100, 0.0, 'France'],\n",
       "  [704, 0.0, ' out']],\n",
       " [[12366, 0.99583, ' Paris'],\n",
       "  [60704, 0.0036, 'Paris'],\n",
       "  [41958, 0.00018, ' paris'],\n",
       "  [9822, 0.00017, ' France'],\n",
       "  [374, 0.00015, ' is'],\n",
       "  [315, 2e-05, ' of'],\n",
       "  [8753, 1e-05, ' French'],\n",
       "  [320, 0.0, ' ('],\n",
       "  [50100, 0.0, 'France'],\n",
       "  [704, 0.0, ' out']],\n",
       " [[12366, 0.99604, ' Paris'],\n",
       "  [60704, 0.00345, 'Paris'],\n",
       "  [41958, 0.00017, ' paris'],\n",
       "  [9822, 0.00016, ' France'],\n",
       "  [374, 0.00012, ' is'],\n",
       "  [315, 1e-05, ' of'],\n",
       "  [8753, 1e-05, ' French'],\n",
       "  [320, 0.0, ' ('],\n",
       "  [50100, 0.0, 'France'],\n",
       "  [704, 0.0, ' out']],\n",
       " [[12366, 0.99624, ' Paris'],\n",
       "  [60704, 0.00328, 'Paris'],\n",
       "  [41958, 0.00016, ' paris'],\n",
       "  [9822, 0.00015, ' France'],\n",
       "  [374, 0.0001, ' is'],\n",
       "  [315, 1e-05, ' of'],\n",
       "  [8753, 1e-05, ' French'],\n",
       "  [320, 0.0, ' ('],\n",
       "  [50100, 0.0, 'France'],\n",
       "  [704, 0.0, ' out']],\n",
       " [[12366, 0.99644, ' Paris'],\n",
       "  [60704, 0.00312, 'Paris'],\n",
       "  [41958, 0.00015, ' paris'],\n",
       "  [9822, 0.00015, ' France'],\n",
       "  [374, 9e-05, ' is'],\n",
       "  [315, 1e-05, ' of'],\n",
       "  [8753, 0.0, ' French'],\n",
       "  [320, 0.0, ' ('],\n",
       "  [50100, 0.0, 'France'],\n",
       "  [7295, 0.0, ' London']],\n",
       " [[12366, 0.99664, ' Paris'],\n",
       "  [60704, 0.00294, 'Paris'],\n",
       "  [41958, 0.00015, ' paris'],\n",
       "  [9822, 0.00014, ' France'],\n",
       "  [374, 8e-05, ' is'],\n",
       "  [315, 1e-05, ' of'],\n",
       "  [8753, 0.0, ' French'],\n",
       "  [320, 0.0, ' ('],\n",
       "  [50100, 0.0, 'France'],\n",
       "  [7295, 0.0, ' London']],\n",
       " [[12366, 0.99684, ' Paris'],\n",
       "  [60704, 0.00277, 'Paris'],\n",
       "  [9822, 0.00014, ' France'],\n",
       "  [41958, 0.00014, ' paris'],\n",
       "  [374, 7e-05, ' is'],\n",
       "  [315, 1e-05, ' of'],\n",
       "  [8753, 0.0, ' French'],\n",
       "  [320, 0.0, ' ('],\n",
       "  [50100, 0.0, 'France'],\n",
       "  [7295, 0.0, ' London']],\n",
       " [[12366, 0.99703, ' Paris'],\n",
       "  [60704, 0.0026, 'Paris'],\n",
       "  [9822, 0.00014, ' France'],\n",
       "  [41958, 0.00013, ' paris'],\n",
       "  [374, 6e-05, ' is'],\n",
       "  [315, 1e-05, ' of'],\n",
       "  [8753, 0.0, ' French'],\n",
       "  [320, 0.0, ' ('],\n",
       "  [50100, 0.0, 'France'],\n",
       "  [7295, 0.0, ' London']],\n",
       " [[12366, 0.9972, ' Paris'],\n",
       "  [60704, 0.00244, 'Paris'],\n",
       "  [9822, 0.00013, ' France'],\n",
       "  [41958, 0.00012, ' paris'],\n",
       "  [374, 6e-05, ' is'],\n",
       "  [315, 1e-05, ' of'],\n",
       "  [8753, 0.0, ' French'],\n",
       "  [320, 0.0, ' ('],\n",
       "  [50100, 0.0, 'France'],\n",
       "  [7295, 0.0, ' London']],\n",
       " [[12366, 0.99736, ' Paris'],\n",
       "  [60704, 0.00229, 'Paris'],\n",
       "  [9822, 0.00013, ' France'],\n",
       "  [41958, 0.00012, ' paris'],\n",
       "  [374, 5e-05, ' is'],\n",
       "  [315, 1e-05, ' of'],\n",
       "  [8753, 0.0, ' French'],\n",
       "  [320, 0.0, ' ('],\n",
       "  [50100, 0.0, 'France'],\n",
       "  [7295, 0.0, ' London']],\n",
       " [[12366, 0.99751, ' Paris'],\n",
       "  [60704, 0.00216, 'Paris'],\n",
       "  [9822, 0.00013, ' France'],\n",
       "  [41958, 0.00011, ' paris'],\n",
       "  [374, 5e-05, ' is'],\n",
       "  [315, 1e-05, ' of'],\n",
       "  [8753, 0.0, ' French'],\n",
       "  [320, 0.0, ' ('],\n",
       "  [50100, 0.0, 'France'],\n",
       "  [7295, 0.0, ' London']],\n",
       " [[12366, 0.99764, ' Paris'],\n",
       "  [60704, 0.00204, 'Paris'],\n",
       "  [9822, 0.00013, ' France'],\n",
       "  [41958, 0.00011, ' paris'],\n",
       "  [374, 5e-05, ' is'],\n",
       "  [315, 1e-05, ' of'],\n",
       "  [8753, 0.0, ' French'],\n",
       "  [320, 0.0, ' ('],\n",
       "  [50100, 0.0, 'France'],\n",
       "  [7295, 0.0, ' London']],\n",
       " [[12366, 0.99776, ' Paris'],\n",
       "  [60704, 0.00193, 'Paris'],\n",
       "  [9822, 0.00014, ' France'],\n",
       "  [41958, 0.0001, ' paris'],\n",
       "  [374, 5e-05, ' is'],\n",
       "  [315, 1e-05, ' of'],\n",
       "  [8753, 0.0, ' French'],\n",
       "  [320, 0.0, ' ('],\n",
       "  [50100, 0.0, 'France'],\n",
       "  [7295, 0.0, ' London']],\n",
       " [[12366, 0.99786, ' Paris'],\n",
       "  [60704, 0.00183, 'Paris'],\n",
       "  [9822, 0.00014, ' France'],\n",
       "  [41958, 0.0001, ' paris'],\n",
       "  [374, 4e-05, ' is'],\n",
       "  [315, 1e-05, ' of'],\n",
       "  [8753, 0.0, ' French'],\n",
       "  [320, 0.0, ' ('],\n",
       "  [50100, 0.0, 'France'],\n",
       "  [7295, 0.0, ' London']],\n",
       " [[12366, 0.99794, ' Paris'],\n",
       "  [60704, 0.00175, 'Paris'],\n",
       "  [9822, 0.00014, ' France'],\n",
       "  [41958, 9e-05, ' paris'],\n",
       "  [374, 4e-05, ' is'],\n",
       "  [315, 1e-05, ' of'],\n",
       "  [8753, 0.0, ' French'],\n",
       "  [320, 0.0, ' ('],\n",
       "  [50100, 0.0, 'France'],\n",
       "  [7295, 0.0, ' London']],\n",
       " [[12366, 0.99802, ' Paris'],\n",
       "  [60704, 0.00168, 'Paris'],\n",
       "  [9822, 0.00014, ' France'],\n",
       "  [41958, 9e-05, ' paris'],\n",
       "  [374, 4e-05, ' is'],\n",
       "  [315, 1e-05, ' of'],\n",
       "  [8753, 0.0, ' French'],\n",
       "  [320, 0.0, ' ('],\n",
       "  [50100, 0.0, 'France'],\n",
       "  [7295, 0.0, ' London']],\n",
       " [[12366, 0.99808, ' Paris'],\n",
       "  [60704, 0.00161, 'Paris'],\n",
       "  [9822, 0.00015, ' France'],\n",
       "  [41958, 9e-05, ' paris'],\n",
       "  [374, 4e-05, ' is'],\n",
       "  [315, 1e-05, ' of'],\n",
       "  [8753, 0.0, ' French'],\n",
       "  [320, 0.0, ' ('],\n",
       "  [50100, 0.0, 'France'],\n",
       "  [7295, 0.0, ' London']],\n",
       " [[12366, 0.99813, ' Paris'],\n",
       "  [60704, 0.00156, 'Paris'],\n",
       "  [9822, 0.00015, ' France'],\n",
       "  [41958, 9e-05, ' paris'],\n",
       "  [374, 4e-05, ' is'],\n",
       "  [315, 1e-05, ' of'],\n",
       "  [8753, 0.0, ' French'],\n",
       "  [320, 0.0, ' ('],\n",
       "  [50100, 0.0, 'France'],\n",
       "  [7295, 0.0, ' London']],\n",
       " [[12366, 0.99818, ' Paris'],\n",
       "  [60704, 0.00151, 'Paris'],\n",
       "  [9822, 0.00016, ' France'],\n",
       "  [41958, 8e-05, ' paris'],\n",
       "  [374, 4e-05, ' is'],\n",
       "  [315, 1e-05, ' of'],\n",
       "  [8753, 0.0, ' French'],\n",
       "  [320, 0.0, ' ('],\n",
       "  [50100, 0.0, 'France'],\n",
       "  [7295, 0.0, ' London']],\n",
       " [[12366, 0.99822, ' Paris'],\n",
       "  [60704, 0.00147, 'Paris'],\n",
       "  [9822, 0.00016, ' France'],\n",
       "  [41958, 8e-05, ' paris'],\n",
       "  [374, 4e-05, ' is'],\n",
       "  [315, 1e-05, ' of'],\n",
       "  [8753, 0.0, ' French'],\n",
       "  [320, 0.0, ' ('],\n",
       "  [50100, 0.0, 'France'],\n",
       "  [7295, 0.0, ' London']],\n",
       " [[12366, 0.99825, ' Paris'],\n",
       "  [60704, 0.00143, 'Paris'],\n",
       "  [9822, 0.00017, ' France'],\n",
       "  [41958, 8e-05, ' paris'],\n",
       "  [374, 4e-05, ' is'],\n",
       "  [315, 1e-05, ' of'],\n",
       "  [8753, 0.0, ' French'],\n",
       "  [320, 0.0, ' ('],\n",
       "  [50100, 0.0, 'France'],\n",
       "  [7295, 0.0, ' London']],\n",
       " [[12366, 0.99828, ' Paris'],\n",
       "  [60704, 0.0014, 'Paris'],\n",
       "  [9822, 0.00017, ' France'],\n",
       "  [41958, 8e-05, ' paris'],\n",
       "  [374, 4e-05, ' is'],\n",
       "  [315, 1e-05, ' of'],\n",
       "  [8753, 0.0, ' French'],\n",
       "  [320, 0.0, ' ('],\n",
       "  [50100, 0.0, 'France'],\n",
       "  [7295, 0.0, ' London']],\n",
       " [[12366, 0.9983, ' Paris'],\n",
       "  [60704, 0.00137, 'Paris'],\n",
       "  [9822, 0.00018, ' France'],\n",
       "  [41958, 8e-05, ' paris'],\n",
       "  [374, 4e-05, ' is'],\n",
       "  [315, 1e-05, ' of'],\n",
       "  [8753, 0.0, ' French'],\n",
       "  [320, 0.0, ' ('],\n",
       "  [50100, 0.0, 'France'],\n",
       "  [7295, 0.0, ' London']],\n",
       " [[12366, 0.99832, ' Paris'],\n",
       "  [60704, 0.00134, 'Paris'],\n",
       "  [9822, 0.00018, ' France'],\n",
       "  [41958, 8e-05, ' paris'],\n",
       "  [374, 4e-05, ' is'],\n",
       "  [315, 1e-05, ' of'],\n",
       "  [8753, 0.0, ' French'],\n",
       "  [320, 0.0, ' ('],\n",
       "  [50100, 0.0, 'France'],\n",
       "  [7295, 0.0, ' London']],\n",
       " [[12366, 0.99834, ' Paris'],\n",
       "  [60704, 0.00132, 'Paris'],\n",
       "  [9822, 0.00019, ' France'],\n",
       "  [41958, 8e-05, ' paris'],\n",
       "  [374, 4e-05, ' is'],\n",
       "  [315, 1e-05, ' of'],\n",
       "  [8753, 0.0, ' French'],\n",
       "  [320, 0.0, ' ('],\n",
       "  [50100, 0.0, 'France'],\n",
       "  [7295, 0.0, ' London']]]"
      ]
     },
     "execution_count": 42,
     "metadata": {},
     "output_type": "execute_result"
    }
   ],
   "source": [
    "model_outputs[:50]"
   ]
  },
  {
   "cell_type": "code",
   "execution_count": null,
   "id": "a8da60ec-5866-4a68-a51f-f4a8207b52e2",
   "metadata": {},
   "outputs": [],
   "source": []
  },
  {
   "cell_type": "code",
   "execution_count": null,
   "id": "713a7261-6b89-4b3c-ab6d-16802cab6737",
   "metadata": {},
   "outputs": [],
   "source": []
  },
  {
   "cell_type": "code",
   "execution_count": 17,
   "id": "83e51e42-b15c-4ed0-81cc-bbffb8645b98",
   "metadata": {},
   "outputs": [],
   "source": [
    "# alphas_shifted"
   ]
  },
  {
   "cell_type": "code",
   "execution_count": 18,
   "id": "d54664b7-a2b2-4731-92c4-bb7d95bf74ff",
   "metadata": {},
   "outputs": [],
   "source": [
    "# betas_shifted"
   ]
  },
  {
   "cell_type": "code",
   "execution_count": null,
   "id": "596b1e5f-110d-48d7-956c-44aa8a9a7edd",
   "metadata": {},
   "outputs": [
    {
     "name": "stderr",
     "output_type": "stream",
     "text": [
      "100%|██████████| 512/512 [1:25:51<00:00, 10.06s/it]\n",
      "100%|██████████| 512/512 [1:26:12<00:00, 10.10s/it]\n",
      " 75%|███████▍  | 382/512 [1:04:15<21:51, 10.09s/it]"
     ]
    }
   ],
   "source": [
    "for step in range(n_steps):\n",
    "    if step>10: #Previous 11 steps already rendered!\n",
    "        losses=[]\n",
    "        model.eval();\n",
    "        with torch.no_grad():\n",
    "            for i, alpha in enumerate(tqdm(alphas_shifted)):\n",
    "                losses.append([])\n",
    "                for j, beta in enumerate(betas_shifted):\n",
    "                    for name, param in model.named_parameters():\n",
    "                        if name in direction1:\n",
    "                            param.data = original_params_shifted[name] + alpha * direction1[name] + beta*direction2[name]\n",
    "                    \n",
    "                    outputs = model(input_ids, labels=input_ids)\n",
    "                    my_probs=F.softmax(outputs.logits, dim=-1)\n",
    "                    paris_only_loss=-np.log(my_probs[0, 5, 12366].item())\n",
    "                    losses[-1].append(paris_only_loss)\n",
    "            \n",
    "            for name, param in model.named_parameters(): # Restore original shifted parameters\n",
    "                if name in original_params: \n",
    "                    param.data.copy_(original_params_shifted[name])\n",
    "        losses=np.array(losses)\n",
    "        np.save(output_dir +'/'+str(step).zfill(3), losses)\n",
    "        \n",
    "        plt.clf()\n",
    "        fig, ax = plt.subplots(figsize=(10, 8))\n",
    "        contourf = ax.contourf(alphas, betas, losses, 20, cmap='viridis', alpha=0.8)\n",
    "        contour = ax.contour(alphas, betas, losses, 30, colors='white', linewidths=0.5)\n",
    "        plt.scatter(beta_shift, alpha_shift, c='m')\n",
    "        plt.savefig(output_dir +'/'+str(step).zfill(3)+'.png')\n",
    "\n",
    "    model.train()\n",
    "    optimizer.zero_grad()\n",
    "    outputs = model(**inputs, labels=inputs['input_ids'])\n",
    "    loss = outputs.loss #Ok not just paris loss here -> not sure how much I'm worried about that\n",
    "    loss.backward()\n",
    "    optimizer.step()"
   ]
  },
  {
   "cell_type": "code",
   "execution_count": null,
   "id": "f5cca45c-c119-4810-9d5f-2ec89f2e2647",
   "metadata": {},
   "outputs": [],
   "source": [
    "# alpha_shift=1 #This will probably take some trial and error\n",
    "# beta_shift=-1\n",
    "\n",
    "# plt.clf()\n",
    "# fig, ax = plt.subplots(figsize=(10, 8))\n",
    "# contourf = ax.contourf(alphas, betas, losses, 20, cmap='viridis', alpha=0.8)\n",
    "# contour = ax.contour(alphas, betas, losses, 30, colors='white', linewidths=0.5)\n",
    "# plt.scatter(beta_shift, alpha_shift, c='m')\n",
    "# plt.savefig(output_dir +'/'+str(step).zfill(3)+'.png')\n"
   ]
  },
  {
   "cell_type": "code",
   "execution_count": null,
   "id": "0d6fc107-ae9f-411f-a8dd-ac58cca20887",
   "metadata": {},
   "outputs": [],
   "source": []
  },
  {
   "cell_type": "code",
   "execution_count": null,
   "id": "6bbb9686-441c-4264-9126-2c3b7f6f6435",
   "metadata": {},
   "outputs": [],
   "source": []
  },
  {
   "cell_type": "code",
   "execution_count": null,
   "id": "b8f3a6e4-d217-4f35-a57d-9282f86850fa",
   "metadata": {},
   "outputs": [],
   "source": []
  },
  {
   "cell_type": "code",
   "execution_count": null,
   "id": "19fefe5e-2c95-45ec-b5b5-724d0e99b59e",
   "metadata": {},
   "outputs": [],
   "source": []
  },
  {
   "cell_type": "code",
   "execution_count": null,
   "id": "c3e766ec-1f04-42ff-91f6-b93ad4012861",
   "metadata": {},
   "outputs": [],
   "source": []
  },
  {
   "cell_type": "code",
   "execution_count": null,
   "id": "941a419c-9d93-4832-adc4-8f2e8e0390ec",
   "metadata": {},
   "outputs": [],
   "source": []
  },
  {
   "cell_type": "markdown",
   "id": "6dbe0509-dcb6-4404-8328-112e0fff4634",
   "metadata": {},
   "source": [
    "---"
   ]
  },
  {
   "cell_type": "markdown",
   "id": "18578f72-ffc6-49dc-9b61-046bf891652d",
   "metadata": {},
   "source": [
    "Ok cool 1e-5 is probably a pretty good learning rate"
   ]
  },
  {
   "cell_type": "code",
   "execution_count": null,
   "id": "eed06fa9-fba2-41f5-86e3-3a02058aa722",
   "metadata": {},
   "outputs": [],
   "source": []
  },
  {
   "cell_type": "code",
   "execution_count": null,
   "id": "a9a4aaab-0404-4aeb-a41e-fd9b9a157c12",
   "metadata": {},
   "outputs": [],
   "source": []
  },
  {
   "cell_type": "code",
   "execution_count": null,
   "id": "edc3503f-b2de-41f2-b393-a7a984c933a1",
   "metadata": {},
   "outputs": [],
   "source": []
  },
  {
   "cell_type": "code",
   "execution_count": null,
   "id": "5615c205-0689-4cde-b4cf-d89c3019f5b2",
   "metadata": {},
   "outputs": [],
   "source": []
  },
  {
   "cell_type": "code",
   "execution_count": null,
   "id": "2f6eaaf5-4b2b-4528-8d20-851fb00defe6",
   "metadata": {},
   "outputs": [],
   "source": []
  },
  {
   "cell_type": "code",
   "execution_count": null,
   "id": "e4ed1153-a098-49ad-b344-69c8e4653c41",
   "metadata": {},
   "outputs": [],
   "source": []
  },
  {
   "cell_type": "code",
   "execution_count": null,
   "id": "d478fc9e-5313-4415-9671-e5c153201d38",
   "metadata": {},
   "outputs": [],
   "source": []
  },
  {
   "cell_type": "code",
   "execution_count": null,
   "id": "4a53746a-c9e9-4650-b7aa-b2047cdaf6e6",
   "metadata": {},
   "outputs": [],
   "source": []
  },
  {
   "cell_type": "code",
   "execution_count": null,
   "id": "50092866-1431-44a5-86cb-c4ac22d08e19",
   "metadata": {},
   "outputs": [],
   "source": []
  },
  {
   "cell_type": "code",
   "execution_count": null,
   "id": "8c305e72-627b-4342-b358-3265849cebff",
   "metadata": {},
   "outputs": [],
   "source": []
  }
 ],
 "metadata": {
  "kernelspec": {
   "display_name": "Python 3 (ipykernel)",
   "language": "python",
   "name": "python3"
  },
  "language_info": {
   "codemirror_mode": {
    "name": "ipython",
    "version": 3
   },
   "file_extension": ".py",
   "mimetype": "text/x-python",
   "name": "python",
   "nbconvert_exporter": "python",
   "pygments_lexer": "ipython3",
   "version": "3.10.12"
  }
 },
 "nbformat": 4,
 "nbformat_minor": 5
}
