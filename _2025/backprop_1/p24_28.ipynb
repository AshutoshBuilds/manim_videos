{
 "cells": [
  {
   "cell_type": "markdown",
   "id": "985a7d80-ed49-48dd-bf05-3796214fe023",
   "metadata": {},
   "source": [
    "# p24_28"
   ]
  },
  {
   "cell_type": "code",
   "execution_count": 1,
   "id": "ea02424f-82b2-46a6-81dd-6e2d9e4fac1e",
   "metadata": {},
   "outputs": [],
   "source": [
    "import torch\n",
    "from transformers import pipeline\n",
    "from torch.nn import functional as F\n",
    "import numpy as np\n",
    "from tqdm import tqdm\n",
    "import matplotlib.pyplot as plt\n",
    "\n",
    "from transformers import GPT2LMHeadModel, GPT2Tokenizer, GPT2Config\n",
    "from transformers import LlamaForCausalLM, PreTrainedTokenizerFast, LlamaConfig\n",
    "from transformers import AutoModelForCausalLM, AutoTokenizer\n",
    "\n",
    "device='cuda'"
   ]
  },
  {
   "cell_type": "code",
   "execution_count": 2,
   "id": "d2640169-64e8-4fb0-887f-19bc57689f73",
   "metadata": {},
   "outputs": [],
   "source": [
    "model_id = \"meta-llama/Llama-3.2-1B\"\n",
    "# model_id = \"openai-community/gpt2\"\n",
    "# model_id = \"google/gemma-3-1b-pt\"\n",
    "# model_id = \"gpt2\""
   ]
  },
  {
   "cell_type": "code",
   "execution_count": 3,
   "id": "d7d70467-95d2-471c-971a-fee7cbc4484b",
   "metadata": {},
   "outputs": [],
   "source": [
    "# Random init\n",
    "# model_config = GPT2Config() #Full sized model\n",
    "# model = GPT2LMHeadModel(model_config).to(device) #Ok i should see what happens with full and pretrained model. \n",
    "# tokenizer = GPT2Tokenizer.from_pretrained(\"gpt2\")\n",
    "\n",
    "# Not quite working for Llama, will take some noodling\n",
    "# model_config  = LlamaConfig.from_dict(config_dict)\n",
    "# model = LlamaForCausalLM(model_config).to(device) \n",
    "# tokenizer = AutoTokenizer.from_pretrained(model_id)\n",
    "\n",
    "#Pretrained\n",
    "model = AutoModelForCausalLM.from_pretrained(model_id).to(device)\n",
    "tokenizer = AutoTokenizer.from_pretrained(model_id)"
   ]
  },
  {
   "cell_type": "code",
   "execution_count": 4,
   "id": "5e2632aa-b0dc-4305-a0b3-d5510f5c3660",
   "metadata": {},
   "outputs": [
    {
     "name": "stdout",
     "output_type": "stream",
     "text": [
      "3.3751838207244873 3.3751838207244873\n"
     ]
    }
   ],
   "source": [
    "text = \"The capital of France is Paris\"\n",
    "inputs = tokenizer(text, return_tensors=\"pt\").to(device)\n",
    "input_ids = inputs[\"input_ids\"]\n",
    "\n",
    "with torch.no_grad():\n",
    "    outputs = model(input_ids, labels=input_ids)\n",
    "\n",
    "my_probs=F.softmax(outputs.logits, dim=-1)\n",
    "y_one_hot=F.one_hot(input_ids, num_classes=model.config.vocab_size)\n",
    "correct_next_token_probs = (my_probs[:,:-1]*y_one_hot[:,1:]).sum(-1) #I'm sure there's waaay more efficient ways to do this\n",
    "my_loss=-torch.log(correct_next_token_probs).mean()\n",
    "print(my_loss.item(), outputs.loss.item())"
   ]
  },
  {
   "cell_type": "code",
   "execution_count": 5,
   "id": "743374bd-a722-4907-ae87-98278623f6bf",
   "metadata": {},
   "outputs": [
    {
     "data": {
      "text/plain": [
       "1.2358144"
      ]
     },
     "execution_count": 5,
     "metadata": {},
     "output_type": "execute_result"
    }
   ],
   "source": [
    "prompt2=\"The capital of France is Paris\"\n",
    "input_ids=tokenizer.encode(prompt2, return_tensors=\"pt\")\n",
    "\n",
    "out=model(input_ids.to(device), labels=input_ids.to(device))\n",
    "out.loss.backward()\n",
    "\n",
    "param_dict = {name: param for name, param in model.named_parameters()}\n",
    "param_dict_2d={k:v for k,v in param_dict.items() if v.ndim>1}\n",
    "grad_dict = {}\n",
    "\n",
    "for p in param_dict:\n",
    "    if param_dict[p].requires_grad:\n",
    "        grad_dict[p] = param_dict[p].grad\n",
    "\n",
    "grad_count=0\n",
    "for g in grad_dict:\n",
    "    grad_count+=grad_dict[g].numel()\n",
    "\n",
    "grad_count/1e9"
   ]
  },
  {
   "cell_type": "code",
   "execution_count": 6,
   "id": "aa9eba00-b41f-4747-913e-446d4a08fe41",
   "metadata": {},
   "outputs": [],
   "source": [
    "def get_random_param_name(param_dict_2d):\n",
    "    random_layer_index=np.random.choice(len(param_dict_2d.keys()))\n",
    "    random_layer_name=list(param_dict_2d.keys())[random_layer_index]\n",
    "    return random_layer_name\n",
    "\n",
    "def get_random_indices(t):\n",
    "    random_i=np.random.choice(t.shape[0])\n",
    "    random_j=np.random.choice(t.shape[1])\n",
    "    return random_i, random_j\n",
    "\n",
    "def top_n_abs_indices(arr, n=128):\n",
    "    flat_indices = np.argsort(np.abs(arr).flatten())[-n:][::-1]\n",
    "    return np.column_stack(np.unravel_index(flat_indices, arr.shape))"
   ]
  },
  {
   "cell_type": "code",
   "execution_count": 7,
   "id": "7507825e-7a36-4502-8a3c-97fa42cce748",
   "metadata": {},
   "outputs": [],
   "source": [
    "with torch.no_grad():\n",
    "    out=model(input_ids.to(device))\n",
    "probs = F.softmax(out.logits.detach().cpu(), dim=-1)\n",
    "my_loss=-np.log(probs[0, 5, 12366].item())"
   ]
  },
  {
   "cell_type": "code",
   "execution_count": 8,
   "id": "73780f46-0bb0-4bb9-98de-932baffac6c1",
   "metadata": {},
   "outputs": [
    {
     "data": {
      "text/plain": [
       "np.float64(0.9376176141361524)"
      ]
     },
     "execution_count": 8,
     "metadata": {},
     "output_type": "execute_result"
    }
   ],
   "source": [
    "my_loss"
   ]
  },
  {
   "cell_type": "code",
   "execution_count": 9,
   "id": "fdc9e431-055b-4f90-8c33-560bba531527",
   "metadata": {},
   "outputs": [
    {
     "data": {
      "text/plain": [
       "'model.norm.weight'"
      ]
     },
     "execution_count": 9,
     "metadata": {},
     "output_type": "execute_result"
    }
   ],
   "source": [
    "p"
   ]
  },
  {
   "cell_type": "code",
   "execution_count": 10,
   "id": "8f24cf9d-ff98-43a5-8fe4-cdfd8535bf09",
   "metadata": {},
   "outputs": [],
   "source": [
    "# p='model.layers.15.mlp.gate_proj.weight'\n",
    "# p='model.layers.15.mlp.up_proj.weight'\n",
    "p='model.layers.15.mlp.down_proj.weight'"
   ]
  },
  {
   "cell_type": "code",
   "execution_count": 11,
   "id": "dcd6073f-c244-41c1-8c7b-19d55678b3d5",
   "metadata": {},
   "outputs": [],
   "source": [
    "top_indices=top_n_abs_indices(grad_dict[p].detach().cpu().float().numpy())"
   ]
  },
  {
   "cell_type": "code",
   "execution_count": 12,
   "id": "45774cfc-1df2-4f9c-9695-342169753049",
   "metadata": {},
   "outputs": [
    {
     "data": {
      "text/plain": [
       "(128, 2)"
      ]
     },
     "execution_count": 12,
     "metadata": {},
     "output_type": "execute_result"
    }
   ],
   "source": [
    "top_indices.shape"
   ]
  },
  {
   "cell_type": "code",
   "execution_count": 13,
   "id": "a9f86813-e081-4a81-b7bc-01a82f09c5cb",
   "metadata": {},
   "outputs": [
    {
     "name": "stderr",
     "output_type": "stream",
     "text": [
      "  0%|                                                  | 0/1002 [00:00<?, ?it/s]/tmp/ipykernel_213293/3641328998.py:28: DeprecationWarning: __array_wrap__ must accept context and return_scalar arguments (positionally) in the future. (Deprecated NumPy 2.0)\n",
      "  my_loss=-np.log(probs[0, 5, 12366])\n",
      "  6%|██▎                                    | 60/1002 [22:37<5:55:18, 22.63s/it]\n"
     ]
    },
    {
     "ename": "KeyboardInterrupt",
     "evalue": "",
     "output_type": "error",
     "traceback": [
      "\u001b[31m---------------------------------------------------------------------------\u001b[39m",
      "\u001b[31mKeyboardInterrupt\u001b[39m                         Traceback (most recent call last)",
      "\u001b[36mCell\u001b[39m\u001b[36m \u001b[39m\u001b[32mIn[13]\u001b[39m\u001b[32m, line 27\u001b[39m\n\u001b[32m     23\u001b[39m out=model(input_ids.to(device), labels=input_ids.to(device))\n\u001b[32m     24\u001b[39m \u001b[38;5;66;03m# losses.append(out.loss.item())\u001b[39;00m\n\u001b[32m     25\u001b[39m \n\u001b[32m     26\u001b[39m \u001b[38;5;66;03m#Loss for just paris token\u001b[39;00m\n\u001b[32m---> \u001b[39m\u001b[32m27\u001b[39m probs = F.softmax(\u001b[43mout\u001b[49m\u001b[43m.\u001b[49m\u001b[43mlogits\u001b[49m\u001b[43m.\u001b[49m\u001b[43mdetach\u001b[49m\u001b[43m(\u001b[49m\u001b[43m)\u001b[49m\u001b[43m.\u001b[49m\u001b[43mcpu\u001b[49m\u001b[43m(\u001b[49m\u001b[43m)\u001b[49m, dim=-\u001b[32m1\u001b[39m)\n\u001b[32m     28\u001b[39m my_loss=-np.log(probs[\u001b[32m0\u001b[39m, \u001b[32m5\u001b[39m, \u001b[32m12366\u001b[39m])\n\u001b[32m     29\u001b[39m losses[-\u001b[32m1\u001b[39m].append(my_loss.item())\n",
      "\u001b[31mKeyboardInterrupt\u001b[39m: "
     ]
    }
   ],
   "source": [
    "top_index_1=10 \n",
    "top_index_2=12\n",
    "\n",
    "i_choice_1=top_indices[top_index_1][0]\n",
    "j_choice_1=top_indices[top_index_1][1]\n",
    "i_choice_2=top_indices[top_index_2][0]\n",
    "j_choice_2=top_indices[top_index_2][1]\n",
    "\n",
    "og_value_1=param_dict[p][i_choice_1, j_choice_1].item()\n",
    "og_value_2=param_dict[p][i_choice_2, j_choice_2].item()\n",
    "\n",
    "xs1=np.arange(-1.007, 4, 0.005) #.04 is 126 -> maybe we do a high and low rez version?\n",
    "xs2=np.arange(-1.007, 4, 0.005)\n",
    "model.eval()\n",
    "losses=[]; all_probs_1=[]\n",
    "with torch.no_grad():\n",
    "    for x1 in tqdm(xs1):\n",
    "        losses.append([])\n",
    "        for x2 in xs2:\n",
    "            param_dict[p][i_choice_1, j_choice_1]=x1\n",
    "            param_dict[p][i_choice_2, j_choice_2]=x2\n",
    "            \n",
    "            out=model(input_ids.to(device), labels=input_ids.to(device))\n",
    "            # losses.append(out.loss.item())\n",
    "    \n",
    "            #Loss for just paris token\n",
    "            probs = F.softmax(out.logits.detach().cpu(), dim=-1)\n",
    "            my_loss=-np.log(probs[0, 5, 12366])\n",
    "            losses[-1].append(my_loss.item())\n",
    "            # all_probs_1.append(probs[0, 5, 12366])\n",
    "\n",
    "    param_dict[p][i_choice_1, j_choice_1]=og_value_1\n",
    "    param_dict[p][i_choice_2, j_choice_2]=og_value_2\n",
    "losses=np.array(losses)"
   ]
  },
  {
   "cell_type": "code",
   "execution_count": null,
   "id": "a203b4fc-82b5-4295-9d46-8f77fccb5df5",
   "metadata": {},
   "outputs": [],
   "source": [
    "xs1.shape"
   ]
  },
  {
   "cell_type": "code",
   "execution_count": null,
   "id": "277c160c-11a2-4879-a0e0-f8a7d8593b41",
   "metadata": {},
   "outputs": [],
   "source": [
    "losses.shape"
   ]
  },
  {
   "cell_type": "code",
   "execution_count": null,
   "id": "847dde36-1ae3-4170-a4f3-d1c6e27e413a",
   "metadata": {},
   "outputs": [],
   "source": [
    "# Create figure without borders/margins\n",
    "plt.figure(frameon=False)\n",
    "\n",
    "# Create axes without borders/frames\n",
    "ax = plt.Axes(plt.gcf(), [0., 0., 1., 1.])\n",
    "ax.set_axis_off()\n",
    "plt.gcf().add_axes(ax)\n",
    "\n",
    "# Display image\n",
    "plt.imshow(np.rot90(losses))\n",
    "\n",
    "# Save with tight layout and no extra space\n",
    "plt.savefig('p_24_28_losses_5.png', bbox_inches='tight', pad_inches=0, dpi=300)\n",
    "plt.close()"
   ]
  },
  {
   "cell_type": "code",
   "execution_count": null,
   "id": "2fc8e704-d6dd-4c58-9bd6-5aed553106ab",
   "metadata": {},
   "outputs": [],
   "source": [
    "xs1.shape"
   ]
  },
  {
   "cell_type": "code",
   "execution_count": null,
   "id": "a57ac8d0-463e-4fc9-8d66-f441bb410260",
   "metadata": {},
   "outputs": [],
   "source": [
    "xy=np.vstack((xs1, xs2))\n",
    "np.save('p_24_28_losses_5xy.npy', xy)"
   ]
  },
  {
   "cell_type": "code",
   "execution_count": null,
   "id": "9250e962-2bb3-495b-ac2d-41989133eb9e",
   "metadata": {},
   "outputs": [],
   "source": [
    "np.save('p_24_28_losses_5.npy', losses)"
   ]
  },
  {
   "cell_type": "code",
   "execution_count": null,
   "id": "61a62138-40a7-477c-9290-0300f6ed4e98",
   "metadata": {},
   "outputs": [],
   "source": []
  },
  {
   "cell_type": "code",
   "execution_count": null,
   "id": "94a46efe-eddd-452c-9d4b-298e28b36194",
   "metadata": {},
   "outputs": [],
   "source": []
  },
  {
   "cell_type": "code",
   "execution_count": null,
   "id": "02c0646a-a5ee-4581-9676-405c54b97b51",
   "metadata": {},
   "outputs": [],
   "source": []
  },
  {
   "cell_type": "code",
   "execution_count": null,
   "id": "a96ed425-fef6-42dd-b1e4-e543348c8162",
   "metadata": {},
   "outputs": [],
   "source": []
  }
 ],
 "metadata": {
  "kernelspec": {
   "display_name": "Python 3 (ipykernel)",
   "language": "python",
   "name": "python3"
  },
  "language_info": {
   "codemirror_mode": {
    "name": "ipython",
    "version": 3
   },
   "file_extension": ".py",
   "mimetype": "text/x-python",
   "name": "python",
   "nbconvert_exporter": "python",
   "pygments_lexer": "ipython3",
   "version": "3.11.0"
  }
 },
 "nbformat": 4,
 "nbformat_minor": 5
}
