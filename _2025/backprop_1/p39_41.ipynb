{
 "cells": [
  {
   "cell_type": "markdown",
   "id": "dca83bcd-d0d9-44be-908c-78d4953993df",
   "metadata": {},
   "source": [
    "## P39 to 41"
   ]
  },
  {
   "cell_type": "markdown",
   "id": "95824e0f-303c-487b-9d95-3e59845547ff",
   "metadata": {},
   "source": [
    "- Ok ok ok ok ok\n",
    "- Time to nail down 2-4 interestin directions in parameter space\n",
    "- I want to put 2 together to make a cool/interesting global view\n",
    "- Then I'll need to fake gradient descent on that, that should be interesting. "
   ]
  },
  {
   "cell_type": "code",
   "execution_count": null,
   "id": "78825418-ec35-4d73-8f01-068056ca3525",
   "metadata": {},
   "outputs": [],
   "source": [
    "# ! pip install transformers matplotlib tqdm huggingface_hub"
   ]
  },
  {
   "cell_type": "code",
   "execution_count": 1,
   "id": "ed0925ca-23d1-4c94-81d7-b610765110ca",
   "metadata": {},
   "outputs": [],
   "source": [
    "# from huggingface_hub import login\n",
    "# login()"
   ]
  },
  {
   "cell_type": "code",
   "execution_count": 2,
   "id": "efdbd896-7f3d-4486-b684-25f4d5f95e69",
   "metadata": {},
   "outputs": [],
   "source": [
    "import torch\n",
    "from transformers import pipeline\n",
    "from torch.nn import functional as F\n",
    "import numpy as np\n",
    "from tqdm import tqdm\n",
    "import matplotlib.pyplot as plt\n",
    "from matplotlib import cm\n",
    "import os\n",
    "import copy\n",
    "from collections import OrderedDict\n",
    "\n",
    "from transformers import GPT2LMHeadModel, GPT2Tokenizer, GPT2Config\n",
    "from transformers import LlamaForCausalLM, PreTrainedTokenizerFast, LlamaConfig\n",
    "from transformers import AutoModelForCausalLM, AutoTokenizer\n",
    "\n",
    "device='cuda'"
   ]
  },
  {
   "cell_type": "code",
   "execution_count": 3,
   "id": "ce5f0ed4-cfe9-426e-a6c7-58ffe7ecea8b",
   "metadata": {},
   "outputs": [],
   "source": [
    "model_id = \"meta-llama/Llama-3.2-1B\"\n",
    "# model_id = \"openai-community/gpt2\"\n",
    "# model_id = \"google/gemma-3-1b-pt\"\n",
    "# model_id = \"gpt2\""
   ]
  },
  {
   "cell_type": "code",
   "execution_count": 4,
   "id": "89f8673a-412d-4294-83c2-78dc28467208",
   "metadata": {},
   "outputs": [],
   "source": [
    "# Random init\n",
    "# model_config = GPT2Config() #Full sized model\n",
    "# model = GPT2LMHeadModel(model_config).to(device) #Ok i should see what happens with full and pretrained model. \n",
    "# tokenizer = GPT2Tokenizer.from_pretrained(\"gpt2\")\n",
    "\n",
    "# Not quite working for Llama, will take some noodling\n",
    "# model_config  = LlamaConfig.from_dict(config_dict)\n",
    "# model = LlamaForCausalLM(model_config).to(device) \n",
    "# tokenizer = AutoTokenizer.from_pretrained(model_id)\n",
    "\n",
    "#Pretrained\n",
    "model = AutoModelForCausalLM.from_pretrained(model_id).to(device)\n",
    "tokenizer = AutoTokenizer.from_pretrained(model_id)"
   ]
  },
  {
   "cell_type": "code",
   "execution_count": 5,
   "id": "72fb85eb-bbed-4fec-9993-d394da9541d5",
   "metadata": {},
   "outputs": [],
   "source": [
    "text = \"The capital of France is Paris\"\n",
    "inputs = tokenizer(text, return_tensors=\"pt\").to(device)\n",
    "input_ids = inputs[\"input_ids\"]"
   ]
  },
  {
   "cell_type": "code",
   "execution_count": 6,
   "id": "d8239154-bc7d-4dbf-8b76-a057a62d00ec",
   "metadata": {},
   "outputs": [
    {
     "name": "stdout",
     "output_type": "stream",
     "text": [
      "3.3751838207244873 3.3751838207244873\n"
     ]
    }
   ],
   "source": [
    "with torch.no_grad():\n",
    "    outputs = model(input_ids, labels=input_ids)\n",
    "\n",
    "my_probs=F.softmax(outputs.logits, dim=-1)\n",
    "y_one_hot=F.one_hot(input_ids, num_classes=model.config.vocab_size)\n",
    "correct_next_token_probs = (my_probs[:,:-1]*y_one_hot[:,1:]).sum(-1) #I'm sure there's waaay more efficient ways to do this\n",
    "my_loss=-torch.log(correct_next_token_probs).mean()\n",
    "print(my_loss.item(), outputs.loss.item())"
   ]
  },
  {
   "cell_type": "markdown",
   "id": "f3002006-861a-4c11-ab45-9c97a2629da3",
   "metadata": {},
   "source": [
    "- To Do -> try with just loss on Paris token"
   ]
  },
  {
   "cell_type": "code",
   "execution_count": 7,
   "id": "f756c1f2-c5bf-4523-8242-32e9bbb129e7",
   "metadata": {},
   "outputs": [
    {
     "name": "stdout",
     "output_type": "stream",
     "text": [
      "3.3751838207244873 3.3751838207244873 0.9376916737061879\n"
     ]
    }
   ],
   "source": [
    "with torch.no_grad():\n",
    "    outputs = model(input_ids, labels=input_ids)\n",
    "\n",
    "my_probs=F.softmax(outputs.logits, dim=-1)\n",
    "y_one_hot=F.one_hot(input_ids, num_classes=model.config.vocab_size)\n",
    "correct_next_token_probs = (my_probs[:,:-1]*y_one_hot[:,1:]).sum(-1) #I'm sure there's waaay more efficient ways to do this\n",
    "my_loss=-torch.log(correct_next_token_probs).mean()\n",
    "\n",
    "paris_only_loss=-np.log(my_probs[0, 5, 12366].item())\n",
    "print(my_loss.item(), outputs.loss.item(), paris_only_loss)"
   ]
  },
  {
   "cell_type": "code",
   "execution_count": 8,
   "id": "a25bf9b4-759b-473b-a4b1-0b548501e605",
   "metadata": {},
   "outputs": [],
   "source": [
    "def get_random_directions(params, seed=None):\n",
    "    \"\"\"\n",
    "    Generate random direction vectors for each parameter tensor.\n",
    "    \n",
    "    Args:\n",
    "        params: List of (name, parameter) tuples from model.named_parameters()\n",
    "        seed: Random seed for reproducibility\n",
    "        \n",
    "    Returns:\n",
    "        direction: OrderedDict mapping parameter names to random direction tensors\n",
    "    \"\"\"\n",
    "    if seed is not None:\n",
    "        torch.manual_seed(seed)\n",
    "        np.random.seed(seed)\n",
    "    \n",
    "    direction = OrderedDict()\n",
    "    for name, param in params:\n",
    "        if param.requires_grad:\n",
    "            direction[name] = torch.randn_like(param.data)\n",
    "    \n",
    "    return direction"
   ]
  },
  {
   "cell_type": "code",
   "execution_count": 9,
   "id": "a1669ce6-0205-4edb-bd41-f24faac895f7",
   "metadata": {},
   "outputs": [],
   "source": [
    "def normalize_direction(direction, params):\n",
    "    \"\"\"\n",
    "    Normalize the direction tensors to match the norm of each parameter tensor.\n",
    "    \n",
    "    Args:\n",
    "        direction: OrderedDict mapping parameter names to direction tensors\n",
    "        params: List of (name, parameter) tuples from model.named_parameters()\n",
    "        \n",
    "    Returns:\n",
    "        normalized_direction: OrderedDict with normalized direction tensors\n",
    "    \"\"\"\n",
    "    param_dict = OrderedDict(params)\n",
    "    normalized_direction = OrderedDict()\n",
    "    \n",
    "    for name, dir_tensor in direction.items():\n",
    "        param_norm = torch.norm(param_dict[name].data)\n",
    "        dir_norm = torch.norm(dir_tensor)\n",
    "        \n",
    "        # Avoid division by zero\n",
    "        if dir_norm > 0:\n",
    "            normalized_direction[name] = dir_tensor * (param_norm / dir_norm)\n",
    "        else:\n",
    "            normalized_direction[name] = dir_tensor\n",
    "    \n",
    "    return normalized_direction"
   ]
  },
  {
   "cell_type": "code",
   "execution_count": null,
   "id": "06c36372-66b0-4409-95fe-0e74432fb0b1",
   "metadata": {},
   "outputs": [],
   "source": [
    "# def attention_filter(name):\n",
    "#     return \"attn\" in name\n",
    "\n",
    "# param_filter=attention_filter\n",
    "# # Filter parameters if a filter function is provided\n",
    "# if param_filter is None:\n",
    "#     # Default: use all parameters that require gradients\n",
    "#     filtered_params = [(name, p) for name, p in model.named_parameters() if p.requires_grad]\n",
    "# else:\n",
    "#     filtered_params = [(name, p) for name, p in model.named_parameters() \n",
    "#                       if p.requires_grad and param_filter(name)]"
   ]
  },
  {
   "cell_type": "code",
   "execution_count": 10,
   "id": "855e800a-1ffc-43d3-9c60-94bbdafb10ff",
   "metadata": {},
   "outputs": [],
   "source": [
    "filtered_params = [(name, p) for name, p in model.named_parameters() if p.requires_grad]\n",
    "filtered_params = filtered_params[:64] #Should be close to what i was doing before, don't do all tensors yet"
   ]
  },
  {
   "cell_type": "code",
   "execution_count": 11,
   "id": "e5c0bb56-2a8d-49f7-b717-0d799898f72e",
   "metadata": {},
   "outputs": [
    {
     "data": {
      "text/plain": [
       "64"
      ]
     },
     "execution_count": 11,
     "metadata": {},
     "output_type": "execute_result"
    }
   ],
   "source": [
    "len(filtered_params)"
   ]
  },
  {
   "cell_type": "code",
   "execution_count": 12,
   "id": "25829767-fc50-4d22-b728-f15499cafba9",
   "metadata": {},
   "outputs": [],
   "source": [
    "# Generate and normalize random directions\n",
    "direction1 = get_random_directions(filtered_params, seed=2)\n",
    "direction1 = normalize_direction(direction1, filtered_params)"
   ]
  },
  {
   "cell_type": "code",
   "execution_count": 15,
   "id": "66f2f093-674c-4c19-987c-edf0f51bd12e",
   "metadata": {},
   "outputs": [
    {
     "data": {
      "text/plain": [
       "64"
      ]
     },
     "execution_count": 15,
     "metadata": {},
     "output_type": "execute_result"
    }
   ],
   "source": [
    "len(direction1)"
   ]
  },
  {
   "cell_type": "code",
   "execution_count": 16,
   "id": "fdf5bd27-3b02-4e6d-8725-aa8d02bbca35",
   "metadata": {},
   "outputs": [],
   "source": [
    "original_params = OrderedDict()\n",
    "for name, param in filtered_params:\n",
    "    original_params[name] = param.data.clone()"
   ]
  },
  {
   "cell_type": "code",
   "execution_count": 17,
   "id": "f4f9964f-f5fa-49ab-92ee-f8686f958077",
   "metadata": {},
   "outputs": [],
   "source": [
    "num_points=32\n",
    "alphas=np.linspace(-2.5, 2.5, num_points)"
   ]
  },
  {
   "cell_type": "code",
   "execution_count": 18,
   "id": "e5ca1f10-1643-4ffb-bf51-1d7715884837",
   "metadata": {},
   "outputs": [
    {
     "name": "stderr",
     "output_type": "stream",
     "text": [
      "100%|█████████████████████████████████████████████████| 32/32 [00:00<00:00, 36.36it/s]\n"
     ]
    }
   ],
   "source": [
    "losses=[]\n",
    "with torch.no_grad():\n",
    "    for i, alpha in enumerate(tqdm(alphas)):\n",
    "        for name, param in model.named_parameters():\n",
    "            if name in direction1:\n",
    "                param.data = original_params[name] + alpha * direction1[name]\n",
    "        \n",
    "        outputs = model(input_ids, labels=input_ids)\n",
    "        my_probs=F.softmax(outputs.logits, dim=-1)\n",
    "        paris_only_loss=-np.log(my_probs[0, 5, 12366].item())\n",
    "        losses.append(paris_only_loss)\n",
    "    \n",
    "    for name, param in model.named_parameters(): # Restore original parameters\n",
    "        if name in original_params: \n",
    "            param.data.copy_(original_params[name])"
   ]
  },
  {
   "cell_type": "code",
   "execution_count": 21,
   "id": "aaf465d6-bfc6-4701-8aac-f92b04606ad4",
   "metadata": {},
   "outputs": [
    {
     "data": {
      "text/plain": [
       "[<matplotlib.lines.Line2D at 0x76ef0731e710>]"
      ]
     },
     "execution_count": 21,
     "metadata": {},
     "output_type": "execute_result"
    },
    {
     "data": {
      "image/png": "[encoded data removed]",
      "text/plain": [
       "<Figure size 640x480 with 1 Axes>"
      ]
     },
     "metadata": {},
     "output_type": "display_data"
    }
   ],
   "source": [
    "plt.plot(alphas, losses)"
   ]
  },
  {
   "cell_type": "code",
   "execution_count": 22,
   "id": "9872b451-e46f-40a4-8fa5-ed5865ace1b9",
   "metadata": {},
   "outputs": [
    {
     "name": "stderr",
     "output_type": "stream",
     "text": [
      "100%|███████████████████████████████████████████████| 128/128 [00:03<00:00, 37.19it/s]\n"
     ]
    },
    {
     "data": {
      "text/plain": [
       "[<matplotlib.lines.Line2D at 0x76ef01b2c810>]"
      ]
     },
     "execution_count": 22,
     "metadata": {},
     "output_type": "execute_result"
    },
    {
     "data": {
      "image/png": "[encoded data removed]",
      "text/plain": [
       "<Figure size 640x480 with 1 Axes>"
      ]
     },
     "metadata": {},
     "output_type": "display_data"
    }
   ],
   "source": [
    "# Generate and normalize random directions\n",
    "direction1 = get_random_directions(filtered_params, seed=2)\n",
    "direction1 = normalize_direction(direction1, filtered_params)\n",
    "\n",
    "original_params = OrderedDict()\n",
    "for name, param in filtered_params:\n",
    "    original_params[name] = param.data.clone()\n",
    "\n",
    "num_points=128\n",
    "alphas=np.linspace(-2.5, 2.5, num_points)\n",
    "\n",
    "losses=[]\n",
    "with torch.no_grad():\n",
    "    for i, alpha in enumerate(tqdm(alphas)):\n",
    "        for name, param in model.named_parameters():\n",
    "            if name in direction1:\n",
    "                param.data = original_params[name] + alpha * direction1[name]\n",
    "        \n",
    "        outputs = model(input_ids, labels=input_ids)\n",
    "        my_probs=F.softmax(outputs.logits, dim=-1)\n",
    "        paris_only_loss=-np.log(my_probs[0, 5, 12366].item())\n",
    "        losses.append(paris_only_loss)\n",
    "    \n",
    "    for name, param in model.named_parameters(): # Restore original parameters\n",
    "        if name in original_params: \n",
    "            param.data.copy_(original_params[name])\n",
    "\n",
    "plt.plot(alphas, losses)"
   ]
  },
  {
   "cell_type": "code",
   "execution_count": 23,
   "id": "0549450b-da6f-4121-ab86-645ac3e3d62a",
   "metadata": {},
   "outputs": [
    {
     "name": "stderr",
     "output_type": "stream",
     "text": [
      "100%|███████████████████████████████████████████████| 512/512 [00:13<00:00, 37.64it/s]\n"
     ]
    },
    {
     "data": {
      "text/plain": [
       "[<matplotlib.lines.Line2D at 0x76ef01b74890>]"
      ]
     },
     "execution_count": 23,
     "metadata": {},
     "output_type": "execute_result"
    },
    {
     "data": {
      "image/png": "[encoded data removed]",
      "text/plain": [
       "<Figure size 640x480 with 1 Axes>"
      ]
     },
     "metadata": {},
     "output_type": "display_data"
    }
   ],
   "source": [
    "# Generate and normalize random directions\n",
    "direction1 = get_random_directions(filtered_params, seed=2)\n",
    "direction1 = normalize_direction(direction1, filtered_params)\n",
    "\n",
    "original_params = OrderedDict()\n",
    "for name, param in filtered_params:\n",
    "    original_params[name] = param.data.clone()\n",
    "\n",
    "num_points=512\n",
    "alphas=np.linspace(-2.5, 2.5, num_points)\n",
    "\n",
    "losses=[]\n",
    "with torch.no_grad():\n",
    "    for i, alpha in enumerate(tqdm(alphas)):\n",
    "        for name, param in model.named_parameters():\n",
    "            if name in direction1:\n",
    "                param.data = original_params[name] + alpha * direction1[name]\n",
    "        \n",
    "        outputs = model(input_ids, labels=input_ids)\n",
    "        my_probs=F.softmax(outputs.logits, dim=-1)\n",
    "        paris_only_loss=-np.log(my_probs[0, 5, 12366].item())\n",
    "        losses.append(paris_only_loss)\n",
    "    \n",
    "    for name, param in model.named_parameters(): # Restore original parameters\n",
    "        if name in original_params: \n",
    "            param.data.copy_(original_params[name])\n",
    "\n",
    "plt.plot(alphas, losses)"
   ]
  },
  {
   "cell_type": "code",
   "execution_count": null,
   "id": "1dee7470-f07f-40a5-8d35-76fd54b573ef",
   "metadata": {},
   "outputs": [],
   "source": []
  },
  {
   "cell_type": "code",
   "execution_count": null,
   "id": "3b31bbd0-fbd6-4147-8f28-d2ce701b72b9",
   "metadata": {},
   "outputs": [],
   "source": []
  },
  {
   "cell_type": "code",
   "execution_count": null,
   "id": "904e76d5-8860-43e9-af03-27a6f4b8393b",
   "metadata": {},
   "outputs": [],
   "source": []
  },
  {
   "cell_type": "code",
   "execution_count": null,
   "id": "8c5a7592-c0ec-42ba-95cf-46ad945773ea",
   "metadata": {},
   "outputs": [],
   "source": []
  },
  {
   "cell_type": "code",
   "execution_count": 13,
   "id": "f536e499-95c3-4a07-b7a8-53fa16e868a1",
   "metadata": {},
   "outputs": [],
   "source": [
    "def compute_loss_landscape(model, inputs, alpha_range, beta_range, direction1, direction2, \n",
    "                          n_points=20, compute_loss_fn=None, original_params=None):\n",
    "    \"\"\"\n",
    "    Compute the loss landscape by moving along two random directions.\n",
    "    \n",
    "    Args:\n",
    "        model: Neural network model\n",
    "        inputs: Input data dictionary\n",
    "        alpha_range: Range for the first direction (min, max)\n",
    "        beta_range: Range for the second direction (min, max)\n",
    "        direction1: First normalized direction\n",
    "        direction2: Second normalized direction\n",
    "        n_points: Number of points in each direction\n",
    "        compute_loss_fn: Function to compute loss (if None, uses default)\n",
    "        \n",
    "    Returns:\n",
    "        alphas: Values for first direction\n",
    "        betas: Values for second direction\n",
    "        loss_surface: 2D array of loss values\n",
    "    \"\"\"\n",
    "    # Default loss computation function\n",
    "    if compute_loss_fn is None:\n",
    "        def compute_loss_fn(model, inputs):\n",
    "            outputs = model(**inputs, labels=inputs['input_ids'])\n",
    "            return outputs.loss.item()\n",
    "            \n",
    "    # Save original parameters\n",
    "    if original_params is None: \n",
    "        original_params = OrderedDict()\n",
    "        for name, param in model.named_parameters():\n",
    "            if name in direction1:\n",
    "                original_params[name] = param.data.clone()\n",
    "    \n",
    "    # Create grid of alpha and beta values\n",
    "    alphas = np.linspace(alpha_range[0], alpha_range[1], n_points)\n",
    "    betas = np.linspace(beta_range[0], beta_range[1], n_points)\n",
    "    loss_surface = np.zeros((n_points, n_points))\n",
    "    \n",
    "    # Compute loss at each point on the grid\n",
    "    for i, alpha in enumerate(tqdm(alphas)):\n",
    "        for j, beta in enumerate(betas):\n",
    "            # Update model parameters: W' = W + alpha*d1 + beta*d2\n",
    "            for name, param in model.named_parameters():\n",
    "                if name in direction1 and name in direction2:\n",
    "                    param.data = original_params[name] + alpha * direction1[name] + beta * direction2[name]\n",
    "            \n",
    "            # Compute loss\n",
    "            loss_surface[i, j] = compute_loss_fn(model, inputs)\n",
    "    \n",
    "    # Restore original parameters\n",
    "    for name, param in model.named_parameters():\n",
    "        if name in original_params:\n",
    "            param.data.copy_(original_params[name])\n",
    "    \n",
    "    return alphas, betas, loss_surface"
   ]
  },
  {
   "cell_type": "code",
   "execution_count": null,
   "id": "e7a48014-e7ec-47a3-bea8-7c80ebc36360",
   "metadata": {},
   "outputs": [],
   "source": [
    "def visualize_landscape(alphas, betas, loss_surface, trajectory=None, title=\"Loss Landscape\", \n",
    "                        save_path=None, fig_size=(10, 8)):\n",
    "    \"\"\"\n",
    "    Create a contour plot visualization of the loss landscape.\n",
    "    \n",
    "    Args:\n",
    "        alphas: Values for first direction\n",
    "        betas: Values for second direction\n",
    "        loss_surface: 2D array of loss values\n",
    "        trajectory: List of (alpha, beta) points to plot the optimization trajectory\n",
    "        title: Plot title\n",
    "        save_path: Path to save the figure\n",
    "        fig_size: Figure size (width, height)\n",
    "        \n",
    "    Returns:\n",
    "        fig, ax: The figure and axis objects\n",
    "    \"\"\"\n",
    "    fig, ax = plt.subplots(figsize=fig_size)\n",
    "    \n",
    "    # Create a contour plot\n",
    "    X, Y = np.meshgrid(betas, alphas)\n",
    "    contour = ax.contourf(X, Y, loss_surface, levels=64, cmap=cm.viridis)\n",
    "    contourf = ax.contour(X, Y, loss_surface, levels=32, colors='w', linewidths=0.4, alpha=0.9)\n",
    "    \n",
    "    # Add a colorbar\n",
    "    cbar = fig.colorbar(contour)\n",
    "    cbar.set_label('Loss')\n",
    "    \n",
    "    # Plot the optimization trajectory if provided\n",
    "    if trajectory is not None and len(trajectory) > 0:\n",
    "        traj_alphas, traj_betas = zip(*trajectory)\n",
    "        ax.plot(traj_betas, traj_alphas, '-o', color='red', linewidth=2, markersize=4)\n",
    "        ax.plot(traj_betas[0], traj_alphas[0], 'o', color='green', markersize=6)  # Start point\n",
    "        ax.plot(traj_betas[-1], traj_alphas[-1], 'o', color='blue', markersize=6)  # End point\n",
    "    \n",
    "    # Add labels and title\n",
    "    ax.set_xlabel('Direction 2')\n",
    "    ax.set_ylabel('Direction 1')\n",
    "    ax.set_title(title)\n",
    "    \n",
    "    # Save figure if requested\n",
    "    if save_path is not None:\n",
    "        plt.savefig(save_path, dpi=300, bbox_inches='tight')\n",
    "    \n",
    "    return fig, ax"
   ]
  },
  {
   "cell_type": "code",
   "execution_count": null,
   "id": "65e7d56b-e991-4f8c-a082-c5443842f643",
   "metadata": {},
   "outputs": [],
   "source": []
  },
  {
   "cell_type": "code",
   "execution_count": null,
   "id": "d1a7aedb-f68f-4b2a-9860-a0e8885709d5",
   "metadata": {},
   "outputs": [],
   "source": []
  },
  {
   "cell_type": "code",
   "execution_count": null,
   "id": "64abeb5d-9db2-47e8-8305-8b12498bec65",
   "metadata": {},
   "outputs": [],
   "source": []
  },
  {
   "cell_type": "code",
   "execution_count": null,
   "id": "7d94bab9-cbc7-44fe-b45d-2b4873b711aa",
   "metadata": {},
   "outputs": [],
   "source": []
  },
  {
   "cell_type": "code",
   "execution_count": null,
   "id": "b2d09323-831e-4a37-86fd-da08939f989b",
   "metadata": {},
   "outputs": [],
   "source": []
  },
  {
   "cell_type": "code",
   "execution_count": null,
   "id": "31e84217-2596-417b-9022-55eb3e291cc1",
   "metadata": {},
   "outputs": [],
   "source": []
  }
 ],
 "metadata": {
  "kernelspec": {
   "display_name": "Python 3 (ipykernel)",
   "language": "python",
   "name": "python3"
  },
  "language_info": {
   "codemirror_mode": {
    "name": "ipython",
    "version": 3
   },
   "file_extension": ".py",
   "mimetype": "text/x-python",
   "name": "python",
   "nbconvert_exporter": "python",
   "pygments_lexer": "ipython3",
   "version": "3.11.0"
  }
 },
 "nbformat": 4,
 "nbformat_minor": 5
}
