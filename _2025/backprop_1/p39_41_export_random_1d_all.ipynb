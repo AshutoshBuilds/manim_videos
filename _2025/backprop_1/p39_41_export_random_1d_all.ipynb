{
 "cells": [
  {
   "cell_type": "markdown",
   "id": "d97dd1ed-2c25-4b31-8aed-80b6e083bd39",
   "metadata": {},
   "source": [
    "## P39 to 41 Export Random 1d all. "
   ]
  },
  {
   "cell_type": "markdown",
   "id": "16b7cb97-4e19-4ef6-923e-ad1bce5bd4c1",
   "metadata": {},
   "source": [
    "Ok so strategically I'm thinking we show 6 3d plots and then bring the last to together: \n",
    "- Random weights, all layers expcept embedding (23, 24, 26) - let's try 24/23 first I think, and 26 can be a backup. \n",
    "- Pretrained, all layers except embedding\n",
    "- Pretrained, first 8 layers -> bring these togther to start exporing in 3d. \n",
    "\n",
    "Nice results from overnight tests:\n",
    "- pretrained_11_111_first_8_2d\n",
    "- pretrained_17_117_first_8_2d\n",
    "- random_10_100_last_8_2d\n",
    "- random_13_103_first_8_2d\n",
    "- random_16_106_first_8_2d\n",
    "\n",
    "Still waiting on some \"all\" results to come in"
   ]
  },
  {
   "cell_type": "code",
   "execution_count": 1,
   "id": "739402ec-db37-4de8-8ce7-f73b2625c604",
   "metadata": {},
   "outputs": [],
   "source": [
    "# ! pip install transformers matplotlib tqdm huggingface_hub"
   ]
  },
  {
   "cell_type": "code",
   "execution_count": 2,
   "id": "2089b05e-61d3-4253-8bf9-437acef153c8",
   "metadata": {},
   "outputs": [],
   "source": [
    "# from huggingface_hub import login\n",
    "# login()"
   ]
  },
  {
   "cell_type": "code",
   "execution_count": 3,
   "id": "7356d5e4-01cd-4a43-a4bc-a334c02e7b16",
   "metadata": {},
   "outputs": [],
   "source": [
    "import torch\n",
    "from transformers import pipeline\n",
    "from torch.nn import functional as F\n",
    "import numpy as np\n",
    "from tqdm import tqdm\n",
    "import matplotlib.pyplot as plt\n",
    "from matplotlib import cm\n",
    "import os\n",
    "import copy\n",
    "from collections import OrderedDict\n",
    "\n",
    "from transformers import GPT2LMHeadModel, GPT2Tokenizer, GPT2Config\n",
    "from transformers import LlamaForCausalLM, PreTrainedTokenizerFast, LlamaConfig\n",
    "from transformers import AutoModelForCausalLM, AutoTokenizer\n",
    "\n",
    "device='cuda'"
   ]
  },
  {
   "cell_type": "code",
   "execution_count": 4,
   "id": "b3081157-1787-4caf-9c8b-2d84a497872a",
   "metadata": {},
   "outputs": [],
   "source": [
    "model_id = \"meta-llama/Llama-3.2-1B\"\n",
    "# model_id = \"openai-community/gpt2\"\n",
    "# model_id = \"google/gemma-3-1b-pt\"\n",
    "# model_id = \"gpt2\""
   ]
  },
  {
   "cell_type": "code",
   "execution_count": 5,
   "id": "33e5ef45-c87d-49e7-9f44-ec1776913eab",
   "metadata": {},
   "outputs": [],
   "source": [
    "#Only needed for llama random initialization\n",
    "config_dict = {\n",
    "  \"_attn_implementation_autoset\": True,\n",
    "  \"architectures\": [\n",
    "    \"LlamaForCausalLM\"\n",
    "  ],\n",
    "  \"attention_bias\": False,\n",
    "  \"attention_dropout\": 0.0,\n",
    "  \"bos_token_id\": 128000,\n",
    "  \"eos_token_id\": 128001,\n",
    "  \"head_dim\": 64,\n",
    "  \"hidden_act\": \"silu\",\n",
    "  \"hidden_size\": 2048,\n",
    "  \"initializer_range\": 0.02,\n",
    "  \"intermediate_size\": 8192,\n",
    "  \"max_position_embeddings\": 131072,\n",
    "  \"mlp_bias\": False,\n",
    "  \"model_type\": \"llama\",\n",
    "  \"num_attention_heads\": 32,\n",
    "  \"num_hidden_layers\": 16,\n",
    "  \"num_key_value_heads\": 8,\n",
    "  \"pretraining_tp\": 1,\n",
    "  \"rms_norm_eps\": 1e-05,\n",
    "  \"rope_scaling\": {\n",
    "    \"factor\": 32.0,\n",
    "    \"high_freq_factor\": 4.0,\n",
    "    \"low_freq_factor\": 1.0,\n",
    "    \"original_max_position_embeddings\": 8192,\n",
    "    \"rope_type\": \"llama3\"\n",
    "  },\n",
    "  \"rope_theta\": 500000.0,\n",
    "  \"tie_word_embeddings\": True,\n",
    "  \"torch_dtype\": \"float32\",\n",
    "  \"transformers_version\": \"4.50.3\",\n",
    "  \"use_cache\": True,\n",
    "  \"vocab_size\": 128256\n",
    "}"
   ]
  },
  {
   "cell_type": "code",
   "execution_count": 6,
   "id": "f5c5724d-4542-4956-9e72-31c5550ca9aa",
   "metadata": {},
   "outputs": [],
   "source": [
    "torch.manual_seed(42)\n",
    "np.random.seed(42)"
   ]
  },
  {
   "cell_type": "code",
   "execution_count": 7,
   "id": "2cb7cefd-cafe-4a72-9d80-abae6ad9a452",
   "metadata": {},
   "outputs": [],
   "source": [
    "# Random init\n",
    "# model_config = GPT2Config() #Full sized model\n",
    "# model = GPT2LMHeadModel(model_config).to(device) #Ok i should see what happens with full and pretrained model. \n",
    "# tokenizer = GPT2Tokenizer.from_pretrained(\"gpt2\")\n",
    "\n",
    "# # Llama with random initialization\n",
    "model_config  = LlamaConfig.from_dict(config_dict)\n",
    "model = LlamaForCausalLM(model_config).to(device) \n",
    "tokenizer = AutoTokenizer.from_pretrained(model_id)\n",
    "\n",
    "#Pretrained\n",
    "# model = AutoModelForCausalLM.from_pretrained(model_id).to(device)\n",
    "# tokenizer = AutoTokenizer.from_pretrained(model_id)"
   ]
  },
  {
   "cell_type": "code",
   "execution_count": 8,
   "id": "033e9123-1cd9-4456-9ae0-da0699cd7e5a",
   "metadata": {},
   "outputs": [],
   "source": [
    "model.eval();"
   ]
  },
  {
   "cell_type": "code",
   "execution_count": 9,
   "id": "29339b78-b3a9-464d-8050-2cf1204334a6",
   "metadata": {},
   "outputs": [],
   "source": [
    "text = \"The capital of France is Paris\"\n",
    "inputs = tokenizer(text, return_tensors=\"pt\").to(device)\n",
    "input_ids = inputs[\"input_ids\"]"
   ]
  },
  {
   "cell_type": "code",
   "execution_count": 10,
   "id": "a550e29b-9bfa-46ee-98ce-93e28ca5d568",
   "metadata": {},
   "outputs": [
    {
     "name": "stdout",
     "output_type": "stream",
     "text": [
      "12.494719505310059 12.494719505310059\n"
     ]
    }
   ],
   "source": [
    "with torch.no_grad():\n",
    "    outputs = model(input_ids, labels=input_ids)\n",
    "\n",
    "my_probs=F.softmax(outputs.logits, dim=-1)\n",
    "y_one_hot=F.one_hot(input_ids, num_classes=model.config.vocab_size)\n",
    "correct_next_token_probs = (my_probs[:,:-1]*y_one_hot[:,1:]).sum(-1) #I'm sure there's waaay more efficient ways to do this\n",
    "my_loss=-torch.log(correct_next_token_probs).mean()\n",
    "print(my_loss.item(), outputs.loss.item())"
   ]
  },
  {
   "cell_type": "code",
   "execution_count": 11,
   "id": "43afd447-b5b4-4511-8e3c-30c1dd2dc9ce",
   "metadata": {},
   "outputs": [
    {
     "name": "stdout",
     "output_type": "stream",
     "text": [
      "12.494719505310059 12.494719505310059 12.149522206513305\n"
     ]
    }
   ],
   "source": [
    "with torch.no_grad():\n",
    "    outputs = model(input_ids, labels=input_ids)\n",
    "\n",
    "my_probs=F.softmax(outputs.logits, dim=-1)\n",
    "y_one_hot=F.one_hot(input_ids, num_classes=model.config.vocab_size)\n",
    "correct_next_token_probs = (my_probs[:,:-1]*y_one_hot[:,1:]).sum(-1) #I'm sure there's waaay more efficient ways to do this\n",
    "my_loss=-torch.log(correct_next_token_probs).mean()\n",
    "\n",
    "paris_only_loss=-np.log(my_probs[0, 5, 12366].item())\n",
    "print(my_loss.item(), outputs.loss.item(), paris_only_loss)"
   ]
  },
  {
   "cell_type": "code",
   "execution_count": 12,
   "id": "db3fbcdb-d1ec-4a2a-b279-9616f0cfd8eb",
   "metadata": {},
   "outputs": [],
   "source": [
    "def get_random_directions(params, seed=None):\n",
    "    \"\"\"\n",
    "    Generate random direction vectors for each parameter tensor.\n",
    "    \n",
    "    Args:\n",
    "        params: List of (name, parameter) tuples from model.named_parameters()\n",
    "        seed: Random seed for reproducibility\n",
    "        \n",
    "    Returns:\n",
    "        direction: OrderedDict mapping parameter names to random direction tensors\n",
    "    \"\"\"\n",
    "    if seed is not None:\n",
    "        torch.manual_seed(seed)\n",
    "        np.random.seed(seed)\n",
    "    \n",
    "    direction = OrderedDict()\n",
    "    for name, param in params:\n",
    "        if param.requires_grad:\n",
    "            direction[name] = torch.randn_like(param.data)\n",
    "    \n",
    "    return direction"
   ]
  },
  {
   "cell_type": "code",
   "execution_count": 13,
   "id": "f04fbdc7-e3cb-4c22-8921-ee4c36d9d5f3",
   "metadata": {},
   "outputs": [],
   "source": [
    "def normalize_direction(direction, params):\n",
    "    \"\"\"\n",
    "    Normalize the direction tensors to match the norm of each parameter tensor.\n",
    "    \n",
    "    Args:\n",
    "        direction: OrderedDict mapping parameter names to direction tensors\n",
    "        params: List of (name, parameter) tuples from model.named_parameters()\n",
    "        \n",
    "    Returns:\n",
    "        normalized_direction: OrderedDict with normalized direction tensors\n",
    "    \"\"\"\n",
    "    param_dict = OrderedDict(params)\n",
    "    normalized_direction = OrderedDict()\n",
    "    \n",
    "    for name, dir_tensor in direction.items():\n",
    "        param_norm = torch.norm(param_dict[name].data)\n",
    "        dir_norm = torch.norm(dir_tensor)\n",
    "        \n",
    "        # Avoid division by zero\n",
    "        if dir_norm > 0:\n",
    "            normalized_direction[name] = dir_tensor * (param_norm / dir_norm)\n",
    "        else:\n",
    "            normalized_direction[name] = dir_tensor\n",
    "    \n",
    "    return normalized_direction"
   ]
  },
  {
   "cell_type": "code",
   "execution_count": 14,
   "id": "41f4271f-453c-47b0-b14a-2461709d42dd",
   "metadata": {},
   "outputs": [],
   "source": [
    "# filtered_params = [(name, p) for name, p in model.named_parameters() if p.requires_grad]\n",
    "# filtered_params = filtered_params[:64] #Should be close to what i was doing before, don't do all tensors yet\n",
    "# filtered_params = filtered_params[1:] #Everythign except embeddings - some nice structure here for sure, alittle more parabolic than I woudl like\n",
    "# filtered_params = filtered_params[1:9] #First Layer\n",
    "# filtered_params = filtered_params[1:37] #First 4 layers - pretty nice\n",
    "# filtered_params = filtered_params[1:46] #First 5 layers - some nice structure here\n",
    "# filtered_params = filtered_params[1:73] #First 8 layers - I like this - facorite so far\n",
    "# filtered_params = filtered_params[:73] #First 8 layers including embedding - i slightly prefer the no embeddings vesrion for the 1 direction I looked at. \n",
    "# filtered_params = filtered_params[1:109] #First 12 layers - I like this too. \n",
    "# filtered_params = filtered_params[136:] #Last layer - meh prettty smooth\n",
    "# filtered_params = filtered_params[99:] #Last 4 layers - ok, not amazing.\n",
    "# filtered_params = filtered_params[73:] #Last 8 layers - some nice structue, but yeah more parabolic than I would like. "
   ]
  },
  {
   "cell_type": "markdown",
   "id": "9334b209-e3bc-4f4d-97ff-7bf638ec635f",
   "metadata": {},
   "source": [
    "## Start with 1d Projections"
   ]
  },
  {
   "cell_type": "code",
   "execution_count": 15,
   "id": "79961cae-867c-49cd-8736-cf16a896a841",
   "metadata": {},
   "outputs": [],
   "source": [
    "# random_seed_1=23\n",
    "# # random_seed_2=117\n",
    "\n",
    "# filtered_params = [(name, p) for name, p in model.named_parameters() if p.requires_grad]\n",
    "# filtered_params = filtered_params[1:73] #First 8 layers\n",
    "\n",
    "# # Generate and normalize random directions\n",
    "# direction1 = get_random_directions(filtered_params, seed=random_seed_1)\n",
    "# direction1 = normalize_direction(direction1, filtered_params)\n",
    "\n",
    "# original_params = OrderedDict()\n",
    "# for name, param in filtered_params:\n",
    "#     original_params[name] = param.data.clone()\n",
    "\n",
    "# num_points=512\n",
    "# alphas=np.linspace(-2.5, 2.5, num_points)\n",
    "\n",
    "# losses=[]\n",
    "# with torch.no_grad():\n",
    "#     for i, alpha in enumerate(tqdm(alphas)):\n",
    "#         for name, param in model.named_parameters():\n",
    "#             if name in direction1:\n",
    "#                 param.data = original_params[name] + alpha * direction1[name]\n",
    "        \n",
    "#         outputs = model(input_ids, labels=input_ids)\n",
    "#         my_probs=F.softmax(outputs.logits, dim=-1)\n",
    "#         paris_only_loss=-np.log(my_probs[0, 5, 12366].item())\n",
    "#         losses.append(paris_only_loss)\n",
    "    \n",
    "#     for name, param in model.named_parameters(): # Restore original parameters\n",
    "#         if name in original_params: \n",
    "#             param.data.copy_(original_params[name])\n",
    "\n",
    "# plt.plot(alphas, losses)"
   ]
  },
  {
   "cell_type": "code",
   "execution_count": null,
   "id": "c2ccccd5-b41a-4c7a-b99b-1d1997b34aef",
   "metadata": {},
   "outputs": [],
   "source": []
  },
  {
   "cell_type": "code",
   "execution_count": null,
   "id": "6ff543c6-f6ca-4bfe-b6be-16f0a3101861",
   "metadata": {},
   "outputs": [],
   "source": []
  },
  {
   "cell_type": "code",
   "execution_count": null,
   "id": "14fcc0eb-247e-4084-b194-7eeb64ad668e",
   "metadata": {},
   "outputs": [],
   "source": []
  },
  {
   "cell_type": "code",
   "execution_count": null,
   "id": "d2327e4e-a5d9-4ca4-ab3a-3570629f2c58",
   "metadata": {},
   "outputs": [],
   "source": []
  },
  {
   "cell_type": "code",
   "execution_count": null,
   "id": "b3398849-6049-477b-ac25-47970bfd2dc3",
   "metadata": {},
   "outputs": [],
   "source": []
  },
  {
   "cell_type": "code",
   "execution_count": 17,
   "id": "a8d18cc0-61eb-446d-9f2f-9f6b90805780",
   "metadata": {},
   "outputs": [
    {
     "name": "stderr",
     "output_type": "stream",
     "text": [
      "100%|█████████████████████████████████████████████████████| 4096/4096 [02:21<00:00, 29.01it/s]\n",
      "100%|█████████████████████████████████████████████████████| 4096/4096 [02:21<00:00, 29.01it/s]\n",
      "100%|█████████████████████████████████████████████████████| 4096/4096 [02:24<00:00, 28.42it/s]\n",
      "100%|█████████████████████████████████████████████████████| 4096/4096 [02:22<00:00, 28.74it/s]\n",
      "100%|█████████████████████████████████████████████████████| 4096/4096 [02:25<00:00, 28.19it/s]\n",
      "100%|█████████████████████████████████████████████████████| 4096/4096 [02:24<00:00, 28.38it/s]\n"
     ]
    },
    {
     "data": {
      "image/png": "[encoded data removed]",
      "text/plain": [
       "<Figure size 640x480 with 1 Axes>"
      ]
     },
     "metadata": {},
     "output_type": "display_data"
    }
   ],
   "source": [
    "save_dir='/home/stephen/backparopagation/apr_24_5'\n",
    "\n",
    "# for random_seed_1 in range(15, 100):\n",
    "for random_seed_1 in [29, 51, 64, 55, 72, 27]:\n",
    "# random_seed_2=117\n",
    "\n",
    "    filtered_params = [(name, p) for name, p in model.named_parameters() if p.requires_grad]\n",
    "    # filtered_params = filtered_params[1:73] #First 8 layers\n",
    "    filtered_params = filtered_params[1:]\n",
    "    \n",
    "    # Generate and normalize random directions\n",
    "    direction1 = get_random_directions(filtered_params, seed=random_seed_1)\n",
    "    direction1 = normalize_direction(direction1, filtered_params)\n",
    "    \n",
    "    original_params = OrderedDict()\n",
    "    for name, param in filtered_params:\n",
    "        original_params[name] = param.data.clone()\n",
    "    \n",
    "    num_points=4096\n",
    "    alphas=np.linspace(-2.5, 2.5, num_points)\n",
    "    \n",
    "    losses=[]\n",
    "    with torch.no_grad():\n",
    "        for i, alpha in enumerate(tqdm(alphas)):\n",
    "            for name, param in model.named_parameters():\n",
    "                if name in direction1:\n",
    "                    param.data = original_params[name] + alpha * direction1[name]\n",
    "            \n",
    "            outputs = model(input_ids, labels=input_ids)\n",
    "            my_probs=F.softmax(outputs.logits, dim=-1)\n",
    "            paris_only_loss=-np.log(my_probs[0, 5, 12366].item())\n",
    "            losses.append(paris_only_loss)\n",
    "        \n",
    "        for name, param in model.named_parameters(): # Restore original parameters\n",
    "            if name in original_params: \n",
    "                param.data.copy_(original_params[name])\n",
    "    \n",
    "    plt.clf()\n",
    "    plt.plot(alphas, losses)\n",
    "    plt.savefig(save_dir+'/'+'all_execpt_embedding_random_'+str(random_seed_1)+'.png')\n",
    "    np.save(save_dir+'/'+'all_execpt_embedding_random_'+str(random_seed_1), np.vstack((alphas, np.array(losses))))"
   ]
  },
  {
   "cell_type": "code",
   "execution_count": null,
   "id": "6f6aa0f7-93a2-4b85-b67a-43c80e438d88",
   "metadata": {},
   "outputs": [],
   "source": [
    "np.vstack((alphas, np.array(losses))).shape"
   ]
  },
  {
   "cell_type": "markdown",
   "id": "81f33df0-b62f-4190-92cf-8724c67a5c98",
   "metadata": {},
   "source": []
  },
  {
   "cell_type": "code",
   "execution_count": null,
   "id": "a554fab3-d69e-49a5-ad71-d0a2681014a3",
   "metadata": {},
   "outputs": [],
   "source": []
  },
  {
   "cell_type": "code",
   "execution_count": null,
   "id": "3bad7106-b031-4836-ac5a-b67d1a44ee11",
   "metadata": {},
   "outputs": [],
   "source": []
  },
  {
   "cell_type": "code",
   "execution_count": null,
   "id": "8cde1af8-7b74-4744-b764-468f9e335d88",
   "metadata": {},
   "outputs": [],
   "source": []
  },
  {
   "cell_type": "code",
   "execution_count": null,
   "id": "14caef36-1990-4092-a0d3-d57dce1ff235",
   "metadata": {},
   "outputs": [],
   "source": []
  },
  {
   "cell_type": "code",
   "execution_count": null,
   "id": "6d99f075-7a73-4736-ad86-34bed40c63e7",
   "metadata": {},
   "outputs": [],
   "source": [
    "random_seed_1=23\n",
    "random_seed_2=117\n",
    "\n",
    "filtered_params = [(name, p) for name, p in model.named_parameters() if p.requires_grad]\n",
    "filtered_params = filtered_params[1:73] #First 8 layers\n",
    "\n",
    "# Generate and normalize random directions\n",
    "direction1 = get_random_directions(filtered_params, seed=random_seed_1)\n",
    "direction1 = normalize_direction(direction1, filtered_params)\n",
    "\n",
    "original_params = OrderedDict()\n",
    "for name, param in filtered_params:\n",
    "    original_params[name] = param.data.clone()\n",
    "\n",
    "num_points=512\n",
    "alphas=np.linspace(-2.5, 2.5, num_points)\n",
    "\n",
    "losses=[]\n",
    "with torch.no_grad():\n",
    "    for i, alpha in enumerate(tqdm(alphas)):\n",
    "        for name, param in model.named_parameters():\n",
    "            if name in direction1:\n",
    "                param.data = original_params[name] + alpha * direction1[name]\n",
    "        \n",
    "        outputs = model(input_ids, labels=input_ids)\n",
    "        my_probs=F.softmax(outputs.logits, dim=-1)\n",
    "        paris_only_loss=-np.log(my_probs[0, 5, 12366].item())\n",
    "        losses.append(paris_only_loss)\n",
    "    \n",
    "    for name, param in model.named_parameters(): # Restore original parameters\n",
    "        if name in original_params: \n",
    "            param.data.copy_(original_params[name])\n",
    "\n",
    "plt.plot(alphas, losses)"
   ]
  },
  {
   "cell_type": "code",
   "execution_count": null,
   "id": "b57830c9-5e20-4376-b4fb-dc8d9ff5c2aa",
   "metadata": {},
   "outputs": [],
   "source": []
  },
  {
   "cell_type": "code",
   "execution_count": null,
   "id": "9c5cc1d3-8694-48d8-84eb-45c57203b048",
   "metadata": {},
   "outputs": [],
   "source": []
  },
  {
   "cell_type": "code",
   "execution_count": null,
   "id": "eb7f6e72-243b-466c-a0fc-4bc79c3011c2",
   "metadata": {},
   "outputs": [],
   "source": []
  },
  {
   "cell_type": "code",
   "execution_count": null,
   "id": "fe2c4852-3070-4950-84ea-0970d575d9cb",
   "metadata": {},
   "outputs": [],
   "source": []
  },
  {
   "cell_type": "code",
   "execution_count": null,
   "id": "f3a3743c-a77c-4dc2-8fb1-ded87f02e3c4",
   "metadata": {},
   "outputs": [],
   "source": []
  },
  {
   "cell_type": "code",
   "execution_count": null,
   "id": "991a8061-1f44-48c3-b179-885f97c431e7",
   "metadata": {},
   "outputs": [],
   "source": [
    "model.eval()"
   ]
  },
  {
   "cell_type": "code",
   "execution_count": null,
   "id": "0ef49990-16f1-41af-b4e9-dc104285df28",
   "metadata": {},
   "outputs": [],
   "source": [
    "random_seed_1=17\n",
    "random_seed_2=117\n",
    "\n",
    "filtered_params = [(name, p) for name, p in model.named_parameters() if p.requires_grad]\n",
    "filtered_params = filtered_params[1:73] #First 8 layers\n",
    "\n",
    "# Generate and normalize random directions\n",
    "direction1 = get_random_directions(filtered_params, seed=random_seed_1)\n",
    "direction1 = normalize_direction(direction1, filtered_params)\n",
    "\n",
    "original_params = OrderedDict()\n",
    "for name, param in filtered_params:\n",
    "    original_params[name] = param.data.clone()\n",
    "\n",
    "num_points=128\n",
    "alphas=np.linspace(-2.5, 2.5, num_points)\n",
    "\n",
    "losses=[]\n",
    "with torch.no_grad():\n",
    "    for i, alpha in enumerate(tqdm(alphas)):\n",
    "        for name, param in model.named_parameters():\n",
    "            if name in direction1:\n",
    "                param.data = original_params[name] + alpha * direction1[name]\n",
    "        \n",
    "        outputs = model(input_ids, labels=input_ids)\n",
    "        my_probs=F.softmax(outputs.logits, dim=-1)\n",
    "        paris_only_loss=-np.log(my_probs[0, 5, 12366].item())\n",
    "        losses.append(paris_only_loss)\n",
    "    \n",
    "    for name, param in model.named_parameters(): # Restore original parameters\n",
    "        if name in original_params: \n",
    "            param.data.copy_(original_params[name])\n",
    "\n",
    "plt.plot(alphas, losses)"
   ]
  },
  {
   "cell_type": "code",
   "execution_count": null,
   "id": "f405040c-b6da-41cf-89a8-a015219bce65",
   "metadata": {},
   "outputs": [],
   "source": []
  },
  {
   "cell_type": "code",
   "execution_count": null,
   "id": "f889143f-570c-425c-a8d7-007d806fc035",
   "metadata": {},
   "outputs": [],
   "source": []
  }
 ],
 "metadata": {
  "kernelspec": {
   "display_name": "Python 3 (ipykernel)",
   "language": "python",
   "name": "python3"
  },
  "language_info": {
   "codemirror_mode": {
    "name": "ipython",
    "version": 3
   },
   "file_extension": ".py",
   "mimetype": "text/x-python",
   "name": "python",
   "nbconvert_exporter": "python",
   "pygments_lexer": "ipython3",
   "version": "3.11.0"
  }
 },
 "nbformat": 4,
 "nbformat_minor": 5
}
