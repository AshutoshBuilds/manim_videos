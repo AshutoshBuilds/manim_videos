{
 "cells": [
  {
   "cell_type": "code",
   "execution_count": null,
   "id": "a2874f02-2f01-45b4-b2a9-a9caa5f3b87c",
   "metadata": {},
   "outputs": [],
   "source": []
  }
 ],
 "metadata": {
  "kernelspec": {
   "display_name": "",
   "name": ""
  },
  "language_info": {
   "name": ""
  }
 },
 "nbformat": 4,
 "nbformat_minor": 5
}
