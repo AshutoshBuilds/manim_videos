{
 "cells": [
  {
   "cell_type": "markdown",
   "id": "133c5981-d63a-4395-845f-7b7e486b68b3",
   "metadata": {},
   "source": [
    "## Make Salt and Pepper"
   ]
  },
  {
   "cell_type": "code",
   "execution_count": 1,
   "id": "0436783c-15b6-432a-a44c-e10f7b6655a1",
   "metadata": {},
   "outputs": [],
   "source": [
    "import numpy as np\n",
    "from PIL import Image\n",
    "\n",
    "# Set random seed for reproducibility (optional)\n",
    "np.random.seed(42)\n",
    "\n",
    "# Generate 100x100 random float array (0.0 to 1.0)\n",
    "noise_values = np.random.uniform(0, 1, size=(100, 100))\n",
    "\n",
    "# Create RGBA image array (100x100x4)\n",
    "# 4 channels: Red, Green, Blue, Alpha\n",
    "image_array = np.zeros((100, 100, 4), dtype=np.uint8)\n",
    "\n",
    "# Define the base color #3d5c6f in RGB\n",
    "color_rgb = np.array([0x3d, 0x5c, 0x6f])  # [61, 92, 111]\n",
    "\n",
    "# Vectorized approach: set all pixels at once\n",
    "# Use noise values as alpha channel (0-1 mapped to 0-255)\n",
    "alpha_values = (noise_values * 255).astype(np.uint8)\n",
    "\n",
    "# Set RGB channels to the base color for all pixels\n",
    "image_array[:, :, 0] = color_rgb[0]  # Red\n",
    "image_array[:, :, 1] = color_rgb[1]  # Green  \n",
    "image_array[:, :, 2] = color_rgb[2]  # Blue\n",
    "image_array[:, :, 3] = alpha_values  # Alpha (transparency)\n",
    "\n",
    "# Create PIL Image from array\n",
    "image = Image.fromarray(image_array, 'RGBA')\n",
    "\n"
   ]
  },
  {
   "cell_type": "code",
   "execution_count": 2,
   "id": "488ddf55-687a-40b1-914f-87549c9015fc",
   "metadata": {},
   "outputs": [
    {
     "data": {
      "image/png": "[encoded data removed]",
      "text/plain": [
       "<PIL.Image.Image image mode=RGBA size=100x100>"
      ]
     },
     "execution_count": 2,
     "metadata": {},
     "output_type": "execute_result"
    }
   ],
   "source": [
    "image"
   ]
  },
  {
   "cell_type": "code",
   "execution_count": null,
   "id": "b881dea1-0f9f-409f-99d3-bb18a985067d",
   "metadata": {},
   "outputs": [],
   "source": []
  },
  {
   "cell_type": "code",
   "execution_count": null,
   "id": "eb9a3bce-8079-4fd9-a493-dcbb14a55f31",
   "metadata": {},
   "outputs": [],
   "source": []
  },
  {
   "cell_type": "code",
   "execution_count": null,
   "id": "c3c37723-00f7-4894-854e-6df80de44b43",
   "metadata": {},
   "outputs": [],
   "source": []
  },
  {
   "cell_type": "code",
   "execution_count": 3,
   "id": "e44a3066-6d5c-4c7e-898a-9908318ece5b",
   "metadata": {},
   "outputs": [
    {
     "name": "stdout",
     "output_type": "stream",
     "text": [
      "Noise image saved as 'noise_3d5c6f.png'\n",
      "Image size: (100, 100)\n",
      "Color used: #3d5c6f\n",
      "Alpha range: 0-255 (continuous transparency)\n",
      "Mean alpha value: 125.5\n",
      "Min/Max alpha: 0/254\n"
     ]
    }
   ],
   "source": [
    "# Save as PNG (supports transparency)\n",
    "image.save('noise_3d5c6f.png')\n",
    "\n",
    "print(\"Noise image saved as 'noise_3d5c6f.png'\")\n",
    "print(f\"Image size: {image.size}\")\n",
    "print(f\"Color used: #{color_rgb[0]:02x}{color_rgb[1]:02x}{color_rgb[2]:02x}\")\n",
    "print(f\"Alpha range: 0-255 (continuous transparency)\")\n",
    "print(f\"Mean alpha value: {np.mean(alpha_values):.1f}\")\n",
    "print(f\"Min/Max alpha: {np.min(alpha_values)}/{np.max(alpha_values)}\")"
   ]
  },
  {
   "cell_type": "code",
   "execution_count": null,
   "id": "f0667d22-7ad3-44bd-8a60-60c6c8d9813c",
   "metadata": {},
   "outputs": [],
   "source": []
  }
 ],
 "metadata": {
  "kernelspec": {
   "display_name": "Python 3 (ipykernel)",
   "language": "python",
   "name": "python3"
  },
  "language_info": {
   "codemirror_mode": {
    "name": "ipython",
    "version": 3
   },
   "file_extension": ".py",
   "mimetype": "text/x-python",
   "name": "python",
   "nbconvert_exporter": "python",
   "pygments_lexer": "ipython3",
   "version": "3.11.11"
  }
 },
 "nbformat": 4,
 "nbformat_minor": 5
}
